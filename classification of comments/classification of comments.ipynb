{
 "cells": [
  {
   "cell_type": "markdown",
   "metadata": {
    "toc": true
   },
   "source": [
    "<h1>Содержание<span class=\"tocSkip\"></span></h1>\n",
    "<div class=\"toc\"><ul class=\"toc-item\"><li><span><a href=\"#Подготовка\" data-toc-modified-id=\"Подготовка-1\"><span class=\"toc-item-num\">1&nbsp;&nbsp;</span>Подготовка</a></span><ul class=\"toc-item\"><li><span><a href=\"#Загрузка-данных\" data-toc-modified-id=\"Загрузка-данных-1.1\"><span class=\"toc-item-num\">1.1&nbsp;&nbsp;</span>Загрузка данных</a></span></li><li><span><a href=\"#Анализ-колонки-'toxic'\" data-toc-modified-id=\"Анализ-колонки-'toxic'-1.2\"><span class=\"toc-item-num\">1.2&nbsp;&nbsp;</span>Анализ колонки 'toxic'</a></span></li><li><span><a href=\"#Очистка-текста\" data-toc-modified-id=\"Очистка-текста-1.3\"><span class=\"toc-item-num\">1.3&nbsp;&nbsp;</span>Очистка текста</a></span></li><li><span><a href=\"#Лемматизация\" data-toc-modified-id=\"Лемматизация-1.4\"><span class=\"toc-item-num\">1.4&nbsp;&nbsp;</span>Лемматизация</a></span></li><li><span><a href=\"#Создание-выборок\" data-toc-modified-id=\"Создание-выборок-1.5\"><span class=\"toc-item-num\">1.5&nbsp;&nbsp;</span>Создание выборок</a></span></li><li><span><a href=\"#Векторизация-данных\" data-toc-modified-id=\"Векторизация-данных-1.6\"><span class=\"toc-item-num\">1.6&nbsp;&nbsp;</span>Векторизация данных</a></span></li><li><span><a href=\"#Выводы\" data-toc-modified-id=\"Выводы-1.7\"><span class=\"toc-item-num\">1.7&nbsp;&nbsp;</span>Выводы</a></span></li></ul></li><li><span><a href=\"#Обучение\" data-toc-modified-id=\"Обучение-2\"><span class=\"toc-item-num\">2&nbsp;&nbsp;</span>Обучение</a></span><ul class=\"toc-item\"><li><span><a href=\"#Создание-функции-для-сбора-данных\" data-toc-modified-id=\"Создание-функции-для-сбора-данных-2.1\"><span class=\"toc-item-num\">2.1&nbsp;&nbsp;</span>Создание функции для сбора данных</a></span></li><li><span><a href=\"#Логистическая-регрессия\" data-toc-modified-id=\"Логистическая-регрессия-2.2\"><span class=\"toc-item-num\">2.2&nbsp;&nbsp;</span>Логистическая регрессия</a></span></li><li><span><a href=\"#Pipeline-для-Логистической-регрессии\" data-toc-modified-id=\"Pipeline-для-Логистической-регрессии-2.3\"><span class=\"toc-item-num\">2.3&nbsp;&nbsp;</span>Pipeline для Логистической регрессии</a></span></li><li><span><a href=\"#Случайный-лес\" data-toc-modified-id=\"Случайный-лес-2.4\"><span class=\"toc-item-num\">2.4&nbsp;&nbsp;</span>Случайный лес</a></span></li><li><span><a href=\"#Pipeline-для-Случайного-леса\" data-toc-modified-id=\"Pipeline-для-Случайного-леса-2.5\"><span class=\"toc-item-num\">2.5&nbsp;&nbsp;</span>Pipeline для Случайного леса</a></span></li><li><span><a href=\"#Результаты\" data-toc-modified-id=\"Результаты-2.6\"><span class=\"toc-item-num\">2.6&nbsp;&nbsp;</span>Результаты</a></span></li></ul></li><li><span><a href=\"#Выводы\" data-toc-modified-id=\"Выводы-3\"><span class=\"toc-item-num\">3&nbsp;&nbsp;</span>Выводы</a></span></li><li><span><a href=\"#Чек-лист-проверки\" data-toc-modified-id=\"Чек-лист-проверки-4\"><span class=\"toc-item-num\">4&nbsp;&nbsp;</span>Чек-лист проверки</a></span></li></ul></div>"
   ]
  },
  {
   "cell_type": "markdown",
   "metadata": {},
   "source": [
    "# Проект для «Викишоп»"
   ]
  },
  {
   "cell_type": "markdown",
   "metadata": {},
   "source": [
    "Интернет-магазин «Викишоп» запускает новый сервис. Теперь пользователи могут редактировать и дополнять описания товаров, как в вики-сообществах. То есть клиенты предлагают свои правки и комментируют изменения других. Магазину нужен инструмент, который будет искать токсичные комментарии и отправлять их на модерацию. \n",
    "\n",
    "Обучите модель классифицировать комментарии на позитивные и негативные. В вашем распоряжении набор данных с разметкой о токсичности правок.\n",
    "\n",
    "Постройте модель со значением метрики качества *F1* не меньше 0.75. \n",
    "\n",
    "**Инструкция по выполнению проекта**\n",
    "\n",
    "1. Загрузите и подготовьте данные.\n",
    "2. Обучите разные модели. \n",
    "3. Сделайте выводы.\n",
    "\n",
    "Для выполнения проекта применять *BERT* необязательно, но вы можете попробовать.\n",
    "\n",
    "**Описание данных**\n",
    "\n",
    "Данные находятся в файле `toxic_comments.csv`. Столбец *text* в нём содержит текст комментария, а *toxic* — целевой признак."
   ]
  },
  {
   "cell_type": "code",
   "execution_count": 1,
   "metadata": {},
   "outputs": [],
   "source": [
    "import pandas as pd\n",
    "\n",
    "import seaborn as sns\n",
    "\n",
    "from sklearn.model_selection import train_test_split, GridSearchCV\n",
    "\n",
    "import re\n",
    "import nltk\n",
    "from nltk.corpus import stopwords\n",
    "from nltk.stem import WordNetLemmatizer\n",
    "from nltk.corpus import stopwords\n",
    "\n",
    "from sklearn.feature_extraction.text import TfidfVectorizer \n",
    "\n",
    "import time # подсчет времени\n",
    "\n",
    "from sklearn.metrics import f1_score\n",
    "\n",
    "# Модели\n",
    "from sklearn.linear_model import LogisticRegression\n",
    "from sklearn.ensemble import RandomForestClassifier\n",
    "\n",
    "from sklearn.pipeline import Pipeline"
   ]
  },
  {
   "cell_type": "markdown",
   "metadata": {},
   "source": [
    "## Подготовка"
   ]
  },
  {
   "cell_type": "markdown",
   "metadata": {},
   "source": [
    "### Загрузка данных"
   ]
  },
  {
   "cell_type": "code",
   "execution_count": 2,
   "metadata": {
    "scrolled": true
   },
   "outputs": [
    {
     "name": "stdout",
     "output_type": "stream",
     "text": [
      "<class 'pandas.core.frame.DataFrame'>\n",
      "RangeIndex: 159571 entries, 0 to 159570\n",
      "Data columns (total 2 columns):\n",
      " #   Column  Non-Null Count   Dtype \n",
      "---  ------  --------------   ----- \n",
      " 0   text    159571 non-null  object\n",
      " 1   toxic   159571 non-null  int64 \n",
      "dtypes: int64(1), object(1)\n",
      "memory usage: 2.4+ MB\n",
      "None\n"
     ]
    }
   ],
   "source": [
    "# Загрузим данные\n",
    "comments = pd.read_csv('/datasets/toxic_comments.csv')\n",
    "\n",
    "# Смотрим общую информацию о таблице\n",
    "print(comments.info())"
   ]
  },
  {
   "cell_type": "code",
   "execution_count": 16,
   "metadata": {},
   "outputs": [
    {
     "name": "stdout",
     "output_type": "stream",
     "text": [
      "                                                text  toxic\n",
      "0  Explanation\\nWhy the edits made under my usern...      0\n",
      "1  D'aww! He matches this background colour I'm s...      0\n",
      "2  Hey man, I'm really not trying to edit war. It...      0\n",
      "3  \"\\nMore\\nI can't make any real suggestions on ...      0\n",
      "4  You, sir, are my hero. Any chance you remember...      0\n"
     ]
    }
   ],
   "source": [
    "# Посмотрим первые 5 строк\n",
    "print(comments.head())"
   ]
  },
  {
   "cell_type": "markdown",
   "metadata": {},
   "source": [
    "### Анализ колонки 'toxic'"
   ]
  },
  {
   "cell_type": "code",
   "execution_count": 17,
   "metadata": {
    "scrolled": true
   },
   "outputs": [
    {
     "data": {
      "text/plain": [
       "<AxesSubplot:xlabel='toxic', ylabel='count'>"
      ]
     },
     "execution_count": 17,
     "metadata": {},
     "output_type": "execute_result"
    },
    {
     "data": {
      "image/png": "[encoded data removed]",
      "text/plain": [
       "<Figure size 432x288 with 1 Axes>"
      ]
     },
     "metadata": {
      "needs_background": "light"
     },
     "output_type": "display_data"
    }
   ],
   "source": [
    "# Порстроим гистограмму распределения токсичных и нетоксичных комментариев\n",
    "sns.countplot(x = 'toxic', data = comments)"
   ]
  },
  {
   "cell_type": "markdown",
   "metadata": {},
   "source": [
    "### Очистка текста"
   ]
  },
  {
   "cell_type": "code",
   "execution_count": 3,
   "metadata": {},
   "outputs": [],
   "source": [
    "# Создадим функцию для очистки текста\n",
    "def text_cleaned(text):\n",
    "    \n",
    "    # Удалим лишние символы\n",
    "    cleaned = re.sub(r'[^a-zA-Z]', ' ', text)\n",
    "    \n",
    "    # Приведем символы к нижнему регистру\n",
    "    cleaned = cleaned.lower()\n",
    "    final = ' '.join(cleaned.split())\n",
    "    return final"
   ]
  },
  {
   "cell_type": "code",
   "execution_count": 4,
   "metadata": {
    "scrolled": true
   },
   "outputs": [
    {
     "name": "stdout",
     "output_type": "stream",
     "text": [
      "CPU times: user 3.56 s, sys: 60.1 ms, total: 3.62 s\n",
      "Wall time: 3.61 s\n"
     ]
    },
    {
     "data": {
      "text/html": [
       "<div>\n",
       "<style scoped>\n",
       "    .dataframe tbody tr th:only-of-type {\n",
       "        vertical-align: middle;\n",
       "    }\n",
       "\n",
       "    .dataframe tbody tr th {\n",
       "        vertical-align: top;\n",
       "    }\n",
       "\n",
       "    .dataframe thead th {\n",
       "        text-align: right;\n",
       "    }\n",
       "</style>\n",
       "<table border=\"1\" class=\"dataframe\">\n",
       "  <thead>\n",
       "    <tr style=\"text-align: right;\">\n",
       "      <th></th>\n",
       "      <th>text</th>\n",
       "      <th>toxic</th>\n",
       "      <th>clean_text</th>\n",
       "    </tr>\n",
       "  </thead>\n",
       "  <tbody>\n",
       "    <tr>\n",
       "      <th>0</th>\n",
       "      <td>Explanation\\nWhy the edits made under my usern...</td>\n",
       "      <td>0</td>\n",
       "      <td>explanation why the edits made under my userna...</td>\n",
       "    </tr>\n",
       "    <tr>\n",
       "      <th>1</th>\n",
       "      <td>D'aww! He matches this background colour I'm s...</td>\n",
       "      <td>0</td>\n",
       "      <td>d aww he matches this background colour i m se...</td>\n",
       "    </tr>\n",
       "    <tr>\n",
       "      <th>2</th>\n",
       "      <td>Hey man, I'm really not trying to edit war. It...</td>\n",
       "      <td>0</td>\n",
       "      <td>hey man i m really not trying to edit war it s...</td>\n",
       "    </tr>\n",
       "    <tr>\n",
       "      <th>3</th>\n",
       "      <td>\"\\nMore\\nI can't make any real suggestions on ...</td>\n",
       "      <td>0</td>\n",
       "      <td>more i can t make any real suggestions on impr...</td>\n",
       "    </tr>\n",
       "    <tr>\n",
       "      <th>4</th>\n",
       "      <td>You, sir, are my hero. Any chance you remember...</td>\n",
       "      <td>0</td>\n",
       "      <td>you sir are my hero any chance you remember wh...</td>\n",
       "    </tr>\n",
       "  </tbody>\n",
       "</table>\n",
       "</div>"
      ],
      "text/plain": [
       "                                                text  toxic  \\\n",
       "0  Explanation\\nWhy the edits made under my usern...      0   \n",
       "1  D'aww! He matches this background colour I'm s...      0   \n",
       "2  Hey man, I'm really not trying to edit war. It...      0   \n",
       "3  \"\\nMore\\nI can't make any real suggestions on ...      0   \n",
       "4  You, sir, are my hero. Any chance you remember...      0   \n",
       "\n",
       "                                          clean_text  \n",
       "0  explanation why the edits made under my userna...  \n",
       "1  d aww he matches this background colour i m se...  \n",
       "2  hey man i m really not trying to edit war it s...  \n",
       "3  more i can t make any real suggestions on impr...  \n",
       "4  you sir are my hero any chance you remember wh...  "
      ]
     },
     "execution_count": 4,
     "metadata": {},
     "output_type": "execute_result"
    }
   ],
   "source": [
    "%%time\n",
    "\n",
    "# Применив функцию очистки текста создадим новый столбец \n",
    "comments['clean_text'] = comments['text'].apply(text_cleaned)\n",
    "\n",
    "# Посмотрим результат\n",
    "comments.head()"
   ]
  },
  {
   "cell_type": "markdown",
   "metadata": {},
   "source": [
    "### Лемматизация"
   ]
  },
  {
   "cell_type": "code",
   "execution_count": 5,
   "metadata": {},
   "outputs": [],
   "source": [
    "# Создадим функцию лемматизацию\n",
    "lemmatizer = WordNetLemmatizer()\n",
    "def lemmatize(text):\n",
    "    \n",
    "    # Токенизируем текст\n",
    "    word_list = nltk.word_tokenize(text)\n",
    "    \n",
    "    # Лемматизируем\n",
    "    lemmatized_output = ' '.join([lemmatizer.lemmatize(w) for w in word_list])\n",
    "    return lemmatized_output"
   ]
  },
  {
   "cell_type": "code",
   "execution_count": 6,
   "metadata": {
    "scrolled": true
   },
   "outputs": [
    {
     "name": "stdout",
     "output_type": "stream",
     "text": [
      "CPU times: user 1min 10s, sys: 172 ms, total: 1min 10s\n",
      "Wall time: 1min 10s\n"
     ]
    },
    {
     "data": {
      "text/html": [
       "<div>\n",
       "<style scoped>\n",
       "    .dataframe tbody tr th:only-of-type {\n",
       "        vertical-align: middle;\n",
       "    }\n",
       "\n",
       "    .dataframe tbody tr th {\n",
       "        vertical-align: top;\n",
       "    }\n",
       "\n",
       "    .dataframe thead th {\n",
       "        text-align: right;\n",
       "    }\n",
       "</style>\n",
       "<table border=\"1\" class=\"dataframe\">\n",
       "  <thead>\n",
       "    <tr style=\"text-align: right;\">\n",
       "      <th></th>\n",
       "      <th>text</th>\n",
       "      <th>toxic</th>\n",
       "      <th>clean_text</th>\n",
       "      <th>lemm_text</th>\n",
       "    </tr>\n",
       "  </thead>\n",
       "  <tbody>\n",
       "    <tr>\n",
       "      <th>124064</th>\n",
       "      <td>I have added the paragraph that answers this q...</td>\n",
       "      <td>0</td>\n",
       "      <td>i have added the paragraph that answers this q...</td>\n",
       "      <td>i have added the paragraph that answer this qu...</td>\n",
       "    </tr>\n",
       "    <tr>\n",
       "      <th>61811</th>\n",
       "      <td>\":Talk:George_Thomas_Coker#Avruch.27s_2nd_prop...</td>\n",
       "      <td>0</td>\n",
       "      <td>talk george thomas coker avruch s nd proposal ...</td>\n",
       "      <td>talk george thomas coker avruch s nd proposal ...</td>\n",
       "    </tr>\n",
       "    <tr>\n",
       "      <th>35104</th>\n",
       "      <td>FYI \\n\\nA proposal has been made  to  create  ...</td>\n",
       "      <td>0</td>\n",
       "      <td>fyi a proposal has been made to create a live ...</td>\n",
       "      <td>fyi a proposal ha been made to create a live f...</td>\n",
       "    </tr>\n",
       "    <tr>\n",
       "      <th>130419</th>\n",
       "      <td>You hit the nail on the head, Ccrrccrr, in you...</td>\n",
       "      <td>0</td>\n",
       "      <td>you hit the nail on the head ccrrccrr in your ...</td>\n",
       "      <td>you hit the nail on the head ccrrccrr in your ...</td>\n",
       "    </tr>\n",
       "    <tr>\n",
       "      <th>72809</th>\n",
       "      <td>Needs Cleanup\\nThis article needs work. It als...</td>\n",
       "      <td>0</td>\n",
       "      <td>needs cleanup this article needs work it also ...</td>\n",
       "      <td>need cleanup this article need work it also ne...</td>\n",
       "    </tr>\n",
       "    <tr>\n",
       "      <th>66436</th>\n",
       "      <td>Your message \\n\\nPlease do not educate me on w...</td>\n",
       "      <td>0</td>\n",
       "      <td>your message please do not educate me on wikip...</td>\n",
       "      <td>your message please do not educate me on wikip...</td>\n",
       "    </tr>\n",
       "    <tr>\n",
       "      <th>124243</th>\n",
       "      <td>Answer to Mütze\\nYou dare contacting your frie...</td>\n",
       "      <td>1</td>\n",
       "      <td>answer to m tze you dare contacting your frien...</td>\n",
       "      <td>answer to m tze you dare contacting your frien...</td>\n",
       "    </tr>\n",
       "    <tr>\n",
       "      <th>109695</th>\n",
       "      <td>So Find an article about why freddey adu was n...</td>\n",
       "      <td>0</td>\n",
       "      <td>so find an article about why freddey adu was n...</td>\n",
       "      <td>so find an article about why freddey adu wa ne...</td>\n",
       "    </tr>\n",
       "    <tr>\n",
       "      <th>2791</th>\n",
       "      <td>You can't fucking block me for 3 months for fu...</td>\n",
       "      <td>1</td>\n",
       "      <td>you can t fucking block me for months for fuck...</td>\n",
       "      <td>you can t fucking block me for month for fucki...</td>\n",
       "    </tr>\n",
       "    <tr>\n",
       "      <th>148619</th>\n",
       "      <td>antares\\n\\nthis is one big motherfucker</td>\n",
       "      <td>1</td>\n",
       "      <td>antares this is one big motherfucker</td>\n",
       "      <td>antares this is one big motherfucker</td>\n",
       "    </tr>\n",
       "  </tbody>\n",
       "</table>\n",
       "</div>"
      ],
      "text/plain": [
       "                                                     text  toxic  \\\n",
       "124064  I have added the paragraph that answers this q...      0   \n",
       "61811   \":Talk:George_Thomas_Coker#Avruch.27s_2nd_prop...      0   \n",
       "35104   FYI \\n\\nA proposal has been made  to  create  ...      0   \n",
       "130419  You hit the nail on the head, Ccrrccrr, in you...      0   \n",
       "72809   Needs Cleanup\\nThis article needs work. It als...      0   \n",
       "66436   Your message \\n\\nPlease do not educate me on w...      0   \n",
       "124243  Answer to Mütze\\nYou dare contacting your frie...      1   \n",
       "109695  So Find an article about why freddey adu was n...      0   \n",
       "2791    You can't fucking block me for 3 months for fu...      1   \n",
       "148619            antares\\n\\nthis is one big motherfucker      1   \n",
       "\n",
       "                                               clean_text  \\\n",
       "124064  i have added the paragraph that answers this q...   \n",
       "61811   talk george thomas coker avruch s nd proposal ...   \n",
       "35104   fyi a proposal has been made to create a live ...   \n",
       "130419  you hit the nail on the head ccrrccrr in your ...   \n",
       "72809   needs cleanup this article needs work it also ...   \n",
       "66436   your message please do not educate me on wikip...   \n",
       "124243  answer to m tze you dare contacting your frien...   \n",
       "109695  so find an article about why freddey adu was n...   \n",
       "2791    you can t fucking block me for months for fuck...   \n",
       "148619               antares this is one big motherfucker   \n",
       "\n",
       "                                                lemm_text  \n",
       "124064  i have added the paragraph that answer this qu...  \n",
       "61811   talk george thomas coker avruch s nd proposal ...  \n",
       "35104   fyi a proposal ha been made to create a live f...  \n",
       "130419  you hit the nail on the head ccrrccrr in your ...  \n",
       "72809   need cleanup this article need work it also ne...  \n",
       "66436   your message please do not educate me on wikip...  \n",
       "124243  answer to m tze you dare contacting your frien...  \n",
       "109695  so find an article about why freddey adu wa ne...  \n",
       "2791    you can t fucking block me for month for fucki...  \n",
       "148619               antares this is one big motherfucker  "
      ]
     },
     "execution_count": 6,
     "metadata": {},
     "output_type": "execute_result"
    }
   ],
   "source": [
    "%%time\n",
    "\n",
    "# Применив функцию лемматизации создадим новый столбец \n",
    "comments['lemm_text'] = comments['clean_text'].apply(lemmatize)\n",
    "\n",
    "# Посмотрим результат \n",
    "comments.sample(10)"
   ]
  },
  {
   "cell_type": "markdown",
   "metadata": {},
   "source": [
    "### Создание выборок"
   ]
  },
  {
   "cell_type": "code",
   "execution_count": 10,
   "metadata": {},
   "outputs": [
    {
     "data": {
      "text/html": [
       "<div>\n",
       "<style scoped>\n",
       "    .dataframe tbody tr th:only-of-type {\n",
       "        vertical-align: middle;\n",
       "    }\n",
       "\n",
       "    .dataframe tbody tr th {\n",
       "        vertical-align: top;\n",
       "    }\n",
       "\n",
       "    .dataframe thead th {\n",
       "        text-align: right;\n",
       "    }\n",
       "</style>\n",
       "<table border=\"1\" class=\"dataframe\">\n",
       "  <thead>\n",
       "    <tr style=\"text-align: right;\">\n",
       "      <th></th>\n",
       "      <th>Размер выборки</th>\n",
       "      <th>В % от общего количества</th>\n",
       "    </tr>\n",
       "  </thead>\n",
       "  <tbody>\n",
       "    <tr>\n",
       "      <th>Тренировочная выборка</th>\n",
       "      <td>127656</td>\n",
       "      <td>79.999499</td>\n",
       "    </tr>\n",
       "    <tr>\n",
       "      <th>Тестовая выборка</th>\n",
       "      <td>31915</td>\n",
       "      <td>20.000501</td>\n",
       "    </tr>\n",
       "  </tbody>\n",
       "</table>\n",
       "</div>"
      ],
      "text/plain": [
       "                       Размер выборки  В % от общего количества\n",
       "Тренировочная выборка          127656                 79.999499\n",
       "Тестовая выборка                31915                 20.000501"
      ]
     },
     "metadata": {},
     "output_type": "display_data"
    }
   ],
   "source": [
    "# Создание признаков\n",
    "features = comments['lemm_text']\n",
    "\n",
    "# Создание целевого признака\n",
    "target = comments['toxic']\n",
    "\n",
    "# отделим 10% данных для тестовой выборки\n",
    "features_train, features_test, target_train, target_test = train_test_split(\n",
    "features, target, test_size=0.2, random_state=12345)\n",
    "\n",
    "# Сформируем таблицу для проверки разделения выборки\n",
    "data = {'Размер выборки':[len(features_train), len(features_test)],\n",
    "        'В % от общего количества':[len(features_train)/len(features)*100, len(features_test)/len(features)*100] } \n",
    "selections = pd.DataFrame(data, index =['Тренировочная выборка', 'Тестовая выборка' ]) \n",
    "display(selections)"
   ]
  },
  {
   "cell_type": "code",
   "execution_count": 14,
   "metadata": {},
   "outputs": [],
   "source": [
    "features_train_p, features_test_p, target_train_p, target_test_p = features_train, features_test, target_train, target_test "
   ]
  },
  {
   "cell_type": "markdown",
   "metadata": {},
   "source": [
    "### Векторизация данных "
   ]
  },
  {
   "cell_type": "code",
   "execution_count": 8,
   "metadata": {
    "scrolled": false
   },
   "outputs": [
    {
     "name": "stderr",
     "output_type": "stream",
     "text": [
      "[nltk_data] Downloading package stopwords to /home/jovyan/nltk_data...\n",
      "[nltk_data]   Package stopwords is already up-to-date!\n"
     ]
    }
   ],
   "source": [
    "# Загрузим базу стоп-слов\n",
    "nltk.download('stopwords')\n",
    "stopwords = set(stopwords.words('english'))"
   ]
  },
  {
   "cell_type": "code",
   "execution_count": 21,
   "metadata": {},
   "outputs": [
    {
     "name": "stdout",
     "output_type": "stream",
     "text": [
      "CPU times: user 10.7 s, sys: 0 ns, total: 10.7 s\n",
      "Wall time: 10.7 s\n"
     ]
    }
   ],
   "source": [
    "%%time\n",
    "\n",
    "# Векторизуем данные\n",
    "count_tf_idf = TfidfVectorizer(stop_words=stopwords)\n",
    "tf_idf = count_tf_idf.fit(features_train)\n",
    "\n",
    "features_train = tf_idf.transform(features_train)\n",
    "\n",
    "features_test = tf_idf.transform(features_test)"
   ]
  },
  {
   "cell_type": "markdown",
   "metadata": {},
   "source": [
    "### Выводы"
   ]
  },
  {
   "cell_type": "markdown",
   "metadata": {},
   "source": [
    "Проанализировав полученный датасет пришли к следующим выводам:\n",
    "- исходный датафрейм был представлен неочищенным текстом на английском языке\n",
    "- в целевом признаке наблюдается дисбаланс классов\n",
    "\n",
    "Над исходными данными были проведены следующие действия:\n",
    "- очистка текста от лишних символов и пробелов с приведением к нижнему регистру\n",
    "- лемматизация текста\n",
    "- созданы выборки для обучения моделей\n",
    "- векторизованы данные с удалением стоп-слов"
   ]
  },
  {
   "cell_type": "markdown",
   "metadata": {},
   "source": [
    "## Обучение"
   ]
  },
  {
   "cell_type": "markdown",
   "metadata": {},
   "source": [
    "### Создание функции для сбора данных"
   ]
  },
  {
   "cell_type": "code",
   "execution_count": 25,
   "metadata": {},
   "outputs": [],
   "source": [
    "#Создадим функцию для сбора данных\n",
    "model_list = []\n",
    "duration_list = []\n",
    "duration_pred_list = []\n",
    "rmse_list = []\n",
    "gread_time_list = []\n",
    "\n",
    "def summary (model, duration, duration_pred, rmse, gread_time):\n",
    "    model_list.append(model)\n",
    "    duration_list.append(duration)\n",
    "    duration_pred_list.append(duration_pred)\n",
    "    rmse_list.append(rmse)\n",
    "    gread_time_list.append(gread_time)    "
   ]
  },
  {
   "cell_type": "markdown",
   "metadata": {},
   "source": [
    "### Логистическая регрессия"
   ]
  },
  {
   "cell_type": "code",
   "execution_count": 22,
   "metadata": {},
   "outputs": [
    {
     "name": "stdout",
     "output_type": "stream",
     "text": [
      "{'C': 10}\n",
      "CPU times: user 2min 23s, sys: 2min 34s, total: 4min 58s\n",
      "Wall time: 5min 1s\n"
     ]
    }
   ],
   "source": [
    "%%time\n",
    "\n",
    "model_lr = LogisticRegression(random_state=12345, solver = 'liblinear', class_weight='balanced', penalty='l2')\n",
    "\n",
    "# Начало отсчета времени выполнения ячейки\n",
    "start_time = time.time()\n",
    "\n",
    "# Зададим подбираемые параметры\n",
    "param_grid = {'C':[1, 10, 100, 1000]}\n",
    "\n",
    "grid_search_lr = GridSearchCV(estimator = model_lr, param_grid = param_grid, cv=2)\n",
    "\n",
    "# Подберем параметры\n",
    "grid_search_lr.fit(features_train, target_train)\n",
    "\n",
    "# Расчет времени выполнения ячейки\n",
    "duration_gread = time.time() - start_time\n",
    "\n",
    "print(grid_search_lr.best_params_)"
   ]
  },
  {
   "cell_type": "code",
   "execution_count": 23,
   "metadata": {},
   "outputs": [
    {
     "name": "stdout",
     "output_type": "stream",
     "text": [
      "f1 на тестовой выборке 0.76\n",
      "CPU times: user 13 s, sys: 11.8 s, total: 24.9 s\n",
      "Wall time: 24.9 s\n"
     ]
    }
   ],
   "source": [
    "%%time\n",
    "\n",
    "model_lr = LogisticRegression(random_state=12345, solver = 'liblinear', class_weight='balanced', penalty='l2', C=10)\n",
    "\n",
    "# Начало отсчета времени обучения модели\n",
    "start_time = time.time()\n",
    "\n",
    "# Обучаем модель на тренировочной выборке\n",
    "model_lr.fit(features_train, target_train) \n",
    "\n",
    "#Расчет времени обучения модели\n",
    "duration = time.time() - start_time\n",
    "\n",
    "# Начало отсчета времени предсказания\n",
    "start_time = time.time()\n",
    "\n",
    "# предсказания модели на валидационной выборке\n",
    "target_predict = pd.Series(model_lr.predict(features_test) )\n",
    "\n",
    "#Расчет времени предсказания\n",
    "duration_pred = time.time() - start_time\n",
    "\n",
    "# Расчет RMSE\n",
    "f1 = f1_score(target_test, target_predict).round(2) \n",
    "\n",
    "\n",
    "print('f1 на тестовой выборке', f1)\n",
    "\n",
    "# Сбор данных\n",
    "summary('LogisticRegression', duration, duration_pred, f1, duration_gread)"
   ]
  },
  {
   "cell_type": "markdown",
   "metadata": {},
   "source": [
    "### Pipeline для Логистической регрессии"
   ]
  },
  {
   "cell_type": "code",
   "execution_count": 26,
   "metadata": {},
   "outputs": [
    {
     "name": "stdout",
     "output_type": "stream",
     "text": [
      "f1 на тестовой выборке 0.76\n",
      "CPU times: user 18.4 s, sys: 12.4 s, total: 30.8 s\n",
      "Wall time: 30.9 s\n"
     ]
    }
   ],
   "source": [
    "%%time\n",
    "\n",
    "pipe = Pipeline([\n",
    "    ('vectorizer', TfidfVectorizer(ngram_range=(1, 1), stop_words=stopwords)),\n",
    "    ('model', LogisticRegression(solver='liblinear', class_weight='balanced', penalty='l2', C=10)) \n",
    "    ])\n",
    "\n",
    "pipe.fit(features_train_p, target_train_p)\n",
    "y_valid_pred = pipe.predict(features_test_p)   \n",
    "f1 = f1_score(target_test_p, y_valid_pred).round(2)\n",
    "print('f1 на тестовой выборке', f1)"
   ]
  },
  {
   "cell_type": "markdown",
   "metadata": {},
   "source": [
    "### Случайный лес"
   ]
  },
  {
   "cell_type": "code",
   "execution_count": 28,
   "metadata": {},
   "outputs": [
    {
     "name": "stdout",
     "output_type": "stream",
     "text": [
      "{'max_depth': 25, 'n_estimators': 80}\n",
      "CPU times: user 5min 7s, sys: 0 ns, total: 5min 7s\n",
      "Wall time: 5min 11s\n"
     ]
    }
   ],
   "source": [
    "%%time\n",
    "\n",
    "model_fc = RandomForestClassifier()\n",
    "\n",
    "# Начало отсчета времени выполнения ячейки\n",
    "start_time = time.time()\n",
    "\n",
    "# Зададим подбираемые параметры\n",
    "param_grid = {'max_depth':[20, 25], 'n_estimators': [80, 100]} #, 'max_depth':[7, 8, 9]}\n",
    "\n",
    "grid_search_fc = GridSearchCV(estimator = model_fc, param_grid = param_grid, cv=2)\n",
    "\n",
    "# Подберем параметры\n",
    "grid_search_fc.fit(features_train, target_train)\n",
    "\n",
    "# Расчет времени выполнения ячейки\n",
    "duration_gread = time.time() - start_time\n",
    "\n",
    "print(grid_search_fc.best_params_)"
   ]
  },
  {
   "cell_type": "code",
   "execution_count": 29,
   "metadata": {},
   "outputs": [
    {
     "name": "stdout",
     "output_type": "stream",
     "text": [
      "f1 на тестовой выборке 0.43\n"
     ]
    }
   ],
   "source": [
    "model_forest = RandomForestClassifier(random_state=12345, n_estimators=100, max_depth=25, class_weight='balanced') \n",
    "    \n",
    "# Обучаем модель на тренировочной выборке\n",
    "model_forest.fit(features_train, target_train) \n",
    "    \n",
    "# предсказания модели на валидационной выборке\n",
    "target_predict = pd.Series(model_forest.predict(features_test) )\n",
    "        \n",
    "# Расчет RMSE\n",
    "f1 = f1_score(target_test, target_predict).round(2)\n",
    "\n",
    "print('f1 на тестовой выборке', f1)\n",
    "\n",
    "# Сбор данных\n",
    "summary('RandomForestClassifier', duration, duration_pred, f1, duration_gread)"
   ]
  },
  {
   "cell_type": "markdown",
   "metadata": {},
   "source": [
    "### Pipeline для Случайного леса"
   ]
  },
  {
   "cell_type": "code",
   "execution_count": 25,
   "metadata": {},
   "outputs": [
    {
     "name": "stdout",
     "output_type": "stream",
     "text": [
      "f1 на тестовой выборке 0.43\n",
      "CPU times: user 19.9 s, sys: 0 ns, total: 19.9 s\n",
      "Wall time: 19.9 s\n"
     ]
    }
   ],
   "source": [
    "%%time\n",
    "\n",
    "pipe = Pipeline([\n",
    "    ('vectorizer', TfidfVectorizer(ngram_range=(1, 1), stop_words=stopwords)),\n",
    "    ('model', RandomForestClassifier(random_state=12345, n_estimators=100, max_depth=25, class_weight='balanced')) \n",
    "    ])\n",
    "\n",
    "pipe.fit(features_train_p, target_train_p)\n",
    "y_valid_pred = pipe.predict(features_test_p)   \n",
    "f1 = f1_score(target_test_p, y_valid_pred).round(2)\n",
    "print('f1 на тестовой выборке', f1)"
   ]
  },
  {
   "cell_type": "markdown",
   "metadata": {},
   "source": [
    "### Результаты"
   ]
  },
  {
   "cell_type": "code",
   "execution_count": 30,
   "metadata": {},
   "outputs": [
    {
     "data": {
      "text/html": [
       "<div>\n",
       "<style scoped>\n",
       "    .dataframe tbody tr th:only-of-type {\n",
       "        vertical-align: middle;\n",
       "    }\n",
       "\n",
       "    .dataframe tbody tr th {\n",
       "        vertical-align: top;\n",
       "    }\n",
       "\n",
       "    .dataframe thead th {\n",
       "        text-align: right;\n",
       "    }\n",
       "</style>\n",
       "<table border=\"1\" class=\"dataframe\">\n",
       "  <thead>\n",
       "    <tr style=\"text-align: right;\">\n",
       "      <th></th>\n",
       "      <th>0</th>\n",
       "      <th>1</th>\n",
       "    </tr>\n",
       "  </thead>\n",
       "  <tbody>\n",
       "    <tr>\n",
       "      <th>Название модели</th>\n",
       "      <td>LogisticRegression</td>\n",
       "      <td>RandomForestClassifier</td>\n",
       "    </tr>\n",
       "    <tr>\n",
       "      <th>Продолжительность обучения модели, сек.</th>\n",
       "      <td>24.56072</td>\n",
       "      <td>24.56072</td>\n",
       "    </tr>\n",
       "    <tr>\n",
       "      <th>Продолжительность предсказания, сек.</th>\n",
       "      <td>0.014183</td>\n",
       "      <td>0.014183</td>\n",
       "    </tr>\n",
       "    <tr>\n",
       "      <th>f1</th>\n",
       "      <td>0.76</td>\n",
       "      <td>0.43</td>\n",
       "    </tr>\n",
       "    <tr>\n",
       "      <th>Продолжительность подбора параметров</th>\n",
       "      <td>301.45252</td>\n",
       "      <td>311.020025</td>\n",
       "    </tr>\n",
       "  </tbody>\n",
       "</table>\n",
       "</div>"
      ],
      "text/plain": [
       "                                                          0  \\\n",
       "Название модели                          LogisticRegression   \n",
       "Продолжительность обучения модели, сек.            24.56072   \n",
       "Продолжительность предсказания, сек.               0.014183   \n",
       "f1                                                     0.76   \n",
       "Продолжительность подбора параметров              301.45252   \n",
       "\n",
       "                                                              1  \n",
       "Название модели                          RandomForestClassifier  \n",
       "Продолжительность обучения модели, сек.                24.56072  \n",
       "Продолжительность предсказания, сек.                   0.014183  \n",
       "f1                                                         0.43  \n",
       "Продолжительность подбора параметров                 311.020025  "
      ]
     },
     "execution_count": 30,
     "metadata": {},
     "output_type": "execute_result"
    }
   ],
   "source": [
    "# Поскольку тестирование моделей проводилось в предыдущем пункте, сформируем датафрейм\n",
    "results_df = pd.DataFrame(index=['Название модели', 'Продолжительность обучения модели, сек.', 'Продолжительность предсказания, сек.',  \n",
    "                                 'f1', 'Продолжительность подбора параметров'],\n",
    "                          data=[model_list, duration_list, duration_pred_list, rmse_list, gread_time_list])\n",
    "\n",
    "results_df"
   ]
  },
  {
   "cell_type": "markdown",
   "metadata": {},
   "source": [
    "## Выводы"
   ]
  },
  {
   "cell_type": "markdown",
   "metadata": {},
   "source": [
    "По результатам анализа исходного датафрейма были произведены следующие действия:\n",
    "- очистка текста от лишних символов и пробелов с приведением к нижнему регистру\n",
    "- лемматизация текста\n",
    "- векторизованы данные с удалением стоп-слов\n",
    "- дисбаланс классов был учтен параметром class_weight='balanced' в обеих моделях\n",
    "В результате проведенного исследования необходимого значения метрики F1 достигли только моделью LogisticRegression, модель RandomForestClassifier, несмотря на подбор параметров, с задачей не справилась."
   ]
  },
  {
   "cell_type": "code",
   "execution_count": null,
   "metadata": {},
   "outputs": [],
   "source": []
  }
 ],
 "metadata": {
  "ExecuteTimeLog": [
   {
    "duration": 53,
    "start_time": "2022-05-06T07:31:09.244Z"
   },
   {
    "duration": 2008,
    "start_time": "2022-05-06T07:31:12.593Z"
   },
   {
    "duration": 125,
    "start_time": "2022-05-06T07:31:20.267Z"
   },
   {
    "duration": 775,
    "start_time": "2022-05-06T07:32:38.227Z"
   },
   {
    "duration": 6,
    "start_time": "2022-05-06T07:33:22.850Z"
   },
   {
    "duration": 122,
    "start_time": "2022-05-06T07:33:39.467Z"
   },
   {
    "duration": 175,
    "start_time": "2022-05-06T07:34:39.386Z"
   },
   {
    "duration": 16,
    "start_time": "2022-05-06T07:47:54.655Z"
   },
   {
    "duration": 11,
    "start_time": "2022-05-06T07:52:10.782Z"
   },
   {
    "duration": 3,
    "start_time": "2022-05-06T07:56:34.135Z"
   },
   {
    "duration": 31,
    "start_time": "2022-05-06T07:57:34.722Z"
   },
   {
    "duration": 15,
    "start_time": "2022-05-06T08:39:28.286Z"
   },
   {
    "duration": 4470,
    "start_time": "2022-05-06T08:41:06.510Z"
   },
   {
    "duration": 289,
    "start_time": "2022-05-06T08:41:39.485Z"
   },
   {
    "duration": 54,
    "start_time": "2022-05-06T08:42:42.893Z"
   },
   {
    "duration": 12,
    "start_time": "2022-05-06T08:42:54.134Z"
   },
   {
    "duration": 38,
    "start_time": "2022-05-06T08:44:56.711Z"
   },
   {
    "duration": 4,
    "start_time": "2022-05-06T08:47:41.882Z"
   },
   {
    "duration": 4,
    "start_time": "2022-05-06T08:49:14.192Z"
   },
   {
    "duration": 77,
    "start_time": "2022-05-06T08:50:05.404Z"
   },
   {
    "duration": 77,
    "start_time": "2022-05-06T08:50:24.105Z"
   },
   {
    "duration": 3,
    "start_time": "2022-05-06T08:50:30.983Z"
   },
   {
    "duration": 418,
    "start_time": "2022-05-06T08:57:05.004Z"
   },
   {
    "duration": 1079,
    "start_time": "2022-05-06T10:29:29.426Z"
   },
   {
    "duration": 3,
    "start_time": "2022-05-06T10:29:37.722Z"
   },
   {
    "duration": 1047,
    "start_time": "2022-05-06T10:29:39.345Z"
   },
   {
    "duration": 153,
    "start_time": "2022-05-06T10:30:09.619Z"
   },
   {
    "duration": 873,
    "start_time": "2022-05-06T10:30:12.787Z"
   },
   {
    "duration": 5,
    "start_time": "2022-05-06T10:30:14.774Z"
   },
   {
    "duration": 132,
    "start_time": "2022-05-06T10:30:16.502Z"
   },
   {
    "duration": 3,
    "start_time": "2022-05-06T10:30:20.387Z"
   },
   {
    "duration": 4781,
    "start_time": "2022-05-06T10:30:21.468Z"
   },
   {
    "duration": 4,
    "start_time": "2022-05-06T10:35:28.285Z"
   },
   {
    "duration": 4,
    "start_time": "2022-05-06T10:35:29.380Z"
   },
   {
    "duration": 12,
    "start_time": "2022-05-06T10:35:31.142Z"
   },
   {
    "duration": 30,
    "start_time": "2022-05-06T10:36:42.963Z"
   },
   {
    "duration": 110128,
    "start_time": "2022-05-06T10:38:52.634Z"
   },
   {
    "duration": 7,
    "start_time": "2022-05-06T10:42:57.830Z"
   },
   {
    "duration": 4,
    "start_time": "2022-05-06T10:55:50.790Z"
   },
   {
    "duration": 977,
    "start_time": "2022-05-06T10:56:00.189Z"
   },
   {
    "duration": 4,
    "start_time": "2022-05-06T10:56:05.571Z"
   },
   {
    "duration": 8,
    "start_time": "2022-05-06T10:56:07.707Z"
   },
   {
    "duration": 110290,
    "start_time": "2022-05-06T10:56:11.341Z"
   },
   {
    "duration": 6,
    "start_time": "2022-05-06T10:58:42.110Z"
   },
   {
    "duration": 14,
    "start_time": "2022-05-06T11:02:05.158Z"
   },
   {
    "duration": 9,
    "start_time": "2022-05-06T11:02:22.782Z"
   },
   {
    "duration": 898,
    "start_time": "2022-05-06T11:04:01.334Z"
   },
   {
    "duration": 5,
    "start_time": "2022-05-06T11:04:03.445Z"
   },
   {
    "duration": 149,
    "start_time": "2022-05-06T11:04:05.221Z"
   },
   {
    "duration": 4,
    "start_time": "2022-05-06T11:04:13.484Z"
   },
   {
    "duration": 109406,
    "start_time": "2022-05-06T11:04:17.694Z"
   },
   {
    "duration": 900,
    "start_time": "2022-05-06T11:12:20.235Z"
   },
   {
    "duration": 5,
    "start_time": "2022-05-06T11:12:25.704Z"
   },
   {
    "duration": 346,
    "start_time": "2022-05-06T11:12:28.900Z"
   },
   {
    "duration": 4,
    "start_time": "2022-05-06T11:12:46.697Z"
   },
   {
    "duration": 4238,
    "start_time": "2022-05-06T11:12:50.106Z"
   },
   {
    "duration": 3,
    "start_time": "2022-05-06T11:14:25.068Z"
   },
   {
    "duration": 1076,
    "start_time": "2022-05-06T11:15:02.052Z"
   },
   {
    "duration": 63,
    "start_time": "2022-05-06T11:16:02.435Z"
   },
   {
    "duration": 4,
    "start_time": "2022-05-06T11:22:37.262Z"
   },
   {
    "duration": 42,
    "start_time": "2022-05-06T11:22:41.750Z"
   },
   {
    "duration": 93006,
    "start_time": "2022-05-06T11:23:54.607Z"
   },
   {
    "duration": 9,
    "start_time": "2022-05-06T11:25:46.376Z"
   },
   {
    "duration": 92492,
    "start_time": "2022-05-06T11:31:23.186Z"
   },
   {
    "duration": 91358,
    "start_time": "2022-05-06T11:34:41.090Z"
   },
   {
    "duration": 10,
    "start_time": "2022-05-06T11:39:25.939Z"
   },
   {
    "duration": 5,
    "start_time": "2022-05-06T11:39:30.850Z"
   },
   {
    "duration": 3,
    "start_time": "2022-05-06T11:51:38.191Z"
   },
   {
    "duration": 14,
    "start_time": "2022-05-06T11:52:32.623Z"
   },
   {
    "duration": 2813,
    "start_time": "2022-05-06T11:53:14.242Z"
   },
   {
    "duration": 1988,
    "start_time": "2022-05-06T11:53:21.234Z"
   },
   {
    "duration": 973,
    "start_time": "2022-05-06T11:53:30.717Z"
   },
   {
    "duration": 7,
    "start_time": "2022-05-06T11:53:33.394Z"
   },
   {
    "duration": 138,
    "start_time": "2022-05-06T11:53:38.341Z"
   },
   {
    "duration": 5,
    "start_time": "2022-05-06T11:53:41.363Z"
   },
   {
    "duration": 4923,
    "start_time": "2022-05-06T11:53:44.053Z"
   },
   {
    "duration": 4,
    "start_time": "2022-05-06T11:53:52.956Z"
   },
   {
    "duration": 96534,
    "start_time": "2022-05-06T11:53:54.930Z"
   },
   {
    "duration": 166,
    "start_time": "2022-05-06T12:16:27.202Z"
   },
   {
    "duration": 4,
    "start_time": "2022-05-06T12:18:40.778Z"
   },
   {
    "duration": 5,
    "start_time": "2022-05-06T12:18:53.842Z"
   },
   {
    "duration": 12,
    "start_time": "2022-05-06T12:26:18.492Z"
   },
   {
    "duration": 4,
    "start_time": "2022-05-06T12:26:54.780Z"
   },
   {
    "duration": 61,
    "start_time": "2022-05-06T12:26:59.934Z"
   },
   {
    "duration": 65,
    "start_time": "2022-05-06T12:27:19.318Z"
   },
   {
    "duration": 4,
    "start_time": "2022-05-06T12:54:38.186Z"
   },
   {
    "duration": 89,
    "start_time": "2022-05-06T12:54:43.041Z"
   },
   {
    "duration": 78,
    "start_time": "2022-05-06T12:58:49.717Z"
   },
   {
    "duration": 93,
    "start_time": "2022-05-06T12:59:35.155Z"
   },
   {
    "duration": 18,
    "start_time": "2022-05-06T13:02:57.322Z"
   },
   {
    "duration": 18,
    "start_time": "2022-05-06T13:03:16.946Z"
   },
   {
    "duration": 19,
    "start_time": "2022-05-06T13:05:03.724Z"
   },
   {
    "duration": 6,
    "start_time": "2022-05-06T13:06:23.283Z"
   },
   {
    "duration": 5,
    "start_time": "2022-05-06T13:06:49.876Z"
   },
   {
    "duration": 20,
    "start_time": "2022-05-06T13:06:53.893Z"
   },
   {
    "duration": 3,
    "start_time": "2022-05-06T13:07:18.494Z"
   },
   {
    "duration": 19,
    "start_time": "2022-05-06T13:07:29.650Z"
   },
   {
    "duration": 19,
    "start_time": "2022-05-06T13:07:39.437Z"
   },
   {
    "duration": 18,
    "start_time": "2022-05-06T13:07:57.952Z"
   },
   {
    "duration": 17,
    "start_time": "2022-05-06T13:08:11.579Z"
   },
   {
    "duration": 145,
    "start_time": "2022-05-06T13:10:23.404Z"
   },
   {
    "duration": 21,
    "start_time": "2022-05-06T13:10:29.132Z"
   },
   {
    "duration": 4,
    "start_time": "2022-05-06T13:11:34.373Z"
   },
   {
    "duration": 9,
    "start_time": "2022-05-06T13:11:39.053Z"
   },
   {
    "duration": 25,
    "start_time": "2022-05-06T13:11:42.425Z"
   },
   {
    "duration": 16,
    "start_time": "2022-05-06T13:13:36.028Z"
   },
   {
    "duration": 12,
    "start_time": "2022-05-06T13:14:07.672Z"
   },
   {
    "duration": 5,
    "start_time": "2022-05-06T13:14:18.654Z"
   },
   {
    "duration": 4,
    "start_time": "2022-05-06T13:14:23.834Z"
   },
   {
    "duration": 18,
    "start_time": "2022-05-06T13:14:30.702Z"
   },
   {
    "duration": 5,
    "start_time": "2022-05-06T13:15:40.412Z"
   },
   {
    "duration": 20,
    "start_time": "2022-05-06T13:15:53.389Z"
   },
   {
    "duration": 16,
    "start_time": "2022-05-06T13:16:15.150Z"
   },
   {
    "duration": 28,
    "start_time": "2022-05-06T13:17:05.829Z"
   },
   {
    "duration": 8078,
    "start_time": "2022-05-06T13:17:32.144Z"
   },
   {
    "duration": 2014,
    "start_time": "2022-05-06T15:41:41.206Z"
   },
   {
    "duration": 3157,
    "start_time": "2022-05-06T15:41:47.015Z"
   },
   {
    "duration": 33,
    "start_time": "2022-05-06T15:41:50.175Z"
   },
   {
    "duration": 908,
    "start_time": "2022-05-06T15:41:53.324Z"
   },
   {
    "duration": 4,
    "start_time": "2022-05-06T15:41:57.244Z"
   },
   {
    "duration": 4519,
    "start_time": "2022-05-06T15:41:57.910Z"
   },
   {
    "duration": 3,
    "start_time": "2022-05-06T15:42:08.428Z"
   },
   {
    "duration": 90702,
    "start_time": "2022-05-06T15:42:09.053Z"
   },
   {
    "duration": 59,
    "start_time": "2022-05-06T15:44:30.309Z"
   },
   {
    "duration": 12442,
    "start_time": "2022-05-06T15:51:39.606Z"
   },
   {
    "duration": 17815,
    "start_time": "2022-05-06T15:51:52.050Z"
   },
   {
    "duration": 13620,
    "start_time": "2022-05-06T15:53:30.871Z"
   },
   {
    "duration": 16698,
    "start_time": "2022-05-06T15:54:21.608Z"
   },
   {
    "duration": 4,
    "start_time": "2022-05-06T15:55:31.137Z"
   },
   {
    "duration": 15,
    "start_time": "2022-05-06T15:55:47.616Z"
   },
   {
    "duration": 4,
    "start_time": "2022-05-06T15:56:45.611Z"
   },
   {
    "duration": 77,
    "start_time": "2022-05-06T15:56:50.270Z"
   },
   {
    "duration": 55,
    "start_time": "2022-05-06T15:57:20.584Z"
   },
   {
    "duration": 15437,
    "start_time": "2022-05-06T15:57:22.880Z"
   },
   {
    "duration": 16684,
    "start_time": "2022-05-06T15:58:16.945Z"
   },
   {
    "duration": 17536,
    "start_time": "2022-05-06T15:58:48.119Z"
   },
   {
    "duration": 16796,
    "start_time": "2022-05-06T15:59:42.960Z"
   },
   {
    "duration": 183,
    "start_time": "2022-05-06T16:01:30.695Z"
   },
   {
    "duration": 104,
    "start_time": "2022-05-06T16:04:40.969Z"
   },
   {
    "duration": 36,
    "start_time": "2022-05-06T16:04:49.954Z"
   },
   {
    "duration": 14311,
    "start_time": "2022-05-06T16:04:54.945Z"
   },
   {
    "duration": 13540,
    "start_time": "2022-05-06T16:05:26.107Z"
   },
   {
    "duration": 74,
    "start_time": "2022-05-06T16:11:19.723Z"
   },
   {
    "duration": 13849,
    "start_time": "2022-05-06T16:11:55.813Z"
   },
   {
    "duration": 74,
    "start_time": "2022-05-06T16:12:22.340Z"
   },
   {
    "duration": 31,
    "start_time": "2022-05-06T16:12:28.834Z"
   },
   {
    "duration": 85,
    "start_time": "2022-05-06T16:12:34.517Z"
   },
   {
    "duration": 119887,
    "start_time": "2022-05-06T16:12:49.883Z"
   },
   {
    "duration": 2692,
    "start_time": "2022-05-06T16:16:38.107Z"
   },
   {
    "duration": 1883,
    "start_time": "2022-05-06T16:16:42.493Z"
   },
   {
    "duration": 1057,
    "start_time": "2022-05-06T16:16:45.258Z"
   },
   {
    "duration": 4,
    "start_time": "2022-05-06T16:16:50.263Z"
   },
   {
    "duration": 5763,
    "start_time": "2022-05-06T16:16:50.802Z"
   },
   {
    "duration": 4,
    "start_time": "2022-05-06T16:16:56.568Z"
   },
   {
    "duration": 105387,
    "start_time": "2022-05-06T16:16:56.574Z"
   },
   {
    "duration": 54,
    "start_time": "2022-05-06T16:18:53.098Z"
   },
   {
    "duration": 171,
    "start_time": "2022-05-06T16:18:56.023Z"
   },
   {
    "duration": 14974,
    "start_time": "2022-05-06T16:19:00.285Z"
   },
   {
    "duration": 12956,
    "start_time": "2022-05-06T16:19:23.900Z"
   },
   {
    "duration": 2995,
    "start_time": "2022-05-06T16:34:51.835Z"
   },
   {
    "duration": 2520,
    "start_time": "2022-05-06T16:34:56.911Z"
   },
   {
    "duration": 934,
    "start_time": "2022-05-06T16:35:02.004Z"
   },
   {
    "duration": 3,
    "start_time": "2022-05-06T16:35:12.844Z"
   },
   {
    "duration": 5060,
    "start_time": "2022-05-06T16:35:14.621Z"
   },
   {
    "duration": 4,
    "start_time": "2022-05-06T16:36:02.861Z"
   },
   {
    "duration": 95996,
    "start_time": "2022-05-06T16:36:06.917Z"
   },
   {
    "duration": 52,
    "start_time": "2022-05-06T16:37:59.111Z"
   },
   {
    "duration": 133,
    "start_time": "2022-05-06T16:38:02.757Z"
   },
   {
    "duration": 14277,
    "start_time": "2022-05-06T16:38:03.781Z"
   },
   {
    "duration": 2526,
    "start_time": "2022-05-06T16:58:11.459Z"
   },
   {
    "duration": 1713,
    "start_time": "2022-05-06T16:58:18.370Z"
   },
   {
    "duration": 972,
    "start_time": "2022-05-06T16:58:22.761Z"
   },
   {
    "duration": 5,
    "start_time": "2022-05-06T16:58:25.932Z"
   },
   {
    "duration": 4900,
    "start_time": "2022-05-06T16:58:28.140Z"
   },
   {
    "duration": 4,
    "start_time": "2022-05-06T16:58:40.497Z"
   },
   {
    "duration": 97073,
    "start_time": "2022-05-06T16:58:43.933Z"
   },
   {
    "duration": 39,
    "start_time": "2022-05-06T17:14:00.545Z"
   },
   {
    "duration": 185,
    "start_time": "2022-05-06T17:14:03.359Z"
   },
   {
    "duration": 13255,
    "start_time": "2022-05-06T17:14:06.287Z"
   },
   {
    "duration": 14089,
    "start_time": "2022-05-06T17:15:00.664Z"
   },
   {
    "duration": 14415,
    "start_time": "2022-05-06T17:15:38.744Z"
   },
   {
    "duration": 14185,
    "start_time": "2022-05-06T17:16:25.457Z"
   },
   {
    "duration": 206,
    "start_time": "2022-05-06T17:18:52.888Z"
   },
   {
    "duration": 1660,
    "start_time": "2022-05-06T17:31:01.174Z"
   },
   {
    "duration": 925,
    "start_time": "2022-05-06T17:31:03.712Z"
   },
   {
    "duration": 4,
    "start_time": "2022-05-06T17:31:11.061Z"
   },
   {
    "duration": 5019,
    "start_time": "2022-05-06T17:31:15.270Z"
   },
   {
    "duration": 4,
    "start_time": "2022-05-06T17:31:28.356Z"
   },
   {
    "duration": 91501,
    "start_time": "2022-05-06T17:31:33.213Z"
   },
   {
    "duration": 46,
    "start_time": "2022-05-06T17:33:04.716Z"
   },
   {
    "duration": 108,
    "start_time": "2022-05-06T17:33:17.166Z"
   },
   {
    "duration": 13693,
    "start_time": "2022-05-06T17:33:20.439Z"
   },
   {
    "duration": 40,
    "start_time": "2022-05-06T17:38:37.536Z"
   },
   {
    "duration": 244,
    "start_time": "2022-05-06T17:38:46.786Z"
   },
   {
    "duration": 139018,
    "start_time": "2022-05-06T17:39:06.160Z"
   },
   {
    "duration": 227089,
    "start_time": "2022-05-06T17:41:36.882Z"
   },
   {
    "duration": 67,
    "start_time": "2022-05-06T17:47:46.532Z"
   },
   {
    "duration": 983,
    "start_time": "2022-05-06T17:48:00.465Z"
   },
   {
    "duration": 1196,
    "start_time": "2022-05-06T17:48:13.099Z"
   },
   {
    "duration": 11,
    "start_time": "2022-05-06T17:48:30.427Z"
   },
   {
    "duration": 48,
    "start_time": "2022-05-06T17:48:44.389Z"
   },
   {
    "duration": 6,
    "start_time": "2022-05-06T17:48:57.762Z"
   },
   {
    "duration": 4,
    "start_time": "2022-05-06T17:49:04.947Z"
   },
   {
    "duration": 12910,
    "start_time": "2022-05-06T17:49:05.804Z"
   },
   {
    "duration": 14026,
    "start_time": "2022-05-06T17:49:37.035Z"
   },
   {
    "duration": 1144,
    "start_time": "2022-05-06T17:49:56.844Z"
   },
   {
    "duration": 5,
    "start_time": "2022-05-06T17:50:11.933Z"
   },
   {
    "duration": 5,
    "start_time": "2022-05-06T17:50:21.204Z"
   },
   {
    "duration": 38,
    "start_time": "2022-05-06T17:51:00.437Z"
   },
   {
    "duration": 6,
    "start_time": "2022-05-06T17:51:12.358Z"
   },
   {
    "duration": 6,
    "start_time": "2022-05-06T17:51:21.359Z"
   },
   {
    "duration": 5,
    "start_time": "2022-05-06T17:51:34.436Z"
   },
   {
    "duration": 5,
    "start_time": "2022-05-06T17:51:44.133Z"
   },
   {
    "duration": 5,
    "start_time": "2022-05-06T17:52:22.708Z"
   },
   {
    "duration": 20,
    "start_time": "2022-05-06T17:52:26.277Z"
   },
   {
    "duration": 11997,
    "start_time": "2022-05-06T17:52:36.316Z"
   },
   {
    "duration": 9526,
    "start_time": "2022-05-06T17:52:57.872Z"
   },
   {
    "duration": 1169,
    "start_time": "2022-05-06T17:53:10.958Z"
   },
   {
    "duration": 6,
    "start_time": "2022-05-06T17:53:31.196Z"
   },
   {
    "duration": 1233,
    "start_time": "2022-05-06T17:54:00.157Z"
   },
   {
    "duration": 16263,
    "start_time": "2022-05-06T17:55:29.888Z"
   },
   {
    "duration": 503491,
    "start_time": "2022-05-06T17:58:49.571Z"
   },
   {
    "duration": 218892,
    "start_time": "2022-05-06T18:11:05.600Z"
   },
   {
    "duration": 17721,
    "start_time": "2022-05-06T18:17:04.881Z"
   },
   {
    "duration": 1822,
    "start_time": "2022-05-06T18:43:28.803Z"
   },
   {
    "duration": 970,
    "start_time": "2022-05-06T18:43:34.682Z"
   },
   {
    "duration": 5,
    "start_time": "2022-05-06T18:43:39.739Z"
   },
   {
    "duration": 5253,
    "start_time": "2022-05-06T18:43:41.059Z"
   },
   {
    "duration": 5,
    "start_time": "2022-05-06T18:44:01.220Z"
   },
   {
    "duration": 101447,
    "start_time": "2022-05-06T18:44:02.785Z"
   },
   {
    "duration": 38,
    "start_time": "2022-05-06T18:47:52.636Z"
   },
   {
    "duration": 192,
    "start_time": "2022-05-06T18:47:54.843Z"
   },
   {
    "duration": 14327,
    "start_time": "2022-05-06T18:47:57.236Z"
   },
   {
    "duration": 39164,
    "start_time": "2022-05-06T19:01:35.016Z"
   },
   {
    "duration": 39,
    "start_time": "2022-05-06T19:02:34.423Z"
   },
   {
    "duration": 82,
    "start_time": "2022-05-06T19:02:45.459Z"
   },
   {
    "duration": 31397,
    "start_time": "2022-05-06T19:02:52.666Z"
   },
   {
    "duration": 6468,
    "start_time": "2022-05-06T19:06:01.926Z"
   },
   {
    "duration": 24188,
    "start_time": "2022-05-06T19:07:03.558Z"
   },
   {
    "duration": 278873,
    "start_time": "2022-05-06T19:09:07.981Z"
   },
   {
    "duration": 6,
    "start_time": "2022-05-06T19:19:50.308Z"
   },
   {
    "duration": 301463,
    "start_time": "2022-05-06T19:19:58.173Z"
   },
   {
    "duration": 24600,
    "start_time": "2022-05-06T19:26:29.474Z"
   },
   {
    "duration": 25,
    "start_time": "2022-05-06T19:27:02.903Z"
   },
   {
    "duration": 32,
    "start_time": "2022-05-06T19:27:24.342Z"
   },
   {
    "duration": 18,
    "start_time": "2022-05-06T19:27:53.409Z"
   },
   {
    "duration": 9,
    "start_time": "2022-05-06T19:28:58.384Z"
   },
   {
    "duration": 311033,
    "start_time": "2022-05-06T19:29:19.804Z"
   },
   {
    "duration": 17433,
    "start_time": "2022-05-06T19:46:53.805Z"
   },
   {
    "duration": 8,
    "start_time": "2022-05-06T19:47:14.447Z"
   },
   {
    "duration": 1850,
    "start_time": "2022-05-12T20:05:43.962Z"
   },
   {
    "duration": 735,
    "start_time": "2022-05-12T20:05:49.694Z"
   },
   {
    "duration": 7,
    "start_time": "2022-05-12T20:05:50.432Z"
   },
   {
    "duration": 3,
    "start_time": "2022-05-12T20:05:53.301Z"
   },
   {
    "duration": 865,
    "start_time": "2022-05-12T20:05:53.813Z"
   },
   {
    "duration": 3,
    "start_time": "2022-05-12T20:05:56.640Z"
   },
   {
    "duration": 2552,
    "start_time": "2022-05-12T20:05:57.063Z"
   },
   {
    "duration": 758,
    "start_time": "2022-05-12T20:06:24.455Z"
   },
   {
    "duration": 725,
    "start_time": "2022-05-12T20:06:58.842Z"
   },
   {
    "duration": 5,
    "start_time": "2022-05-12T20:07:00.620Z"
   },
   {
    "duration": 177,
    "start_time": "2022-05-12T20:07:03.330Z"
   },
   {
    "duration": 3,
    "start_time": "2022-05-12T20:07:06.782Z"
   },
   {
    "duration": 1316,
    "start_time": "2022-05-12T20:07:11.372Z"
   },
   {
    "duration": 6,
    "start_time": "2022-05-12T20:07:57.309Z"
   },
   {
    "duration": 721,
    "start_time": "2022-05-12T20:08:01.133Z"
   },
   {
    "duration": 9,
    "start_time": "2022-05-12T20:08:01.856Z"
   },
   {
    "duration": 101,
    "start_time": "2022-05-12T20:08:04.323Z"
   },
   {
    "duration": 3,
    "start_time": "2022-05-12T20:08:09.650Z"
   },
   {
    "duration": 3814,
    "start_time": "2022-05-12T20:08:10.073Z"
   },
   {
    "duration": 3,
    "start_time": "2022-05-12T20:08:16.011Z"
   },
   {
    "duration": 78048,
    "start_time": "2022-05-12T20:09:17.041Z"
   },
   {
    "duration": 40,
    "start_time": "2022-05-12T20:13:30.003Z"
   },
   {
    "duration": 185,
    "start_time": "2022-05-12T20:13:32.821Z"
   },
   {
    "duration": 11255,
    "start_time": "2022-05-12T20:13:38.154Z"
   },
   {
    "duration": 4,
    "start_time": "2022-05-12T20:13:56.062Z"
   },
   {
    "duration": 28,
    "start_time": "2022-05-12T20:14:01.953Z"
   },
   {
    "duration": 3,
    "start_time": "2022-05-12T20:14:12.343Z"
   },
   {
    "duration": 27,
    "start_time": "2022-05-12T20:14:17.251Z"
   },
   {
    "duration": 29,
    "start_time": "2022-05-12T20:25:31.901Z"
   },
   {
    "duration": 19,
    "start_time": "2022-05-12T20:28:45.381Z"
   },
   {
    "duration": 19,
    "start_time": "2022-05-12T20:32:15.915Z"
   },
   {
    "duration": 1666,
    "start_time": "2022-05-13T04:51:34.191Z"
   },
   {
    "duration": 714,
    "start_time": "2022-05-13T04:51:36.576Z"
   },
   {
    "duration": 3,
    "start_time": "2022-05-13T04:51:42.849Z"
   },
   {
    "duration": 3624,
    "start_time": "2022-05-13T04:51:47.723Z"
   },
   {
    "duration": 3,
    "start_time": "2022-05-13T04:51:57.697Z"
   },
   {
    "duration": 70511,
    "start_time": "2022-05-13T04:52:02.707Z"
   },
   {
    "duration": 59,
    "start_time": "2022-05-13T04:53:57.067Z"
   },
   {
    "duration": 208,
    "start_time": "2022-05-13T04:54:07.648Z"
   },
   {
    "duration": 10827,
    "start_time": "2022-05-13T04:54:10.335Z"
   },
   {
    "duration": 32,
    "start_time": "2022-05-13T04:54:26.010Z"
   },
   {
    "duration": 17569,
    "start_time": "2022-05-13T04:54:53.229Z"
   },
   {
    "duration": 18963,
    "start_time": "2022-05-13T04:58:04.224Z"
   },
   {
    "duration": 119,
    "start_time": "2022-05-13T05:00:53.695Z"
   },
   {
    "duration": 3,
    "start_time": "2022-05-13T05:01:17.952Z"
   },
   {
    "duration": 18925,
    "start_time": "2022-05-13T05:02:18.577Z"
   },
   {
    "duration": 18642,
    "start_time": "2022-05-13T05:03:32.349Z"
   },
   {
    "duration": 18606,
    "start_time": "2022-05-13T05:04:26.683Z"
   },
   {
    "duration": 15686,
    "start_time": "2022-05-13T05:27:16.297Z"
   },
   {
    "duration": 30990,
    "start_time": "2022-05-13T05:28:10.982Z"
   },
   {
    "duration": 140,
    "start_time": "2022-05-13T05:29:12.044Z"
   },
   {
    "duration": 10709,
    "start_time": "2022-05-13T05:29:36.682Z"
   },
   {
    "duration": 25021,
    "start_time": "2022-05-13T05:29:52.924Z"
   },
   {
    "duration": 24869,
    "start_time": "2022-05-13T05:30:43.338Z"
   },
   {
    "duration": 20426,
    "start_time": "2022-05-13T05:32:13.520Z"
   },
   {
    "duration": 19919,
    "start_time": "2022-05-13T05:33:33.003Z"
   },
   {
    "duration": 30872,
    "start_time": "2022-05-13T05:35:55.582Z"
   }
  ],
  "kernelspec": {
   "display_name": "Python 3 (ipykernel)",
   "language": "python",
   "name": "python3"
  },
  "language_info": {
   "codemirror_mode": {
    "name": "ipython",
    "version": 3
   },
   "file_extension": ".py",
   "mimetype": "text/x-python",
   "name": "python",
   "nbconvert_exporter": "python",
   "pygments_lexer": "ipython3",
   "version": "3.9.5"
  },
  "toc": {
   "base_numbering": 1,
   "nav_menu": {},
   "number_sections": true,
   "sideBar": true,
   "skip_h1_title": true,
   "title_cell": "Содержание",
   "title_sidebar": "Contents",
   "toc_cell": true,
   "toc_position": {
    "height": "calc(100% - 180px)",
    "left": "10px",
    "top": "150px",
    "width": "302.391px"
   },
   "toc_section_display": true,
   "toc_window_display": true
  }
 },
 "nbformat": 4,
 "nbformat_minor": 2
}
