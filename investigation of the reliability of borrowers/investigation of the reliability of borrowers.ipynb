{
 "cells": [
  {
   "cell_type": "markdown",
   "metadata": {},
   "source": [
    "# Исследование надёжности заёмщиков\n",
    "\n",
    "Заказчик — кредитный отдел банка. Нужно разобраться, влияет ли семейное положение и количество детей клиента на факт погашения кредита в срок. Входные данные от банка — статистика о платёжеспособности клиентов.\n",
    "\n",
    "Результаты исследования будут учтены при построении модели **кредитного скоринга** — специальной системы, которая оценивает способность потенциального заёмщика вернуть кредит банку."
   ]
  },
  {
   "cell_type": "markdown",
   "metadata": {},
   "source": [
    "## Шаг 1. Откройте файл с данными и изучите общую информацию"
   ]
  },
  {
   "cell_type": "code",
   "execution_count": 1,
   "metadata": {},
   "outputs": [
    {
     "name": "stdout",
     "output_type": "stream",
     "text": [
      "<class 'pandas.core.frame.DataFrame'>\n",
      "RangeIndex: 21525 entries, 0 to 21524\n",
      "Data columns (total 12 columns):\n",
      "children            21525 non-null int64\n",
      "days_employed       19351 non-null float64\n",
      "dob_years           21525 non-null int64\n",
      "education           21525 non-null object\n",
      "education_id        21525 non-null int64\n",
      "family_status       21525 non-null object\n",
      "family_status_id    21525 non-null int64\n",
      "gender              21525 non-null object\n",
      "income_type         21525 non-null object\n",
      "debt                21525 non-null int64\n",
      "total_income        19351 non-null float64\n",
      "purpose             21525 non-null object\n",
      "dtypes: float64(2), int64(5), object(5)\n",
      "memory usage: 2.0+ MB\n",
      "Index(['children', 'days_employed', 'dob_years', 'education', 'education_id',\n",
      "       'family_status', 'family_status_id', 'gender', 'income_type', 'debt',\n",
      "       'total_income', 'purpose'],\n",
      "      dtype='object')\n"
     ]
    },
    {
     "data": {
      "text/html": [
       "<div>\n",
       "<style scoped>\n",
       "    .dataframe tbody tr th:only-of-type {\n",
       "        vertical-align: middle;\n",
       "    }\n",
       "\n",
       "    .dataframe tbody tr th {\n",
       "        vertical-align: top;\n",
       "    }\n",
       "\n",
       "    .dataframe thead th {\n",
       "        text-align: right;\n",
       "    }\n",
       "</style>\n",
       "<table border=\"1\" class=\"dataframe\">\n",
       "  <thead>\n",
       "    <tr style=\"text-align: right;\">\n",
       "      <th></th>\n",
       "      <th>children</th>\n",
       "      <th>days_employed</th>\n",
       "      <th>dob_years</th>\n",
       "      <th>education</th>\n",
       "      <th>education_id</th>\n",
       "      <th>family_status</th>\n",
       "      <th>family_status_id</th>\n",
       "      <th>gender</th>\n",
       "      <th>income_type</th>\n",
       "      <th>debt</th>\n",
       "      <th>total_income</th>\n",
       "      <th>purpose</th>\n",
       "    </tr>\n",
       "  </thead>\n",
       "  <tbody>\n",
       "    <tr>\n",
       "      <td>0</td>\n",
       "      <td>1</td>\n",
       "      <td>-8437.673028</td>\n",
       "      <td>42</td>\n",
       "      <td>высшее</td>\n",
       "      <td>0</td>\n",
       "      <td>женат / замужем</td>\n",
       "      <td>0</td>\n",
       "      <td>F</td>\n",
       "      <td>сотрудник</td>\n",
       "      <td>0</td>\n",
       "      <td>253875.639453</td>\n",
       "      <td>покупка жилья</td>\n",
       "    </tr>\n",
       "    <tr>\n",
       "      <td>1</td>\n",
       "      <td>1</td>\n",
       "      <td>-4024.803754</td>\n",
       "      <td>36</td>\n",
       "      <td>среднее</td>\n",
       "      <td>1</td>\n",
       "      <td>женат / замужем</td>\n",
       "      <td>0</td>\n",
       "      <td>F</td>\n",
       "      <td>сотрудник</td>\n",
       "      <td>0</td>\n",
       "      <td>112080.014102</td>\n",
       "      <td>приобретение автомобиля</td>\n",
       "    </tr>\n",
       "    <tr>\n",
       "      <td>2</td>\n",
       "      <td>0</td>\n",
       "      <td>-5623.422610</td>\n",
       "      <td>33</td>\n",
       "      <td>Среднее</td>\n",
       "      <td>1</td>\n",
       "      <td>женат / замужем</td>\n",
       "      <td>0</td>\n",
       "      <td>M</td>\n",
       "      <td>сотрудник</td>\n",
       "      <td>0</td>\n",
       "      <td>145885.952297</td>\n",
       "      <td>покупка жилья</td>\n",
       "    </tr>\n",
       "    <tr>\n",
       "      <td>3</td>\n",
       "      <td>3</td>\n",
       "      <td>-4124.747207</td>\n",
       "      <td>32</td>\n",
       "      <td>среднее</td>\n",
       "      <td>1</td>\n",
       "      <td>женат / замужем</td>\n",
       "      <td>0</td>\n",
       "      <td>M</td>\n",
       "      <td>сотрудник</td>\n",
       "      <td>0</td>\n",
       "      <td>267628.550329</td>\n",
       "      <td>дополнительное образование</td>\n",
       "    </tr>\n",
       "    <tr>\n",
       "      <td>4</td>\n",
       "      <td>0</td>\n",
       "      <td>340266.072047</td>\n",
       "      <td>53</td>\n",
       "      <td>среднее</td>\n",
       "      <td>1</td>\n",
       "      <td>гражданский брак</td>\n",
       "      <td>1</td>\n",
       "      <td>F</td>\n",
       "      <td>пенсионер</td>\n",
       "      <td>0</td>\n",
       "      <td>158616.077870</td>\n",
       "      <td>сыграть свадьбу</td>\n",
       "    </tr>\n",
       "    <tr>\n",
       "      <td>5</td>\n",
       "      <td>0</td>\n",
       "      <td>-926.185831</td>\n",
       "      <td>27</td>\n",
       "      <td>высшее</td>\n",
       "      <td>0</td>\n",
       "      <td>гражданский брак</td>\n",
       "      <td>1</td>\n",
       "      <td>M</td>\n",
       "      <td>компаньон</td>\n",
       "      <td>0</td>\n",
       "      <td>255763.565419</td>\n",
       "      <td>покупка жилья</td>\n",
       "    </tr>\n",
       "    <tr>\n",
       "      <td>6</td>\n",
       "      <td>0</td>\n",
       "      <td>-2879.202052</td>\n",
       "      <td>43</td>\n",
       "      <td>высшее</td>\n",
       "      <td>0</td>\n",
       "      <td>женат / замужем</td>\n",
       "      <td>0</td>\n",
       "      <td>F</td>\n",
       "      <td>компаньон</td>\n",
       "      <td>0</td>\n",
       "      <td>240525.971920</td>\n",
       "      <td>операции с жильем</td>\n",
       "    </tr>\n",
       "    <tr>\n",
       "      <td>7</td>\n",
       "      <td>0</td>\n",
       "      <td>-152.779569</td>\n",
       "      <td>50</td>\n",
       "      <td>СРЕДНЕЕ</td>\n",
       "      <td>1</td>\n",
       "      <td>женат / замужем</td>\n",
       "      <td>0</td>\n",
       "      <td>M</td>\n",
       "      <td>сотрудник</td>\n",
       "      <td>0</td>\n",
       "      <td>135823.934197</td>\n",
       "      <td>образование</td>\n",
       "    </tr>\n",
       "    <tr>\n",
       "      <td>8</td>\n",
       "      <td>2</td>\n",
       "      <td>-6929.865299</td>\n",
       "      <td>35</td>\n",
       "      <td>ВЫСШЕЕ</td>\n",
       "      <td>0</td>\n",
       "      <td>гражданский брак</td>\n",
       "      <td>1</td>\n",
       "      <td>F</td>\n",
       "      <td>сотрудник</td>\n",
       "      <td>0</td>\n",
       "      <td>95856.832424</td>\n",
       "      <td>на проведение свадьбы</td>\n",
       "    </tr>\n",
       "    <tr>\n",
       "      <td>9</td>\n",
       "      <td>0</td>\n",
       "      <td>-2188.756445</td>\n",
       "      <td>41</td>\n",
       "      <td>среднее</td>\n",
       "      <td>1</td>\n",
       "      <td>женат / замужем</td>\n",
       "      <td>0</td>\n",
       "      <td>M</td>\n",
       "      <td>сотрудник</td>\n",
       "      <td>0</td>\n",
       "      <td>144425.938277</td>\n",
       "      <td>покупка жилья для семьи</td>\n",
       "    </tr>\n",
       "  </tbody>\n",
       "</table>\n",
       "</div>"
      ],
      "text/plain": [
       "   children  days_employed  dob_years education  education_id  \\\n",
       "0         1   -8437.673028         42    высшее             0   \n",
       "1         1   -4024.803754         36   среднее             1   \n",
       "2         0   -5623.422610         33   Среднее             1   \n",
       "3         3   -4124.747207         32   среднее             1   \n",
       "4         0  340266.072047         53   среднее             1   \n",
       "5         0    -926.185831         27    высшее             0   \n",
       "6         0   -2879.202052         43    высшее             0   \n",
       "7         0    -152.779569         50   СРЕДНЕЕ             1   \n",
       "8         2   -6929.865299         35    ВЫСШЕЕ             0   \n",
       "9         0   -2188.756445         41   среднее             1   \n",
       "\n",
       "      family_status  family_status_id gender income_type  debt   total_income  \\\n",
       "0   женат / замужем                 0      F   сотрудник     0  253875.639453   \n",
       "1   женат / замужем                 0      F   сотрудник     0  112080.014102   \n",
       "2   женат / замужем                 0      M   сотрудник     0  145885.952297   \n",
       "3   женат / замужем                 0      M   сотрудник     0  267628.550329   \n",
       "4  гражданский брак                 1      F   пенсионер     0  158616.077870   \n",
       "5  гражданский брак                 1      M   компаньон     0  255763.565419   \n",
       "6   женат / замужем                 0      F   компаньон     0  240525.971920   \n",
       "7   женат / замужем                 0      M   сотрудник     0  135823.934197   \n",
       "8  гражданский брак                 1      F   сотрудник     0   95856.832424   \n",
       "9   женат / замужем                 0      M   сотрудник     0  144425.938277   \n",
       "\n",
       "                      purpose  \n",
       "0               покупка жилья  \n",
       "1     приобретение автомобиля  \n",
       "2               покупка жилья  \n",
       "3  дополнительное образование  \n",
       "4             сыграть свадьбу  \n",
       "5               покупка жилья  \n",
       "6           операции с жильем  \n",
       "7                 образование  \n",
       "8       на проведение свадьбы  \n",
       "9     покупка жилья для семьи  "
      ]
     },
     "execution_count": 1,
     "metadata": {},
     "output_type": "execute_result"
    }
   ],
   "source": [
    "import pandas as pd # Вызываем бибилиотеку Pandas\n",
    "\n",
    "from pymystem3 import Mystem # Вызываем лемматизатор для слов на русском\n",
    "m = Mystem()\n",
    "\n",
    "from collections import Counter # Вызываем контейнер Counter\n",
    "\n",
    "df = pd.read_csv('/datasets/data.csv') # Читаем данные\n",
    " \n",
    "df.info() # Смотрим общую информацию о таблице\n",
    "\n",
    "print(df.columns) # Посмотрим названия столбцов на наличие ошибок\n",
    "\n",
    "df.head(10) # Посмотрим первые 10 строк таблицы\n",
    "\n"
   ]
  },
  {
   "cell_type": "markdown",
   "metadata": {},
   "source": [
    "**Вывод** При изучении общей информации выявлены следующие недочеты в данных:\n",
    "1. Пустые строки в колонках days_employed (трудовой стаж в днях) и total_income (доход в месяц)\n",
    "2. Отрицательные значения колонке в days_employed (трудовой стаж в днях), что нелогично\n",
    "3. Разное написание (по регистру букв) типа образования\n",
    "4. Неверный тип данных в колонках: days_employed (трудовой стаж в днях) - логичнее int64; \n",
    "5. Интересное наблюдение - в таблице назван dob_years, а в описании данных dob_days — возраст клиента в годах (причем только в pdf файле). Поскольку в реальной таблице названо даже правильней, я бы наверное обратился к тем кто давал данные с предложением поменять описание"
   ]
  },
  {
   "cell_type": "markdown",
   "metadata": {},
   "source": [
    "## Шаг 2. Предобработка данных"
   ]
  },
  {
   "cell_type": "markdown",
   "metadata": {},
   "source": [
    "### Обработка пропусков"
   ]
  },
  {
   "cell_type": "markdown",
   "metadata": {},
   "source": [
    "####  Обработка столбца days_employed"
   ]
  },
  {
   "cell_type": "code",
   "execution_count": 2,
   "metadata": {},
   "outputs": [
    {
     "name": "stdout",
     "output_type": "stream",
     "text": [
      "Максимальный стаж - 1619.9814535295566 лет Медианный стаж - -4.852296486977779 лет Минимальный стаж - -74.14899153454994 лет\n",
      "Наличие записей с нулевым стажем - Empty DataFrame\n",
      "Columns: [children, days_employed, dob_years, education, education_id, family_status, family_status_id, gender, income_type, debt, total_income, purpose]\n",
      "Index: []\n",
      "Пустых значений в days_employed 2174\n"
     ]
    }
   ],
   "source": [
    "print('Максимальный стаж -', df['days_employed'].max()/248, 'лет', 'Медианный стаж -', df['days_employed'].median()/248, 'лет', 'Минимальный стаж -', df['days_employed'].min()/248, 'лет' ) #Смотрю мин/макс/медиану - очень большой разброс значений, заполнять пропущенный значения осредненными ошибочно\n",
    "\n",
    "print('Наличие записей с нулевым стажем -', df[df['days_employed'] == 0])# Проверяю наличие записей с нулевым стажем\n",
    "\n",
    "print('Пустых значений в days_employed', df['days_employed'].isna().sum()) #Считаем общее количество пустых значений\n",
    "\n",
    "df['days_employed'] = df['days_employed'].fillna(0) # Заполняю пропущенные значения в 'days_employed' - значанием 0\n"
   ]
  },
  {
   "cell_type": "markdown",
   "metadata": {},
   "source": [
    "####  Обработка столбца total_income"
   ]
  },
  {
   "cell_type": "code",
   "execution_count": 3,
   "metadata": {},
   "outputs": [
    {
     "name": "stdout",
     "output_type": "stream",
     "text": [
      "Максимальный доход -  2265604.028722744 Медианный доход -  145017.93753253992 Минимальный доход - 20667.26379327158\n",
      "Пустых значений в days_employed 0\n",
      "<class 'pandas.core.frame.DataFrame'>\n",
      "RangeIndex: 21525 entries, 0 to 21524\n",
      "Data columns (total 12 columns):\n",
      "children            21525 non-null int64\n",
      "days_employed       21525 non-null float64\n",
      "dob_years           21525 non-null int64\n",
      "education           21525 non-null object\n",
      "education_id        21525 non-null int64\n",
      "family_status       21525 non-null object\n",
      "family_status_id    21525 non-null int64\n",
      "gender              21525 non-null object\n",
      "income_type         21525 non-null object\n",
      "debt                21525 non-null int64\n",
      "total_income        21525 non-null float64\n",
      "purpose             21525 non-null object\n",
      "dtypes: float64(2), int64(5), object(5)\n",
      "memory usage: 2.0+ MB\n"
     ]
    }
   ],
   "source": [
    "print('Максимальный доход - ', df['total_income'].max(), 'Медианный доход - ', df['total_income'].median(), 'Минимальный доход -', df['total_income'].min() ) #Смотрю мин/макс/медиану - очень большой разброс значений, заполнять пропущенный значения осредненными ошибочно\n",
    "\n",
    "print('Пустых значений в days_employed', df['days_employed'].isna().sum()) #Смотрю общее количество пустых значений\n",
    "\n",
    "\n",
    "df['total_income'] = df['total_income'].fillna(0)  # Заполняю пропущенные значения в 'total_income' - значением 0\n",
    "\n",
    "df.info() # Проверяем, все ли заполнено."
   ]
  },
  {
   "cell_type": "markdown",
   "metadata": {},
   "source": [
    "**Вывод** Пропущенные значения в колонках 'days_employed' и 'total_income' заполнил 0-ми значениями. Заполнение пропусков осредненными значениями с моей точки зрения может привести к существенному искажению данных.\n",
    "В колонке 'total_income' пропущенные значения скорее всего говорят об отсутствии дохода (либо как вариант - отутствие подтвержденного дохода), поскольку анализ данных до замещения пропусков на значение '0' показал, что нулевых значений не было в принципе, что нелогично. Также в момент оценки кредитоспособности заемщика предполагать зарабатываемую им сумму опасно. Еще один аргумент за то, чтобы не заполнять осредненными/медианными значениями - очень большой разброс значений минимального и максимального дохода, что говорит о большой неоднородности группы заемщиков.\n",
    "\n",
    "В колонке 'days_employed' пропущенные значения скорее всего говорят о некорректном заполнении таблицы, что косвенно подтверждается наличием данных о отрицательном стаже, а также максимальным значение стажа 1620 лет. Как и в предыдущем случае - анализ данных до замещения пропусков на значение '0' показал, что нулевых значений не было, что  на мой взгляд странно, хотя опять же это может говорить об отсутствии подтвержденного стажа. Если начать осреднять, то можно получить в некоторых строках стаж превышающий возраст, что внесет еще больше разнообразия. Поскольку данный столбец дальше не используется для анализа данных, думаю дальнейший его анализ нецелесообразен. В реальной ситуации я бы попробовал запросить тех кто его выгружал - на предмет отрицательных и нулевых значений.\n"
   ]
  },
  {
   "cell_type": "markdown",
   "metadata": {},
   "source": [
    "### Замена типа данных"
   ]
  },
  {
   "cell_type": "markdown",
   "metadata": {},
   "source": [
    "#### Замена типа данных в days_employed"
   ]
  },
  {
   "cell_type": "code",
   "execution_count": 4,
   "metadata": {},
   "outputs": [],
   "source": [
    "df['days_employed'] = df['days_employed'].astype('int') #Заменяем тип данных на int\n",
    "\n",
    "df['days_employed'] = df['days_employed'].abs()  # Убираем отрицательные значения, хотя в данном случае в анализе эти данные не используются, внутренний перфекционист настаивает :)\n"
   ]
  },
  {
   "cell_type": "markdown",
   "metadata": {},
   "source": [
    "#### Замена типа данных в total_income"
   ]
  },
  {
   "cell_type": "code",
   "execution_count": 5,
   "metadata": {},
   "outputs": [],
   "source": [
    "df['total_income'] = df['total_income'].astype('int') #Заменяем тип данных на int"
   ]
  },
  {
   "cell_type": "markdown",
   "metadata": {},
   "source": [
    "**Вывод** Заменили в двух стобцах ('days_employed' и 'total_income') тип переменных с float64 на int64, потому как что в том что в другом случае наличие знаков после запятой никак не повлияет на результат анализа, но сильно сказывается на наглядности таблицы. \n",
    "Замена произведена методом astype, потому что метод позволяет выбрать тип данных, в который переводим. (to_numeric - переводит только из строк в вещественный тип) \n",
    "Убраны отрицательные значения из 'days_employed' и 'children'. На мой взгляд и там и там это является ошибкой ввода или выгрузки данных. И если 'days_employed' для ответа на поставленные вопросы использоваться не будет, то 'children' будет и наличие отрицательного количества детей будет неправильно."
   ]
  },
  {
   "cell_type": "markdown",
   "metadata": {},
   "source": [
    "#### Исключение отрицательных величин в children"
   ]
  },
  {
   "cell_type": "code",
   "execution_count": 6,
   "metadata": {},
   "outputs": [
    {
     "data": {
      "text/html": [
       "<div>\n",
       "<style scoped>\n",
       "    .dataframe tbody tr th:only-of-type {\n",
       "        vertical-align: middle;\n",
       "    }\n",
       "\n",
       "    .dataframe tbody tr th {\n",
       "        vertical-align: top;\n",
       "    }\n",
       "\n",
       "    .dataframe thead th {\n",
       "        text-align: right;\n",
       "    }\n",
       "</style>\n",
       "<table border=\"1\" class=\"dataframe\">\n",
       "  <thead>\n",
       "    <tr style=\"text-align: right;\">\n",
       "      <th></th>\n",
       "      <th>children</th>\n",
       "      <th>days_employed</th>\n",
       "      <th>dob_years</th>\n",
       "      <th>education</th>\n",
       "      <th>education_id</th>\n",
       "      <th>family_status</th>\n",
       "      <th>family_status_id</th>\n",
       "      <th>gender</th>\n",
       "      <th>income_type</th>\n",
       "      <th>debt</th>\n",
       "      <th>total_income</th>\n",
       "      <th>purpose</th>\n",
       "    </tr>\n",
       "  </thead>\n",
       "  <tbody>\n",
       "    <tr>\n",
       "      <td>0</td>\n",
       "      <td>1</td>\n",
       "      <td>8437</td>\n",
       "      <td>42</td>\n",
       "      <td>высшее</td>\n",
       "      <td>0</td>\n",
       "      <td>женат / замужем</td>\n",
       "      <td>0</td>\n",
       "      <td>F</td>\n",
       "      <td>сотрудник</td>\n",
       "      <td>0</td>\n",
       "      <td>253875</td>\n",
       "      <td>покупка жилья</td>\n",
       "    </tr>\n",
       "    <tr>\n",
       "      <td>1</td>\n",
       "      <td>1</td>\n",
       "      <td>4024</td>\n",
       "      <td>36</td>\n",
       "      <td>среднее</td>\n",
       "      <td>1</td>\n",
       "      <td>женат / замужем</td>\n",
       "      <td>0</td>\n",
       "      <td>F</td>\n",
       "      <td>сотрудник</td>\n",
       "      <td>0</td>\n",
       "      <td>112080</td>\n",
       "      <td>приобретение автомобиля</td>\n",
       "    </tr>\n",
       "    <tr>\n",
       "      <td>2</td>\n",
       "      <td>0</td>\n",
       "      <td>5623</td>\n",
       "      <td>33</td>\n",
       "      <td>Среднее</td>\n",
       "      <td>1</td>\n",
       "      <td>женат / замужем</td>\n",
       "      <td>0</td>\n",
       "      <td>M</td>\n",
       "      <td>сотрудник</td>\n",
       "      <td>0</td>\n",
       "      <td>145885</td>\n",
       "      <td>покупка жилья</td>\n",
       "    </tr>\n",
       "    <tr>\n",
       "      <td>3</td>\n",
       "      <td>3</td>\n",
       "      <td>4124</td>\n",
       "      <td>32</td>\n",
       "      <td>среднее</td>\n",
       "      <td>1</td>\n",
       "      <td>женат / замужем</td>\n",
       "      <td>0</td>\n",
       "      <td>M</td>\n",
       "      <td>сотрудник</td>\n",
       "      <td>0</td>\n",
       "      <td>267628</td>\n",
       "      <td>дополнительное образование</td>\n",
       "    </tr>\n",
       "    <tr>\n",
       "      <td>4</td>\n",
       "      <td>0</td>\n",
       "      <td>340266</td>\n",
       "      <td>53</td>\n",
       "      <td>среднее</td>\n",
       "      <td>1</td>\n",
       "      <td>гражданский брак</td>\n",
       "      <td>1</td>\n",
       "      <td>F</td>\n",
       "      <td>пенсионер</td>\n",
       "      <td>0</td>\n",
       "      <td>158616</td>\n",
       "      <td>сыграть свадьбу</td>\n",
       "    </tr>\n",
       "  </tbody>\n",
       "</table>\n",
       "</div>"
      ],
      "text/plain": [
       "   children  days_employed  dob_years education  education_id  \\\n",
       "0         1           8437         42    высшее             0   \n",
       "1         1           4024         36   среднее             1   \n",
       "2         0           5623         33   Среднее             1   \n",
       "3         3           4124         32   среднее             1   \n",
       "4         0         340266         53   среднее             1   \n",
       "\n",
       "      family_status  family_status_id gender income_type  debt  total_income  \\\n",
       "0   женат / замужем                 0      F   сотрудник     0        253875   \n",
       "1   женат / замужем                 0      F   сотрудник     0        112080   \n",
       "2   женат / замужем                 0      M   сотрудник     0        145885   \n",
       "3   женат / замужем                 0      M   сотрудник     0        267628   \n",
       "4  гражданский брак                 1      F   пенсионер     0        158616   \n",
       "\n",
       "                      purpose  \n",
       "0               покупка жилья  \n",
       "1     приобретение автомобиля  \n",
       "2               покупка жилья  \n",
       "3  дополнительное образование  \n",
       "4             сыграть свадьбу  "
      ]
     },
     "execution_count": 6,
     "metadata": {},
     "output_type": "execute_result"
    }
   ],
   "source": [
    "df['children'] = df['children'].abs() # Убираем отрицательное количество детей.\n",
    "\n",
    "df.head()  #Проверяем результат\n"
   ]
  },
  {
   "cell_type": "markdown",
   "metadata": {},
   "source": [
    "### Обработка дубликатов"
   ]
  },
  {
   "cell_type": "markdown",
   "metadata": {},
   "source": [
    "#### Приведение education к единому написанию"
   ]
  },
  {
   "cell_type": "code",
   "execution_count": 7,
   "metadata": {},
   "outputs": [
    {
     "name": "stdout",
     "output_type": "stream",
     "text": [
      "среднее                13750\n",
      "высшее                  4718\n",
      "СРЕДНЕЕ                  772\n",
      "Среднее                  711\n",
      "неоконченное высшее      668\n",
      "ВЫСШЕЕ                   274\n",
      "Высшее                   268\n",
      "начальное                250\n",
      "Неоконченное высшее       47\n",
      "НЕОКОНЧЕННОЕ ВЫСШЕЕ       29\n",
      "НАЧАЛЬНОЕ                 17\n",
      "Начальное                 15\n",
      "ученая степень             4\n",
      "Ученая степень             1\n",
      "УЧЕНАЯ СТЕПЕНЬ             1\n",
      "Name: education, dtype: int64\n"
     ]
    }
   ],
   "source": [
    "print(df['education'].value_counts()) # Перед тем как искать дубликаты, посмотрим колонку 'education' на предмет уникальных значений\n",
    "\n",
    "df['education'] = df['education'].str.lower() #Приводим к единому написанию\n",
    "\n"
   ]
  },
  {
   "cell_type": "markdown",
   "metadata": {},
   "source": [
    "#### Удаление дубликатов"
   ]
  },
  {
   "cell_type": "code",
   "execution_count": 8,
   "metadata": {},
   "outputs": [
    {
     "name": "stdout",
     "output_type": "stream",
     "text": [
      "<class 'pandas.core.frame.DataFrame'>\n",
      "RangeIndex: 21454 entries, 0 to 21453\n",
      "Data columns (total 13 columns):\n",
      "index               21454 non-null int64\n",
      "children            21454 non-null int64\n",
      "days_employed       21454 non-null int64\n",
      "dob_years           21454 non-null int64\n",
      "education           21454 non-null object\n",
      "education_id        21454 non-null int64\n",
      "family_status       21454 non-null object\n",
      "family_status_id    21454 non-null int64\n",
      "gender              21454 non-null object\n",
      "income_type         21454 non-null object\n",
      "debt                21454 non-null int64\n",
      "total_income        21454 non-null int64\n",
      "purpose             21454 non-null object\n",
      "dtypes: int64(8), object(5)\n",
      "memory usage: 2.1+ MB\n"
     ]
    }
   ],
   "source": [
    "df.duplicated().sum() # Посмотрим количество дубликатов в датафрейме\n",
    "\n",
    "\n",
    "df = df.drop_duplicates().reset_index() # Удалим дубликаты с переписыванием индексов\n",
    "\n",
    "df.info() #Проверим результат"
   ]
  },
  {
   "cell_type": "markdown",
   "metadata": {},
   "source": [
    "**Вывод** Перед поиском дубликатов привел к единому написанию столбец 'education'. Методом duplicated().sum() нашли  дубликаты и посчитали их количество. \n",
    "Учитывая, что:\n",
    "- их общее количество равно 71, \n",
    "- совпадения есть по двум количественным параметрам, а именно - days_employed и total_income, вероятность совпадения которых крайне мала, \n",
    "- общее количество строк 21 525, а соответственно 71 строка это 0,33% от общего количества\n",
    "\n",
    "приходим к выводу, что что все дубликаты можно удалять. \n",
    "\n",
    "Для удаления применяем метод drop_duplicates().reset_index() с перезаписыванием индексов."
   ]
  },
  {
   "cell_type": "markdown",
   "metadata": {},
   "source": [
    "### Лемматизация"
   ]
  },
  {
   "cell_type": "code",
   "execution_count": 9,
   "metadata": {},
   "outputs": [
    {
     "data": {
      "text/plain": [
       "[(' ', 33570),\n",
       " ('\\n', 21454),\n",
       " ('недвижимость', 6351),\n",
       " ('покупка', 5897),\n",
       " ('жилье', 4460),\n",
       " ('автомобиль', 4306),\n",
       " ('образование', 4013),\n",
       " ('с', 2918),\n",
       " ('операция', 2604),\n",
       " ('свадьба', 2324),\n",
       " ('свой', 2230),\n",
       " ('на', 2222),\n",
       " ('строительство', 1878),\n",
       " ('высокий', 1374),\n",
       " ('получение', 1314),\n",
       " ('коммерческий', 1311),\n",
       " ('для', 1289),\n",
       " ('жилой', 1230),\n",
       " ('сделка', 941),\n",
       " ('дополнительный', 906),\n",
       " ('заниматься', 904),\n",
       " ('проведение', 768),\n",
       " ('сыграть', 765),\n",
       " ('сдача', 651),\n",
       " ('семья', 638),\n",
       " ('собственный', 635),\n",
       " ('со', 627),\n",
       " ('ремонт', 607),\n",
       " ('подержанный', 486),\n",
       " ('подержать', 478),\n",
       " ('приобретение', 461),\n",
       " ('профильный', 436)]"
      ]
     },
     "execution_count": 9,
     "metadata": {},
     "output_type": "execute_result"
    }
   ],
   "source": [
    "#def lemm_purp (column):         # Пишем функцию для лемматизации строк\n",
    "#    lemmas = m.lemmatize(column)\n",
    "#    return lemmas\n",
    "df['lemmatize_purpose'] = df['purpose'].apply(m.lemmatize)\n",
    " # Добавляем в датафрейм колонку с лемматизированными строками\n",
    "\n",
    "# print(df.head()) # Для себя проверял датафрейм на успешность добавления столбца\n",
    "\n",
    "lemm_for_count =[] # Определяем переменную для списка\n",
    "for j in df['lemmatize_purpose']: # Создаем список из списка списков\n",
    "    lemm_for_count.extend(j)\n",
    "\n",
    "Counter(lemm_for_count).most_common() # Подсчитаем встречаемость значений\n",
    "\n",
    "\n"
   ]
  },
  {
   "cell_type": "markdown",
   "metadata": {},
   "source": [
    "**Вывод** Лемматизируем столбец purpose для дальнейшей категоризации и анализа данных, для чего создаем функцию для перебора строк. \n",
    "Результат лемматизации добавляем в новый столбец.\n",
    "Методом Counter смотрим какие варианты целей кредитов существуют. \n",
    "Из полученных данных можно сделать вывод, что основных целей кредита 5: 'приобретение объекта недвижимости', 'приобретение автомобиля', 'кредит на образование', 'кредит на свадьбу', 'кредит на ремонт'"
   ]
  },
  {
   "cell_type": "markdown",
   "metadata": {},
   "source": [
    "### Категоризация данных"
   ]
  },
  {
   "cell_type": "markdown",
   "metadata": {},
   "source": [
    "#### Категоризация по доходу"
   ]
  },
  {
   "cell_type": "code",
   "execution_count": 10,
   "metadata": {},
   "outputs": [],
   "source": [
    "median = df['total_income'].median() # Определяем медианную зарплату\n",
    "lower_bound = median - median * 0.5 # Определяем нижнюю границу - медианная - 50%\n",
    "upper_bound = median + median * 0.5 # Определяем верхнюю границу - медианная + 50%\n",
    "\n",
    "#print(median, lower_bound, upper_bound) # Для себя проверил результат вычисления\n",
    "\n",
    "def income(tot_inc):   # Создаем функцию для категоризации по размеру дохода\n",
    "    if tot_inc == 0:\n",
    "        return 'без дохода'\n",
    "    if tot_inc <= lower_bound:\n",
    "        return 'низкий'\n",
    "    if lower_bound < tot_inc <= upper_bound:\n",
    "        return 'средний'\n",
    "    if tot_inc > upper_bound:\n",
    "        return 'высокий'\n",
    "\n",
    "df['total_income_category'] = df['total_income'].apply(income) # Создаем новый столбец с категоризацией по доходу"
   ]
  },
  {
   "cell_type": "markdown",
   "metadata": {},
   "source": [
    "#### Категоризация по цели кредита"
   ]
  },
  {
   "cell_type": "code",
   "execution_count": 11,
   "metadata": {},
   "outputs": [
    {
     "data": {
      "text/plain": [
       "array(['приобретение объекта недвижимости', 'приобретение автомобиля',\n",
       "       'кредит на образование', 'кредит на свадьбу', 'кредит на ремонт'],\n",
       "      dtype=object)"
      ]
     },
     "execution_count": 11,
     "metadata": {},
     "output_type": "execute_result"
    }
   ],
   "source": [
    "def purpose_name(purp):  # Создаем функцию для категоризации по цели кредита\n",
    "    try:\n",
    "        if 'ремонт' in purp:\n",
    "            return 'кредит на ремонт'\n",
    "        if 'жилье' in purp:\n",
    "            return 'приобретение объекта недвижимости'\n",
    "        if 'недвижимость' in purp:\n",
    "            return 'приобретение объекта недвижимости'\n",
    "        if 'жилой' in purp:\n",
    "            return 'приобретение объекта недвижимости'\n",
    "        if 'автомобиль' in purp:\n",
    "            return 'приобретение автомобиля'\n",
    "        if 'образование' in purp:\n",
    "            return 'кредит на образование'\n",
    "        if 'свадьба' in purp:\n",
    "            return 'кредит на свадьбу'\n",
    "    except:\n",
    "        return 'цель кредита не определилась леммами надо проверить'\n",
    "    \n",
    "df['purpose_category'] = df['lemmatize_purpose'].apply(purpose_name)   # Создаем новый столбец с категоризацией по цели кредита \n",
    "\n",
    "df['purpose_category'].unique() # Смотрю уникальные значения"
   ]
  },
  {
   "cell_type": "markdown",
   "metadata": {},
   "source": [
    "#### Категоризация по количеству детей"
   ]
  },
  {
   "cell_type": "code",
   "execution_count": 12,
   "metadata": {},
   "outputs": [],
   "source": [
    "def childrens(quantity):  # Сосздаем фунцию для категоризации по количеству детей.\n",
    "    if quantity == 0:\n",
    "        return 'Нет детей'\n",
    "    if quantity == 1:\n",
    "        return 'Один ребенок'\n",
    "    if quantity == 2:\n",
    "        return 'Двое детей'\n",
    "    if quantity > 2:\n",
    "        return 'Многодетные'\n",
    "\n",
    "df['children_category'] = df['children'].apply(childrens) #Создам новый стобец с категоризацией по количеству детей"
   ]
  },
  {
   "cell_type": "markdown",
   "metadata": {},
   "source": [
    "#### Создаем словарь для определениия наличия/отсутствия задолженности по кредиту"
   ]
  },
  {
   "cell_type": "code",
   "execution_count": 13,
   "metadata": {},
   "outputs": [
    {
     "name": "stdout",
     "output_type": "stream",
     "text": [
      "<class 'pandas.core.frame.DataFrame'>\n",
      "RangeIndex: 21454 entries, 0 to 21453\n",
      "Data columns (total 17 columns):\n",
      "index                    21454 non-null int64\n",
      "children                 21454 non-null int64\n",
      "days_employed            21454 non-null int64\n",
      "dob_years                21454 non-null int64\n",
      "education                21454 non-null object\n",
      "education_id             21454 non-null int64\n",
      "family_status            21454 non-null object\n",
      "family_status_id         21454 non-null int64\n",
      "gender                   21454 non-null object\n",
      "income_type              21454 non-null object\n",
      "debt                     21454 non-null object\n",
      "total_income             21454 non-null int64\n",
      "purpose                  21454 non-null object\n",
      "lemmatize_purpose        21454 non-null object\n",
      "total_income_category    21454 non-null object\n",
      "purpose_category         21454 non-null object\n",
      "children_category        21454 non-null object\n",
      "dtypes: int64(7), object(10)\n",
      "memory usage: 2.8+ MB\n"
     ]
    }
   ],
   "source": [
    "debt_vocabulary = {\n",
    "    1:'Есть задолженности по возврату кредита',\n",
    "    0:'Нет задолженности по возврату кредита'\n",
    "}\n",
    "\n",
    "df['debt'] = df['debt'].replace(debt_vocabulary) #Применяем словарь для внесения изменений в колонку датафрейма\n",
    "\n",
    "\n",
    "df.info() # Проверяю наличие пустых значений\n",
    "    "
   ]
  },
  {
   "cell_type": "markdown",
   "metadata": {},
   "source": [
    "**Вывод** Для ответа на поставленные вопросы нам потребуются категоризированные данные по категориям Доход, Цель кредита, Количество детей. Для удобства формирования сводных таблиц в отчете создаем для категорий отдельные столбцы.\n",
    "Категоризацию в столбце Доход производил относительно медианного дохода. Соответственно взяв нижнюю границу медианный доход минус 50% такового, а верхнюю соответственно + 50%.\n",
    "Категоризацию по цели кредита производил на основе значений, полученных методом Counter при лемматизации. Последовательность применения условий выставлял из соображений, что если в строке \"ремонт жилья\" сначала проверить на ключевое слово \"жилье\" - получу увеличение количество кредитов на жилье за счет отсутствия кредитов на ремонт.\n",
    "Категоризацию по количеству детей производил основываясь на том, что 3 и более - это многодетные семьи, остальных разделил на группы \"нет детей\", \"один ребенок\", \"двое детей\"\n",
    "Для дальнейшего формирования таблиц удобнее будет в столбце debt по задолженности произвести присвоения сотояний, для чего создаем словарь и заменяем значения в столбце."
   ]
  },
  {
   "cell_type": "markdown",
   "metadata": {},
   "source": [
    "## Шаг 3. Ответьте на вопросы"
   ]
  },
  {
   "cell_type": "markdown",
   "metadata": {},
   "source": [
    "- Есть ли зависимость между наличием детей и возвратом кредита в срок?"
   ]
  },
  {
   "cell_type": "code",
   "execution_count": 14,
   "metadata": {},
   "outputs": [
    {
     "data": {
      "text/html": [
       "<div>\n",
       "<style scoped>\n",
       "    .dataframe tbody tr th:only-of-type {\n",
       "        vertical-align: middle;\n",
       "    }\n",
       "\n",
       "    .dataframe tbody tr th {\n",
       "        vertical-align: top;\n",
       "    }\n",
       "\n",
       "    .dataframe thead tr th {\n",
       "        text-align: left;\n",
       "    }\n",
       "\n",
       "    .dataframe thead tr:last-of-type th {\n",
       "        text-align: right;\n",
       "    }\n",
       "</style>\n",
       "<table border=\"1\" class=\"dataframe\">\n",
       "  <thead>\n",
       "    <tr>\n",
       "      <th></th>\n",
       "      <th colspan=\"3\" halign=\"left\">children</th>\n",
       "    </tr>\n",
       "    <tr>\n",
       "      <th>debt</th>\n",
       "      <th>Есть задолженности по возврату кредита</th>\n",
       "      <th>Нет задолженности по возврату кредита</th>\n",
       "      <th>% невозвратов/задержек платежей</th>\n",
       "    </tr>\n",
       "    <tr>\n",
       "      <th>children_category</th>\n",
       "      <th></th>\n",
       "      <th></th>\n",
       "      <th></th>\n",
       "    </tr>\n",
       "  </thead>\n",
       "  <tbody>\n",
       "    <tr>\n",
       "      <td>Нет детей</td>\n",
       "      <td>1063</td>\n",
       "      <td>13028</td>\n",
       "      <td>7.543822</td>\n",
       "    </tr>\n",
       "    <tr>\n",
       "      <td>Многодетные</td>\n",
       "      <td>39</td>\n",
       "      <td>417</td>\n",
       "      <td>8.552632</td>\n",
       "    </tr>\n",
       "    <tr>\n",
       "      <td>Один ребенок</td>\n",
       "      <td>445</td>\n",
       "      <td>4410</td>\n",
       "      <td>9.165808</td>\n",
       "    </tr>\n",
       "    <tr>\n",
       "      <td>Двое детей</td>\n",
       "      <td>194</td>\n",
       "      <td>1858</td>\n",
       "      <td>9.454191</td>\n",
       "    </tr>\n",
       "  </tbody>\n",
       "</table>\n",
       "</div>"
      ],
      "text/plain": [
       "                                                children  \\\n",
       "debt              Есть задолженности по возврату кредита   \n",
       "children_category                                          \n",
       "Нет детей                                           1063   \n",
       "Многодетные                                           39   \n",
       "Один ребенок                                         445   \n",
       "Двое детей                                           194   \n",
       "\n",
       "                                                         \\\n",
       "debt              Нет задолженности по возврату кредита   \n",
       "children_category                                         \n",
       "Нет детей                                         13028   \n",
       "Многодетные                                         417   \n",
       "Один ребенок                                       4410   \n",
       "Двое детей                                         1858   \n",
       "\n",
       "                                                   \n",
       "debt              % невозвратов/задержек платежей  \n",
       "children_category                                  \n",
       "Нет детей                                7.543822  \n",
       "Многодетные                              8.552632  \n",
       "Один ребенок                             9.165808  \n",
       "Двое детей                               9.454191  "
      ]
     },
     "execution_count": 14,
     "metadata": {},
     "output_type": "execute_result"
    }
   ],
   "source": [
    "childrens_table = pd.pivot_table(df, index = ['children_category'],  columns=['debt'],  values = ['children'], aggfunc='count')# Создаю сводную таблицу, используя созданный категоризированный столбец\n",
    "\n",
    "childrens_table['children','% невозвратов/задержек платежей'] = childrens_table['children','Есть задолженности по возврату кредита'] * 100 / (childrens_table['children','Есть задолженности по возврату кредита'] + childrens_table['children','Нет задолженности по возврату кредита']) #Во вновь созданную таблицу добавляю значение процента невозвратов по каждой группе, для наглядности отображения присвоив столбцу название на кириллице\n",
    "\n",
    "childrens_table.sort_values(by=('children','% невозвратов/задержек платежей')) #Выводим таблицу"
   ]
  },
  {
   "cell_type": "markdown",
   "metadata": {},
   "source": [
    "**Вывод** По результатам исследований можно сказать, что наименьший процент невозвратов/задержек платежей у заемщиков без детей. \n",
    "Второй по величине процент невозвратов/задержек платежей - у многодетных. \n",
    "На третьей позиции - У имеющих одного ребенка\n",
    "Ну и максимальный процент невозвратов/задержек платежей у заемщиков с двумя детьми \n",
    "Из всего вышеизложенного следует, что наиболее адекватно свои возможности расчитывают многодетные, поскольку те у кого нет детей (при прочих равных) имеют бОльшие финансовые возможности. Семьи же с одни и двумя детьми имеют практически одинаковый процент."
   ]
  },
  {
   "cell_type": "markdown",
   "metadata": {},
   "source": [
    "- Есть ли зависимость между семейным положением и возвратом кредита в срок?"
   ]
  },
  {
   "cell_type": "code",
   "execution_count": 15,
   "metadata": {},
   "outputs": [
    {
     "data": {
      "text/html": [
       "<div>\n",
       "<style scoped>\n",
       "    .dataframe tbody tr th:only-of-type {\n",
       "        vertical-align: middle;\n",
       "    }\n",
       "\n",
       "    .dataframe tbody tr th {\n",
       "        vertical-align: top;\n",
       "    }\n",
       "\n",
       "    .dataframe thead th {\n",
       "        text-align: right;\n",
       "    }\n",
       "</style>\n",
       "<table border=\"1\" class=\"dataframe\">\n",
       "  <thead>\n",
       "    <tr style=\"text-align: right;\">\n",
       "      <th>debt</th>\n",
       "      <th>Есть задолженности по возврату кредита</th>\n",
       "      <th>Нет задолженности по возврату кредита</th>\n",
       "      <th>% невозвратов/задержек платежей</th>\n",
       "    </tr>\n",
       "    <tr>\n",
       "      <th>family_status</th>\n",
       "      <th></th>\n",
       "      <th></th>\n",
       "      <th></th>\n",
       "    </tr>\n",
       "  </thead>\n",
       "  <tbody>\n",
       "    <tr>\n",
       "      <td>вдовец / вдова</td>\n",
       "      <td>63</td>\n",
       "      <td>896</td>\n",
       "      <td>6.569343</td>\n",
       "    </tr>\n",
       "    <tr>\n",
       "      <td>в разводе</td>\n",
       "      <td>85</td>\n",
       "      <td>1110</td>\n",
       "      <td>7.112971</td>\n",
       "    </tr>\n",
       "    <tr>\n",
       "      <td>женат / замужем</td>\n",
       "      <td>931</td>\n",
       "      <td>11408</td>\n",
       "      <td>7.545182</td>\n",
       "    </tr>\n",
       "    <tr>\n",
       "      <td>гражданский брак</td>\n",
       "      <td>388</td>\n",
       "      <td>3763</td>\n",
       "      <td>9.347145</td>\n",
       "    </tr>\n",
       "    <tr>\n",
       "      <td>Не женат / не замужем</td>\n",
       "      <td>274</td>\n",
       "      <td>2536</td>\n",
       "      <td>9.750890</td>\n",
       "    </tr>\n",
       "  </tbody>\n",
       "</table>\n",
       "</div>"
      ],
      "text/plain": [
       "debt                   Есть задолженности по возврату кредита  \\\n",
       "family_status                                                   \n",
       "вдовец / вдова                                             63   \n",
       "в разводе                                                  85   \n",
       "женат / замужем                                           931   \n",
       "гражданский брак                                          388   \n",
       "Не женат / не замужем                                     274   \n",
       "\n",
       "debt                   Нет задолженности по возврату кредита  \\\n",
       "family_status                                                  \n",
       "вдовец / вдова                                           896   \n",
       "в разводе                                               1110   \n",
       "женат / замужем                                        11408   \n",
       "гражданский брак                                        3763   \n",
       "Не женат / не замужем                                   2536   \n",
       "\n",
       "debt                   % невозвратов/задержек платежей  \n",
       "family_status                                           \n",
       "вдовец / вдова                                6.569343  \n",
       "в разводе                                     7.112971  \n",
       "женат / замужем                               7.545182  \n",
       "гражданский брак                              9.347145  \n",
       "Не женат / не замужем                         9.750890  "
      ]
     },
     "execution_count": 15,
     "metadata": {},
     "output_type": "execute_result"
    }
   ],
   "source": [
    "family_table = pd.pivot_table(df, index = ['family_status'],  columns=['debt'],  values = 'index', aggfunc='count') # Создаю сводную таблицу, используя созданный категоризированный столбец\n",
    "\n",
    "family_table['% невозвратов/задержек платежей'] = family_table['Есть задолженности по возврату кредита'] * 100 / (family_table['Есть задолженности по возврату кредита'] + family_table['Нет задолженности по возврату кредита']) #Во вновь созданную таблицу добавляю значение процента невозвратов по каждой группе, для наглядности отображения присвоив столбцу название на кириллице\n",
    "\n",
    "family_table.sort_values(by='% невозвратов/задержек платежей') #Выводим таблицу"
   ]
  },
  {
   "cell_type": "markdown",
   "metadata": {},
   "source": [
    "**Вывод** Наименьший процент невозвратов/задержек платежей у овдовевших, чуть больше у тех, кто находится в разводе. Самая рИсковая категория заемщиков это те кто Не женат / не замужем и с чуть меншим процентом те, кто находится в гражданском браке.\n",
    "Более надежные заемщики - овдовевшие, находящиеся в разводе и женатые/замужние"
   ]
  },
  {
   "cell_type": "markdown",
   "metadata": {},
   "source": [
    "- Есть ли зависимость между уровнем дохода и возвратом кредита в срок?"
   ]
  },
  {
   "cell_type": "code",
   "execution_count": 16,
   "metadata": {},
   "outputs": [
    {
     "data": {
      "text/html": [
       "<div>\n",
       "<style scoped>\n",
       "    .dataframe tbody tr th:only-of-type {\n",
       "        vertical-align: middle;\n",
       "    }\n",
       "\n",
       "    .dataframe tbody tr th {\n",
       "        vertical-align: top;\n",
       "    }\n",
       "\n",
       "    .dataframe thead th {\n",
       "        text-align: right;\n",
       "    }\n",
       "</style>\n",
       "<table border=\"1\" class=\"dataframe\">\n",
       "  <thead>\n",
       "    <tr style=\"text-align: right;\">\n",
       "      <th>debt</th>\n",
       "      <th>Есть задолженности по возврату кредита</th>\n",
       "      <th>Нет задолженности по возврату кредита</th>\n",
       "      <th>% невозвратов/задержек платежей</th>\n",
       "    </tr>\n",
       "    <tr>\n",
       "      <th>total_income_category</th>\n",
       "      <th></th>\n",
       "      <th></th>\n",
       "      <th></th>\n",
       "    </tr>\n",
       "  </thead>\n",
       "  <tbody>\n",
       "    <tr>\n",
       "      <td>низкий</td>\n",
       "      <td>93</td>\n",
       "      <td>1236</td>\n",
       "      <td>6.997743</td>\n",
       "    </tr>\n",
       "    <tr>\n",
       "      <td>высокий</td>\n",
       "      <td>341</td>\n",
       "      <td>4483</td>\n",
       "      <td>7.068823</td>\n",
       "    </tr>\n",
       "    <tr>\n",
       "      <td>без дохода</td>\n",
       "      <td>170</td>\n",
       "      <td>1933</td>\n",
       "      <td>8.083690</td>\n",
       "    </tr>\n",
       "    <tr>\n",
       "      <td>средний</td>\n",
       "      <td>1137</td>\n",
       "      <td>12061</td>\n",
       "      <td>8.614942</td>\n",
       "    </tr>\n",
       "  </tbody>\n",
       "</table>\n",
       "</div>"
      ],
      "text/plain": [
       "debt                   Есть задолженности по возврату кредита  \\\n",
       "total_income_category                                           \n",
       "низкий                                                     93   \n",
       "высокий                                                   341   \n",
       "без дохода                                                170   \n",
       "средний                                                  1137   \n",
       "\n",
       "debt                   Нет задолженности по возврату кредита  \\\n",
       "total_income_category                                          \n",
       "низкий                                                  1236   \n",
       "высокий                                                 4483   \n",
       "без дохода                                              1933   \n",
       "средний                                                12061   \n",
       "\n",
       "debt                   % невозвратов/задержек платежей  \n",
       "total_income_category                                   \n",
       "низкий                                        6.997743  \n",
       "высокий                                       7.068823  \n",
       "без дохода                                    8.083690  \n",
       "средний                                       8.614942  "
      ]
     },
     "execution_count": 16,
     "metadata": {},
     "output_type": "execute_result"
    }
   ],
   "source": [
    "table_income = pd.pivot_table(df, index = ['total_income_category'],  columns=['debt'],  values = 'total_income', aggfunc='count')\n",
    "\n",
    "table_income['% невозвратов/задержек платежей'] = table_income['Есть задолженности по возврату кредита'] * 100 / (table_income['Есть задолженности по возврату кредита'] + table_income['Нет задолженности по возврату кредита']) #Во вновь созданную таблицу добавляю значение процента невозвратов по каждой группе, для наглядности отображения присвоив столбцу название на кириллице\n",
    "\n",
    "table_income.sort_values(by='% невозвратов/задержек платежей')"
   ]
  },
  {
   "cell_type": "markdown",
   "metadata": {},
   "source": [
    "**Вывод** До выделения в отдельную категорию лиц без дохода таблица давала наиболее предсказуемый вывод - чем выше доход, тем меньше процент невозвратов/задержек платежей. Однако после выделения лиц без дохода в отдельную категорию ситуация изменилась - и наименьший процент невозвратов/задержек  приходится на заемщиков с низким доходом. \n",
    "А процент невозвратов/задержек у заемщиков без дохода скорее говорит о том, что они относятся к достатку чуть выше среднего, а 0-е значения в доходе - о его неофициальности или ошибке.\n",
    "Заемщики с низким доходом к вопросу погашения кредитов относятся более скурпулезно."
   ]
  },
  {
   "cell_type": "markdown",
   "metadata": {},
   "source": [
    "- Как разные цели кредита влияют на его возврат в срок?"
   ]
  },
  {
   "cell_type": "code",
   "execution_count": 17,
   "metadata": {},
   "outputs": [
    {
     "data": {
      "text/html": [
       "<div>\n",
       "<style scoped>\n",
       "    .dataframe tbody tr th:only-of-type {\n",
       "        vertical-align: middle;\n",
       "    }\n",
       "\n",
       "    .dataframe tbody tr th {\n",
       "        vertical-align: top;\n",
       "    }\n",
       "\n",
       "    .dataframe thead th {\n",
       "        text-align: right;\n",
       "    }\n",
       "</style>\n",
       "<table border=\"1\" class=\"dataframe\">\n",
       "  <thead>\n",
       "    <tr style=\"text-align: right;\">\n",
       "      <th>debt</th>\n",
       "      <th>Есть задолженности по возврату кредита</th>\n",
       "      <th>Нет задолженности по возврату кредита</th>\n",
       "      <th>% невозвратов/задержек платежей</th>\n",
       "    </tr>\n",
       "    <tr>\n",
       "      <th>purpose_category</th>\n",
       "      <th></th>\n",
       "      <th></th>\n",
       "      <th></th>\n",
       "    </tr>\n",
       "  </thead>\n",
       "  <tbody>\n",
       "    <tr>\n",
       "      <td>кредит на ремонт</td>\n",
       "      <td>35</td>\n",
       "      <td>572</td>\n",
       "      <td>5.766063</td>\n",
       "    </tr>\n",
       "    <tr>\n",
       "      <td>приобретение объекта недвижимости</td>\n",
       "      <td>747</td>\n",
       "      <td>9457</td>\n",
       "      <td>7.320659</td>\n",
       "    </tr>\n",
       "    <tr>\n",
       "      <td>кредит на свадьбу</td>\n",
       "      <td>186</td>\n",
       "      <td>2138</td>\n",
       "      <td>8.003442</td>\n",
       "    </tr>\n",
       "    <tr>\n",
       "      <td>кредит на образование</td>\n",
       "      <td>370</td>\n",
       "      <td>3643</td>\n",
       "      <td>9.220035</td>\n",
       "    </tr>\n",
       "    <tr>\n",
       "      <td>приобретение автомобиля</td>\n",
       "      <td>403</td>\n",
       "      <td>3903</td>\n",
       "      <td>9.359034</td>\n",
       "    </tr>\n",
       "  </tbody>\n",
       "</table>\n",
       "</div>"
      ],
      "text/plain": [
       "debt                               Есть задолженности по возврату кредита  \\\n",
       "purpose_category                                                            \n",
       "кредит на ремонт                                                       35   \n",
       "приобретение объекта недвижимости                                     747   \n",
       "кредит на свадьбу                                                     186   \n",
       "кредит на образование                                                 370   \n",
       "приобретение автомобиля                                               403   \n",
       "\n",
       "debt                               Нет задолженности по возврату кредита  \\\n",
       "purpose_category                                                           \n",
       "кредит на ремонт                                                     572   \n",
       "приобретение объекта недвижимости                                   9457   \n",
       "кредит на свадьбу                                                   2138   \n",
       "кредит на образование                                               3643   \n",
       "приобретение автомобиля                                             3903   \n",
       "\n",
       "debt                               % невозвратов/задержек платежей  \n",
       "purpose_category                                                    \n",
       "кредит на ремонт                                          5.766063  \n",
       "приобретение объекта недвижимости                         7.320659  \n",
       "кредит на свадьбу                                         8.003442  \n",
       "кредит на образование                                     9.220035  \n",
       "приобретение автомобиля                                   9.359034  "
      ]
     },
     "execution_count": 17,
     "metadata": {},
     "output_type": "execute_result"
    }
   ],
   "source": [
    "target_table = pd.pivot_table(df, index = ['purpose_category'],  columns=['debt'],  values = 'index', aggfunc='count')\n",
    "\n",
    "target_table['% невозвратов/задержек платежей'] = target_table['Есть задолженности по возврату кредита'] * 100 / (target_table['Есть задолженности по возврату кредита'] + target_table['Нет задолженности по возврату кредита']) #Во вновь созданную таблицу добавляю значение процента невозвратов по каждой группе, для наглядности отображения присвоив столбцу название на кириллице\n",
    "\n",
    "target_table.sort_values(by='% невозвратов/задержек платежей')"
   ]
  },
  {
   "cell_type": "markdown",
   "metadata": {},
   "source": [
    "**Вывод** Наиболее рискованным является кредит на приобретение автомобиля, а наименее рискованным - на ремонт"
   ]
  },
  {
   "cell_type": "markdown",
   "metadata": {},
   "source": [
    "## Шаг 4. Общий вывод\n",
    "\n",
    "В предоставленных данных содержится очень много ошибок  в колонке days_employed (Стаж)(особенно это касается отрицательного стажа и непомерно большого стажа) - обратил бы внимание заказчика на проблему выгрузки или заполнения данных. В данном исследовании эти данные не применялись и были несущественны, в дальнейшем же все может измениться.\n",
    "Также запросил бы - что означает неуказанный доход?  \n",
    "\n",
    "Основываясь на проведенных проведенных исследованиях можно сделать вывод, что наиболее надежный заемщик это заемщик с высоким достатком, не имеющий семьи (но имевший таковую) и детей и берущий кредит на ремонт (хотя в таком варианте кредит на ремонт больше похож на утопию), скорее уж кредит на недвижимость.\n",
    "Наиболее рИсковый вариант - это не женатые/не замужем со средним доходом берущие кредит на приобретение автомобиля. С другой стороны, если ставится задача получить дополнительный доход в виде штрафных санкций - для данного варианта не самый плохой вариант.\n",
    "При построении модели кредитного скоринга особое внимание обратил бы на группу заемщиков семейных со средним доходом, они хотя и являются группой с рисками выше среднего, но это самая многочисленная группа."
   ]
  }
 ],
 "metadata": {
  "ExecuteTimeLog": [
   {
    "duration": 116,
    "start_time": "2021-11-28T18:54:16.801Z"
   },
   {
    "duration": 332,
    "start_time": "2021-11-28T18:54:25.968Z"
   },
   {
    "duration": 1204,
    "start_time": "2021-11-28T18:56:36.750Z"
   },
   {
    "duration": 857,
    "start_time": "2021-11-29T18:05:28.553Z"
   },
   {
    "duration": 88,
    "start_time": "2021-11-29T18:06:39.835Z"
   },
   {
    "duration": 83,
    "start_time": "2021-11-29T18:07:02.603Z"
   },
   {
    "duration": 82,
    "start_time": "2021-11-29T18:07:10.719Z"
   },
   {
    "duration": 77,
    "start_time": "2021-11-29T18:07:19.813Z"
   },
   {
    "duration": 89,
    "start_time": "2021-11-29T18:07:49.718Z"
   },
   {
    "duration": 474,
    "start_time": "2021-11-29T18:10:59.423Z"
   },
   {
    "duration": 86,
    "start_time": "2021-11-29T18:11:09.334Z"
   },
   {
    "duration": 82,
    "start_time": "2021-11-29T18:17:00.756Z"
   },
   {
    "duration": 118,
    "start_time": "2021-11-29T18:17:20.024Z"
   },
   {
    "duration": 89,
    "start_time": "2021-11-29T18:18:28.456Z"
   },
   {
    "duration": 8,
    "start_time": "2021-11-29T18:41:34.292Z"
   },
   {
    "duration": 1069,
    "start_time": "2021-11-29T18:42:17.124Z"
   },
   {
    "duration": 35,
    "start_time": "2021-11-29T18:42:30.594Z"
   },
   {
    "duration": 32,
    "start_time": "2021-11-29T18:43:28.002Z"
   },
   {
    "duration": 33,
    "start_time": "2021-11-29T18:47:38.259Z"
   },
   {
    "duration": 6,
    "start_time": "2021-11-29T18:49:05.383Z"
   },
   {
    "duration": 6,
    "start_time": "2021-11-29T18:49:13.014Z"
   },
   {
    "duration": 39,
    "start_time": "2021-11-29T18:49:26.573Z"
   },
   {
    "duration": 102,
    "start_time": "2021-11-29T18:51:04.922Z"
   },
   {
    "duration": 6,
    "start_time": "2021-11-29T18:51:51.264Z"
   },
   {
    "duration": 24,
    "start_time": "2021-11-29T18:52:01.142Z"
   },
   {
    "duration": 17,
    "start_time": "2021-11-29T18:56:21.017Z"
   },
   {
    "duration": 18,
    "start_time": "2021-11-29T18:57:39.737Z"
   },
   {
    "duration": 19,
    "start_time": "2021-11-29T18:59:21.175Z"
   },
   {
    "duration": 269,
    "start_time": "2021-11-29T18:59:39.428Z"
   },
   {
    "duration": 19,
    "start_time": "2021-11-29T18:59:53.078Z"
   },
   {
    "duration": 19,
    "start_time": "2021-11-29T19:00:26.495Z"
   },
   {
    "duration": 22,
    "start_time": "2021-11-29T19:01:37.295Z"
   },
   {
    "duration": 21,
    "start_time": "2021-11-29T19:02:01.699Z"
   },
   {
    "duration": 87,
    "start_time": "2021-11-29T19:02:10.689Z"
   },
   {
    "duration": 21,
    "start_time": "2021-11-29T19:02:14.449Z"
   },
   {
    "duration": 93,
    "start_time": "2021-11-29T19:03:09.278Z"
   },
   {
    "duration": 23,
    "start_time": "2021-11-29T19:03:12.417Z"
   },
   {
    "duration": 18,
    "start_time": "2021-11-29T19:07:11.530Z"
   },
   {
    "duration": 95,
    "start_time": "2021-11-29T19:13:52.405Z"
   },
   {
    "duration": 20,
    "start_time": "2021-11-29T19:13:56.435Z"
   },
   {
    "duration": 256,
    "start_time": "2021-11-29T19:18:09.338Z"
   },
   {
    "duration": 39,
    "start_time": "2021-11-29T19:18:21.186Z"
   },
   {
    "duration": 33,
    "start_time": "2021-11-29T19:19:41.805Z"
   },
   {
    "duration": 137,
    "start_time": "2021-11-29T19:20:21.284Z"
   },
   {
    "duration": 28,
    "start_time": "2021-11-29T19:20:26.198Z"
   },
   {
    "duration": 35,
    "start_time": "2021-11-29T19:22:12.912Z"
   },
   {
    "duration": 99,
    "start_time": "2021-11-29T19:22:17.704Z"
   },
   {
    "duration": 28,
    "start_time": "2021-11-29T19:22:22.351Z"
   },
   {
    "duration": 440,
    "start_time": "2021-11-29T19:44:18.722Z"
   },
   {
    "duration": 883,
    "start_time": "2021-11-29T19:44:59.124Z"
   },
   {
    "duration": 24,
    "start_time": "2021-11-29T19:45:01.759Z"
   },
   {
    "duration": 6,
    "start_time": "2021-11-29T19:45:04.980Z"
   },
   {
    "duration": 14,
    "start_time": "2021-11-29T19:45:30.891Z"
   },
   {
    "duration": 21,
    "start_time": "2021-11-29T19:45:38.650Z"
   },
   {
    "duration": 18,
    "start_time": "2021-11-29T19:50:18.379Z"
   },
   {
    "duration": 12,
    "start_time": "2021-11-29T19:51:33.534Z"
   },
   {
    "duration": 12,
    "start_time": "2021-11-29T19:52:44.842Z"
   },
   {
    "duration": 11,
    "start_time": "2021-11-29T19:54:35.056Z"
   },
   {
    "duration": 21,
    "start_time": "2021-11-29T19:56:12.798Z"
   },
   {
    "duration": 82,
    "start_time": "2021-11-29T19:59:40.386Z"
   },
   {
    "duration": 21,
    "start_time": "2021-11-29T19:59:56.346Z"
   },
   {
    "duration": 91,
    "start_time": "2021-11-29T20:01:59.171Z"
   },
   {
    "duration": 22,
    "start_time": "2021-11-29T20:02:06.209Z"
   },
   {
    "duration": 23,
    "start_time": "2021-11-29T20:04:12.914Z"
   },
   {
    "duration": 25,
    "start_time": "2021-11-29T20:13:45.291Z"
   },
   {
    "duration": 25,
    "start_time": "2021-11-29T20:14:01.137Z"
   },
   {
    "duration": 51,
    "start_time": "2021-11-29T20:15:18.537Z"
   },
   {
    "duration": 32,
    "start_time": "2021-11-29T20:15:34.970Z"
   },
   {
    "duration": 324,
    "start_time": "2021-11-29T20:18:33.098Z"
   },
   {
    "duration": 31,
    "start_time": "2021-11-29T20:19:43.338Z"
   },
   {
    "duration": 759,
    "start_time": "2021-11-30T15:15:03.560Z"
   },
   {
    "duration": 15,
    "start_time": "2021-11-30T15:15:08.160Z"
   },
   {
    "duration": 15,
    "start_time": "2021-11-30T15:15:11.594Z"
   },
   {
    "duration": 19,
    "start_time": "2021-11-30T15:15:15.125Z"
   },
   {
    "duration": 22,
    "start_time": "2021-11-30T15:15:32.800Z"
   },
   {
    "duration": 19,
    "start_time": "2021-11-30T15:16:02.643Z"
   },
   {
    "duration": 31,
    "start_time": "2021-11-30T15:16:12.680Z"
   },
   {
    "duration": 441,
    "start_time": "2021-11-30T15:16:23.999Z"
   },
   {
    "duration": 382,
    "start_time": "2021-11-30T15:16:32.028Z"
   },
   {
    "duration": 17,
    "start_time": "2021-11-30T15:17:01.297Z"
   },
   {
    "duration": 16,
    "start_time": "2021-11-30T15:17:30.483Z"
   },
   {
    "duration": 15,
    "start_time": "2021-11-30T15:21:22.808Z"
   },
   {
    "duration": 124,
    "start_time": "2021-11-30T15:32:46.732Z"
   },
   {
    "duration": 15,
    "start_time": "2021-11-30T15:33:44.319Z"
   },
   {
    "duration": 70,
    "start_time": "2021-11-30T15:34:05.190Z"
   },
   {
    "duration": 16,
    "start_time": "2021-11-30T15:34:09.331Z"
   },
   {
    "duration": 13,
    "start_time": "2021-11-30T15:36:00.642Z"
   },
   {
    "duration": 15,
    "start_time": "2021-11-30T15:36:07.004Z"
   },
   {
    "duration": 116,
    "start_time": "2021-11-30T15:37:09.232Z"
   },
   {
    "duration": 12,
    "start_time": "2021-11-30T15:37:50.582Z"
   },
   {
    "duration": 15,
    "start_time": "2021-11-30T15:41:01.989Z"
   },
   {
    "duration": 356,
    "start_time": "2021-11-30T15:42:06.744Z"
   },
   {
    "duration": 15,
    "start_time": "2021-11-30T15:42:31.611Z"
   },
   {
    "duration": 653,
    "start_time": "2021-11-30T15:42:40.072Z"
   },
   {
    "duration": 16,
    "start_time": "2021-11-30T15:42:47.921Z"
   },
   {
    "duration": 25,
    "start_time": "2021-11-30T15:43:52.053Z"
   },
   {
    "duration": 16,
    "start_time": "2021-11-30T15:44:17.455Z"
   },
   {
    "duration": 76,
    "start_time": "2021-11-30T15:44:24.121Z"
   },
   {
    "duration": 14,
    "start_time": "2021-11-30T15:44:27.549Z"
   },
   {
    "duration": 14,
    "start_time": "2021-11-30T15:44:30.785Z"
   },
   {
    "duration": 17,
    "start_time": "2021-11-30T15:44:34.249Z"
   },
   {
    "duration": 367,
    "start_time": "2021-11-30T15:45:08.432Z"
   },
   {
    "duration": 9,
    "start_time": "2021-11-30T15:47:15.165Z"
   },
   {
    "duration": 9,
    "start_time": "2021-11-30T15:48:13.397Z"
   },
   {
    "duration": 10,
    "start_time": "2021-11-30T15:50:52.562Z"
   },
   {
    "duration": 11,
    "start_time": "2021-11-30T15:54:36.320Z"
   },
   {
    "duration": 8,
    "start_time": "2021-11-30T16:08:23.593Z"
   },
   {
    "duration": 69,
    "start_time": "2021-11-30T16:13:57.804Z"
   },
   {
    "duration": 14,
    "start_time": "2021-11-30T16:14:01.753Z"
   },
   {
    "duration": 14,
    "start_time": "2021-11-30T16:14:04.741Z"
   },
   {
    "duration": 377,
    "start_time": "2021-11-30T16:14:08.170Z"
   },
   {
    "duration": 24,
    "start_time": "2021-11-30T16:14:41.819Z"
   },
   {
    "duration": 22,
    "start_time": "2021-11-30T16:16:14.233Z"
   },
   {
    "duration": 19,
    "start_time": "2021-11-30T16:30:34.085Z"
   },
   {
    "duration": 67,
    "start_time": "2021-11-30T16:30:39.723Z"
   },
   {
    "duration": 19,
    "start_time": "2021-11-30T16:30:44.185Z"
   },
   {
    "duration": 1365,
    "start_time": "2021-11-30T16:30:51.065Z"
   },
   {
    "duration": 7,
    "start_time": "2021-11-30T16:31:09.813Z"
   },
   {
    "duration": 7,
    "start_time": "2021-11-30T16:34:26.968Z"
   },
   {
    "duration": 5,
    "start_time": "2021-11-30T16:38:23.460Z"
   },
   {
    "duration": 14,
    "start_time": "2021-11-30T16:38:45.310Z"
   },
   {
    "duration": 42,
    "start_time": "2021-11-30T16:40:03.600Z"
   },
   {
    "duration": 60,
    "start_time": "2021-11-30T16:41:01.960Z"
   },
   {
    "duration": 376,
    "start_time": "2021-11-30T16:41:10.161Z"
   },
   {
    "duration": 19,
    "start_time": "2021-11-30T16:41:15.355Z"
   },
   {
    "duration": 15,
    "start_time": "2021-11-30T16:41:18.414Z"
   },
   {
    "duration": 85,
    "start_time": "2021-11-30T16:41:21.734Z"
   },
   {
    "duration": 511,
    "start_time": "2021-11-30T16:42:29.224Z"
   },
   {
    "duration": 307,
    "start_time": "2021-11-30T16:43:02.993Z"
   },
   {
    "duration": 62,
    "start_time": "2021-11-30T16:43:08.004Z"
   },
   {
    "duration": 67,
    "start_time": "2021-11-30T16:43:24.613Z"
   },
   {
    "duration": 14,
    "start_time": "2021-11-30T16:43:28.724Z"
   },
   {
    "duration": 15,
    "start_time": "2021-11-30T16:43:31.802Z"
   },
   {
    "duration": 33,
    "start_time": "2021-11-30T16:43:35.322Z"
   },
   {
    "duration": 33,
    "start_time": "2021-11-30T16:43:50.729Z"
   },
   {
    "duration": 53,
    "start_time": "2021-11-30T17:09:32.964Z"
   },
   {
    "duration": 57,
    "start_time": "2021-11-30T17:21:23.487Z"
   },
   {
    "duration": 75,
    "start_time": "2021-11-30T17:24:39.924Z"
   },
   {
    "duration": 339,
    "start_time": "2021-11-30T17:26:25.034Z"
   },
   {
    "duration": 402,
    "start_time": "2021-11-30T17:45:37.910Z"
   },
   {
    "duration": 66,
    "start_time": "2021-11-30T17:45:52.153Z"
   },
   {
    "duration": 13,
    "start_time": "2021-11-30T17:45:57.144Z"
   },
   {
    "duration": 15,
    "start_time": "2021-11-30T17:45:58.239Z"
   },
   {
    "duration": 51,
    "start_time": "2021-11-30T17:46:01.240Z"
   },
   {
    "duration": 422,
    "start_time": "2021-11-30T17:46:04.772Z"
   },
   {
    "duration": 337,
    "start_time": "2021-11-30T17:47:11.562Z"
   },
   {
    "duration": 888,
    "start_time": "2021-11-30T17:52:46.453Z"
   },
   {
    "duration": 9367,
    "start_time": "2021-11-30T17:56:17.432Z"
   },
   {
    "duration": 403,
    "start_time": "2021-11-30T17:57:21.471Z"
   },
   {
    "duration": 1218,
    "start_time": "2021-11-30T18:05:47.832Z"
   },
   {
    "duration": 110,
    "start_time": "2021-11-30T18:05:55.959Z"
   },
   {
    "duration": 350,
    "start_time": "2021-11-30T18:07:14.731Z"
   },
   {
    "duration": 4,
    "start_time": "2021-11-30T18:07:27.321Z"
   },
   {
    "duration": 4,
    "start_time": "2021-11-30T18:07:39.449Z"
   },
   {
    "duration": 916,
    "start_time": "2021-11-30T18:15:28.177Z"
   },
   {
    "duration": 18896,
    "start_time": "2021-11-30T18:15:48.091Z"
   },
   {
    "duration": 408,
    "start_time": "2021-11-30T18:19:55.481Z"
   },
   {
    "duration": 398,
    "start_time": "2021-11-30T18:21:54.712Z"
   },
   {
    "duration": 436,
    "start_time": "2021-11-30T18:22:13.702Z"
   },
   {
    "duration": 1025,
    "start_time": "2021-11-30T18:22:23.290Z"
   },
   {
    "duration": 468,
    "start_time": "2021-11-30T18:24:59.338Z"
   },
   {
    "duration": 120,
    "start_time": "2021-11-30T18:32:07.124Z"
   },
   {
    "duration": 335,
    "start_time": "2021-11-30T18:32:28.622Z"
   },
   {
    "duration": 4,
    "start_time": "2021-11-30T18:36:56.566Z"
   },
   {
    "duration": 174,
    "start_time": "2021-11-30T18:37:23.691Z"
   },
   {
    "duration": 441,
    "start_time": "2021-11-30T18:37:34.882Z"
   },
   {
    "duration": 447,
    "start_time": "2021-11-30T18:37:51.105Z"
   },
   {
    "duration": 359,
    "start_time": "2021-11-30T18:39:26.363Z"
   },
   {
    "duration": 401,
    "start_time": "2021-11-30T18:41:28.680Z"
   },
   {
    "duration": 368,
    "start_time": "2021-11-30T18:42:50.595Z"
   },
   {
    "duration": 392,
    "start_time": "2021-11-30T18:43:31.273Z"
   },
   {
    "duration": 3,
    "start_time": "2021-11-30T18:45:10.131Z"
   },
   {
    "duration": 3,
    "start_time": "2021-11-30T18:45:56.239Z"
   },
   {
    "duration": 5,
    "start_time": "2021-11-30T18:46:09.607Z"
   },
   {
    "duration": 334,
    "start_time": "2021-11-30T18:48:45.409Z"
   },
   {
    "duration": 128,
    "start_time": "2021-11-30T18:49:15.838Z"
   },
   {
    "duration": 336,
    "start_time": "2021-11-30T18:49:21.363Z"
   },
   {
    "duration": 9065,
    "start_time": "2021-11-30T18:49:53.981Z"
   },
   {
    "duration": 8719,
    "start_time": "2021-11-30T18:50:16.039Z"
   },
   {
    "duration": 8966,
    "start_time": "2021-11-30T18:50:46.869Z"
   },
   {
    "duration": 10634,
    "start_time": "2021-11-30T18:52:51.243Z"
   },
   {
    "duration": 1607,
    "start_time": "2021-11-30T18:57:38.651Z"
   },
   {
    "duration": 3367,
    "start_time": "2021-11-30T18:58:11.323Z"
   },
   {
    "duration": 3044,
    "start_time": "2021-11-30T19:02:49.013Z"
   },
   {
    "duration": 3377,
    "start_time": "2021-11-30T19:03:26.572Z"
   },
   {
    "duration": 3263,
    "start_time": "2021-11-30T19:05:21.403Z"
   },
   {
    "duration": 3469,
    "start_time": "2021-11-30T19:05:35.049Z"
   },
   {
    "duration": 109,
    "start_time": "2021-11-30T19:08:42.838Z"
   },
   {
    "duration": 112,
    "start_time": "2021-11-30T19:08:52.179Z"
   },
   {
    "duration": 9984,
    "start_time": "2021-11-30T19:09:09.097Z"
   },
   {
    "duration": 3474,
    "start_time": "2021-11-30T19:17:45.254Z"
   },
   {
    "duration": 3654,
    "start_time": "2021-11-30T19:17:57.190Z"
   },
   {
    "duration": 3214,
    "start_time": "2021-11-30T19:19:43.950Z"
   },
   {
    "duration": 440,
    "start_time": "2021-12-01T09:13:02.261Z"
   },
   {
    "duration": 448,
    "start_time": "2021-12-01T09:13:20.171Z"
   },
   {
    "duration": 935,
    "start_time": "2021-12-01T09:13:32.833Z"
   },
   {
    "duration": 23,
    "start_time": "2021-12-01T09:13:35.487Z"
   },
   {
    "duration": 32,
    "start_time": "2021-12-01T09:13:38.468Z"
   },
   {
    "duration": 116,
    "start_time": "2021-12-01T09:13:41.182Z"
   },
   {
    "duration": 5198,
    "start_time": "2021-12-01T09:13:45.063Z"
   },
   {
    "duration": 19,
    "start_time": "2021-12-01T09:13:50.264Z"
   },
   {
    "duration": 7,
    "start_time": "2021-12-01T09:14:22.391Z"
   },
   {
    "duration": 25,
    "start_time": "2021-12-01T09:15:20.229Z"
   },
   {
    "duration": 120,
    "start_time": "2021-12-01T09:15:25.551Z"
   },
   {
    "duration": 23,
    "start_time": "2021-12-01T09:15:28.565Z"
   },
   {
    "duration": 117,
    "start_time": "2021-12-01T09:15:48.045Z"
   },
   {
    "duration": 7,
    "start_time": "2021-12-01T09:15:53.112Z"
   },
   {
    "duration": 10,
    "start_time": "2021-12-01T09:16:04.603Z"
   },
   {
    "duration": 120,
    "start_time": "2021-12-01T09:16:11.811Z"
   },
   {
    "duration": 9,
    "start_time": "2021-12-01T09:16:17.446Z"
   },
   {
    "duration": 8,
    "start_time": "2021-12-01T09:16:27.213Z"
   },
   {
    "duration": 97,
    "start_time": "2021-12-01T09:16:34.724Z"
   },
   {
    "duration": 9,
    "start_time": "2021-12-01T09:16:39.510Z"
   },
   {
    "duration": 114,
    "start_time": "2021-12-01T09:17:46.053Z"
   },
   {
    "duration": 9,
    "start_time": "2021-12-01T09:17:56.232Z"
   },
   {
    "duration": 18,
    "start_time": "2021-12-01T09:18:48.452Z"
   },
   {
    "duration": 22,
    "start_time": "2021-12-01T09:19:09.628Z"
   },
   {
    "duration": 5,
    "start_time": "2021-12-01T09:19:57.570Z"
   },
   {
    "duration": 5,
    "start_time": "2021-12-01T09:20:11.145Z"
   },
   {
    "duration": 6,
    "start_time": "2021-12-01T09:32:09.209Z"
   },
   {
    "duration": 7,
    "start_time": "2021-12-01T09:32:24.448Z"
   },
   {
    "duration": 11,
    "start_time": "2021-12-01T09:33:06.699Z"
   },
   {
    "duration": 9,
    "start_time": "2021-12-01T09:37:57.727Z"
   },
   {
    "duration": 10,
    "start_time": "2021-12-01T09:38:28.767Z"
   },
   {
    "duration": 12,
    "start_time": "2021-12-01T09:38:53.886Z"
   },
   {
    "duration": 8,
    "start_time": "2021-12-01T09:39:03.168Z"
   },
   {
    "duration": 6,
    "start_time": "2021-12-01T09:42:21.816Z"
   },
   {
    "duration": 8,
    "start_time": "2021-12-01T09:43:12.866Z"
   },
   {
    "duration": 65,
    "start_time": "2021-12-01T09:45:00.959Z"
   },
   {
    "duration": 56,
    "start_time": "2021-12-01T09:45:20.690Z"
   },
   {
    "duration": 83,
    "start_time": "2021-12-01T09:46:11.638Z"
   },
   {
    "duration": 117,
    "start_time": "2021-12-01T10:04:06.332Z"
   },
   {
    "duration": 85,
    "start_time": "2021-12-01T10:05:10.663Z"
   },
   {
    "duration": 58,
    "start_time": "2021-12-01T10:05:19.312Z"
   },
   {
    "duration": 55,
    "start_time": "2021-12-01T10:05:45.093Z"
   },
   {
    "duration": 116,
    "start_time": "2021-12-01T10:06:09.237Z"
   },
   {
    "duration": 12847,
    "start_time": "2021-12-01T10:07:01.492Z"
   },
   {
    "duration": 10720,
    "start_time": "2021-12-01T10:07:14.532Z"
   },
   {
    "duration": 54,
    "start_time": "2021-12-01T10:07:53.031Z"
   },
   {
    "duration": 9366,
    "start_time": "2021-12-01T10:08:04.435Z"
   },
   {
    "duration": 53,
    "start_time": "2021-12-01T10:08:29.903Z"
   },
   {
    "duration": 53,
    "start_time": "2021-12-01T10:09:15.677Z"
   },
   {
    "duration": 6222,
    "start_time": "2021-12-01T10:09:35.984Z"
   },
   {
    "duration": 102,
    "start_time": "2021-12-01T10:09:49.380Z"
   },
   {
    "duration": 111,
    "start_time": "2021-12-01T10:10:02.596Z"
   },
   {
    "duration": 67,
    "start_time": "2021-12-01T10:10:22.395Z"
   },
   {
    "duration": 62,
    "start_time": "2021-12-01T10:10:30.732Z"
   },
   {
    "duration": 126,
    "start_time": "2021-12-01T10:11:57.456Z"
   },
   {
    "duration": 46,
    "start_time": "2021-12-01T10:13:28.605Z"
   },
   {
    "duration": 103,
    "start_time": "2021-12-01T10:17:33.715Z"
   },
   {
    "duration": 74,
    "start_time": "2021-12-01T10:18:04.673Z"
   },
   {
    "duration": 65,
    "start_time": "2021-12-01T10:28:28.135Z"
   },
   {
    "duration": 618,
    "start_time": "2021-12-01T14:42:18.055Z"
   },
   {
    "duration": 304,
    "start_time": "2021-12-01T14:43:55.666Z"
   },
   {
    "duration": 326,
    "start_time": "2021-12-01T14:44:07.329Z"
   },
   {
    "duration": 859,
    "start_time": "2021-12-01T14:48:02.397Z"
   },
   {
    "duration": 315,
    "start_time": "2021-12-01T14:48:21.662Z"
   },
   {
    "duration": 39,
    "start_time": "2021-12-01T14:48:59.087Z"
   },
   {
    "duration": 45,
    "start_time": "2021-12-01T14:49:56.923Z"
   },
   {
    "duration": 109,
    "start_time": "2021-12-01T14:50:54.915Z"
   },
   {
    "duration": 20,
    "start_time": "2021-12-01T14:51:01.067Z"
   },
   {
    "duration": 21,
    "start_time": "2021-12-01T14:51:04.826Z"
   },
   {
    "duration": 72,
    "start_time": "2021-12-01T14:51:08.145Z"
   },
   {
    "duration": 5308,
    "start_time": "2021-12-01T14:51:09.907Z"
   },
   {
    "duration": 73,
    "start_time": "2021-12-01T14:51:15.218Z"
   },
   {
    "duration": 76,
    "start_time": "2021-12-01T14:51:16.335Z"
   },
   {
    "duration": 62,
    "start_time": "2021-12-01T14:51:50.326Z"
   },
   {
    "duration": 93,
    "start_time": "2021-12-01T14:52:31.254Z"
   },
   {
    "duration": 61,
    "start_time": "2021-12-01T14:53:00.908Z"
   },
   {
    "duration": 346,
    "start_time": "2021-12-01T14:55:51.307Z"
   },
   {
    "duration": 340,
    "start_time": "2021-12-01T14:56:02.339Z"
   },
   {
    "duration": 317,
    "start_time": "2021-12-01T14:58:44.295Z"
   },
   {
    "duration": 28,
    "start_time": "2021-12-01T14:58:58.936Z"
   },
   {
    "duration": 459,
    "start_time": "2021-12-01T15:11:18.324Z"
   },
   {
    "duration": 341,
    "start_time": "2021-12-01T15:11:32.183Z"
   },
   {
    "duration": 440,
    "start_time": "2021-12-01T15:12:02.528Z"
   },
   {
    "duration": 40,
    "start_time": "2021-12-01T15:12:24.646Z"
   },
   {
    "duration": 355,
    "start_time": "2021-12-01T15:13:07.983Z"
   },
   {
    "duration": 330,
    "start_time": "2021-12-01T15:13:18.297Z"
   },
   {
    "duration": 398,
    "start_time": "2021-12-01T15:15:54.847Z"
   },
   {
    "duration": 42,
    "start_time": "2021-12-01T15:16:58.263Z"
   },
   {
    "duration": 64,
    "start_time": "2021-12-01T15:17:47.288Z"
   },
   {
    "duration": 66,
    "start_time": "2021-12-01T15:18:14.796Z"
   },
   {
    "duration": 108,
    "start_time": "2021-12-01T15:18:40.276Z"
   },
   {
    "duration": 121,
    "start_time": "2021-12-01T15:18:59.497Z"
   },
   {
    "duration": 363,
    "start_time": "2021-12-01T15:19:30.064Z"
   },
   {
    "duration": 35,
    "start_time": "2021-12-01T15:19:47.256Z"
   },
   {
    "duration": 26,
    "start_time": "2021-12-01T15:21:04.528Z"
   },
   {
    "duration": 46,
    "start_time": "2021-12-01T15:25:18.978Z"
   },
   {
    "duration": 113,
    "start_time": "2021-12-01T15:25:52.411Z"
   },
   {
    "duration": 110,
    "start_time": "2021-12-01T15:26:02.049Z"
   },
   {
    "duration": 154,
    "start_time": "2021-12-01T15:26:07.005Z"
   },
   {
    "duration": 327,
    "start_time": "2021-12-01T15:26:21.012Z"
   },
   {
    "duration": 326,
    "start_time": "2021-12-01T15:26:32.133Z"
   },
   {
    "duration": 320,
    "start_time": "2021-12-01T15:26:49.303Z"
   },
   {
    "duration": 329,
    "start_time": "2021-12-01T15:26:59.527Z"
   },
   {
    "duration": 41,
    "start_time": "2021-12-01T15:27:09.286Z"
   },
   {
    "duration": 28,
    "start_time": "2021-12-01T15:27:37.404Z"
   },
   {
    "duration": 621,
    "start_time": "2021-12-01T15:28:05.866Z"
   },
   {
    "duration": 29,
    "start_time": "2021-12-01T15:28:14.688Z"
   },
   {
    "duration": 38,
    "start_time": "2021-12-01T15:29:04.686Z"
   },
   {
    "duration": 94,
    "start_time": "2021-12-01T15:29:34.455Z"
   },
   {
    "duration": 26,
    "start_time": "2021-12-01T15:29:50.292Z"
   },
   {
    "duration": 437,
    "start_time": "2021-12-01T15:30:00.402Z"
   },
   {
    "duration": 373,
    "start_time": "2021-12-01T15:30:09.653Z"
   },
   {
    "duration": 28,
    "start_time": "2021-12-01T15:30:18.157Z"
   },
   {
    "duration": 40,
    "start_time": "2021-12-01T15:33:05.582Z"
   },
   {
    "duration": 30,
    "start_time": "2021-12-01T15:38:04.561Z"
   },
   {
    "duration": 27,
    "start_time": "2021-12-01T15:38:22.774Z"
   },
   {
    "duration": 29,
    "start_time": "2021-12-01T15:39:17.887Z"
   },
   {
    "duration": 28,
    "start_time": "2021-12-01T15:40:06.459Z"
   },
   {
    "duration": 9,
    "start_time": "2021-12-01T15:43:50.246Z"
   },
   {
    "duration": 10,
    "start_time": "2021-12-01T15:44:01.954Z"
   },
   {
    "duration": 6,
    "start_time": "2021-12-01T15:44:16.096Z"
   },
   {
    "duration": 110,
    "start_time": "2021-12-01T15:50:54.358Z"
   },
   {
    "duration": 40,
    "start_time": "2021-12-01T15:51:14.694Z"
   },
   {
    "duration": 77,
    "start_time": "2021-12-01T15:52:28.296Z"
   },
   {
    "duration": 66,
    "start_time": "2021-12-01T15:58:39.335Z"
   },
   {
    "duration": 66,
    "start_time": "2021-12-01T15:58:47.980Z"
   },
   {
    "duration": 71,
    "start_time": "2021-12-01T15:59:04.804Z"
   },
   {
    "duration": 70,
    "start_time": "2021-12-01T15:59:25.560Z"
   },
   {
    "duration": 122,
    "start_time": "2021-12-01T15:59:36.644Z"
   },
   {
    "duration": 7,
    "start_time": "2021-12-01T15:59:40.077Z"
   },
   {
    "duration": 23,
    "start_time": "2021-12-01T15:59:42.954Z"
   },
   {
    "duration": 71,
    "start_time": "2021-12-01T15:59:45.772Z"
   },
   {
    "duration": 4943,
    "start_time": "2021-12-01T15:59:49.084Z"
   },
   {
    "duration": 79,
    "start_time": "2021-12-01T15:59:54.030Z"
   },
   {
    "duration": 33,
    "start_time": "2021-12-01T15:59:57.220Z"
   },
   {
    "duration": 25,
    "start_time": "2021-12-01T16:00:14.122Z"
   },
   {
    "duration": 25,
    "start_time": "2021-12-01T16:00:17.792Z"
   },
   {
    "duration": 28,
    "start_time": "2021-12-01T16:00:22.870Z"
   },
   {
    "duration": 26,
    "start_time": "2021-12-01T16:00:26.322Z"
   },
   {
    "duration": 69,
    "start_time": "2021-12-01T16:06:55.693Z"
   },
   {
    "duration": 38,
    "start_time": "2021-12-01T16:07:03.454Z"
   },
   {
    "duration": 29,
    "start_time": "2021-12-01T16:07:12.692Z"
   },
   {
    "duration": 27,
    "start_time": "2021-12-01T16:07:21.637Z"
   },
   {
    "duration": 30,
    "start_time": "2021-12-01T16:07:33.495Z"
   },
   {
    "duration": 126,
    "start_time": "2021-12-01T19:06:52.819Z"
   },
   {
    "duration": 66,
    "start_time": "2021-12-01T19:07:00.039Z"
   },
   {
    "duration": 125,
    "start_time": "2021-12-01T19:07:03.283Z"
   },
   {
    "duration": 97,
    "start_time": "2021-12-01T19:11:31.329Z"
   },
   {
    "duration": 215,
    "start_time": "2021-12-01T19:37:40.541Z"
   },
   {
    "duration": 99,
    "start_time": "2021-12-01T19:38:04.241Z"
   },
   {
    "duration": 107,
    "start_time": "2021-12-01T19:41:51.413Z"
   },
   {
    "duration": 360,
    "start_time": "2021-12-01T19:42:00.472Z"
   },
   {
    "duration": 7652,
    "start_time": "2021-12-01T19:42:13.062Z"
   },
   {
    "duration": 8187,
    "start_time": "2021-12-01T19:42:29.404Z"
   },
   {
    "duration": 111,
    "start_time": "2021-12-01T19:42:50.420Z"
   },
   {
    "duration": 80,
    "start_time": "2021-12-01T19:42:56.974Z"
   },
   {
    "duration": 44,
    "start_time": "2021-12-01T19:43:27.345Z"
   },
   {
    "duration": 66,
    "start_time": "2021-12-01T19:45:23.914Z"
   },
   {
    "duration": 62,
    "start_time": "2021-12-01T19:45:42.892Z"
   },
   {
    "duration": 101,
    "start_time": "2021-12-01T19:46:24.408Z"
   },
   {
    "duration": 92,
    "start_time": "2021-12-01T19:46:40.188Z"
   },
   {
    "duration": 56,
    "start_time": "2021-12-01T19:48:33.175Z"
   },
   {
    "duration": 47,
    "start_time": "2021-12-01T19:48:58.379Z"
   },
   {
    "duration": 76,
    "start_time": "2021-12-01T19:49:33.579Z"
   },
   {
    "duration": 80,
    "start_time": "2021-12-01T19:52:30.470Z"
   },
   {
    "duration": 31,
    "start_time": "2021-12-01T19:52:52.839Z"
   },
   {
    "duration": 315,
    "start_time": "2021-12-01T19:53:26.448Z"
   },
   {
    "duration": 45,
    "start_time": "2021-12-01T19:53:59.581Z"
   },
   {
    "duration": 28,
    "start_time": "2021-12-01T19:54:22.062Z"
   },
   {
    "duration": 315,
    "start_time": "2021-12-01T19:57:45.540Z"
   },
   {
    "duration": 37,
    "start_time": "2021-12-01T19:58:03.447Z"
   },
   {
    "duration": 113,
    "start_time": "2021-12-01T20:00:33.645Z"
   },
   {
    "duration": 102,
    "start_time": "2021-12-01T20:01:05.214Z"
   },
   {
    "duration": 97,
    "start_time": "2021-12-01T20:07:06.808Z"
   },
   {
    "duration": 189,
    "start_time": "2021-12-01T20:11:18.974Z"
   },
   {
    "duration": 77,
    "start_time": "2021-12-01T20:15:01.035Z"
   },
   {
    "duration": 70,
    "start_time": "2021-12-01T20:15:18.466Z"
   },
   {
    "duration": 67,
    "start_time": "2021-12-01T20:15:26.188Z"
   },
   {
    "duration": 27,
    "start_time": "2021-12-01T20:18:41.892Z"
   },
   {
    "duration": 110,
    "start_time": "2021-12-01T20:19:12.695Z"
   },
   {
    "duration": 98,
    "start_time": "2021-12-01T20:19:21.244Z"
   },
   {
    "duration": 104,
    "start_time": "2021-12-01T20:19:27.162Z"
   },
   {
    "duration": 102,
    "start_time": "2021-12-01T20:19:36.164Z"
   },
   {
    "duration": 28,
    "start_time": "2021-12-01T20:20:59.693Z"
   },
   {
    "duration": 338,
    "start_time": "2021-12-01T20:21:13.223Z"
   },
   {
    "duration": 29,
    "start_time": "2021-12-01T20:43:03.359Z"
   },
   {
    "duration": 311,
    "start_time": "2021-12-01T20:45:12.200Z"
   },
   {
    "duration": 313,
    "start_time": "2021-12-01T20:45:57.674Z"
   },
   {
    "duration": 327,
    "start_time": "2021-12-01T20:46:46.253Z"
   },
   {
    "duration": 23,
    "start_time": "2021-12-01T20:46:59.009Z"
   },
   {
    "duration": 41,
    "start_time": "2021-12-01T20:49:15.762Z"
   },
   {
    "duration": 7540,
    "start_time": "2021-12-01T20:53:43.031Z"
   },
   {
    "duration": 8940,
    "start_time": "2021-12-01T20:53:56.323Z"
   },
   {
    "duration": 317,
    "start_time": "2021-12-01T20:54:59.882Z"
   },
   {
    "duration": 321,
    "start_time": "2021-12-01T20:55:09.594Z"
   },
   {
    "duration": 330,
    "start_time": "2021-12-01T20:55:20.324Z"
   },
   {
    "duration": 8694,
    "start_time": "2021-12-01T20:58:42.660Z"
   },
   {
    "duration": 33,
    "start_time": "2021-12-01T20:59:15.638Z"
   },
   {
    "duration": 45,
    "start_time": "2021-12-01T21:00:04.007Z"
   },
   {
    "duration": 28,
    "start_time": "2021-12-01T21:00:35.532Z"
   },
   {
    "duration": 8232,
    "start_time": "2021-12-01T21:00:40.832Z"
   },
   {
    "duration": 8190,
    "start_time": "2021-12-01T21:01:35.714Z"
   },
   {
    "duration": 100,
    "start_time": "2021-12-01T21:03:12.721Z"
   },
   {
    "duration": 355,
    "start_time": "2021-12-01T21:03:32.862Z"
   },
   {
    "duration": 36,
    "start_time": "2021-12-01T21:04:47.471Z"
   },
   {
    "duration": 43,
    "start_time": "2021-12-01T21:05:42.332Z"
   },
   {
    "duration": 318,
    "start_time": "2021-12-01T21:06:10.049Z"
   },
   {
    "duration": 349,
    "start_time": "2021-12-01T21:06:24.368Z"
   },
   {
    "duration": 29,
    "start_time": "2021-12-01T21:07:05.564Z"
   },
   {
    "duration": 383,
    "start_time": "2021-12-01T21:08:17.009Z"
   },
   {
    "duration": 341,
    "start_time": "2021-12-01T21:08:34.011Z"
   },
   {
    "duration": 7428,
    "start_time": "2021-12-01T21:09:10.091Z"
   },
   {
    "duration": 7935,
    "start_time": "2021-12-01T21:09:24.299Z"
   },
   {
    "duration": 7796,
    "start_time": "2021-12-01T21:09:57.735Z"
   },
   {
    "duration": 29,
    "start_time": "2021-12-01T21:10:21.721Z"
   },
   {
    "duration": 45,
    "start_time": "2021-12-01T21:10:46.303Z"
   },
   {
    "duration": 105,
    "start_time": "2021-12-01T21:11:04.841Z"
   },
   {
    "duration": 327,
    "start_time": "2021-12-01T21:11:12.528Z"
   },
   {
    "duration": 34,
    "start_time": "2021-12-01T21:11:22.561Z"
   },
   {
    "duration": 372,
    "start_time": "2021-12-01T21:14:57.871Z"
   },
   {
    "duration": 476,
    "start_time": "2021-12-01T21:15:19.011Z"
   },
   {
    "duration": 361,
    "start_time": "2021-12-01T21:16:10.574Z"
   },
   {
    "duration": 45,
    "start_time": "2021-12-01T21:16:38.480Z"
   },
   {
    "duration": 113,
    "start_time": "2021-12-01T21:17:50.046Z"
   },
   {
    "duration": 78,
    "start_time": "2021-12-01T21:21:41.894Z"
   },
   {
    "duration": 77,
    "start_time": "2021-12-01T21:21:49.813Z"
   },
   {
    "duration": 73,
    "start_time": "2021-12-01T21:22:11.607Z"
   },
   {
    "duration": 126,
    "start_time": "2021-12-01T21:22:20.352Z"
   },
   {
    "duration": 7,
    "start_time": "2021-12-01T21:22:26.599Z"
   },
   {
    "duration": 22,
    "start_time": "2021-12-01T21:22:29.441Z"
   },
   {
    "duration": 77,
    "start_time": "2021-12-01T21:22:32.056Z"
   },
   {
    "duration": 4960,
    "start_time": "2021-12-01T21:22:35.053Z"
   },
   {
    "duration": 92,
    "start_time": "2021-12-01T21:22:40.016Z"
   },
   {
    "duration": 180,
    "start_time": "2021-12-01T21:23:43.091Z"
   },
   {
    "duration": 8110,
    "start_time": "2021-12-01T21:23:57.173Z"
   },
   {
    "duration": 131,
    "start_time": "2021-12-01T21:24:14.054Z"
   },
   {
    "duration": 8,
    "start_time": "2021-12-01T21:24:17.376Z"
   },
   {
    "duration": 22,
    "start_time": "2021-12-01T21:24:19.573Z"
   },
   {
    "duration": 74,
    "start_time": "2021-12-01T21:24:22.673Z"
   },
   {
    "duration": 5304,
    "start_time": "2021-12-01T21:24:25.935Z"
   },
   {
    "duration": 102,
    "start_time": "2021-12-01T21:24:31.244Z"
   },
   {
    "duration": 40,
    "start_time": "2021-12-01T21:24:31.602Z"
   },
   {
    "duration": 137,
    "start_time": "2021-12-01T21:25:20.269Z"
   },
   {
    "duration": 7,
    "start_time": "2021-12-01T21:25:23.811Z"
   },
   {
    "duration": 21,
    "start_time": "2021-12-01T21:25:26.209Z"
   },
   {
    "duration": 104,
    "start_time": "2021-12-01T21:25:29.090Z"
   },
   {
    "duration": 5154,
    "start_time": "2021-12-01T21:25:33.151Z"
   },
   {
    "duration": 98,
    "start_time": "2021-12-01T21:25:38.308Z"
   },
   {
    "duration": 78,
    "start_time": "2021-12-01T21:26:41.067Z"
   },
   {
    "duration": 128,
    "start_time": "2021-12-01T21:32:47.851Z"
   },
   {
    "duration": 6,
    "start_time": "2021-12-01T21:32:58.810Z"
   },
   {
    "duration": 22,
    "start_time": "2021-12-01T21:33:01.646Z"
   },
   {
    "duration": 72,
    "start_time": "2021-12-01T21:33:04.445Z"
   },
   {
    "duration": 4922,
    "start_time": "2021-12-01T21:33:07.523Z"
   },
   {
    "duration": 94,
    "start_time": "2021-12-01T21:33:12.448Z"
   },
   {
    "duration": 39,
    "start_time": "2021-12-01T21:37:11.565Z"
   },
   {
    "duration": 305,
    "start_time": "2021-12-01T21:37:24.690Z"
   },
   {
    "duration": 46,
    "start_time": "2021-12-01T21:37:33.140Z"
   },
   {
    "duration": 34,
    "start_time": "2021-12-01T21:39:27.846Z"
   },
   {
    "duration": 64,
    "start_time": "2021-12-01T21:40:20.871Z"
   },
   {
    "duration": 55,
    "start_time": "2021-12-01T21:40:29.883Z"
   },
   {
    "duration": 32,
    "start_time": "2021-12-01T21:42:19.798Z"
   },
   {
    "duration": 9757,
    "start_time": "2021-12-01T21:43:52.892Z"
   },
   {
    "duration": 9497,
    "start_time": "2021-12-01T21:44:16.073Z"
   },
   {
    "duration": 35,
    "start_time": "2021-12-01T21:44:29.281Z"
   },
   {
    "duration": 46,
    "start_time": "2021-12-01T21:47:20.361Z"
   },
   {
    "duration": 38,
    "start_time": "2021-12-01T21:48:01.561Z"
   },
   {
    "duration": 70,
    "start_time": "2021-12-01T21:48:32.157Z"
   },
   {
    "duration": 37,
    "start_time": "2021-12-01T21:48:43.715Z"
   },
   {
    "duration": 40,
    "start_time": "2021-12-01T22:05:46.946Z"
   },
   {
    "duration": 41,
    "start_time": "2021-12-01T22:13:36.366Z"
   },
   {
    "duration": 24,
    "start_time": "2021-12-01T22:14:37.513Z"
   },
   {
    "duration": 27,
    "start_time": "2021-12-01T22:14:54.331Z"
   },
   {
    "duration": 8122,
    "start_time": "2021-12-01T22:17:00.105Z"
   },
   {
    "duration": 8268,
    "start_time": "2021-12-01T22:17:20.132Z"
   },
   {
    "duration": 35,
    "start_time": "2021-12-01T22:18:11.722Z"
   },
   {
    "duration": 31,
    "start_time": "2021-12-01T22:31:52.249Z"
   },
   {
    "duration": 31,
    "start_time": "2021-12-01T22:32:10.519Z"
   },
   {
    "duration": 31,
    "start_time": "2021-12-01T22:32:23.849Z"
   },
   {
    "duration": 30,
    "start_time": "2021-12-01T22:32:46.590Z"
   },
   {
    "duration": 28,
    "start_time": "2021-12-01T22:32:54.049Z"
   },
   {
    "duration": 34,
    "start_time": "2021-12-01T22:33:01.368Z"
   },
   {
    "duration": 29,
    "start_time": "2021-12-01T22:34:19.327Z"
   },
   {
    "duration": 38,
    "start_time": "2021-12-01T22:34:27.972Z"
   },
   {
    "duration": 28,
    "start_time": "2021-12-01T22:36:36.079Z"
   },
   {
    "duration": 37,
    "start_time": "2021-12-01T22:37:33.450Z"
   },
   {
    "duration": 576,
    "start_time": "2021-12-02T07:00:12.248Z"
   },
   {
    "duration": 246,
    "start_time": "2021-12-02T07:01:30.770Z"
   },
   {
    "duration": 5,
    "start_time": "2021-12-02T07:01:35.655Z"
   },
   {
    "duration": 14,
    "start_time": "2021-12-02T07:01:39.685Z"
   },
   {
    "duration": 62,
    "start_time": "2021-12-02T07:02:06.057Z"
   },
   {
    "duration": 3299,
    "start_time": "2021-12-02T07:02:48.835Z"
   },
   {
    "duration": 44,
    "start_time": "2021-12-02T07:03:19.613Z"
   },
   {
    "duration": 40,
    "start_time": "2021-12-02T07:03:44.412Z"
   },
   {
    "duration": 35,
    "start_time": "2021-12-02T07:03:52.812Z"
   },
   {
    "duration": 182,
    "start_time": "2021-12-02T07:04:12.320Z"
   },
   {
    "duration": 29,
    "start_time": "2021-12-02T07:04:16.666Z"
   },
   {
    "duration": 198,
    "start_time": "2021-12-02T07:04:20.189Z"
   },
   {
    "duration": 23,
    "start_time": "2021-12-02T07:04:44.445Z"
   },
   {
    "duration": 23,
    "start_time": "2021-12-02T07:05:26.210Z"
   },
   {
    "duration": 24,
    "start_time": "2021-12-02T07:05:33.088Z"
   },
   {
    "duration": 19,
    "start_time": "2021-12-02T07:08:30.532Z"
   },
   {
    "duration": 20,
    "start_time": "2021-12-02T07:09:42.747Z"
   },
   {
    "duration": 202,
    "start_time": "2021-12-02T07:10:39.987Z"
   },
   {
    "duration": 200,
    "start_time": "2021-12-02T07:10:46.766Z"
   },
   {
    "duration": 23,
    "start_time": "2021-12-02T07:11:19.012Z"
   },
   {
    "duration": 23,
    "start_time": "2021-12-02T07:12:15.605Z"
   },
   {
    "duration": 193,
    "start_time": "2021-12-02T07:13:05.184Z"
   },
   {
    "duration": 460,
    "start_time": "2021-12-02T07:13:19.657Z"
   },
   {
    "duration": 22,
    "start_time": "2021-12-02T07:13:34.024Z"
   },
   {
    "duration": 23,
    "start_time": "2021-12-02T07:14:27.024Z"
   },
   {
    "duration": 713,
    "start_time": "2021-12-02T14:53:26.503Z"
   },
   {
    "duration": 5,
    "start_time": "2021-12-02T14:53:27.217Z"
   },
   {
    "duration": 23,
    "start_time": "2021-12-02T14:53:27.226Z"
   },
   {
    "duration": 62,
    "start_time": "2021-12-02T14:53:27.251Z"
   },
   {
    "duration": 4335,
    "start_time": "2021-12-02T14:53:27.315Z"
   },
   {
    "duration": 57,
    "start_time": "2021-12-02T14:53:31.652Z"
   },
   {
    "duration": 37,
    "start_time": "2021-12-02T14:53:31.712Z"
   },
   {
    "duration": 26,
    "start_time": "2021-12-02T14:53:31.750Z"
   },
   {
    "duration": 43,
    "start_time": "2021-12-02T14:53:31.777Z"
   },
   {
    "duration": 23,
    "start_time": "2021-12-02T14:53:31.822Z"
   },
   {
    "duration": 5,
    "start_time": "2021-12-02T15:02:07.576Z"
   },
   {
    "duration": 872,
    "start_time": "2021-12-02T19:23:15.967Z"
   },
   {
    "duration": 15,
    "start_time": "2021-12-02T19:23:16.843Z"
   },
   {
    "duration": 22,
    "start_time": "2021-12-02T19:23:16.861Z"
   },
   {
    "duration": 95,
    "start_time": "2021-12-02T19:23:16.886Z"
   },
   {
    "duration": 4903,
    "start_time": "2021-12-02T19:23:16.985Z"
   },
   {
    "duration": 75,
    "start_time": "2021-12-02T19:23:21.891Z"
   },
   {
    "duration": 52,
    "start_time": "2021-12-02T19:23:21.969Z"
   },
   {
    "duration": 51,
    "start_time": "2021-12-02T19:23:22.025Z"
   },
   {
    "duration": 33,
    "start_time": "2021-12-02T19:23:22.079Z"
   },
   {
    "duration": 53,
    "start_time": "2021-12-02T19:23:22.114Z"
   },
   {
    "duration": 17,
    "start_time": "2021-12-02T19:43:13.117Z"
   },
   {
    "duration": 753,
    "start_time": "2021-12-03T13:54:18.974Z"
   },
   {
    "duration": 104,
    "start_time": "2021-12-03T13:54:23.916Z"
   },
   {
    "duration": 16,
    "start_time": "2021-12-03T13:54:55.859Z"
   },
   {
    "duration": 21,
    "start_time": "2021-12-03T13:55:23.980Z"
   },
   {
    "duration": 23,
    "start_time": "2021-12-03T13:56:01.497Z"
   },
   {
    "duration": 3998,
    "start_time": "2021-12-03T13:57:34.136Z"
   },
   {
    "duration": 3118,
    "start_time": "2021-12-03T14:07:41.918Z"
   },
   {
    "duration": 520,
    "start_time": "2021-12-03T19:18:21.714Z"
   },
   {
    "duration": 293,
    "start_time": "2021-12-03T19:18:29.393Z"
   },
   {
    "duration": 848,
    "start_time": "2021-12-03T19:19:05.801Z"
   },
   {
    "duration": 22,
    "start_time": "2021-12-03T19:19:08.755Z"
   },
   {
    "duration": 28,
    "start_time": "2021-12-03T19:21:10.683Z"
   },
   {
    "duration": 92,
    "start_time": "2021-12-03T19:22:33.791Z"
   },
   {
    "duration": 97,
    "start_time": "2021-12-03T19:22:47.827Z"
   },
   {
    "duration": 5,
    "start_time": "2021-12-03T20:08:27.274Z"
   },
   {
    "duration": 4,
    "start_time": "2021-12-03T20:08:29.855Z"
   },
   {
    "duration": 4,
    "start_time": "2021-12-03T20:09:50.541Z"
   },
   {
    "duration": 18,
    "start_time": "2021-12-03T20:10:44.622Z"
   },
   {
    "duration": 6,
    "start_time": "2021-12-03T20:10:55.459Z"
   },
   {
    "duration": 4,
    "start_time": "2021-12-03T20:10:58.214Z"
   },
   {
    "duration": 19,
    "start_time": "2021-12-03T20:11:00.513Z"
   },
   {
    "duration": 74,
    "start_time": "2021-12-03T20:11:13.092Z"
   },
   {
    "duration": 3,
    "start_time": "2021-12-03T20:12:26.436Z"
   },
   {
    "duration": 60,
    "start_time": "2021-12-03T20:13:41.332Z"
   },
   {
    "duration": 22,
    "start_time": "2021-12-03T20:13:54.651Z"
   },
   {
    "duration": 2203,
    "start_time": "2021-12-03T20:16:36.167Z"
   },
   {
    "duration": 8934,
    "start_time": "2021-12-03T20:16:48.082Z"
   },
   {
    "duration": 38,
    "start_time": "2021-12-03T20:17:02.804Z"
   },
   {
    "duration": 7786,
    "start_time": "2021-12-03T20:17:04.692Z"
   },
   {
    "duration": 87,
    "start_time": "2021-12-03T20:17:25.822Z"
   },
   {
    "duration": 15,
    "start_time": "2021-12-03T20:17:29.262Z"
   },
   {
    "duration": 22,
    "start_time": "2021-12-03T20:17:31.739Z"
   },
   {
    "duration": 6,
    "start_time": "2021-12-03T20:17:37.410Z"
   },
   {
    "duration": 6,
    "start_time": "2021-12-03T20:17:39.422Z"
   },
   {
    "duration": 18,
    "start_time": "2021-12-03T20:17:41.782Z"
   },
   {
    "duration": 22,
    "start_time": "2021-12-03T20:17:45.061Z"
   },
   {
    "duration": 58,
    "start_time": "2021-12-03T20:17:48.364Z"
   },
   {
    "duration": 5056,
    "start_time": "2021-12-03T20:18:01.278Z"
   },
   {
    "duration": 35,
    "start_time": "2021-12-03T20:18:07.726Z"
   },
   {
    "duration": 30,
    "start_time": "2021-12-03T20:18:12.926Z"
   },
   {
    "duration": 33,
    "start_time": "2021-12-03T20:19:50.457Z"
   },
   {
    "duration": 291,
    "start_time": "2021-12-03T20:20:10.878Z"
   },
   {
    "duration": 28,
    "start_time": "2021-12-03T20:20:22.727Z"
   },
   {
    "duration": 12,
    "start_time": "2021-12-03T20:20:24.858Z"
   },
   {
    "duration": 36,
    "start_time": "2021-12-03T20:20:27.066Z"
   },
   {
    "duration": 54,
    "start_time": "2021-12-03T20:20:30.086Z"
   },
   {
    "duration": 33,
    "start_time": "2021-12-03T20:20:36.446Z"
   },
   {
    "duration": 36,
    "start_time": "2021-12-03T20:20:39.757Z"
   },
   {
    "duration": 38,
    "start_time": "2021-12-03T20:20:42.877Z"
   },
   {
    "duration": 680,
    "start_time": "2021-12-04T17:14:31.521Z"
   },
   {
    "duration": 12,
    "start_time": "2021-12-04T17:14:32.203Z"
   },
   {
    "duration": 32,
    "start_time": "2021-12-04T17:14:32.217Z"
   },
   {
    "duration": 26,
    "start_time": "2021-12-04T17:14:32.252Z"
   },
   {
    "duration": 24,
    "start_time": "2021-12-04T17:14:32.280Z"
   },
   {
    "duration": 27,
    "start_time": "2021-12-04T17:14:32.305Z"
   },
   {
    "duration": 17,
    "start_time": "2021-12-04T17:14:32.333Z"
   },
   {
    "duration": 49,
    "start_time": "2021-12-04T17:14:32.353Z"
   },
   {
    "duration": 3766,
    "start_time": "2021-12-04T17:14:32.405Z"
   },
   {
    "duration": 24,
    "start_time": "2021-12-04T17:14:36.173Z"
   },
   {
    "duration": 21,
    "start_time": "2021-12-04T17:14:36.198Z"
   },
   {
    "duration": 31,
    "start_time": "2021-12-04T17:14:36.221Z"
   },
   {
    "duration": 42,
    "start_time": "2021-12-04T17:14:36.254Z"
   },
   {
    "duration": 40,
    "start_time": "2021-12-04T17:14:36.298Z"
   },
   {
    "duration": 23,
    "start_time": "2021-12-04T17:14:36.339Z"
   },
   {
    "duration": 28,
    "start_time": "2021-12-04T17:14:36.364Z"
   },
   {
    "duration": 32,
    "start_time": "2021-12-04T17:14:36.394Z"
   },
   {
    "duration": 22,
    "start_time": "2021-12-04T17:40:30.606Z"
   },
   {
    "duration": 24,
    "start_time": "2021-12-04T17:40:55.803Z"
   },
   {
    "duration": 5,
    "start_time": "2021-12-04T17:41:31.999Z"
   },
   {
    "duration": 5,
    "start_time": "2021-12-04T17:41:44.226Z"
   },
   {
    "duration": 22,
    "start_time": "2021-12-04T17:41:46.467Z"
   },
   {
    "duration": 6,
    "start_time": "2021-12-04T17:42:01.448Z"
   },
   {
    "duration": 5,
    "start_time": "2021-12-04T17:42:13.896Z"
   },
   {
    "duration": 25,
    "start_time": "2021-12-04T17:42:15.307Z"
   },
   {
    "duration": 5,
    "start_time": "2021-12-04T17:42:29.494Z"
   },
   {
    "duration": 24,
    "start_time": "2021-12-04T17:42:31.005Z"
   },
   {
    "duration": 6,
    "start_time": "2021-12-04T17:42:38.987Z"
   },
   {
    "duration": 5,
    "start_time": "2021-12-04T17:42:52.654Z"
   },
   {
    "duration": 6,
    "start_time": "2021-12-04T17:42:54.149Z"
   },
   {
    "duration": 4,
    "start_time": "2021-12-04T17:42:57.938Z"
   },
   {
    "duration": 5,
    "start_time": "2021-12-04T17:42:58.748Z"
   },
   {
    "duration": 12,
    "start_time": "2021-12-04T17:43:06.354Z"
   },
   {
    "duration": 5,
    "start_time": "2021-12-04T17:43:07.982Z"
   },
   {
    "duration": 21,
    "start_time": "2021-12-04T17:43:24.316Z"
   },
   {
    "duration": 20,
    "start_time": "2021-12-04T17:44:44.552Z"
   }
  ],
  "kernelspec": {
   "display_name": "Python 3 (ipykernel)",
   "language": "python",
   "name": "python3"
  },
  "language_info": {
   "codemirror_mode": {
    "name": "ipython",
    "version": 3
   },
   "file_extension": ".py",
   "mimetype": "text/x-python",
   "name": "python",
   "nbconvert_exporter": "python",
   "pygments_lexer": "ipython3",
   "version": "3.9.5"
  },
  "toc": {
   "base_numbering": 1,
   "nav_menu": {},
   "number_sections": true,
   "sideBar": true,
   "skip_h1_title": true,
   "title_cell": "Table of Contents",
   "title_sidebar": "Contents",
   "toc_cell": false,
   "toc_position": {
    "height": "calc(100% - 180px)",
    "left": "10px",
    "top": "150px",
    "width": "289.6px"
   },
   "toc_section_display": true,
   "toc_window_display": false
  }
 },
 "nbformat": 4,
 "nbformat_minor": 2
}
