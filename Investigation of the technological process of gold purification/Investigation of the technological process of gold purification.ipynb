{
 "cells": [
  {
   "cell_type": "markdown",
   "metadata": {
    "toc": true
   },
   "source": [
    "<h1>Содержание<span class=\"tocSkip\"></span></h1>\n",
    "<div class=\"toc\"><ul class=\"toc-item\"><li><span><a href=\"#Подготовка-данных\" data-toc-modified-id=\"Подготовка-данных-1\"><span class=\"toc-item-num\">1&nbsp;&nbsp;</span>Подготовка данных</a></span><ul class=\"toc-item\"><li><span><a href=\"#Загрузка-и-изучение-предоставленных-датафреймов\" data-toc-modified-id=\"Загрузка-и-изучение-предоставленных-датафреймов-1.1\"><span class=\"toc-item-num\">1.1&nbsp;&nbsp;</span>Загрузка и изучение предоставленных датафреймов</a></span></li><li><span><a href=\"#Проверка-правильности-расчета-эффективности-обогащения.\" data-toc-modified-id=\"Проверка-правильности-расчета-эффективности-обогащения.-1.2\"><span class=\"toc-item-num\">1.2&nbsp;&nbsp;</span>Проверка правильности расчета эффективности обогащения.</a></span></li><li><span><a href=\"#Анализ-признаков,-недоступных-в-тестовой-выборке.\" data-toc-modified-id=\"Анализ-признаков,-недоступных-в-тестовой-выборке.-1.3\"><span class=\"toc-item-num\">1.3&nbsp;&nbsp;</span>Анализ признаков, недоступных в тестовой выборке.</a></span></li><li><span><a href=\"#Предобработка-данных\" data-toc-modified-id=\"Предобработка-данных-1.4\"><span class=\"toc-item-num\">1.4&nbsp;&nbsp;</span>Предобработка данных</a></span><ul class=\"toc-item\"><li><span><a href=\"#Подготовка-обучающей-выборки---удаление-лишних-столбцов-и-заполнение-пропусков\" data-toc-modified-id=\"Подготовка-обучающей-выборки---удаление-лишних-столбцов-и-заполнение-пропусков-1.4.1\"><span class=\"toc-item-num\">1.4.1&nbsp;&nbsp;</span>Подготовка обучающей выборки - удаление лишних столбцов и заполнение пропусков</a></span></li><li><span><a href=\"#Подготовка-тестовой-выборки---добавление-недостающих-столбцов-и-заполнение-пропусков\" data-toc-modified-id=\"Подготовка-тестовой-выборки---добавление-недостающих-столбцов-и-заполнение-пропусков-1.4.2\"><span class=\"toc-item-num\">1.4.2&nbsp;&nbsp;</span>Подготовка тестовой выборки - добавление недостающих столбцов и заполнение пропусков</a></span></li></ul></li><li><span><a href=\"#Выводы-по-разделу\" data-toc-modified-id=\"Выводы-по-разделу-1.5\"><span class=\"toc-item-num\">1.5&nbsp;&nbsp;</span>Выводы по разделу</a></span></li></ul></li><li><span><a href=\"#Анализ-данных\" data-toc-modified-id=\"Анализ-данных-2\"><span class=\"toc-item-num\">2&nbsp;&nbsp;</span>Анализ данных</a></span><ul class=\"toc-item\"><li><span><a href=\"#Сравнение-концентрации-металлов-(Au,-Ag,-Pb)-на-различных-этапах-очистки.\" data-toc-modified-id=\"Сравнение-концентрации-металлов-(Au,-Ag,-Pb)-на-различных-этапах-очистки.-2.1\"><span class=\"toc-item-num\">2.1&nbsp;&nbsp;</span>Сравнение концентрации металлов (Au, Ag, Pb) на различных этапах очистки.</a></span></li><li><span><a href=\"#Сравнение-распределения-размеров-гранул-сырья-на-обучающей-и-тестовой-выборках.\" data-toc-modified-id=\"Сравнение-распределения-размеров-гранул-сырья-на-обучающей-и-тестовой-выборках.-2.2\"><span class=\"toc-item-num\">2.2&nbsp;&nbsp;</span>Сравнение распределения размеров гранул сырья на обучающей и тестовой выборках.</a></span></li><li><span><a href=\"#Исследование-суммарной-концентрации-всех-веществ-на-разных-стадиях\" data-toc-modified-id=\"Исследование-суммарной-концентрации-всех-веществ-на-разных-стадиях-2.3\"><span class=\"toc-item-num\">2.3&nbsp;&nbsp;</span>Исследование суммарной концентрации всех веществ на разных стадиях</a></span></li><li><span><a href=\"#Выводы-по-разделу\" data-toc-modified-id=\"Выводы-по-разделу-2.4\"><span class=\"toc-item-num\">2.4&nbsp;&nbsp;</span>Выводы по разделу</a></span></li></ul></li><li><span><a href=\"#Модель\" data-toc-modified-id=\"Модель-3\"><span class=\"toc-item-num\">3&nbsp;&nbsp;</span>Модель</a></span><ul class=\"toc-item\"><li><span><a href=\"#Создание-функций-для-вычисления-итоговой-sMAPE.\" data-toc-modified-id=\"Создание-функций-для-вычисления-итоговой-sMAPE.-3.1\"><span class=\"toc-item-num\">3.1&nbsp;&nbsp;</span>Создание функций для вычисления итоговой sMAPE.</a></span></li><li><span><a href=\"#Подготовка-признаков,-тестовой-и-тренировочной-выборок\" data-toc-modified-id=\"Подготовка-признаков,-тестовой-и-тренировочной-выборок-3.2\"><span class=\"toc-item-num\">3.2&nbsp;&nbsp;</span>Подготовка признаков, тестовой и тренировочной выборок</a></span></li><li><span><a href=\"#Масштабирование-выборок\" data-toc-modified-id=\"Масштабирование-выборок-3.3\"><span class=\"toc-item-num\">3.3&nbsp;&nbsp;</span>Масштабирование выборок</a></span></li><li><span><a href=\"#Обучение-различных-моделей-и-оценка-их-качества-кросс-валидацией.\" data-toc-modified-id=\"Обучение-различных-моделей-и-оценка-их-качества-кросс-валидацией.-3.4\"><span class=\"toc-item-num\">3.4&nbsp;&nbsp;</span>Обучение различных моделей и оценка их качества кросс-валидацией.</a></span></li><li><span><a href=\"#Подбор-гиперпараметров-для-модели-Случайный-лес\" data-toc-modified-id=\"Подбор-гиперпараметров-для-модели-Случайный-лес-3.5\"><span class=\"toc-item-num\">3.5&nbsp;&nbsp;</span>Подбор гиперпараметров для модели Случайный лес</a></span></li><li><span><a href=\"#Обучение-и-проверка-модели-Случайный-лес\" data-toc-modified-id=\"Обучение-и-проверка-модели-Случайный-лес-3.6\"><span class=\"toc-item-num\">3.6&nbsp;&nbsp;</span>Обучение и проверка модели Случайный лес</a></span></li><li><span><a href=\"#Проверка-модели-с-помощью-DummyRegressor\" data-toc-modified-id=\"Проверка-модели-с-помощью-DummyRegressor-3.7\"><span class=\"toc-item-num\">3.7&nbsp;&nbsp;</span>Проверка модели с помощью DummyRegressor</a></span></li><li><span><a href=\"#Выводы-по-разделу\" data-toc-modified-id=\"Выводы-по-разделу-3.8\"><span class=\"toc-item-num\">3.8&nbsp;&nbsp;</span>Выводы по разделу</a></span></li></ul></li><li><span><a href=\"#Выводы\" data-toc-modified-id=\"Выводы-4\"><span class=\"toc-item-num\">4&nbsp;&nbsp;</span>Выводы</a></span></li><li><span><a href=\"#Чек-лист-готовности-проекта\" data-toc-modified-id=\"Чек-лист-готовности-проекта-5\"><span class=\"toc-item-num\">5&nbsp;&nbsp;</span>Чек-лист готовности проекта</a></span></li></ul></div>"
   ]
  },
  {
   "cell_type": "markdown",
   "metadata": {},
   "source": [
    "# Восстановление золота из руды"
   ]
  },
  {
   "cell_type": "markdown",
   "metadata": {},
   "source": [
    "Подготовьте прототип модели машинного обучения для «Цифры». Компания разрабатывает решения для эффективной работы промышленных предприятий.\n",
    "\n",
    "Модель должна предсказать коэффициент восстановления золота из золотосодержащей руды. Используйте данные с параметрами добычи и очистки. \n",
    "\n",
    "Модель поможет оптимизировать производство, чтобы не запускать предприятие с убыточными характеристиками.\n",
    "\n",
    "Вам нужно:\n",
    "\n",
    "1. Подготовить данные;\n",
    "2. Провести исследовательский анализ данных;\n",
    "3. Построить и обучить модель.\n",
    "\n",
    "Чтобы выполнить проект, обращайтесь к библиотекам *pandas*, *matplotlib* и *sklearn.* Вам поможет их документация."
   ]
  },
  {
   "cell_type": "code",
   "execution_count": 1,
   "metadata": {},
   "outputs": [],
   "source": [
    "# Библиотека pandas-profiling не всегда устанавливается стабильно, поэтому принудительно задать стабильные версии\n",
    "# !pip install pandas_profiling==1.4.1 -q\n",
    "# !pip install pandas==0.25.3 -q"
   ]
  },
  {
   "cell_type": "code",
   "execution_count": 2,
   "metadata": {},
   "outputs": [],
   "source": [
    "import pandas as pd\n",
    "import numpy as np\n",
    "import matplotlib.pyplot as plt\n",
    "\n",
    "#from sklearn.model_selection import train_test_split # Разделение выборок\n",
    "from sklearn.preprocessing import StandardScaler # Масштабирование\n",
    "\n",
    "from sklearn.dummy import DummyRegressor\n",
    "\n",
    "from sklearn.linear_model import LinearRegression # Линейная регрессия\n",
    "from sklearn.ensemble import RandomForestRegressor # Случайный лес\n",
    "from sklearn.tree import DecisionTreeRegressor # Деревья решений\n",
    "from catboost import CatBoostRegressor # CatBoost\n",
    "\n",
    "from sklearn.model_selection import train_test_split, cross_val_score # Кросс - валидация\n",
    "\n",
    "# from sklearn.metrics.scorer import make_scorer\n",
    "\n",
    "#from pandas_profiling import ProfileReport\n",
    "\n",
    "from sklearn.metrics import mean_squared_error # Вычисление RMSE\n",
    "\n",
    "from math import sqrt # Корень квадратный\n",
    "\n",
    "from sklearn.metrics import mean_absolute_error\n",
    "from sklearn.metrics import mean_squared_error, make_scorer\n",
    "import random\n",
    "\n",
    "import seaborn as sns"
   ]
  },
  {
   "cell_type": "markdown",
   "metadata": {},
   "source": [
    "## Подготовка данных"
   ]
  },
  {
   "cell_type": "markdown",
   "metadata": {},
   "source": [
    "### Загрузка и изучение предоставленных датафреймов"
   ]
  },
  {
   "cell_type": "code",
   "execution_count": 3,
   "metadata": {
    "scrolled": false
   },
   "outputs": [
    {
     "name": "stdout",
     "output_type": "stream",
     "text": [
      "<class 'pandas.core.frame.DataFrame'>\n",
      "RangeIndex: 14149 entries, 0 to 14148\n",
      "Data columns (total 87 columns):\n",
      " #   Column                                              Non-Null Count  Dtype  \n",
      "---  ------                                              --------------  -----  \n",
      " 0   date                                                14149 non-null  object \n",
      " 1   final.output.concentrate_ag                         14148 non-null  float64\n",
      " 2   final.output.concentrate_pb                         14148 non-null  float64\n",
      " 3   final.output.concentrate_sol                        13938 non-null  float64\n",
      " 4   final.output.concentrate_au                         14149 non-null  float64\n",
      " 5   final.output.recovery                               14149 non-null  float64\n",
      " 6   final.output.tail_ag                                14149 non-null  float64\n",
      " 7   final.output.tail_pb                                14049 non-null  float64\n",
      " 8   final.output.tail_sol                               14144 non-null  float64\n",
      " 9   final.output.tail_au                                14149 non-null  float64\n",
      " 10  primary_cleaner.input.sulfate                       14129 non-null  float64\n",
      " 11  primary_cleaner.input.depressant                    14117 non-null  float64\n",
      " 12  primary_cleaner.input.feed_size                     14149 non-null  float64\n",
      " 13  primary_cleaner.input.xanthate                      14049 non-null  float64\n",
      " 14  primary_cleaner.output.concentrate_ag               14149 non-null  float64\n",
      " 15  primary_cleaner.output.concentrate_pb               14063 non-null  float64\n",
      " 16  primary_cleaner.output.concentrate_sol              13863 non-null  float64\n",
      " 17  primary_cleaner.output.concentrate_au               14149 non-null  float64\n",
      " 18  primary_cleaner.output.tail_ag                      14148 non-null  float64\n",
      " 19  primary_cleaner.output.tail_pb                      14134 non-null  float64\n",
      " 20  primary_cleaner.output.tail_sol                     14103 non-null  float64\n",
      " 21  primary_cleaner.output.tail_au                      14149 non-null  float64\n",
      " 22  primary_cleaner.state.floatbank8_a_air              14145 non-null  float64\n",
      " 23  primary_cleaner.state.floatbank8_a_level            14148 non-null  float64\n",
      " 24  primary_cleaner.state.floatbank8_b_air              14145 non-null  float64\n",
      " 25  primary_cleaner.state.floatbank8_b_level            14148 non-null  float64\n",
      " 26  primary_cleaner.state.floatbank8_c_air              14147 non-null  float64\n",
      " 27  primary_cleaner.state.floatbank8_c_level            14148 non-null  float64\n",
      " 28  primary_cleaner.state.floatbank8_d_air              14146 non-null  float64\n",
      " 29  primary_cleaner.state.floatbank8_d_level            14148 non-null  float64\n",
      " 30  rougher.calculation.sulfate_to_au_concentrate       14148 non-null  float64\n",
      " 31  rougher.calculation.floatbank10_sulfate_to_au_feed  14148 non-null  float64\n",
      " 32  rougher.calculation.floatbank11_sulfate_to_au_feed  14148 non-null  float64\n",
      " 33  rougher.calculation.au_pb_ratio                     14149 non-null  float64\n",
      " 34  rougher.input.feed_ag                               14149 non-null  float64\n",
      " 35  rougher.input.feed_pb                               14049 non-null  float64\n",
      " 36  rougher.input.feed_rate                             14141 non-null  float64\n",
      " 37  rougher.input.feed_size                             14005 non-null  float64\n",
      " 38  rougher.input.feed_sol                              14071 non-null  float64\n",
      " 39  rougher.input.feed_au                               14149 non-null  float64\n",
      " 40  rougher.input.floatbank10_sulfate                   14120 non-null  float64\n",
      " 41  rougher.input.floatbank10_xanthate                  14141 non-null  float64\n",
      " 42  rougher.input.floatbank11_sulfate                   14113 non-null  float64\n",
      " 43  rougher.input.floatbank11_xanthate                  13721 non-null  float64\n",
      " 44  rougher.output.concentrate_ag                       14149 non-null  float64\n",
      " 45  rougher.output.concentrate_pb                       14149 non-null  float64\n",
      " 46  rougher.output.concentrate_sol                      14127 non-null  float64\n",
      " 47  rougher.output.concentrate_au                       14149 non-null  float64\n",
      " 48  rougher.output.recovery                             14149 non-null  float64\n",
      " 49  rougher.output.tail_ag                              14148 non-null  float64\n",
      " 50  rougher.output.tail_pb                              14149 non-null  float64\n",
      " 51  rougher.output.tail_sol                             14149 non-null  float64\n",
      " 52  rougher.output.tail_au                              14149 non-null  float64\n",
      " 53  rougher.state.floatbank10_a_air                     14148 non-null  float64\n",
      " 54  rougher.state.floatbank10_a_level                   14148 non-null  float64\n",
      " 55  rougher.state.floatbank10_b_air                     14148 non-null  float64\n",
      " 56  rougher.state.floatbank10_b_level                   14148 non-null  float64\n",
      " 57  rougher.state.floatbank10_c_air                     14148 non-null  float64\n",
      " 58  rougher.state.floatbank10_c_level                   14148 non-null  float64\n",
      " 59  rougher.state.floatbank10_d_air                     14149 non-null  float64\n",
      " 60  rougher.state.floatbank10_d_level                   14149 non-null  float64\n",
      " 61  rougher.state.floatbank10_e_air                     13713 non-null  float64\n",
      " 62  rougher.state.floatbank10_e_level                   14149 non-null  float64\n",
      " 63  rougher.state.floatbank10_f_air                     14149 non-null  float64\n",
      " 64  rougher.state.floatbank10_f_level                   14149 non-null  float64\n",
      " 65  secondary_cleaner.output.tail_ag                    14147 non-null  float64\n",
      " 66  secondary_cleaner.output.tail_pb                    14139 non-null  float64\n",
      " 67  secondary_cleaner.output.tail_sol                   12544 non-null  float64\n",
      " 68  secondary_cleaner.output.tail_au                    14149 non-null  float64\n",
      " 69  secondary_cleaner.state.floatbank2_a_air            13932 non-null  float64\n",
      " 70  secondary_cleaner.state.floatbank2_a_level          14148 non-null  float64\n",
      " 71  secondary_cleaner.state.floatbank2_b_air            14128 non-null  float64\n",
      " 72  secondary_cleaner.state.floatbank2_b_level          14148 non-null  float64\n",
      " 73  secondary_cleaner.state.floatbank3_a_air            14145 non-null  float64\n",
      " 74  secondary_cleaner.state.floatbank3_a_level          14148 non-null  float64\n",
      " 75  secondary_cleaner.state.floatbank3_b_air            14148 non-null  float64\n",
      " 76  secondary_cleaner.state.floatbank3_b_level          14148 non-null  float64\n",
      " 77  secondary_cleaner.state.floatbank4_a_air            14143 non-null  float64\n",
      " 78  secondary_cleaner.state.floatbank4_a_level          14148 non-null  float64\n",
      " 79  secondary_cleaner.state.floatbank4_b_air            14148 non-null  float64\n",
      " 80  secondary_cleaner.state.floatbank4_b_level          14148 non-null  float64\n",
      " 81  secondary_cleaner.state.floatbank5_a_air            14148 non-null  float64\n",
      " 82  secondary_cleaner.state.floatbank5_a_level          14148 non-null  float64\n",
      " 83  secondary_cleaner.state.floatbank5_b_air            14148 non-null  float64\n",
      " 84  secondary_cleaner.state.floatbank5_b_level          14148 non-null  float64\n",
      " 85  secondary_cleaner.state.floatbank6_a_air            14147 non-null  float64\n",
      " 86  secondary_cleaner.state.floatbank6_a_level          14148 non-null  float64\n",
      "dtypes: float64(86), object(1)\n",
      "memory usage: 9.4+ MB\n",
      "<class 'pandas.core.frame.DataFrame'>\n",
      "RangeIndex: 5290 entries, 0 to 5289\n",
      "Data columns (total 53 columns):\n",
      " #   Column                                      Non-Null Count  Dtype  \n",
      "---  ------                                      --------------  -----  \n",
      " 0   date                                        5290 non-null   object \n",
      " 1   primary_cleaner.input.sulfate               5286 non-null   float64\n",
      " 2   primary_cleaner.input.depressant            5285 non-null   float64\n",
      " 3   primary_cleaner.input.feed_size             5290 non-null   float64\n",
      " 4   primary_cleaner.input.xanthate              5286 non-null   float64\n",
      " 5   primary_cleaner.state.floatbank8_a_air      5290 non-null   float64\n",
      " 6   primary_cleaner.state.floatbank8_a_level    5290 non-null   float64\n",
      " 7   primary_cleaner.state.floatbank8_b_air      5290 non-null   float64\n",
      " 8   primary_cleaner.state.floatbank8_b_level    5290 non-null   float64\n",
      " 9   primary_cleaner.state.floatbank8_c_air      5290 non-null   float64\n",
      " 10  primary_cleaner.state.floatbank8_c_level    5290 non-null   float64\n",
      " 11  primary_cleaner.state.floatbank8_d_air      5290 non-null   float64\n",
      " 12  primary_cleaner.state.floatbank8_d_level    5290 non-null   float64\n",
      " 13  rougher.input.feed_ag                       5290 non-null   float64\n",
      " 14  rougher.input.feed_pb                       5290 non-null   float64\n",
      " 15  rougher.input.feed_rate                     5287 non-null   float64\n",
      " 16  rougher.input.feed_size                     5289 non-null   float64\n",
      " 17  rougher.input.feed_sol                      5269 non-null   float64\n",
      " 18  rougher.input.feed_au                       5290 non-null   float64\n",
      " 19  rougher.input.floatbank10_sulfate           5285 non-null   float64\n",
      " 20  rougher.input.floatbank10_xanthate          5290 non-null   float64\n",
      " 21  rougher.input.floatbank11_sulfate           5282 non-null   float64\n",
      " 22  rougher.input.floatbank11_xanthate          5265 non-null   float64\n",
      " 23  rougher.state.floatbank10_a_air             5290 non-null   float64\n",
      " 24  rougher.state.floatbank10_a_level           5290 non-null   float64\n",
      " 25  rougher.state.floatbank10_b_air             5290 non-null   float64\n",
      " 26  rougher.state.floatbank10_b_level           5290 non-null   float64\n",
      " 27  rougher.state.floatbank10_c_air             5290 non-null   float64\n",
      " 28  rougher.state.floatbank10_c_level           5290 non-null   float64\n",
      " 29  rougher.state.floatbank10_d_air             5290 non-null   float64\n",
      " 30  rougher.state.floatbank10_d_level           5290 non-null   float64\n",
      " 31  rougher.state.floatbank10_e_air             5290 non-null   float64\n",
      " 32  rougher.state.floatbank10_e_level           5290 non-null   float64\n",
      " 33  rougher.state.floatbank10_f_air             5290 non-null   float64\n",
      " 34  rougher.state.floatbank10_f_level           5290 non-null   float64\n",
      " 35  secondary_cleaner.state.floatbank2_a_air    5287 non-null   float64\n",
      " 36  secondary_cleaner.state.floatbank2_a_level  5290 non-null   float64\n",
      " 37  secondary_cleaner.state.floatbank2_b_air    5288 non-null   float64\n",
      " 38  secondary_cleaner.state.floatbank2_b_level  5290 non-null   float64\n",
      " 39  secondary_cleaner.state.floatbank3_a_air    5281 non-null   float64\n",
      " 40  secondary_cleaner.state.floatbank3_a_level  5290 non-null   float64\n",
      " 41  secondary_cleaner.state.floatbank3_b_air    5290 non-null   float64\n",
      " 42  secondary_cleaner.state.floatbank3_b_level  5290 non-null   float64\n",
      " 43  secondary_cleaner.state.floatbank4_a_air    5290 non-null   float64\n",
      " 44  secondary_cleaner.state.floatbank4_a_level  5290 non-null   float64\n",
      " 45  secondary_cleaner.state.floatbank4_b_air    5290 non-null   float64\n",
      " 46  secondary_cleaner.state.floatbank4_b_level  5290 non-null   float64\n",
      " 47  secondary_cleaner.state.floatbank5_a_air    5290 non-null   float64\n",
      " 48  secondary_cleaner.state.floatbank5_a_level  5290 non-null   float64\n",
      " 49  secondary_cleaner.state.floatbank5_b_air    5290 non-null   float64\n",
      " 50  secondary_cleaner.state.floatbank5_b_level  5290 non-null   float64\n",
      " 51  secondary_cleaner.state.floatbank6_a_air    5290 non-null   float64\n",
      " 52  secondary_cleaner.state.floatbank6_a_level  5290 non-null   float64\n",
      "dtypes: float64(52), object(1)\n",
      "memory usage: 2.1+ MB\n",
      "<class 'pandas.core.frame.DataFrame'>\n",
      "RangeIndex: 19439 entries, 0 to 19438\n",
      "Data columns (total 87 columns):\n",
      " #   Column                                              Non-Null Count  Dtype  \n",
      "---  ------                                              --------------  -----  \n",
      " 0   date                                                19439 non-null  object \n",
      " 1   final.output.concentrate_ag                         19438 non-null  float64\n",
      " 2   final.output.concentrate_pb                         19438 non-null  float64\n",
      " 3   final.output.concentrate_sol                        19228 non-null  float64\n",
      " 4   final.output.concentrate_au                         19439 non-null  float64\n",
      " 5   final.output.recovery                               19439 non-null  float64\n",
      " 6   final.output.tail_ag                                19438 non-null  float64\n",
      " 7   final.output.tail_pb                                19338 non-null  float64\n",
      " 8   final.output.tail_sol                               19433 non-null  float64\n",
      " 9   final.output.tail_au                                19439 non-null  float64\n",
      " 10  primary_cleaner.input.sulfate                       19415 non-null  float64\n",
      " 11  primary_cleaner.input.depressant                    19402 non-null  float64\n",
      " 12  primary_cleaner.input.feed_size                     19439 non-null  float64\n",
      " 13  primary_cleaner.input.xanthate                      19335 non-null  float64\n",
      " 14  primary_cleaner.output.concentrate_ag               19439 non-null  float64\n",
      " 15  primary_cleaner.output.concentrate_pb               19323 non-null  float64\n",
      " 16  primary_cleaner.output.concentrate_sol              19069 non-null  float64\n",
      " 17  primary_cleaner.output.concentrate_au               19439 non-null  float64\n",
      " 18  primary_cleaner.output.tail_ag                      19435 non-null  float64\n",
      " 19  primary_cleaner.output.tail_pb                      19418 non-null  float64\n",
      " 20  primary_cleaner.output.tail_sol                     19377 non-null  float64\n",
      " 21  primary_cleaner.output.tail_au                      19439 non-null  float64\n",
      " 22  primary_cleaner.state.floatbank8_a_air              19435 non-null  float64\n",
      " 23  primary_cleaner.state.floatbank8_a_level            19438 non-null  float64\n",
      " 24  primary_cleaner.state.floatbank8_b_air              19435 non-null  float64\n",
      " 25  primary_cleaner.state.floatbank8_b_level            19438 non-null  float64\n",
      " 26  primary_cleaner.state.floatbank8_c_air              19437 non-null  float64\n",
      " 27  primary_cleaner.state.floatbank8_c_level            19438 non-null  float64\n",
      " 28  primary_cleaner.state.floatbank8_d_air              19436 non-null  float64\n",
      " 29  primary_cleaner.state.floatbank8_d_level            19438 non-null  float64\n",
      " 30  rougher.calculation.sulfate_to_au_concentrate       19437 non-null  float64\n",
      " 31  rougher.calculation.floatbank10_sulfate_to_au_feed  19437 non-null  float64\n",
      " 32  rougher.calculation.floatbank11_sulfate_to_au_feed  19437 non-null  float64\n",
      " 33  rougher.calculation.au_pb_ratio                     19439 non-null  float64\n",
      " 34  rougher.input.feed_ag                               19439 non-null  float64\n",
      " 35  rougher.input.feed_pb                               19339 non-null  float64\n",
      " 36  rougher.input.feed_rate                             19428 non-null  float64\n",
      " 37  rougher.input.feed_size                             19294 non-null  float64\n",
      " 38  rougher.input.feed_sol                              19340 non-null  float64\n",
      " 39  rougher.input.feed_au                               19439 non-null  float64\n",
      " 40  rougher.input.floatbank10_sulfate                   19405 non-null  float64\n",
      " 41  rougher.input.floatbank10_xanthate                  19431 non-null  float64\n",
      " 42  rougher.input.floatbank11_sulfate                   19395 non-null  float64\n",
      " 43  rougher.input.floatbank11_xanthate                  18986 non-null  float64\n",
      " 44  rougher.output.concentrate_ag                       19439 non-null  float64\n",
      " 45  rougher.output.concentrate_pb                       19439 non-null  float64\n",
      " 46  rougher.output.concentrate_sol                      19416 non-null  float64\n",
      " 47  rougher.output.concentrate_au                       19439 non-null  float64\n",
      " 48  rougher.output.recovery                             19439 non-null  float64\n",
      " 49  rougher.output.tail_ag                              19438 non-null  float64\n",
      " 50  rougher.output.tail_pb                              19439 non-null  float64\n",
      " 51  rougher.output.tail_sol                             19439 non-null  float64\n",
      " 52  rougher.output.tail_au                              19439 non-null  float64\n",
      " 53  rougher.state.floatbank10_a_air                     19438 non-null  float64\n",
      " 54  rougher.state.floatbank10_a_level                   19438 non-null  float64\n",
      " 55  rougher.state.floatbank10_b_air                     19438 non-null  float64\n",
      " 56  rougher.state.floatbank10_b_level                   19438 non-null  float64\n",
      " 57  rougher.state.floatbank10_c_air                     19438 non-null  float64\n",
      " 58  rougher.state.floatbank10_c_level                   19438 non-null  float64\n",
      " 59  rougher.state.floatbank10_d_air                     19439 non-null  float64\n",
      " 60  rougher.state.floatbank10_d_level                   19439 non-null  float64\n",
      " 61  rougher.state.floatbank10_e_air                     19003 non-null  float64\n",
      " 62  rougher.state.floatbank10_e_level                   19439 non-null  float64\n",
      " 63  rougher.state.floatbank10_f_air                     19439 non-null  float64\n",
      " 64  rougher.state.floatbank10_f_level                   19439 non-null  float64\n",
      " 65  secondary_cleaner.output.tail_ag                    19437 non-null  float64\n",
      " 66  secondary_cleaner.output.tail_pb                    19427 non-null  float64\n",
      " 67  secondary_cleaner.output.tail_sol                   17691 non-null  float64\n",
      " 68  secondary_cleaner.output.tail_au                    19439 non-null  float64\n",
      " 69  secondary_cleaner.state.floatbank2_a_air            19219 non-null  float64\n",
      " 70  secondary_cleaner.state.floatbank2_a_level          19438 non-null  float64\n",
      " 71  secondary_cleaner.state.floatbank2_b_air            19416 non-null  float64\n",
      " 72  secondary_cleaner.state.floatbank2_b_level          19438 non-null  float64\n",
      " 73  secondary_cleaner.state.floatbank3_a_air            19426 non-null  float64\n",
      " 74  secondary_cleaner.state.floatbank3_a_level          19438 non-null  float64\n",
      " 75  secondary_cleaner.state.floatbank3_b_air            19438 non-null  float64\n",
      " 76  secondary_cleaner.state.floatbank3_b_level          19438 non-null  float64\n",
      " 77  secondary_cleaner.state.floatbank4_a_air            19433 non-null  float64\n",
      " 78  secondary_cleaner.state.floatbank4_a_level          19438 non-null  float64\n",
      " 79  secondary_cleaner.state.floatbank4_b_air            19438 non-null  float64\n",
      " 80  secondary_cleaner.state.floatbank4_b_level          19438 non-null  float64\n",
      " 81  secondary_cleaner.state.floatbank5_a_air            19438 non-null  float64\n",
      " 82  secondary_cleaner.state.floatbank5_a_level          19438 non-null  float64\n",
      " 83  secondary_cleaner.state.floatbank5_b_air            19438 non-null  float64\n",
      " 84  secondary_cleaner.state.floatbank5_b_level          19438 non-null  float64\n",
      " 85  secondary_cleaner.state.floatbank6_a_air            19437 non-null  float64\n",
      " 86  secondary_cleaner.state.floatbank6_a_level          19438 non-null  float64\n",
      "dtypes: float64(86), object(1)\n",
      "memory usage: 12.9+ MB\n",
      "None None None\n"
     ]
    }
   ],
   "source": [
    "# Загружаем файлы \n",
    "df_train, df_test, df_full = (pd.read_csv('/datasets/gold_recovery_train_new.csv'), \n",
    "                              pd.read_csv('/datasets/gold_recovery_test_new.csv'), \n",
    "                              pd.read_csv('/datasets/gold_recovery_full_new.csv'))\n",
    "\n",
    "# Смотрим общую информацию о таблице\n",
    "print(df_train.info(), df_test.info(), df_full.info())"
   ]
  },
  {
   "cell_type": "code",
   "execution_count": 4,
   "metadata": {},
   "outputs": [
    {
     "ename": "NameError",
     "evalue": "name 'ProfileReport' is not defined",
     "output_type": "error",
     "traceback": [
      "\u001b[0;31m---------------------------------------------------------------------------\u001b[0m",
      "\u001b[0;31mNameError\u001b[0m                                 Traceback (most recent call last)",
      "\u001b[0;32m/tmp/ipykernel_68/2826023377.py\u001b[0m in \u001b[0;36m<module>\u001b[0;34m\u001b[0m\n\u001b[1;32m      1\u001b[0m \u001b[0;31m# Изучим данные по тренировочной выборке\u001b[0m\u001b[0;34m\u001b[0m\u001b[0;34m\u001b[0m\u001b[0;34m\u001b[0m\u001b[0m\n\u001b[0;32m----> 2\u001b[0;31m \u001b[0mprofile\u001b[0m \u001b[0;34m=\u001b[0m \u001b[0mProfileReport\u001b[0m\u001b[0;34m(\u001b[0m\u001b[0mdf_train\u001b[0m\u001b[0;34m)\u001b[0m\u001b[0;34m\u001b[0m\u001b[0;34m\u001b[0m\u001b[0m\n\u001b[0m\u001b[1;32m      3\u001b[0m \u001b[0mprofile\u001b[0m\u001b[0;34m\u001b[0m\u001b[0;34m\u001b[0m\u001b[0m\n",
      "\u001b[0;31mNameError\u001b[0m: name 'ProfileReport' is not defined"
     ]
    }
   ],
   "source": [
    "# Изучим данные по тренировочной выборке\n",
    "profile = ProfileReport(df_train)\n",
    "profile"
   ]
  },
  {
   "cell_type": "code",
   "execution_count": null,
   "metadata": {},
   "outputs": [],
   "source": [
    "# Изучим данные по тестовой выборке\n",
    "profile = ProfileReport(df_test)\n",
    "profile"
   ]
  },
  {
   "cell_type": "code",
   "execution_count": null,
   "metadata": {},
   "outputs": [],
   "source": [
    "# Изучим данные по полной выборке\n",
    "profile = ProfileReport(df_full)\n",
    "profile"
   ]
  },
  {
   "cell_type": "markdown",
   "metadata": {},
   "source": [
    "###  Проверка правильности расчета эффективности обогащения."
   ]
  },
  {
   "attachments": {
    "Recovery_1576238822.jpg": {
     "image/jpeg": "[encoded data removed]"
    }
   },
   "cell_type": "markdown",
   "metadata": {},
   "source": [
    "Расчёт эффективности\n",
    "\n",
    "![Recovery_1576238822.jpg](attachment:Recovery_1576238822.jpg)\n",
    "\n",
    "где:\n",
    "C — доля золота в концентрате после флотации/очистки;\n",
    "\n",
    "F — доля золота в сырье/концентрате до флотации/очистки;\n",
    "\n",
    "T — доля золота в отвальных хвостах после флотации/очистки."
   ]
  },
  {
   "cell_type": "code",
   "execution_count": 6,
   "metadata": {},
   "outputs": [],
   "source": [
    "# Создадим функцию для расчета эввективности по предоставленной в формуле\n",
    "def effectiveness(C, F, T):\n",
    "    recovery = ((C*(F-T))/(F*(C-T)))*100\n",
    "    return recovery"
   ]
  },
  {
   "cell_type": "code",
   "execution_count": 7,
   "metadata": {},
   "outputs": [
    {
     "name": "stdout",
     "output_type": "stream",
     "text": [
      "<class 'pandas.core.frame.DataFrame'>\n",
      "RangeIndex: 14149 entries, 0 to 14148\n",
      "Data columns (total 4 columns):\n",
      " #   Column                         Non-Null Count  Dtype  \n",
      "---  ------                         --------------  -----  \n",
      " 0   rougher.output.concentrate_au  14149 non-null  float64\n",
      " 1   rougher.input.feed_au          14149 non-null  float64\n",
      " 2   rougher.output.tail_au         14149 non-null  float64\n",
      " 3   rougher.output.recovery        14149 non-null  float64\n",
      "dtypes: float64(4)\n",
      "memory usage: 442.3 KB\n"
     ]
    }
   ],
   "source": [
    "# Перед применением расчета эффективности проверим наличие пустых ячеек в столбцах, применяемых в расчете\n",
    "df_train[['rougher.output.concentrate_au',  'rougher.input.feed_au', 'rougher.output.tail_au', 'rougher.output.recovery']].info()"
   ]
  },
  {
   "cell_type": "code",
   "execution_count": 8,
   "metadata": {},
   "outputs": [],
   "source": [
    "# Убедившись, что в данных нет пропусков, применим фунцию\n",
    "df_train['сalculation_efficiency'] = effectiveness(df_train['rougher.output.concentrate_au'],\n",
    "                                                    df_train['rougher.input.feed_au'],\n",
    "                                                    df_train['rougher.output.tail_au'])"
   ]
  },
  {
   "cell_type": "code",
   "execution_count": 9,
   "metadata": {},
   "outputs": [
    {
     "data": {
      "text/plain": [
       "9.73512347450521e-15"
      ]
     },
     "execution_count": 9,
     "metadata": {},
     "output_type": "execute_result"
    }
   ],
   "source": [
    "mean_absolute_error(df_train['rougher.output.recovery'], df_train['сalculation_efficiency'])"
   ]
  },
  {
   "cell_type": "markdown",
   "metadata": {},
   "source": [
    "Из полученного значения можно сделать вывод - между расчётами и значением признака разница практически отсутствует, что говорит о том.что параметр rougher.output.recovery расчитан правильно"
   ]
  },
  {
   "cell_type": "markdown",
   "metadata": {},
   "source": [
    "### Анализ признаков, недоступных в тестовой выборке."
   ]
  },
  {
   "cell_type": "code",
   "execution_count": 10,
   "metadata": {},
   "outputs": [
    {
     "data": {
      "text/plain": [
       "['final.output.concentrate_ag',\n",
       " 'final.output.concentrate_au',\n",
       " 'final.output.concentrate_pb',\n",
       " 'final.output.concentrate_sol',\n",
       " 'final.output.recovery',\n",
       " 'final.output.tail_ag',\n",
       " 'final.output.tail_au',\n",
       " 'final.output.tail_pb',\n",
       " 'final.output.tail_sol',\n",
       " 'primary_cleaner.output.concentrate_ag',\n",
       " 'primary_cleaner.output.concentrate_au',\n",
       " 'primary_cleaner.output.concentrate_pb',\n",
       " 'primary_cleaner.output.concentrate_sol',\n",
       " 'primary_cleaner.output.tail_ag',\n",
       " 'primary_cleaner.output.tail_au',\n",
       " 'primary_cleaner.output.tail_pb',\n",
       " 'primary_cleaner.output.tail_sol',\n",
       " 'rougher.calculation.au_pb_ratio',\n",
       " 'rougher.calculation.floatbank10_sulfate_to_au_feed',\n",
       " 'rougher.calculation.floatbank11_sulfate_to_au_feed',\n",
       " 'rougher.calculation.sulfate_to_au_concentrate',\n",
       " 'rougher.output.concentrate_ag',\n",
       " 'rougher.output.concentrate_au',\n",
       " 'rougher.output.concentrate_pb',\n",
       " 'rougher.output.concentrate_sol',\n",
       " 'rougher.output.recovery',\n",
       " 'rougher.output.tail_ag',\n",
       " 'rougher.output.tail_au',\n",
       " 'rougher.output.tail_pb',\n",
       " 'rougher.output.tail_sol',\n",
       " 'secondary_cleaner.output.tail_ag',\n",
       " 'secondary_cleaner.output.tail_au',\n",
       " 'secondary_cleaner.output.tail_pb',\n",
       " 'secondary_cleaner.output.tail_sol',\n",
       " 'сalculation_efficiency']"
      ]
     },
     "execution_count": 10,
     "metadata": {},
     "output_type": "execute_result"
    }
   ],
   "source": [
    "# Для проведения анализа сформируем список признаков, недоступных в тестовой выборке\n",
    "train_miss = list(set(df_train.columns.values.tolist())-set(df_test.columns.values.tolist()))\n",
    "\n",
    "# Выведем упорядоченный список\n",
    "sorted(train_miss)\n"
   ]
  },
  {
   "cell_type": "markdown",
   "metadata": {},
   "source": [
    "По полученным данным можно сделать вывод, что признаки, недоступные в тестовой выборке, включают в себя:\n",
    "- характеристики содержания Ag, Au, Pb, sol после прохождения стадий обработки, а также в хвостах обработок\n",
    "- расчетные показатели выхода продукта, а также числе сульфатов и соотношений"
   ]
  },
  {
   "cell_type": "markdown",
   "metadata": {},
   "source": [
    "### Предобработка данных"
   ]
  },
  {
   "cell_type": "markdown",
   "metadata": {},
   "source": [
    "#### Подготовка обучающей выборки - удаление лишних столбцов и заполнение пропусков "
   ]
  },
  {
   "cell_type": "code",
   "execution_count": 11,
   "metadata": {},
   "outputs": [
    {
     "data": {
      "text/plain": [
       "['date',\n",
       " 'primary_cleaner.input.sulfate',\n",
       " 'primary_cleaner.input.depressant',\n",
       " 'primary_cleaner.input.feed_size',\n",
       " 'primary_cleaner.input.xanthate',\n",
       " 'primary_cleaner.state.floatbank8_a_air',\n",
       " 'primary_cleaner.state.floatbank8_a_level',\n",
       " 'primary_cleaner.state.floatbank8_b_air',\n",
       " 'primary_cleaner.state.floatbank8_b_level',\n",
       " 'primary_cleaner.state.floatbank8_c_air',\n",
       " 'primary_cleaner.state.floatbank8_c_level',\n",
       " 'primary_cleaner.state.floatbank8_d_air',\n",
       " 'primary_cleaner.state.floatbank8_d_level',\n",
       " 'rougher.input.feed_ag',\n",
       " 'rougher.input.feed_pb',\n",
       " 'rougher.input.feed_rate',\n",
       " 'rougher.input.feed_size',\n",
       " 'rougher.input.feed_sol',\n",
       " 'rougher.input.feed_au',\n",
       " 'rougher.input.floatbank10_sulfate',\n",
       " 'rougher.input.floatbank10_xanthate',\n",
       " 'rougher.input.floatbank11_sulfate',\n",
       " 'rougher.input.floatbank11_xanthate',\n",
       " 'rougher.state.floatbank10_a_air',\n",
       " 'rougher.state.floatbank10_a_level',\n",
       " 'rougher.state.floatbank10_b_air',\n",
       " 'rougher.state.floatbank10_b_level',\n",
       " 'rougher.state.floatbank10_c_air',\n",
       " 'rougher.state.floatbank10_c_level',\n",
       " 'rougher.state.floatbank10_d_air',\n",
       " 'rougher.state.floatbank10_d_level',\n",
       " 'rougher.state.floatbank10_e_air',\n",
       " 'rougher.state.floatbank10_e_level',\n",
       " 'rougher.state.floatbank10_f_air',\n",
       " 'rougher.state.floatbank10_f_level',\n",
       " 'secondary_cleaner.state.floatbank2_a_air',\n",
       " 'secondary_cleaner.state.floatbank2_a_level',\n",
       " 'secondary_cleaner.state.floatbank2_b_air',\n",
       " 'secondary_cleaner.state.floatbank2_b_level',\n",
       " 'secondary_cleaner.state.floatbank3_a_air',\n",
       " 'secondary_cleaner.state.floatbank3_a_level',\n",
       " 'secondary_cleaner.state.floatbank3_b_air',\n",
       " 'secondary_cleaner.state.floatbank3_b_level',\n",
       " 'secondary_cleaner.state.floatbank4_a_air',\n",
       " 'secondary_cleaner.state.floatbank4_a_level',\n",
       " 'secondary_cleaner.state.floatbank4_b_air',\n",
       " 'secondary_cleaner.state.floatbank4_b_level',\n",
       " 'secondary_cleaner.state.floatbank5_a_air',\n",
       " 'secondary_cleaner.state.floatbank5_a_level',\n",
       " 'secondary_cleaner.state.floatbank5_b_air',\n",
       " 'secondary_cleaner.state.floatbank5_b_level',\n",
       " 'secondary_cleaner.state.floatbank6_a_air',\n",
       " 'secondary_cleaner.state.floatbank6_a_level',\n",
       " 'rougher.output.recovery',\n",
       " 'final.output.recovery']"
      ]
     },
     "execution_count": 11,
     "metadata": {},
     "output_type": "execute_result"
    }
   ],
   "source": [
    "# Создадим список столбцов, присутствующих в тестовой выборке\n",
    "test_columns = list(df_test.columns.values.tolist())\n",
    "\n",
    "# Добавим к ним rougher.output.recovery и final.output.recovery\n",
    "test_columns.extend(['rougher.output.recovery', 'final.output.recovery'])\n",
    "\n",
    "#Выведем результат\n",
    "test_columns"
   ]
  },
  {
   "cell_type": "code",
   "execution_count": 12,
   "metadata": {},
   "outputs": [],
   "source": [
    "# Создадим датафрейм с полученными колонками\n",
    "df_train_1 = df_train[test_columns]"
   ]
  },
  {
   "cell_type": "code",
   "execution_count": 13,
   "metadata": {},
   "outputs": [
    {
     "name": "stdout",
     "output_type": "stream",
     "text": [
      "<class 'pandas.core.frame.DataFrame'>\n",
      "RangeIndex: 14149 entries, 0 to 14148\n",
      "Data columns (total 55 columns):\n",
      " #   Column                                      Non-Null Count  Dtype  \n",
      "---  ------                                      --------------  -----  \n",
      " 0   date                                        14149 non-null  object \n",
      " 1   primary_cleaner.input.sulfate               14149 non-null  float64\n",
      " 2   primary_cleaner.input.depressant            14149 non-null  float64\n",
      " 3   primary_cleaner.input.feed_size             14149 non-null  float64\n",
      " 4   primary_cleaner.input.xanthate              14149 non-null  float64\n",
      " 5   primary_cleaner.state.floatbank8_a_air      14149 non-null  float64\n",
      " 6   primary_cleaner.state.floatbank8_a_level    14149 non-null  float64\n",
      " 7   primary_cleaner.state.floatbank8_b_air      14149 non-null  float64\n",
      " 8   primary_cleaner.state.floatbank8_b_level    14149 non-null  float64\n",
      " 9   primary_cleaner.state.floatbank8_c_air      14149 non-null  float64\n",
      " 10  primary_cleaner.state.floatbank8_c_level    14149 non-null  float64\n",
      " 11  primary_cleaner.state.floatbank8_d_air      14149 non-null  float64\n",
      " 12  primary_cleaner.state.floatbank8_d_level    14149 non-null  float64\n",
      " 13  rougher.input.feed_ag                       14149 non-null  float64\n",
      " 14  rougher.input.feed_pb                       14149 non-null  float64\n",
      " 15  rougher.input.feed_rate                     14149 non-null  float64\n",
      " 16  rougher.input.feed_size                     14149 non-null  float64\n",
      " 17  rougher.input.feed_sol                      14149 non-null  float64\n",
      " 18  rougher.input.feed_au                       14149 non-null  float64\n",
      " 19  rougher.input.floatbank10_sulfate           14149 non-null  float64\n",
      " 20  rougher.input.floatbank10_xanthate          14149 non-null  float64\n",
      " 21  rougher.input.floatbank11_sulfate           14149 non-null  float64\n",
      " 22  rougher.input.floatbank11_xanthate          14149 non-null  float64\n",
      " 23  rougher.state.floatbank10_a_air             14149 non-null  float64\n",
      " 24  rougher.state.floatbank10_a_level           14149 non-null  float64\n",
      " 25  rougher.state.floatbank10_b_air             14149 non-null  float64\n",
      " 26  rougher.state.floatbank10_b_level           14149 non-null  float64\n",
      " 27  rougher.state.floatbank10_c_air             14149 non-null  float64\n",
      " 28  rougher.state.floatbank10_c_level           14149 non-null  float64\n",
      " 29  rougher.state.floatbank10_d_air             14149 non-null  float64\n",
      " 30  rougher.state.floatbank10_d_level           14149 non-null  float64\n",
      " 31  rougher.state.floatbank10_e_air             14149 non-null  float64\n",
      " 32  rougher.state.floatbank10_e_level           14149 non-null  float64\n",
      " 33  rougher.state.floatbank10_f_air             14149 non-null  float64\n",
      " 34  rougher.state.floatbank10_f_level           14149 non-null  float64\n",
      " 35  secondary_cleaner.state.floatbank2_a_air    14149 non-null  float64\n",
      " 36  secondary_cleaner.state.floatbank2_a_level  14149 non-null  float64\n",
      " 37  secondary_cleaner.state.floatbank2_b_air    14149 non-null  float64\n",
      " 38  secondary_cleaner.state.floatbank2_b_level  14149 non-null  float64\n",
      " 39  secondary_cleaner.state.floatbank3_a_air    14149 non-null  float64\n",
      " 40  secondary_cleaner.state.floatbank3_a_level  14149 non-null  float64\n",
      " 41  secondary_cleaner.state.floatbank3_b_air    14149 non-null  float64\n",
      " 42  secondary_cleaner.state.floatbank3_b_level  14149 non-null  float64\n",
      " 43  secondary_cleaner.state.floatbank4_a_air    14149 non-null  float64\n",
      " 44  secondary_cleaner.state.floatbank4_a_level  14149 non-null  float64\n",
      " 45  secondary_cleaner.state.floatbank4_b_air    14149 non-null  float64\n",
      " 46  secondary_cleaner.state.floatbank4_b_level  14149 non-null  float64\n",
      " 47  secondary_cleaner.state.floatbank5_a_air    14149 non-null  float64\n",
      " 48  secondary_cleaner.state.floatbank5_a_level  14149 non-null  float64\n",
      " 49  secondary_cleaner.state.floatbank5_b_air    14149 non-null  float64\n",
      " 50  secondary_cleaner.state.floatbank5_b_level  14149 non-null  float64\n",
      " 51  secondary_cleaner.state.floatbank6_a_air    14149 non-null  float64\n",
      " 52  secondary_cleaner.state.floatbank6_a_level  14149 non-null  float64\n",
      " 53  rougher.output.recovery                     14149 non-null  float64\n",
      " 54  final.output.recovery                       14149 non-null  float64\n",
      "dtypes: float64(54), object(1)\n",
      "memory usage: 5.9+ MB\n"
     ]
    },
    {
     "name": "stderr",
     "output_type": "stream",
     "text": [
      "/opt/conda/lib/python3.9/site-packages/pandas/core/frame.py:4462: SettingWithCopyWarning: \n",
      "A value is trying to be set on a copy of a slice from a DataFrame\n",
      "\n",
      "See the caveats in the documentation: https://pandas.pydata.org/pandas-docs/stable/user_guide/indexing.html#returning-a-view-versus-a-copy\n",
      "  return super().fillna(\n"
     ]
    }
   ],
   "source": [
    "# Учитывая, что в задании указано, что соседние по времени параметры часто похожи, заполним пропуски методом ffill\n",
    "df_train_1.fillna(method='ffill', inplace=True)\n",
    "\n",
    "# Проверим результат\n",
    "df_train_1.info()"
   ]
  },
  {
   "cell_type": "markdown",
   "metadata": {},
   "source": [
    "#### Подготовка тестовой выборки - добавление недостающих столбцов и заполнение пропусков "
   ]
  },
  {
   "cell_type": "code",
   "execution_count": 14,
   "metadata": {
    "scrolled": false
   },
   "outputs": [
    {
     "name": "stdout",
     "output_type": "stream",
     "text": [
      "<class 'pandas.core.frame.DataFrame'>\n",
      "Int64Index: 5290 entries, 0 to 5289\n",
      "Data columns (total 55 columns):\n",
      " #   Column                                      Non-Null Count  Dtype  \n",
      "---  ------                                      --------------  -----  \n",
      " 0   date                                        5290 non-null   object \n",
      " 1   primary_cleaner.input.sulfate               5286 non-null   float64\n",
      " 2   primary_cleaner.input.depressant            5285 non-null   float64\n",
      " 3   primary_cleaner.input.feed_size             5290 non-null   float64\n",
      " 4   primary_cleaner.input.xanthate              5286 non-null   float64\n",
      " 5   primary_cleaner.state.floatbank8_a_air      5290 non-null   float64\n",
      " 6   primary_cleaner.state.floatbank8_a_level    5290 non-null   float64\n",
      " 7   primary_cleaner.state.floatbank8_b_air      5290 non-null   float64\n",
      " 8   primary_cleaner.state.floatbank8_b_level    5290 non-null   float64\n",
      " 9   primary_cleaner.state.floatbank8_c_air      5290 non-null   float64\n",
      " 10  primary_cleaner.state.floatbank8_c_level    5290 non-null   float64\n",
      " 11  primary_cleaner.state.floatbank8_d_air      5290 non-null   float64\n",
      " 12  primary_cleaner.state.floatbank8_d_level    5290 non-null   float64\n",
      " 13  rougher.input.feed_ag                       5290 non-null   float64\n",
      " 14  rougher.input.feed_pb                       5290 non-null   float64\n",
      " 15  rougher.input.feed_rate                     5287 non-null   float64\n",
      " 16  rougher.input.feed_size                     5289 non-null   float64\n",
      " 17  rougher.input.feed_sol                      5269 non-null   float64\n",
      " 18  rougher.input.feed_au                       5290 non-null   float64\n",
      " 19  rougher.input.floatbank10_sulfate           5285 non-null   float64\n",
      " 20  rougher.input.floatbank10_xanthate          5290 non-null   float64\n",
      " 21  rougher.input.floatbank11_sulfate           5282 non-null   float64\n",
      " 22  rougher.input.floatbank11_xanthate          5265 non-null   float64\n",
      " 23  rougher.state.floatbank10_a_air             5290 non-null   float64\n",
      " 24  rougher.state.floatbank10_a_level           5290 non-null   float64\n",
      " 25  rougher.state.floatbank10_b_air             5290 non-null   float64\n",
      " 26  rougher.state.floatbank10_b_level           5290 non-null   float64\n",
      " 27  rougher.state.floatbank10_c_air             5290 non-null   float64\n",
      " 28  rougher.state.floatbank10_c_level           5290 non-null   float64\n",
      " 29  rougher.state.floatbank10_d_air             5290 non-null   float64\n",
      " 30  rougher.state.floatbank10_d_level           5290 non-null   float64\n",
      " 31  rougher.state.floatbank10_e_air             5290 non-null   float64\n",
      " 32  rougher.state.floatbank10_e_level           5290 non-null   float64\n",
      " 33  rougher.state.floatbank10_f_air             5290 non-null   float64\n",
      " 34  rougher.state.floatbank10_f_level           5290 non-null   float64\n",
      " 35  secondary_cleaner.state.floatbank2_a_air    5287 non-null   float64\n",
      " 36  secondary_cleaner.state.floatbank2_a_level  5290 non-null   float64\n",
      " 37  secondary_cleaner.state.floatbank2_b_air    5288 non-null   float64\n",
      " 38  secondary_cleaner.state.floatbank2_b_level  5290 non-null   float64\n",
      " 39  secondary_cleaner.state.floatbank3_a_air    5281 non-null   float64\n",
      " 40  secondary_cleaner.state.floatbank3_a_level  5290 non-null   float64\n",
      " 41  secondary_cleaner.state.floatbank3_b_air    5290 non-null   float64\n",
      " 42  secondary_cleaner.state.floatbank3_b_level  5290 non-null   float64\n",
      " 43  secondary_cleaner.state.floatbank4_a_air    5290 non-null   float64\n",
      " 44  secondary_cleaner.state.floatbank4_a_level  5290 non-null   float64\n",
      " 45  secondary_cleaner.state.floatbank4_b_air    5290 non-null   float64\n",
      " 46  secondary_cleaner.state.floatbank4_b_level  5290 non-null   float64\n",
      " 47  secondary_cleaner.state.floatbank5_a_air    5290 non-null   float64\n",
      " 48  secondary_cleaner.state.floatbank5_a_level  5290 non-null   float64\n",
      " 49  secondary_cleaner.state.floatbank5_b_air    5290 non-null   float64\n",
      " 50  secondary_cleaner.state.floatbank5_b_level  5290 non-null   float64\n",
      " 51  secondary_cleaner.state.floatbank6_a_air    5290 non-null   float64\n",
      " 52  secondary_cleaner.state.floatbank6_a_level  5290 non-null   float64\n",
      " 53  rougher.output.recovery                     5290 non-null   float64\n",
      " 54  final.output.recovery                       5290 non-null   float64\n",
      "dtypes: float64(54), object(1)\n",
      "memory usage: 2.3+ MB\n"
     ]
    }
   ],
   "source": [
    "# Добавим в тестовую выборку недостающие колонки\n",
    "df_test_1 = df_test.merge(df_full[['date', 'rougher.output.recovery', 'final.output.recovery']], on = 'date')\n",
    "\n",
    "# Проверим результат\n",
    "df_test_1.info()"
   ]
  },
  {
   "cell_type": "code",
   "execution_count": 15,
   "metadata": {},
   "outputs": [
    {
     "name": "stdout",
     "output_type": "stream",
     "text": [
      "<class 'pandas.core.frame.DataFrame'>\n",
      "Int64Index: 5290 entries, 0 to 5289\n",
      "Data columns (total 55 columns):\n",
      " #   Column                                      Non-Null Count  Dtype  \n",
      "---  ------                                      --------------  -----  \n",
      " 0   date                                        5290 non-null   object \n",
      " 1   primary_cleaner.input.sulfate               5290 non-null   float64\n",
      " 2   primary_cleaner.input.depressant            5290 non-null   float64\n",
      " 3   primary_cleaner.input.feed_size             5290 non-null   float64\n",
      " 4   primary_cleaner.input.xanthate              5290 non-null   float64\n",
      " 5   primary_cleaner.state.floatbank8_a_air      5290 non-null   float64\n",
      " 6   primary_cleaner.state.floatbank8_a_level    5290 non-null   float64\n",
      " 7   primary_cleaner.state.floatbank8_b_air      5290 non-null   float64\n",
      " 8   primary_cleaner.state.floatbank8_b_level    5290 non-null   float64\n",
      " 9   primary_cleaner.state.floatbank8_c_air      5290 non-null   float64\n",
      " 10  primary_cleaner.state.floatbank8_c_level    5290 non-null   float64\n",
      " 11  primary_cleaner.state.floatbank8_d_air      5290 non-null   float64\n",
      " 12  primary_cleaner.state.floatbank8_d_level    5290 non-null   float64\n",
      " 13  rougher.input.feed_ag                       5290 non-null   float64\n",
      " 14  rougher.input.feed_pb                       5290 non-null   float64\n",
      " 15  rougher.input.feed_rate                     5290 non-null   float64\n",
      " 16  rougher.input.feed_size                     5290 non-null   float64\n",
      " 17  rougher.input.feed_sol                      5290 non-null   float64\n",
      " 18  rougher.input.feed_au                       5290 non-null   float64\n",
      " 19  rougher.input.floatbank10_sulfate           5290 non-null   float64\n",
      " 20  rougher.input.floatbank10_xanthate          5290 non-null   float64\n",
      " 21  rougher.input.floatbank11_sulfate           5290 non-null   float64\n",
      " 22  rougher.input.floatbank11_xanthate          5290 non-null   float64\n",
      " 23  rougher.state.floatbank10_a_air             5290 non-null   float64\n",
      " 24  rougher.state.floatbank10_a_level           5290 non-null   float64\n",
      " 25  rougher.state.floatbank10_b_air             5290 non-null   float64\n",
      " 26  rougher.state.floatbank10_b_level           5290 non-null   float64\n",
      " 27  rougher.state.floatbank10_c_air             5290 non-null   float64\n",
      " 28  rougher.state.floatbank10_c_level           5290 non-null   float64\n",
      " 29  rougher.state.floatbank10_d_air             5290 non-null   float64\n",
      " 30  rougher.state.floatbank10_d_level           5290 non-null   float64\n",
      " 31  rougher.state.floatbank10_e_air             5290 non-null   float64\n",
      " 32  rougher.state.floatbank10_e_level           5290 non-null   float64\n",
      " 33  rougher.state.floatbank10_f_air             5290 non-null   float64\n",
      " 34  rougher.state.floatbank10_f_level           5290 non-null   float64\n",
      " 35  secondary_cleaner.state.floatbank2_a_air    5290 non-null   float64\n",
      " 36  secondary_cleaner.state.floatbank2_a_level  5290 non-null   float64\n",
      " 37  secondary_cleaner.state.floatbank2_b_air    5290 non-null   float64\n",
      " 38  secondary_cleaner.state.floatbank2_b_level  5290 non-null   float64\n",
      " 39  secondary_cleaner.state.floatbank3_a_air    5290 non-null   float64\n",
      " 40  secondary_cleaner.state.floatbank3_a_level  5290 non-null   float64\n",
      " 41  secondary_cleaner.state.floatbank3_b_air    5290 non-null   float64\n",
      " 42  secondary_cleaner.state.floatbank3_b_level  5290 non-null   float64\n",
      " 43  secondary_cleaner.state.floatbank4_a_air    5290 non-null   float64\n",
      " 44  secondary_cleaner.state.floatbank4_a_level  5290 non-null   float64\n",
      " 45  secondary_cleaner.state.floatbank4_b_air    5290 non-null   float64\n",
      " 46  secondary_cleaner.state.floatbank4_b_level  5290 non-null   float64\n",
      " 47  secondary_cleaner.state.floatbank5_a_air    5290 non-null   float64\n",
      " 48  secondary_cleaner.state.floatbank5_a_level  5290 non-null   float64\n",
      " 49  secondary_cleaner.state.floatbank5_b_air    5290 non-null   float64\n",
      " 50  secondary_cleaner.state.floatbank5_b_level  5290 non-null   float64\n",
      " 51  secondary_cleaner.state.floatbank6_a_air    5290 non-null   float64\n",
      " 52  secondary_cleaner.state.floatbank6_a_level  5290 non-null   float64\n",
      " 53  rougher.output.recovery                     5290 non-null   float64\n",
      " 54  final.output.recovery                       5290 non-null   float64\n",
      "dtypes: float64(54), object(1)\n",
      "memory usage: 2.3+ MB\n"
     ]
    }
   ],
   "source": [
    "# Учитывая, что в задании указано, что соседние по времени параметры часто похожи, заполним пропуски методом ffill\n",
    "df_test_1.fillna(method='ffill', inplace=True)\n",
    "\n",
    "# Проверим результат\n",
    "df_test_1.info()"
   ]
  },
  {
   "cell_type": "markdown",
   "metadata": {},
   "source": [
    "### Выводы по разделу"
   ]
  },
  {
   "cell_type": "markdown",
   "metadata": {},
   "source": [
    "Провели проверку расчёта признака эффективность обогащения (rougher.output.recovery) - учитывая полученный результат можно сказать, что параметр rougher.output.recovery, приведенный в датафрейме, расчитан правильно\n",
    "Определили признаки, недоступные в тестовой выборке:\n",
    "- характеристики содержания Ag, Au, Pb, sol после прохождения стадий обработки, а также в хвостах обработок\n",
    "- расчетные показатели выхода продукта, а также числе сульфатов и соотношений\n",
    "\n",
    "Сформировали тренировочную и тестовую выборку для обучения модели.\n",
    "\n",
    "При заполнении пропусков, основываясь на указанное в задание небольшое различие параметров, применили метод заполнения по предыдущему значению."
   ]
  },
  {
   "cell_type": "markdown",
   "metadata": {},
   "source": [
    "## Анализ данных"
   ]
  },
  {
   "cell_type": "markdown",
   "metadata": {},
   "source": [
    "### Сравнение концентрации металлов (Au, Ag, Pb) на различных этапах очистки."
   ]
  },
  {
   "cell_type": "code",
   "execution_count": 16,
   "metadata": {
    "scrolled": true
   },
   "outputs": [],
   "source": [
    "# Создадим функцию для построения \"ящиков с усами\"\n",
    "def boxplotting (rou_input, rou_output, primary, final, heading):\n",
    "    # Размер графика\n",
    "    fig = plt.gcf()\n",
    "    fig.set_size_inches(15, 8)\n",
    "\n",
    "    boxplot = sns.boxplot( data=df_full[[rou_input, rou_output, primary, final]])\n",
    "    boxplot.set_title(heading, fontsize=14)\n",
    "    boxplot.set_xlabel('Этапы обработки', fontsize=14)\n",
    "    boxplot.set_ylabel('Концентрация', fontsize=14)\n",
    "    #boxplot.legend(['Исходное сырье','Флотация','Первичная очистка', 'Вторичная очистка'])\n",
    "\n"
   ]
  },
  {
   "cell_type": "code",
   "execution_count": 17,
   "metadata": {
    "scrolled": true
   },
   "outputs": [
    {
     "data": {
      "image/png": "[encoded data removed]",
      "text/plain": [
       "<Figure size 1080x576 with 1 Axes>"
      ]
     },
     "metadata": {
      "needs_background": "light"
     },
     "output_type": "display_data"
    }
   ],
   "source": [
    "# Применим функцию для концентрации Au (золота)\n",
    "boxplotting('rougher.input.feed_au', 'rougher.output.concentrate_au', 'primary_cleaner.output.concentrate_au', 'final.output.concentrate_au', 'Золото')"
   ]
  },
  {
   "cell_type": "code",
   "execution_count": 18,
   "metadata": {},
   "outputs": [
    {
     "data": {
      "image/png": "[encoded data removed]",
      "text/plain": [
       "<Figure size 1080x576 with 1 Axes>"
      ]
     },
     "metadata": {
      "needs_background": "light"
     },
     "output_type": "display_data"
    }
   ],
   "source": [
    "# Применим функцию для концентрации Ag (серебра)\n",
    "boxplotting('rougher.input.feed_ag', 'rougher.output.concentrate_ag', 'primary_cleaner.output.concentrate_ag', 'final.output.concentrate_ag', 'Серебро')"
   ]
  },
  {
   "cell_type": "code",
   "execution_count": 19,
   "metadata": {
    "scrolled": true
   },
   "outputs": [
    {
     "data": {
      "image/png": "[encoded data removed]",
      "text/plain": [
       "<Figure size 1080x576 with 1 Axes>"
      ]
     },
     "metadata": {
      "needs_background": "light"
     },
     "output_type": "display_data"
    }
   ],
   "source": [
    "# Применим функцию для концентрации Pb (свинца)\n",
    "boxplotting('rougher.input.feed_pb', 'rougher.output.concentrate_pb', 'primary_cleaner.output.concentrate_pb', 'final.output.concentrate_pb', 'Свинец')"
   ]
  },
  {
   "cell_type": "markdown",
   "metadata": {},
   "source": [
    "Из построенных графиков видно:\n",
    "- концентрация золота растет, \n",
    "- концентрация серебра после флотации растет, затем начинает снижаться\n",
    "- концентрация свинца на этапах флотации и первичной очистки растет, после второй очистки незначительно снижается"
   ]
  },
  {
   "cell_type": "markdown",
   "metadata": {},
   "source": [
    "### Сравнение распределения размеров гранул сырья на обучающей и тестовой выборках."
   ]
  },
  {
   "cell_type": "code",
   "execution_count": 20,
   "metadata": {},
   "outputs": [],
   "source": [
    "# Создадим функцию для сравнения распределения размеров гранул сырья на обучающей и тестовой выборках.\n",
    "def distribution (distribution_itself, heading):\n",
    "    \n",
    "    # Сформируем сравнительную таблицу статистических показателей для тестовой и обучающей выборок\n",
    "    table = pd.concat([df_test_1[distribution_itself].describe(), \n",
    "              df_train_1[distribution_itself].describe()], axis=1).reset_index()\n",
    "    \n",
    "    # Выведем таблицу\n",
    "    display('Сравнительная таблица статистических показателей для тестовой и обучающей выборок', table)\n",
    "    \n",
    "    # Построим сравнительную гистограмму\n",
    "    ax = df_train_1.plot(kind= 'hist', y=distribution_itself, histtype='step', density=True, figsize=(10, 5),\n",
    "                          bins=30, label='На обучающей выборке', grid=True, legend=True, zorder=3, linewidth=3,  alpha=0.8)\n",
    "    df_test_1.plot(kind='hist', y=distribution_itself, histtype='step', ax=ax, density=True, figsize=(10, 5), color='r',\n",
    "                   bins=30, label='На тестовой выборке', grid=True, legend=True, zorder=3, linewidth=3, alpha=0.8)\n",
    "    plt.title(heading)\n",
    "    plt.ylabel('Частота')\n",
    "    plt.xlabel('Размер гранул')\n",
    "    plt.show\n",
    "    "
   ]
  },
  {
   "cell_type": "code",
   "execution_count": 42,
   "metadata": {},
   "outputs": [],
   "source": [
    "#КОД РЕВЬЮЕРА\n",
    "distribution_itself = 'rougher.input.feed_size'\n",
    "\n",
    "table = pd.concat([df_test_1[distribution_itself].describe(), \n",
    "              df_train_1[distribution_itself].describe()], axis=1).reset_index()\n",
    "table.columns = ['index', 'test_feed_size', 'train_feed_size']    "
   ]
  },
  {
   "cell_type": "code",
   "execution_count": 43,
   "metadata": {},
   "outputs": [
    {
     "data": {
      "text/html": [
       "<div>\n",
       "<style scoped>\n",
       "    .dataframe tbody tr th:only-of-type {\n",
       "        vertical-align: middle;\n",
       "    }\n",
       "\n",
       "    .dataframe tbody tr th {\n",
       "        vertical-align: top;\n",
       "    }\n",
       "\n",
       "    .dataframe thead th {\n",
       "        text-align: right;\n",
       "    }\n",
       "</style>\n",
       "<table border=\"1\" class=\"dataframe\">\n",
       "  <thead>\n",
       "    <tr style=\"text-align: right;\">\n",
       "      <th></th>\n",
       "      <th>index</th>\n",
       "      <th>test_feed_size</th>\n",
       "      <th>train_feed_size</th>\n",
       "    </tr>\n",
       "  </thead>\n",
       "  <tbody>\n",
       "    <tr>\n",
       "      <th>0</th>\n",
       "      <td>count</td>\n",
       "      <td>5290.0</td>\n",
       "      <td>14149.0</td>\n",
       "    </tr>\n",
       "    <tr>\n",
       "      <th>1</th>\n",
       "      <td>mean</td>\n",
       "      <td>55.952754</td>\n",
       "      <td>60.239856</td>\n",
       "    </tr>\n",
       "    <tr>\n",
       "      <th>2</th>\n",
       "      <td>std</td>\n",
       "      <td>19.080334</td>\n",
       "      <td>23.00531</td>\n",
       "    </tr>\n",
       "    <tr>\n",
       "      <th>3</th>\n",
       "      <td>min</td>\n",
       "      <td>0.046369</td>\n",
       "      <td>9.659576</td>\n",
       "    </tr>\n",
       "    <tr>\n",
       "      <th>4</th>\n",
       "      <td>25%</td>\n",
       "      <td>43.906504</td>\n",
       "      <td>48.966751</td>\n",
       "    </tr>\n",
       "    <tr>\n",
       "      <th>5</th>\n",
       "      <td>50%</td>\n",
       "      <td>50.846843</td>\n",
       "      <td>55.269784</td>\n",
       "    </tr>\n",
       "    <tr>\n",
       "      <th>6</th>\n",
       "      <td>75%</td>\n",
       "      <td>62.451165</td>\n",
       "      <td>66.007526</td>\n",
       "    </tr>\n",
       "    <tr>\n",
       "      <th>7</th>\n",
       "      <td>max</td>\n",
       "      <td>392.49404</td>\n",
       "      <td>484.967466</td>\n",
       "    </tr>\n",
       "    <tr>\n",
       "      <th>8</th>\n",
       "      <td>primer</td>\n",
       "      <td>Как-то</td>\n",
       "      <td>так</td>\n",
       "    </tr>\n",
       "  </tbody>\n",
       "</table>\n",
       "</div>"
      ],
      "text/plain": [
       "    index test_feed_size train_feed_size\n",
       "0   count         5290.0         14149.0\n",
       "1    mean      55.952754       60.239856\n",
       "2     std      19.080334        23.00531\n",
       "3     min       0.046369        9.659576\n",
       "4     25%      43.906504       48.966751\n",
       "5     50%      50.846843       55.269784\n",
       "6     75%      62.451165       66.007526\n",
       "7     max      392.49404      484.967466\n",
       "8  primer         Как-то             так"
      ]
     },
     "execution_count": 43,
     "metadata": {},
     "output_type": "execute_result"
    }
   ],
   "source": [
    "#КОД РЕВЬЮЕРА\n",
    "new_row = {'index':'primer', 'test_feed_size':'Как-то', 'train_feed_size': 'так'}\n",
    "table.append(new_row, ignore_index=True)"
   ]
  },
  {
   "cell_type": "code",
   "execution_count": 19,
   "metadata": {},
   "outputs": [
    {
     "data": {
      "text/plain": [
       "'Сравнительная таблица статистических показателей для тестовой и обучающей выборок'"
      ]
     },
     "metadata": {},
     "output_type": "display_data"
    },
    {
     "data": {
      "text/html": [
       "<div>\n",
       "<style scoped>\n",
       "    .dataframe tbody tr th:only-of-type {\n",
       "        vertical-align: middle;\n",
       "    }\n",
       "\n",
       "    .dataframe tbody tr th {\n",
       "        vertical-align: top;\n",
       "    }\n",
       "\n",
       "    .dataframe thead th {\n",
       "        text-align: right;\n",
       "    }\n",
       "</style>\n",
       "<table border=\"1\" class=\"dataframe\">\n",
       "  <thead>\n",
       "    <tr style=\"text-align: right;\">\n",
       "      <th></th>\n",
       "      <th>index</th>\n",
       "      <th>rougher.input.feed_size</th>\n",
       "      <th>rougher.input.feed_size</th>\n",
       "    </tr>\n",
       "  </thead>\n",
       "  <tbody>\n",
       "    <tr>\n",
       "      <th>0</th>\n",
       "      <td>count</td>\n",
       "      <td>5290.000000</td>\n",
       "      <td>14149.000000</td>\n",
       "    </tr>\n",
       "    <tr>\n",
       "      <th>1</th>\n",
       "      <td>mean</td>\n",
       "      <td>55.952754</td>\n",
       "      <td>60.239856</td>\n",
       "    </tr>\n",
       "    <tr>\n",
       "      <th>2</th>\n",
       "      <td>std</td>\n",
       "      <td>19.080334</td>\n",
       "      <td>23.005310</td>\n",
       "    </tr>\n",
       "    <tr>\n",
       "      <th>3</th>\n",
       "      <td>min</td>\n",
       "      <td>0.046369</td>\n",
       "      <td>9.659576</td>\n",
       "    </tr>\n",
       "    <tr>\n",
       "      <th>4</th>\n",
       "      <td>25%</td>\n",
       "      <td>43.906504</td>\n",
       "      <td>48.966751</td>\n",
       "    </tr>\n",
       "    <tr>\n",
       "      <th>5</th>\n",
       "      <td>50%</td>\n",
       "      <td>50.846843</td>\n",
       "      <td>55.269784</td>\n",
       "    </tr>\n",
       "    <tr>\n",
       "      <th>6</th>\n",
       "      <td>75%</td>\n",
       "      <td>62.451165</td>\n",
       "      <td>66.007526</td>\n",
       "    </tr>\n",
       "    <tr>\n",
       "      <th>7</th>\n",
       "      <td>max</td>\n",
       "      <td>392.494040</td>\n",
       "      <td>484.967466</td>\n",
       "    </tr>\n",
       "  </tbody>\n",
       "</table>\n",
       "</div>"
      ],
      "text/plain": [
       "   index  rougher.input.feed_size  rougher.input.feed_size\n",
       "0  count              5290.000000             14149.000000\n",
       "1   mean                55.952754                60.239856\n",
       "2    std                19.080334                23.005310\n",
       "3    min                 0.046369                 9.659576\n",
       "4    25%                43.906504                48.966751\n",
       "5    50%                50.846843                55.269784\n",
       "6    75%                62.451165                66.007526\n",
       "7    max               392.494040               484.967466"
      ]
     },
     "metadata": {},
     "output_type": "display_data"
    },
    {
     "data": {
      "image/png": "[encoded data removed]",
      "text/plain": [
       "<Figure size 720x360 with 1 Axes>"
      ]
     },
     "metadata": {
      "needs_background": "light"
     },
     "output_type": "display_data"
    }
   ],
   "source": [
    "# Применим функцию для распределения размера гранул перед флотацией\n",
    "distribution ('rougher.input.feed_size', 'Распределение размера гранул перед флотацией')"
   ]
  },
  {
   "cell_type": "code",
   "execution_count": 20,
   "metadata": {},
   "outputs": [
    {
     "data": {
      "text/plain": [
       "'Сравнительная таблица статистических показателей для тестовой и обучающей выборок'"
      ]
     },
     "metadata": {},
     "output_type": "display_data"
    },
    {
     "data": {
      "text/html": [
       "<div>\n",
       "<style scoped>\n",
       "    .dataframe tbody tr th:only-of-type {\n",
       "        vertical-align: middle;\n",
       "    }\n",
       "\n",
       "    .dataframe tbody tr th {\n",
       "        vertical-align: top;\n",
       "    }\n",
       "\n",
       "    .dataframe thead th {\n",
       "        text-align: right;\n",
       "    }\n",
       "</style>\n",
       "<table border=\"1\" class=\"dataframe\">\n",
       "  <thead>\n",
       "    <tr style=\"text-align: right;\">\n",
       "      <th></th>\n",
       "      <th>index</th>\n",
       "      <th>primary_cleaner.input.feed_size</th>\n",
       "      <th>primary_cleaner.input.feed_size</th>\n",
       "    </tr>\n",
       "  </thead>\n",
       "  <tbody>\n",
       "    <tr>\n",
       "      <th>0</th>\n",
       "      <td>count</td>\n",
       "      <td>5290.000000</td>\n",
       "      <td>14149.000000</td>\n",
       "    </tr>\n",
       "    <tr>\n",
       "      <th>1</th>\n",
       "      <td>mean</td>\n",
       "      <td>7.266339</td>\n",
       "      <td>7.322310</td>\n",
       "    </tr>\n",
       "    <tr>\n",
       "      <th>2</th>\n",
       "      <td>std</td>\n",
       "      <td>0.610219</td>\n",
       "      <td>0.614062</td>\n",
       "    </tr>\n",
       "    <tr>\n",
       "      <th>3</th>\n",
       "      <td>min</td>\n",
       "      <td>5.650000</td>\n",
       "      <td>1.080000</td>\n",
       "    </tr>\n",
       "    <tr>\n",
       "      <th>4</th>\n",
       "      <td>25%</td>\n",
       "      <td>6.890000</td>\n",
       "      <td>6.960000</td>\n",
       "    </tr>\n",
       "    <tr>\n",
       "      <th>5</th>\n",
       "      <td>50%</td>\n",
       "      <td>7.250000</td>\n",
       "      <td>7.290000</td>\n",
       "    </tr>\n",
       "    <tr>\n",
       "      <th>6</th>\n",
       "      <td>75%</td>\n",
       "      <td>7.600000</td>\n",
       "      <td>7.700000</td>\n",
       "    </tr>\n",
       "    <tr>\n",
       "      <th>7</th>\n",
       "      <td>max</td>\n",
       "      <td>15.500000</td>\n",
       "      <td>10.470000</td>\n",
       "    </tr>\n",
       "  </tbody>\n",
       "</table>\n",
       "</div>"
      ],
      "text/plain": [
       "   index  primary_cleaner.input.feed_size  primary_cleaner.input.feed_size\n",
       "0  count                      5290.000000                     14149.000000\n",
       "1   mean                         7.266339                         7.322310\n",
       "2    std                         0.610219                         0.614062\n",
       "3    min                         5.650000                         1.080000\n",
       "4    25%                         6.890000                         6.960000\n",
       "5    50%                         7.250000                         7.290000\n",
       "6    75%                         7.600000                         7.700000\n",
       "7    max                        15.500000                        10.470000"
      ]
     },
     "metadata": {},
     "output_type": "display_data"
    },
    {
     "data": {
      "image/png": "[encoded data removed]",
      "text/plain": [
       "<Figure size 720x360 with 1 Axes>"
      ]
     },
     "metadata": {
      "needs_background": "light"
     },
     "output_type": "display_data"
    }
   ],
   "source": [
    "# Применим функцию для распределения размера гранул перед первичной очисткой\n",
    "distribution ('primary_cleaner.input.feed_size', 'Распределение размера гранул перед первичной очисткой')"
   ]
  },
  {
   "cell_type": "markdown",
   "metadata": {},
   "source": [
    "Можно сделать вывод о том, что распределения для тестовой и обучающей выборок носят одинаковый характер и соответственно не повлияют на оценку модели"
   ]
  },
  {
   "cell_type": "markdown",
   "metadata": {},
   "source": [
    "### Исследование суммарной концентрации всех веществ на разных стадиях"
   ]
  },
  {
   "cell_type": "code",
   "execution_count": 21,
   "metadata": {},
   "outputs": [],
   "source": [
    "# Для удобства обработки создадаим колонки с суммированной концентрацией всех веществ на разных стадиях\n",
    "\n",
    "# До флотации\n",
    "df_full['rougher_input'] = df_full[['rougher.input.feed_au', 'rougher.input.feed_ag', 'rougher.input.feed_pb']].sum(axis=1)\n",
    "\n",
    "# После флотации\n",
    "df_full['rougher_output'] = df_full[['rougher.output.concentrate_au', \n",
    "                                            'rougher.output.concentrate_ag', \n",
    "                                            'rougher.output.concentrate_pb']].sum(axis=1)\n",
    "\n",
    "# После первичной очистки\n",
    "df_full['primary_cleaner_output'] = df_full[['primary_cleaner.output.concentrate_au', \n",
    "                                                 'primary_cleaner.output.concentrate_ag', \n",
    "                                                 'primary_cleaner.output.concentrate_pb']].sum(axis=1)\n",
    "\n",
    "# После вторичной очистки \n",
    "df_full['final.output_concentrate'] = df_full[['final.output.concentrate_au', 'final.output.concentrate_ag', \n",
    "                                             'final.output.concentrate_pb']].sum(axis=1)"
   ]
  },
  {
   "cell_type": "code",
   "execution_count": 22,
   "metadata": {},
   "outputs": [],
   "source": [
    "# Создадим функцию для оценки распределения\n",
    "def visual_concentration (df):\n",
    "\n",
    "    # Сформируем сравнительную таблицу статистических показателей для полученного датафрейма    \n",
    "    display(df.describe())\n",
    "\n",
    "    # Построим гистограммы распределения концентраций\n",
    "    df.plot( kind='hist', figsize=(15, 5), bins=500)\n",
    "    plt.title('Гистограммы распределения с суммированной концентрацией всех веществ на разных стадиях')\n",
    "    plt.legend(['Исходное сырье','После флотации','После первичная очистки', 'После вторичной очистки'])\n",
    "    plt.show"
   ]
  },
  {
   "cell_type": "code",
   "execution_count": 23,
   "metadata": {},
   "outputs": [
    {
     "data": {
      "text/html": [
       "<div>\n",
       "<style scoped>\n",
       "    .dataframe tbody tr th:only-of-type {\n",
       "        vertical-align: middle;\n",
       "    }\n",
       "\n",
       "    .dataframe tbody tr th {\n",
       "        vertical-align: top;\n",
       "    }\n",
       "\n",
       "    .dataframe thead th {\n",
       "        text-align: right;\n",
       "    }\n",
       "</style>\n",
       "<table border=\"1\" class=\"dataframe\">\n",
       "  <thead>\n",
       "    <tr style=\"text-align: right;\">\n",
       "      <th></th>\n",
       "      <th>rougher_input</th>\n",
       "      <th>rougher_output</th>\n",
       "      <th>primary_cleaner_output</th>\n",
       "      <th>final.output_concentrate</th>\n",
       "    </tr>\n",
       "  </thead>\n",
       "  <tbody>\n",
       "    <tr>\n",
       "      <th>count</th>\n",
       "      <td>19439.000000</td>\n",
       "      <td>19439.000000</td>\n",
       "      <td>19439.000000</td>\n",
       "      <td>19439.000000</td>\n",
       "    </tr>\n",
       "    <tr>\n",
       "      <th>mean</th>\n",
       "      <td>20.640600</td>\n",
       "      <td>39.373032</td>\n",
       "      <td>50.332682</td>\n",
       "      <td>59.223099</td>\n",
       "    </tr>\n",
       "    <tr>\n",
       "      <th>std</th>\n",
       "      <td>4.494362</td>\n",
       "      <td>6.863389</td>\n",
       "      <td>7.671672</td>\n",
       "      <td>6.097603</td>\n",
       "    </tr>\n",
       "    <tr>\n",
       "      <th>min</th>\n",
       "      <td>0.030000</td>\n",
       "      <td>0.000000</td>\n",
       "      <td>0.000000</td>\n",
       "      <td>0.000000</td>\n",
       "    </tr>\n",
       "    <tr>\n",
       "      <th>25%</th>\n",
       "      <td>17.252879</td>\n",
       "      <td>38.394639</td>\n",
       "      <td>50.038524</td>\n",
       "      <td>59.298323</td>\n",
       "    </tr>\n",
       "    <tr>\n",
       "      <th>50%</th>\n",
       "      <td>20.141216</td>\n",
       "      <td>40.312648</td>\n",
       "      <td>51.905758</td>\n",
       "      <td>60.306921</td>\n",
       "    </tr>\n",
       "    <tr>\n",
       "      <th>75%</th>\n",
       "      <td>23.797381</td>\n",
       "      <td>42.365102</td>\n",
       "      <td>53.386172</td>\n",
       "      <td>61.096667</td>\n",
       "    </tr>\n",
       "    <tr>\n",
       "      <th>max</th>\n",
       "      <td>33.498784</td>\n",
       "      <td>55.568687</td>\n",
       "      <td>60.269003</td>\n",
       "      <td>64.968881</td>\n",
       "    </tr>\n",
       "  </tbody>\n",
       "</table>\n",
       "</div>"
      ],
      "text/plain": [
       "       rougher_input  rougher_output  primary_cleaner_output  \\\n",
       "count   19439.000000    19439.000000            19439.000000   \n",
       "mean       20.640600       39.373032               50.332682   \n",
       "std         4.494362        6.863389                7.671672   \n",
       "min         0.030000        0.000000                0.000000   \n",
       "25%        17.252879       38.394639               50.038524   \n",
       "50%        20.141216       40.312648               51.905758   \n",
       "75%        23.797381       42.365102               53.386172   \n",
       "max        33.498784       55.568687               60.269003   \n",
       "\n",
       "       final.output_concentrate  \n",
       "count              19439.000000  \n",
       "mean                  59.223099  \n",
       "std                    6.097603  \n",
       "min                    0.000000  \n",
       "25%                   59.298323  \n",
       "50%                   60.306921  \n",
       "75%                   61.096667  \n",
       "max                   64.968881  "
      ]
     },
     "metadata": {},
     "output_type": "display_data"
    },
    {
     "data": {
      "image/png": "[encoded data removed]",
      "text/plain": [
       "<Figure size 1080x360 with 1 Axes>"
      ]
     },
     "metadata": {
      "needs_background": "light"
     },
     "output_type": "display_data"
    }
   ],
   "source": [
    "# Применим функцию для оценки распределения\n",
    "visual_concentration(df_full[['rougher_input', 'rougher_output', 'primary_cleaner_output', 'final.output_concentrate']])"
   ]
  },
  {
   "cell_type": "markdown",
   "metadata": {},
   "source": [
    "На основе проведенного исследования можно сделать вывод, что в датафрейме много 0-х значений, что скорее всего не имеет физического смысла и может в дальнейшем негативно сказаться на работе модели"
   ]
  },
  {
   "cell_type": "code",
   "execution_count": 24,
   "metadata": {},
   "outputs": [],
   "source": [
    "# Уберем из датафрейма значения меньше 1 (убирал только 0, выброс в районе 0 остается)\n",
    "df_full_cl = df_full[\n",
    "    (df_full['rougher_input'] >  1) & \n",
    "    (df_full['rougher_output'] > 1) & \n",
    "    (df_full['primary_cleaner_output'] > 1) & \n",
    "    (df_full['final.output_concentrate'] > 1)\n",
    "]\n"
   ]
  },
  {
   "cell_type": "code",
   "execution_count": 25,
   "metadata": {
    "scrolled": true
   },
   "outputs": [
    {
     "data": {
      "text/html": [
       "<div>\n",
       "<style scoped>\n",
       "    .dataframe tbody tr th:only-of-type {\n",
       "        vertical-align: middle;\n",
       "    }\n",
       "\n",
       "    .dataframe tbody tr th {\n",
       "        vertical-align: top;\n",
       "    }\n",
       "\n",
       "    .dataframe thead th {\n",
       "        text-align: right;\n",
       "    }\n",
       "</style>\n",
       "<table border=\"1\" class=\"dataframe\">\n",
       "  <thead>\n",
       "    <tr style=\"text-align: right;\">\n",
       "      <th></th>\n",
       "      <th>rougher_input</th>\n",
       "      <th>rougher_output</th>\n",
       "      <th>primary_cleaner_output</th>\n",
       "      <th>final.output_concentrate</th>\n",
       "    </tr>\n",
       "  </thead>\n",
       "  <tbody>\n",
       "    <tr>\n",
       "      <th>count</th>\n",
       "      <td>18721.000000</td>\n",
       "      <td>18721.000000</td>\n",
       "      <td>18721.000000</td>\n",
       "      <td>18721.000000</td>\n",
       "    </tr>\n",
       "    <tr>\n",
       "      <th>mean</th>\n",
       "      <td>20.647132</td>\n",
       "      <td>40.212048</td>\n",
       "      <td>50.931482</td>\n",
       "      <td>59.536667</td>\n",
       "    </tr>\n",
       "    <tr>\n",
       "      <th>std</th>\n",
       "      <td>4.439073</td>\n",
       "      <td>3.823193</td>\n",
       "      <td>5.260191</td>\n",
       "      <td>4.267517</td>\n",
       "    </tr>\n",
       "    <tr>\n",
       "      <th>min</th>\n",
       "      <td>2.560855</td>\n",
       "      <td>1.137053</td>\n",
       "      <td>1.037408</td>\n",
       "      <td>1.685441</td>\n",
       "    </tr>\n",
       "    <tr>\n",
       "      <th>25%</th>\n",
       "      <td>17.238008</td>\n",
       "      <td>38.537325</td>\n",
       "      <td>50.116208</td>\n",
       "      <td>59.307366</td>\n",
       "    </tr>\n",
       "    <tr>\n",
       "      <th>50%</th>\n",
       "      <td>20.136186</td>\n",
       "      <td>40.381394</td>\n",
       "      <td>51.913713</td>\n",
       "      <td>60.303141</td>\n",
       "    </tr>\n",
       "    <tr>\n",
       "      <th>75%</th>\n",
       "      <td>23.787611</td>\n",
       "      <td>42.411418</td>\n",
       "      <td>53.360880</td>\n",
       "      <td>61.086650</td>\n",
       "    </tr>\n",
       "    <tr>\n",
       "      <th>max</th>\n",
       "      <td>33.498784</td>\n",
       "      <td>55.568687</td>\n",
       "      <td>60.106566</td>\n",
       "      <td>64.968881</td>\n",
       "    </tr>\n",
       "  </tbody>\n",
       "</table>\n",
       "</div>"
      ],
      "text/plain": [
       "       rougher_input  rougher_output  primary_cleaner_output  \\\n",
       "count   18721.000000    18721.000000            18721.000000   \n",
       "mean       20.647132       40.212048               50.931482   \n",
       "std         4.439073        3.823193                5.260191   \n",
       "min         2.560855        1.137053                1.037408   \n",
       "25%        17.238008       38.537325               50.116208   \n",
       "50%        20.136186       40.381394               51.913713   \n",
       "75%        23.787611       42.411418               53.360880   \n",
       "max        33.498784       55.568687               60.106566   \n",
       "\n",
       "       final.output_concentrate  \n",
       "count              18721.000000  \n",
       "mean                  59.536667  \n",
       "std                    4.267517  \n",
       "min                    1.685441  \n",
       "25%                   59.307366  \n",
       "50%                   60.303141  \n",
       "75%                   61.086650  \n",
       "max                   64.968881  "
      ]
     },
     "metadata": {},
     "output_type": "display_data"
    },
    {
     "data": {
      "image/png": "[encoded data removed]",
      "text/plain": [
       "<Figure size 1080x360 with 1 Axes>"
      ]
     },
     "metadata": {
      "needs_background": "light"
     },
     "output_type": "display_data"
    }
   ],
   "source": [
    "# Применим функцию для оценки распределения после удаления значений меньше 1\n",
    "visual_concentration(df_full_cl[['rougher_input', 'rougher_output', 'primary_cleaner_output', 'final.output_concentrate']])"
   ]
  },
  {
   "cell_type": "markdown",
   "metadata": {},
   "source": [
    "После удаления 0-х и близких к ним значений видим, что разброс данных стал значительно меньше.\n",
    "Поскольку данные, расположенные в строках, где находились удаленные элементы с большой вероятностью исказят работу модели - удалим соответствующие строки в тренировочной и тестовой выборках."
   ]
  },
  {
   "cell_type": "code",
   "execution_count": 26,
   "metadata": {
    "scrolled": false
   },
   "outputs": [
    {
     "name": "stdout",
     "output_type": "stream",
     "text": [
      "Выборки до удаления строк\n",
      "Размер тестовой выборки\n",
      "(5290, 55)\n",
      "Размер тренировочной выборки\n",
      "(14149, 88)\n"
     ]
    }
   ],
   "source": [
    "# Выведем данные по размеру выборок\n",
    "print('Выборки до удаления строк', 'Размер тестовой выборки', df_test_1.shape, 'Размер тренировочной выборки', df_train.shape, sep='\\n')"
   ]
  },
  {
   "cell_type": "code",
   "execution_count": 27,
   "metadata": {
    "scrolled": true
   },
   "outputs": [],
   "source": [
    "# Удалим из выборок строки, в которых находились вышеуказанные элементы\n",
    "df_test_1 = df_test_1[df_test_1['date'].isin(df_full_cl['date'])]\n",
    "df_train_1 = df_train_1[df_train_1['date'].isin(df_full_cl['date'])]"
   ]
  },
  {
   "cell_type": "code",
   "execution_count": 28,
   "metadata": {},
   "outputs": [
    {
     "name": "stdout",
     "output_type": "stream",
     "text": [
      "Выборки после удаления строк\n",
      "Размер тестовой выборки\n",
      "(5123, 55)\n",
      "Размер тренировочной выборки\n",
      "(13598, 55)\n"
     ]
    }
   ],
   "source": [
    "print('Выборки после удаления строк', 'Размер тестовой выборки', df_test_1.shape, 'Размер тренировочной выборки', df_train_1.shape, sep='\\n')"
   ]
  },
  {
   "cell_type": "markdown",
   "metadata": {},
   "source": [
    "### Выводы по разделу"
   ]
  },
  {
   "cell_type": "markdown",
   "metadata": {},
   "source": [
    "Проведено сравнение концентрации металлов (Au, Ag, Pb) на различных этапах очистки, по результатам которого были сделаны следующие выводы:\n",
    "- концентрация золота растет,\n",
    "- концентрация серебра после флотации растет, затем начинает снижаться\n",
    "- концентрация свинца на этапах флотации и первичной очистки растет, после второй очистки незначительно снижается\n",
    "\n",
    "Проведено сравнение распределения размеров гранул сырья на обучающей и тестовой выборках, по результатам которого был сделан вывод о том, что распределения для тестовой и обучающей выборок носят одинаковый характер и соответственно не повлияют на оценку модели\n",
    "\n",
    "Исследованы суммарные концентрации всех веществ на разных стадиях, по результатам которых сделан вывод, что в датафрейме много 0-х значений, что скорее всего не имеет физического смысла и может в дальнейшем негативно сказаться на работе модели. После удаления только 0-х значений разброс данных остался велик, причем выброс остался вокруг значения 0, что опять же не имеет физического смысла и скорее говорит о особенности работы оборудования или ошибке. Было принято решение удалить значения до 1 -  разброс данных стал значительно меньше.\n",
    "Поскольку данные, расположенные в строках, где находились удаленные элементы с большой вероятностью исказят работу модели  - удалим соответствующие строки в тренировочной и тестовой выборках."
   ]
  },
  {
   "cell_type": "markdown",
   "metadata": {},
   "source": [
    "## Модель"
   ]
  },
  {
   "cell_type": "markdown",
   "metadata": {},
   "source": [
    "### Создание функций для вычисления итоговой sMAPE."
   ]
  },
  {
   "attachments": {
    "smape_1576239058.jpg": {
     "image/jpeg": "[encoded data removed]"
    }
   },
   "cell_type": "markdown",
   "metadata": {},
   "source": [
    "Формула метрики качества sMAPE:\n",
    "![smape_1576239058.jpg](attachment:smape_1576239058.jpg)\n",
    "\n",
    "где"
   ]
  },
  {
   "attachments": {
    "y1_1576238832.jpg": {
     "image/jpeg": "[encoded data removed]"
    }
   },
   "cell_type": "markdown",
   "metadata": {},
   "source": [
    "![y1_1576238832.jpg](attachment:y1_1576238832.jpg) - Значение целевого признака для объекта с порядковым номером i в выборке, на которой измеряется качество."
   ]
  },
  {
   "attachments": {
    "yi_1_1576238835.jpg": {
     "image/jpeg": "[encoded data removed]"
    }
   },
   "cell_type": "markdown",
   "metadata": {},
   "source": [
    "![yi_1_1576238835.jpg](attachment:yi_1_1576238835.jpg) - Значение предсказания для объекта с порядковым номером i, например, в тестовой выборке.\n",
    "\n",
    "N - Количество объектов в выборке."
   ]
  },
  {
   "attachments": {
    "I_1576238817.jpg": {
     "image/jpeg": "[encoded data removed]"
    }
   },
   "cell_type": "markdown",
   "metadata": {},
   "source": [
    "![I_1576238817.jpg](attachment:I_1576238817.jpg) - Суммирование по всем объектам выборки (i меняется от 1 до N)."
   ]
  },
  {
   "cell_type": "code",
   "execution_count": 29,
   "metadata": {},
   "outputs": [],
   "source": [
    "# Напишем функцию для вычисления sMAPE\n",
    "def smape(target, predictions):\n",
    "    result = (abs(target - predictions) / ((abs(target) + abs(predictions)) / 2)).sum() * 100/len(target)\n",
    "    return result"
   ]
  },
  {
   "attachments": {
    "_smape_1576238814.jpg": {
     "image/jpeg": "[encoded data removed]"
    }
   },
   "cell_type": "markdown",
   "metadata": {},
   "source": [
    "Итоговая метрика складывается из двух величин:\n",
    "\n",
    "![_smape_1576238814.jpg](attachment:_smape_1576238814.jpg)"
   ]
  },
  {
   "cell_type": "code",
   "execution_count": 30,
   "metadata": {},
   "outputs": [],
   "source": [
    "# Напишем функцию для вычисления итоговой sMAPE\n",
    "def final_smape (rougher, final):\n",
    "    result = 0.25 * rougher + 0.75 * final\n",
    "    return result"
   ]
  },
  {
   "cell_type": "code",
   "execution_count": 31,
   "metadata": {},
   "outputs": [],
   "source": [
    "# Зададим параметры оценки на основе smape\n",
    "indicator_smape = make_scorer(smape, greater_is_better=False)"
   ]
  },
  {
   "cell_type": "markdown",
   "metadata": {},
   "source": [
    "### Подготовка признаков, тестовой и тренировочной выборок"
   ]
  },
  {
   "cell_type": "code",
   "execution_count": 32,
   "metadata": {},
   "outputs": [],
   "source": [
    "# Создадим целевые признаки для обучающей выборки\n",
    "target_rougher = df_train_1['rougher.output.recovery']\n",
    "target_final = df_train_1['final.output.recovery']\n",
    "\n",
    "# Подготовим тренировочную выборку\n",
    "features_train = df_train_1.drop(['date', 'final.output.recovery', 'rougher.output.recovery'], axis=1)\n",
    "\n",
    "# Создадим целевые признаки для тестовой выборки\n",
    "target_rougher_test = df_test_1['rougher.output.recovery']\n",
    "target_final_test = df_test_1['final.output.recovery']\n",
    "\n",
    "# Подготовим тестовую выборку\n",
    "features_test = df_test_1.drop(['date', 'final.output.recovery', 'rougher.output.recovery'], axis=1)"
   ]
  },
  {
   "cell_type": "markdown",
   "metadata": {},
   "source": [
    "### Масштабирование выборок"
   ]
  },
  {
   "cell_type": "code",
   "execution_count": 33,
   "metadata": {},
   "outputs": [],
   "source": [
    "scaler = StandardScaler()\n",
    "\n",
    "# Обучаем модель на тренировочной выборке\n",
    "scaler.fit(features_train)\n",
    "\n",
    "# Масштабируем тренировочную выборку\n",
    "features_train = scaler.transform(features_train)\n",
    "\n",
    "\n",
    "# Масштабируем тестовую выборку\n",
    "features_test = scaler.transform(features_test)"
   ]
  },
  {
   "cell_type": "markdown",
   "metadata": {},
   "source": [
    "### Обучение различных моделей и оценка их качества кросс-валидацией."
   ]
  },
  {
   "cell_type": "code",
   "execution_count": 54,
   "metadata": {},
   "outputs": [],
   "source": [
    "# Создадим фунцию расчета кросс-валидации по двум целевым признакам\n",
    "def cross (features, target_r, target_f, cv):\n",
    "    \n",
    "    cross_rougher = cross_val_score(model, features, target_r, cv=cv, scoring=indicator_smape).mean()*(-1)\n",
    "    cross_final = cross_val_score(model, features, target_f, cv=cv, scoring=indicator_smape).mean()*(-1)\n",
    "    \n",
    "    return cross_rougher, cross_final\n",
    "    "
   ]
  },
  {
   "cell_type": "code",
   "execution_count": 35,
   "metadata": {},
   "outputs": [],
   "source": [
    "# Создадим список моделей для дальнейшего его использования в цикле подбора оптимальной модели\n",
    "models = [DecisionTreeRegressor(random_state=12345), \n",
    "          RandomForestRegressor(random_state=12345), \n",
    "          LinearRegression()]"
   ]
  },
  {
   "cell_type": "code",
   "execution_count": 36,
   "metadata": {},
   "outputs": [
    {
     "ename": "KeyboardInterrupt",
     "evalue": "",
     "output_type": "error",
     "traceback": [
      "\u001b[0;31m---------------------------------------------------------------------------\u001b[0m",
      "\u001b[0;31mKeyboardInterrupt\u001b[0m                         Traceback (most recent call last)",
      "\u001b[0;32m/tmp/ipykernel_38/2068429447.py\u001b[0m in \u001b[0;36m<module>\u001b[0;34m\u001b[0m\n\u001b[1;32m      4\u001b[0m \u001b[0;34m\u001b[0m\u001b[0m\n\u001b[1;32m      5\u001b[0m     \u001b[0;31m# Применим фунцию расчета кросс-валидации по двум целевым признакам\u001b[0m\u001b[0;34m\u001b[0m\u001b[0;34m\u001b[0m\u001b[0;34m\u001b[0m\u001b[0m\n\u001b[0;32m----> 6\u001b[0;31m     \u001b[0mcross_rougher\u001b[0m\u001b[0;34m,\u001b[0m \u001b[0mcross_final\u001b[0m \u001b[0;34m=\u001b[0m \u001b[0mcross\u001b[0m\u001b[0;34m(\u001b[0m\u001b[0mfeatures_train\u001b[0m\u001b[0;34m,\u001b[0m \u001b[0mtarget_rougher\u001b[0m\u001b[0;34m,\u001b[0m \u001b[0mtarget_final\u001b[0m\u001b[0;34m,\u001b[0m \u001b[0;36m5\u001b[0m\u001b[0;34m)\u001b[0m\u001b[0;34m\u001b[0m\u001b[0;34m\u001b[0m\u001b[0m\n\u001b[0m\u001b[1;32m      7\u001b[0m \u001b[0;34m\u001b[0m\u001b[0m\n\u001b[1;32m      8\u001b[0m     cross_results.append({'Название модели': model.__class__.__name__, \n",
      "\u001b[0;32m/tmp/ipykernel_38/4290504980.py\u001b[0m in \u001b[0;36mcross\u001b[0;34m(features, target_r, target_f, cv)\u001b[0m\n\u001b[1;32m      3\u001b[0m \u001b[0;34m\u001b[0m\u001b[0m\n\u001b[1;32m      4\u001b[0m     \u001b[0mcross_rougher\u001b[0m \u001b[0;34m=\u001b[0m \u001b[0mcross_val_score\u001b[0m\u001b[0;34m(\u001b[0m\u001b[0mmodel\u001b[0m\u001b[0;34m,\u001b[0m \u001b[0mfeatures\u001b[0m\u001b[0;34m,\u001b[0m \u001b[0mtarget_r\u001b[0m\u001b[0;34m,\u001b[0m \u001b[0mcv\u001b[0m\u001b[0;34m=\u001b[0m\u001b[0mcv\u001b[0m\u001b[0;34m,\u001b[0m \u001b[0mscoring\u001b[0m\u001b[0;34m=\u001b[0m\u001b[0mindicator_smape\u001b[0m\u001b[0;34m)\u001b[0m\u001b[0;34m.\u001b[0m\u001b[0mmean\u001b[0m\u001b[0;34m(\u001b[0m\u001b[0;34m)\u001b[0m\u001b[0;34m*\u001b[0m\u001b[0;34m(\u001b[0m\u001b[0;34m-\u001b[0m\u001b[0;36m1\u001b[0m\u001b[0;34m)\u001b[0m\u001b[0;34m\u001b[0m\u001b[0;34m\u001b[0m\u001b[0m\n\u001b[0;32m----> 5\u001b[0;31m     \u001b[0mcross_final\u001b[0m \u001b[0;34m=\u001b[0m \u001b[0mcross_val_score\u001b[0m\u001b[0;34m(\u001b[0m\u001b[0mmodel\u001b[0m\u001b[0;34m,\u001b[0m \u001b[0mfeatures\u001b[0m\u001b[0;34m,\u001b[0m \u001b[0mtarget_f\u001b[0m\u001b[0;34m,\u001b[0m \u001b[0mcv\u001b[0m\u001b[0;34m=\u001b[0m\u001b[0mcv\u001b[0m\u001b[0;34m,\u001b[0m \u001b[0mscoring\u001b[0m\u001b[0;34m=\u001b[0m\u001b[0mindicator_smape\u001b[0m\u001b[0;34m)\u001b[0m\u001b[0;34m.\u001b[0m\u001b[0mmean\u001b[0m\u001b[0;34m(\u001b[0m\u001b[0;34m)\u001b[0m\u001b[0;34m*\u001b[0m\u001b[0;34m(\u001b[0m\u001b[0;34m-\u001b[0m\u001b[0;36m1\u001b[0m\u001b[0;34m)\u001b[0m\u001b[0;34m\u001b[0m\u001b[0;34m\u001b[0m\u001b[0m\n\u001b[0m\u001b[1;32m      6\u001b[0m \u001b[0;34m\u001b[0m\u001b[0m\n\u001b[1;32m      7\u001b[0m     \u001b[0;32mreturn\u001b[0m \u001b[0mcross_rougher\u001b[0m\u001b[0;34m,\u001b[0m \u001b[0mcross_final\u001b[0m\u001b[0;34m\u001b[0m\u001b[0;34m\u001b[0m\u001b[0m\n",
      "\u001b[0;32m/opt/conda/lib/python3.9/site-packages/sklearn/utils/validation.py\u001b[0m in \u001b[0;36minner_f\u001b[0;34m(*args, **kwargs)\u001b[0m\n\u001b[1;32m     61\u001b[0m             \u001b[0mextra_args\u001b[0m \u001b[0;34m=\u001b[0m \u001b[0mlen\u001b[0m\u001b[0;34m(\u001b[0m\u001b[0margs\u001b[0m\u001b[0;34m)\u001b[0m \u001b[0;34m-\u001b[0m \u001b[0mlen\u001b[0m\u001b[0;34m(\u001b[0m\u001b[0mall_args\u001b[0m\u001b[0;34m)\u001b[0m\u001b[0;34m\u001b[0m\u001b[0;34m\u001b[0m\u001b[0m\n\u001b[1;32m     62\u001b[0m             \u001b[0;32mif\u001b[0m \u001b[0mextra_args\u001b[0m \u001b[0;34m<=\u001b[0m \u001b[0;36m0\u001b[0m\u001b[0;34m:\u001b[0m\u001b[0;34m\u001b[0m\u001b[0;34m\u001b[0m\u001b[0m\n\u001b[0;32m---> 63\u001b[0;31m                 \u001b[0;32mreturn\u001b[0m \u001b[0mf\u001b[0m\u001b[0;34m(\u001b[0m\u001b[0;34m*\u001b[0m\u001b[0margs\u001b[0m\u001b[0;34m,\u001b[0m \u001b[0;34m**\u001b[0m\u001b[0mkwargs\u001b[0m\u001b[0;34m)\u001b[0m\u001b[0;34m\u001b[0m\u001b[0;34m\u001b[0m\u001b[0m\n\u001b[0m\u001b[1;32m     64\u001b[0m \u001b[0;34m\u001b[0m\u001b[0m\n\u001b[1;32m     65\u001b[0m             \u001b[0;31m# extra_args > 0\u001b[0m\u001b[0;34m\u001b[0m\u001b[0;34m\u001b[0m\u001b[0;34m\u001b[0m\u001b[0m\n",
      "\u001b[0;32m/opt/conda/lib/python3.9/site-packages/sklearn/model_selection/_validation.py\u001b[0m in \u001b[0;36mcross_val_score\u001b[0;34m(estimator, X, y, groups, scoring, cv, n_jobs, verbose, fit_params, pre_dispatch, error_score)\u001b[0m\n\u001b[1;32m    438\u001b[0m     \u001b[0mscorer\u001b[0m \u001b[0;34m=\u001b[0m \u001b[0mcheck_scoring\u001b[0m\u001b[0;34m(\u001b[0m\u001b[0mestimator\u001b[0m\u001b[0;34m,\u001b[0m \u001b[0mscoring\u001b[0m\u001b[0;34m=\u001b[0m\u001b[0mscoring\u001b[0m\u001b[0;34m)\u001b[0m\u001b[0;34m\u001b[0m\u001b[0;34m\u001b[0m\u001b[0m\n\u001b[1;32m    439\u001b[0m \u001b[0;34m\u001b[0m\u001b[0m\n\u001b[0;32m--> 440\u001b[0;31m     cv_results = cross_validate(estimator=estimator, X=X, y=y, groups=groups,\n\u001b[0m\u001b[1;32m    441\u001b[0m                                 \u001b[0mscoring\u001b[0m\u001b[0;34m=\u001b[0m\u001b[0;34m{\u001b[0m\u001b[0;34m'score'\u001b[0m\u001b[0;34m:\u001b[0m \u001b[0mscorer\u001b[0m\u001b[0;34m}\u001b[0m\u001b[0;34m,\u001b[0m \u001b[0mcv\u001b[0m\u001b[0;34m=\u001b[0m\u001b[0mcv\u001b[0m\u001b[0;34m,\u001b[0m\u001b[0;34m\u001b[0m\u001b[0;34m\u001b[0m\u001b[0m\n\u001b[1;32m    442\u001b[0m                                 \u001b[0mn_jobs\u001b[0m\u001b[0;34m=\u001b[0m\u001b[0mn_jobs\u001b[0m\u001b[0;34m,\u001b[0m \u001b[0mverbose\u001b[0m\u001b[0;34m=\u001b[0m\u001b[0mverbose\u001b[0m\u001b[0;34m,\u001b[0m\u001b[0;34m\u001b[0m\u001b[0;34m\u001b[0m\u001b[0m\n",
      "\u001b[0;32m/opt/conda/lib/python3.9/site-packages/sklearn/utils/validation.py\u001b[0m in \u001b[0;36minner_f\u001b[0;34m(*args, **kwargs)\u001b[0m\n\u001b[1;32m     61\u001b[0m             \u001b[0mextra_args\u001b[0m \u001b[0;34m=\u001b[0m \u001b[0mlen\u001b[0m\u001b[0;34m(\u001b[0m\u001b[0margs\u001b[0m\u001b[0;34m)\u001b[0m \u001b[0;34m-\u001b[0m \u001b[0mlen\u001b[0m\u001b[0;34m(\u001b[0m\u001b[0mall_args\u001b[0m\u001b[0;34m)\u001b[0m\u001b[0;34m\u001b[0m\u001b[0;34m\u001b[0m\u001b[0m\n\u001b[1;32m     62\u001b[0m             \u001b[0;32mif\u001b[0m \u001b[0mextra_args\u001b[0m \u001b[0;34m<=\u001b[0m \u001b[0;36m0\u001b[0m\u001b[0;34m:\u001b[0m\u001b[0;34m\u001b[0m\u001b[0;34m\u001b[0m\u001b[0m\n\u001b[0;32m---> 63\u001b[0;31m                 \u001b[0;32mreturn\u001b[0m \u001b[0mf\u001b[0m\u001b[0;34m(\u001b[0m\u001b[0;34m*\u001b[0m\u001b[0margs\u001b[0m\u001b[0;34m,\u001b[0m \u001b[0;34m**\u001b[0m\u001b[0mkwargs\u001b[0m\u001b[0;34m)\u001b[0m\u001b[0;34m\u001b[0m\u001b[0;34m\u001b[0m\u001b[0m\n\u001b[0m\u001b[1;32m     64\u001b[0m \u001b[0;34m\u001b[0m\u001b[0m\n\u001b[1;32m     65\u001b[0m             \u001b[0;31m# extra_args > 0\u001b[0m\u001b[0;34m\u001b[0m\u001b[0;34m\u001b[0m\u001b[0;34m\u001b[0m\u001b[0m\n",
      "\u001b[0;32m/opt/conda/lib/python3.9/site-packages/sklearn/model_selection/_validation.py\u001b[0m in \u001b[0;36mcross_validate\u001b[0;34m(estimator, X, y, groups, scoring, cv, n_jobs, verbose, fit_params, pre_dispatch, return_train_score, return_estimator, error_score)\u001b[0m\n\u001b[1;32m    244\u001b[0m     parallel = Parallel(n_jobs=n_jobs, verbose=verbose,\n\u001b[1;32m    245\u001b[0m                         pre_dispatch=pre_dispatch)\n\u001b[0;32m--> 246\u001b[0;31m     results = parallel(\n\u001b[0m\u001b[1;32m    247\u001b[0m         delayed(_fit_and_score)(\n\u001b[1;32m    248\u001b[0m             \u001b[0mclone\u001b[0m\u001b[0;34m(\u001b[0m\u001b[0mestimator\u001b[0m\u001b[0;34m)\u001b[0m\u001b[0;34m,\u001b[0m \u001b[0mX\u001b[0m\u001b[0;34m,\u001b[0m \u001b[0my\u001b[0m\u001b[0;34m,\u001b[0m \u001b[0mscorers\u001b[0m\u001b[0;34m,\u001b[0m \u001b[0mtrain\u001b[0m\u001b[0;34m,\u001b[0m \u001b[0mtest\u001b[0m\u001b[0;34m,\u001b[0m \u001b[0mverbose\u001b[0m\u001b[0;34m,\u001b[0m \u001b[0;32mNone\u001b[0m\u001b[0;34m,\u001b[0m\u001b[0;34m\u001b[0m\u001b[0;34m\u001b[0m\u001b[0m\n",
      "\u001b[0;32m/opt/conda/lib/python3.9/site-packages/joblib/parallel.py\u001b[0m in \u001b[0;36m__call__\u001b[0;34m(self, iterable)\u001b[0m\n\u001b[1;32m   1041\u001b[0m             \u001b[0;31m# remaining jobs.\u001b[0m\u001b[0;34m\u001b[0m\u001b[0;34m\u001b[0m\u001b[0;34m\u001b[0m\u001b[0m\n\u001b[1;32m   1042\u001b[0m             \u001b[0mself\u001b[0m\u001b[0;34m.\u001b[0m\u001b[0m_iterating\u001b[0m \u001b[0;34m=\u001b[0m \u001b[0;32mFalse\u001b[0m\u001b[0;34m\u001b[0m\u001b[0;34m\u001b[0m\u001b[0m\n\u001b[0;32m-> 1043\u001b[0;31m             \u001b[0;32mif\u001b[0m \u001b[0mself\u001b[0m\u001b[0;34m.\u001b[0m\u001b[0mdispatch_one_batch\u001b[0m\u001b[0;34m(\u001b[0m\u001b[0miterator\u001b[0m\u001b[0;34m)\u001b[0m\u001b[0;34m:\u001b[0m\u001b[0;34m\u001b[0m\u001b[0;34m\u001b[0m\u001b[0m\n\u001b[0m\u001b[1;32m   1044\u001b[0m                 \u001b[0mself\u001b[0m\u001b[0;34m.\u001b[0m\u001b[0m_iterating\u001b[0m \u001b[0;34m=\u001b[0m \u001b[0mself\u001b[0m\u001b[0;34m.\u001b[0m\u001b[0m_original_iterator\u001b[0m \u001b[0;32mis\u001b[0m \u001b[0;32mnot\u001b[0m \u001b[0;32mNone\u001b[0m\u001b[0;34m\u001b[0m\u001b[0;34m\u001b[0m\u001b[0m\n\u001b[1;32m   1045\u001b[0m \u001b[0;34m\u001b[0m\u001b[0m\n",
      "\u001b[0;32m/opt/conda/lib/python3.9/site-packages/joblib/parallel.py\u001b[0m in \u001b[0;36mdispatch_one_batch\u001b[0;34m(self, iterator)\u001b[0m\n\u001b[1;32m    859\u001b[0m                 \u001b[0;32mreturn\u001b[0m \u001b[0;32mFalse\u001b[0m\u001b[0;34m\u001b[0m\u001b[0;34m\u001b[0m\u001b[0m\n\u001b[1;32m    860\u001b[0m             \u001b[0;32melse\u001b[0m\u001b[0;34m:\u001b[0m\u001b[0;34m\u001b[0m\u001b[0;34m\u001b[0m\u001b[0m\n\u001b[0;32m--> 861\u001b[0;31m                 \u001b[0mself\u001b[0m\u001b[0;34m.\u001b[0m\u001b[0m_dispatch\u001b[0m\u001b[0;34m(\u001b[0m\u001b[0mtasks\u001b[0m\u001b[0;34m)\u001b[0m\u001b[0;34m\u001b[0m\u001b[0;34m\u001b[0m\u001b[0m\n\u001b[0m\u001b[1;32m    862\u001b[0m                 \u001b[0;32mreturn\u001b[0m \u001b[0;32mTrue\u001b[0m\u001b[0;34m\u001b[0m\u001b[0;34m\u001b[0m\u001b[0m\n\u001b[1;32m    863\u001b[0m \u001b[0;34m\u001b[0m\u001b[0m\n",
      "\u001b[0;32m/opt/conda/lib/python3.9/site-packages/joblib/parallel.py\u001b[0m in \u001b[0;36m_dispatch\u001b[0;34m(self, batch)\u001b[0m\n\u001b[1;32m    777\u001b[0m         \u001b[0;32mwith\u001b[0m \u001b[0mself\u001b[0m\u001b[0;34m.\u001b[0m\u001b[0m_lock\u001b[0m\u001b[0;34m:\u001b[0m\u001b[0;34m\u001b[0m\u001b[0;34m\u001b[0m\u001b[0m\n\u001b[1;32m    778\u001b[0m             \u001b[0mjob_idx\u001b[0m \u001b[0;34m=\u001b[0m \u001b[0mlen\u001b[0m\u001b[0;34m(\u001b[0m\u001b[0mself\u001b[0m\u001b[0;34m.\u001b[0m\u001b[0m_jobs\u001b[0m\u001b[0;34m)\u001b[0m\u001b[0;34m\u001b[0m\u001b[0;34m\u001b[0m\u001b[0m\n\u001b[0;32m--> 779\u001b[0;31m             \u001b[0mjob\u001b[0m \u001b[0;34m=\u001b[0m \u001b[0mself\u001b[0m\u001b[0;34m.\u001b[0m\u001b[0m_backend\u001b[0m\u001b[0;34m.\u001b[0m\u001b[0mapply_async\u001b[0m\u001b[0;34m(\u001b[0m\u001b[0mbatch\u001b[0m\u001b[0;34m,\u001b[0m \u001b[0mcallback\u001b[0m\u001b[0;34m=\u001b[0m\u001b[0mcb\u001b[0m\u001b[0;34m)\u001b[0m\u001b[0;34m\u001b[0m\u001b[0;34m\u001b[0m\u001b[0m\n\u001b[0m\u001b[1;32m    780\u001b[0m             \u001b[0;31m# A job can complete so quickly than its callback is\u001b[0m\u001b[0;34m\u001b[0m\u001b[0;34m\u001b[0m\u001b[0;34m\u001b[0m\u001b[0m\n\u001b[1;32m    781\u001b[0m             \u001b[0;31m# called before we get here, causing self._jobs to\u001b[0m\u001b[0;34m\u001b[0m\u001b[0;34m\u001b[0m\u001b[0;34m\u001b[0m\u001b[0m\n",
      "\u001b[0;32m/opt/conda/lib/python3.9/site-packages/joblib/_parallel_backends.py\u001b[0m in \u001b[0;36mapply_async\u001b[0;34m(self, func, callback)\u001b[0m\n\u001b[1;32m    206\u001b[0m     \u001b[0;32mdef\u001b[0m \u001b[0mapply_async\u001b[0m\u001b[0;34m(\u001b[0m\u001b[0mself\u001b[0m\u001b[0;34m,\u001b[0m \u001b[0mfunc\u001b[0m\u001b[0;34m,\u001b[0m \u001b[0mcallback\u001b[0m\u001b[0;34m=\u001b[0m\u001b[0;32mNone\u001b[0m\u001b[0;34m)\u001b[0m\u001b[0;34m:\u001b[0m\u001b[0;34m\u001b[0m\u001b[0;34m\u001b[0m\u001b[0m\n\u001b[1;32m    207\u001b[0m         \u001b[0;34m\"\"\"Schedule a func to be run\"\"\"\u001b[0m\u001b[0;34m\u001b[0m\u001b[0;34m\u001b[0m\u001b[0m\n\u001b[0;32m--> 208\u001b[0;31m         \u001b[0mresult\u001b[0m \u001b[0;34m=\u001b[0m \u001b[0mImmediateResult\u001b[0m\u001b[0;34m(\u001b[0m\u001b[0mfunc\u001b[0m\u001b[0;34m)\u001b[0m\u001b[0;34m\u001b[0m\u001b[0;34m\u001b[0m\u001b[0m\n\u001b[0m\u001b[1;32m    209\u001b[0m         \u001b[0;32mif\u001b[0m \u001b[0mcallback\u001b[0m\u001b[0;34m:\u001b[0m\u001b[0;34m\u001b[0m\u001b[0;34m\u001b[0m\u001b[0m\n\u001b[1;32m    210\u001b[0m             \u001b[0mcallback\u001b[0m\u001b[0;34m(\u001b[0m\u001b[0mresult\u001b[0m\u001b[0;34m)\u001b[0m\u001b[0;34m\u001b[0m\u001b[0;34m\u001b[0m\u001b[0m\n",
      "\u001b[0;32m/opt/conda/lib/python3.9/site-packages/joblib/_parallel_backends.py\u001b[0m in \u001b[0;36m__init__\u001b[0;34m(self, batch)\u001b[0m\n\u001b[1;32m    570\u001b[0m         \u001b[0;31m# Don't delay the application, to avoid keeping the input\u001b[0m\u001b[0;34m\u001b[0m\u001b[0;34m\u001b[0m\u001b[0;34m\u001b[0m\u001b[0m\n\u001b[1;32m    571\u001b[0m         \u001b[0;31m# arguments in memory\u001b[0m\u001b[0;34m\u001b[0m\u001b[0;34m\u001b[0m\u001b[0;34m\u001b[0m\u001b[0m\n\u001b[0;32m--> 572\u001b[0;31m         \u001b[0mself\u001b[0m\u001b[0;34m.\u001b[0m\u001b[0mresults\u001b[0m \u001b[0;34m=\u001b[0m \u001b[0mbatch\u001b[0m\u001b[0;34m(\u001b[0m\u001b[0;34m)\u001b[0m\u001b[0;34m\u001b[0m\u001b[0;34m\u001b[0m\u001b[0m\n\u001b[0m\u001b[1;32m    573\u001b[0m \u001b[0;34m\u001b[0m\u001b[0m\n\u001b[1;32m    574\u001b[0m     \u001b[0;32mdef\u001b[0m \u001b[0mget\u001b[0m\u001b[0;34m(\u001b[0m\u001b[0mself\u001b[0m\u001b[0;34m)\u001b[0m\u001b[0;34m:\u001b[0m\u001b[0;34m\u001b[0m\u001b[0;34m\u001b[0m\u001b[0m\n",
      "\u001b[0;32m/opt/conda/lib/python3.9/site-packages/joblib/parallel.py\u001b[0m in \u001b[0;36m__call__\u001b[0;34m(self)\u001b[0m\n\u001b[1;32m    260\u001b[0m         \u001b[0;31m# change the default number of processes to -1\u001b[0m\u001b[0;34m\u001b[0m\u001b[0;34m\u001b[0m\u001b[0;34m\u001b[0m\u001b[0m\n\u001b[1;32m    261\u001b[0m         \u001b[0;32mwith\u001b[0m \u001b[0mparallel_backend\u001b[0m\u001b[0;34m(\u001b[0m\u001b[0mself\u001b[0m\u001b[0;34m.\u001b[0m\u001b[0m_backend\u001b[0m\u001b[0;34m,\u001b[0m \u001b[0mn_jobs\u001b[0m\u001b[0;34m=\u001b[0m\u001b[0mself\u001b[0m\u001b[0;34m.\u001b[0m\u001b[0m_n_jobs\u001b[0m\u001b[0;34m)\u001b[0m\u001b[0;34m:\u001b[0m\u001b[0;34m\u001b[0m\u001b[0;34m\u001b[0m\u001b[0m\n\u001b[0;32m--> 262\u001b[0;31m             return [func(*args, **kwargs)\n\u001b[0m\u001b[1;32m    263\u001b[0m                     for func, args, kwargs in self.items]\n\u001b[1;32m    264\u001b[0m \u001b[0;34m\u001b[0m\u001b[0m\n",
      "\u001b[0;32m/opt/conda/lib/python3.9/site-packages/joblib/parallel.py\u001b[0m in \u001b[0;36m<listcomp>\u001b[0;34m(.0)\u001b[0m\n\u001b[1;32m    260\u001b[0m         \u001b[0;31m# change the default number of processes to -1\u001b[0m\u001b[0;34m\u001b[0m\u001b[0;34m\u001b[0m\u001b[0;34m\u001b[0m\u001b[0m\n\u001b[1;32m    261\u001b[0m         \u001b[0;32mwith\u001b[0m \u001b[0mparallel_backend\u001b[0m\u001b[0;34m(\u001b[0m\u001b[0mself\u001b[0m\u001b[0;34m.\u001b[0m\u001b[0m_backend\u001b[0m\u001b[0;34m,\u001b[0m \u001b[0mn_jobs\u001b[0m\u001b[0;34m=\u001b[0m\u001b[0mself\u001b[0m\u001b[0;34m.\u001b[0m\u001b[0m_n_jobs\u001b[0m\u001b[0;34m)\u001b[0m\u001b[0;34m:\u001b[0m\u001b[0;34m\u001b[0m\u001b[0;34m\u001b[0m\u001b[0m\n\u001b[0;32m--> 262\u001b[0;31m             return [func(*args, **kwargs)\n\u001b[0m\u001b[1;32m    263\u001b[0m                     for func, args, kwargs in self.items]\n\u001b[1;32m    264\u001b[0m \u001b[0;34m\u001b[0m\u001b[0m\n",
      "\u001b[0;32m/opt/conda/lib/python3.9/site-packages/sklearn/utils/fixes.py\u001b[0m in \u001b[0;36m__call__\u001b[0;34m(self, *args, **kwargs)\u001b[0m\n\u001b[1;32m    220\u001b[0m     \u001b[0;32mdef\u001b[0m \u001b[0m__call__\u001b[0m\u001b[0;34m(\u001b[0m\u001b[0mself\u001b[0m\u001b[0;34m,\u001b[0m \u001b[0;34m*\u001b[0m\u001b[0margs\u001b[0m\u001b[0;34m,\u001b[0m \u001b[0;34m**\u001b[0m\u001b[0mkwargs\u001b[0m\u001b[0;34m)\u001b[0m\u001b[0;34m:\u001b[0m\u001b[0;34m\u001b[0m\u001b[0;34m\u001b[0m\u001b[0m\n\u001b[1;32m    221\u001b[0m         \u001b[0;32mwith\u001b[0m \u001b[0mconfig_context\u001b[0m\u001b[0;34m(\u001b[0m\u001b[0;34m**\u001b[0m\u001b[0mself\u001b[0m\u001b[0;34m.\u001b[0m\u001b[0mconfig\u001b[0m\u001b[0;34m)\u001b[0m\u001b[0;34m:\u001b[0m\u001b[0;34m\u001b[0m\u001b[0;34m\u001b[0m\u001b[0m\n\u001b[0;32m--> 222\u001b[0;31m             \u001b[0;32mreturn\u001b[0m \u001b[0mself\u001b[0m\u001b[0;34m.\u001b[0m\u001b[0mfunction\u001b[0m\u001b[0;34m(\u001b[0m\u001b[0;34m*\u001b[0m\u001b[0margs\u001b[0m\u001b[0;34m,\u001b[0m \u001b[0;34m**\u001b[0m\u001b[0mkwargs\u001b[0m\u001b[0;34m)\u001b[0m\u001b[0;34m\u001b[0m\u001b[0;34m\u001b[0m\u001b[0m\n\u001b[0m",
      "\u001b[0;32m/opt/conda/lib/python3.9/site-packages/sklearn/model_selection/_validation.py\u001b[0m in \u001b[0;36m_fit_and_score\u001b[0;34m(estimator, X, y, scorer, train, test, verbose, parameters, fit_params, return_train_score, return_parameters, return_n_test_samples, return_times, return_estimator, split_progress, candidate_progress, error_score)\u001b[0m\n\u001b[1;32m    591\u001b[0m             \u001b[0mestimator\u001b[0m\u001b[0;34m.\u001b[0m\u001b[0mfit\u001b[0m\u001b[0;34m(\u001b[0m\u001b[0mX_train\u001b[0m\u001b[0;34m,\u001b[0m \u001b[0;34m**\u001b[0m\u001b[0mfit_params\u001b[0m\u001b[0;34m)\u001b[0m\u001b[0;34m\u001b[0m\u001b[0;34m\u001b[0m\u001b[0m\n\u001b[1;32m    592\u001b[0m         \u001b[0;32melse\u001b[0m\u001b[0;34m:\u001b[0m\u001b[0;34m\u001b[0m\u001b[0;34m\u001b[0m\u001b[0m\n\u001b[0;32m--> 593\u001b[0;31m             \u001b[0mestimator\u001b[0m\u001b[0;34m.\u001b[0m\u001b[0mfit\u001b[0m\u001b[0;34m(\u001b[0m\u001b[0mX_train\u001b[0m\u001b[0;34m,\u001b[0m \u001b[0my_train\u001b[0m\u001b[0;34m,\u001b[0m \u001b[0;34m**\u001b[0m\u001b[0mfit_params\u001b[0m\u001b[0;34m)\u001b[0m\u001b[0;34m\u001b[0m\u001b[0;34m\u001b[0m\u001b[0m\n\u001b[0m\u001b[1;32m    594\u001b[0m \u001b[0;34m\u001b[0m\u001b[0m\n\u001b[1;32m    595\u001b[0m     \u001b[0;32mexcept\u001b[0m \u001b[0mException\u001b[0m \u001b[0;32mas\u001b[0m \u001b[0me\u001b[0m\u001b[0;34m:\u001b[0m\u001b[0;34m\u001b[0m\u001b[0;34m\u001b[0m\u001b[0m\n",
      "\u001b[0;32m/opt/conda/lib/python3.9/site-packages/sklearn/ensemble/_forest.py\u001b[0m in \u001b[0;36mfit\u001b[0;34m(self, X, y, sample_weight)\u001b[0m\n\u001b[1;32m    385\u001b[0m             \u001b[0;31m# parallel_backend contexts set at a higher level,\u001b[0m\u001b[0;34m\u001b[0m\u001b[0;34m\u001b[0m\u001b[0;34m\u001b[0m\u001b[0m\n\u001b[1;32m    386\u001b[0m             \u001b[0;31m# since correctness does not rely on using threads.\u001b[0m\u001b[0;34m\u001b[0m\u001b[0;34m\u001b[0m\u001b[0;34m\u001b[0m\u001b[0m\n\u001b[0;32m--> 387\u001b[0;31m             trees = Parallel(n_jobs=self.n_jobs, verbose=self.verbose,\n\u001b[0m\u001b[1;32m    388\u001b[0m                              \u001b[0;34m**\u001b[0m\u001b[0m_joblib_parallel_args\u001b[0m\u001b[0;34m(\u001b[0m\u001b[0mprefer\u001b[0m\u001b[0;34m=\u001b[0m\u001b[0;34m'threads'\u001b[0m\u001b[0;34m)\u001b[0m\u001b[0;34m)\u001b[0m\u001b[0;34m(\u001b[0m\u001b[0;34m\u001b[0m\u001b[0;34m\u001b[0m\u001b[0m\n\u001b[1;32m    389\u001b[0m                 delayed(_parallel_build_trees)(\n",
      "\u001b[0;32m/opt/conda/lib/python3.9/site-packages/joblib/parallel.py\u001b[0m in \u001b[0;36m__call__\u001b[0;34m(self, iterable)\u001b[0m\n\u001b[1;32m   1044\u001b[0m                 \u001b[0mself\u001b[0m\u001b[0;34m.\u001b[0m\u001b[0m_iterating\u001b[0m \u001b[0;34m=\u001b[0m \u001b[0mself\u001b[0m\u001b[0;34m.\u001b[0m\u001b[0m_original_iterator\u001b[0m \u001b[0;32mis\u001b[0m \u001b[0;32mnot\u001b[0m \u001b[0;32mNone\u001b[0m\u001b[0;34m\u001b[0m\u001b[0;34m\u001b[0m\u001b[0m\n\u001b[1;32m   1045\u001b[0m \u001b[0;34m\u001b[0m\u001b[0m\n\u001b[0;32m-> 1046\u001b[0;31m             \u001b[0;32mwhile\u001b[0m \u001b[0mself\u001b[0m\u001b[0;34m.\u001b[0m\u001b[0mdispatch_one_batch\u001b[0m\u001b[0;34m(\u001b[0m\u001b[0miterator\u001b[0m\u001b[0;34m)\u001b[0m\u001b[0;34m:\u001b[0m\u001b[0;34m\u001b[0m\u001b[0;34m\u001b[0m\u001b[0m\n\u001b[0m\u001b[1;32m   1047\u001b[0m                 \u001b[0;32mpass\u001b[0m\u001b[0;34m\u001b[0m\u001b[0;34m\u001b[0m\u001b[0m\n\u001b[1;32m   1048\u001b[0m \u001b[0;34m\u001b[0m\u001b[0m\n",
      "\u001b[0;32m/opt/conda/lib/python3.9/site-packages/joblib/parallel.py\u001b[0m in \u001b[0;36mdispatch_one_batch\u001b[0;34m(self, iterator)\u001b[0m\n\u001b[1;32m    859\u001b[0m                 \u001b[0;32mreturn\u001b[0m \u001b[0;32mFalse\u001b[0m\u001b[0;34m\u001b[0m\u001b[0;34m\u001b[0m\u001b[0m\n\u001b[1;32m    860\u001b[0m             \u001b[0;32melse\u001b[0m\u001b[0;34m:\u001b[0m\u001b[0;34m\u001b[0m\u001b[0;34m\u001b[0m\u001b[0m\n\u001b[0;32m--> 861\u001b[0;31m                 \u001b[0mself\u001b[0m\u001b[0;34m.\u001b[0m\u001b[0m_dispatch\u001b[0m\u001b[0;34m(\u001b[0m\u001b[0mtasks\u001b[0m\u001b[0;34m)\u001b[0m\u001b[0;34m\u001b[0m\u001b[0;34m\u001b[0m\u001b[0m\n\u001b[0m\u001b[1;32m    862\u001b[0m                 \u001b[0;32mreturn\u001b[0m \u001b[0;32mTrue\u001b[0m\u001b[0;34m\u001b[0m\u001b[0;34m\u001b[0m\u001b[0m\n\u001b[1;32m    863\u001b[0m \u001b[0;34m\u001b[0m\u001b[0m\n",
      "\u001b[0;32m/opt/conda/lib/python3.9/site-packages/joblib/parallel.py\u001b[0m in \u001b[0;36m_dispatch\u001b[0;34m(self, batch)\u001b[0m\n\u001b[1;32m    777\u001b[0m         \u001b[0;32mwith\u001b[0m \u001b[0mself\u001b[0m\u001b[0;34m.\u001b[0m\u001b[0m_lock\u001b[0m\u001b[0;34m:\u001b[0m\u001b[0;34m\u001b[0m\u001b[0;34m\u001b[0m\u001b[0m\n\u001b[1;32m    778\u001b[0m             \u001b[0mjob_idx\u001b[0m \u001b[0;34m=\u001b[0m \u001b[0mlen\u001b[0m\u001b[0;34m(\u001b[0m\u001b[0mself\u001b[0m\u001b[0;34m.\u001b[0m\u001b[0m_jobs\u001b[0m\u001b[0;34m)\u001b[0m\u001b[0;34m\u001b[0m\u001b[0;34m\u001b[0m\u001b[0m\n\u001b[0;32m--> 779\u001b[0;31m             \u001b[0mjob\u001b[0m \u001b[0;34m=\u001b[0m \u001b[0mself\u001b[0m\u001b[0;34m.\u001b[0m\u001b[0m_backend\u001b[0m\u001b[0;34m.\u001b[0m\u001b[0mapply_async\u001b[0m\u001b[0;34m(\u001b[0m\u001b[0mbatch\u001b[0m\u001b[0;34m,\u001b[0m \u001b[0mcallback\u001b[0m\u001b[0;34m=\u001b[0m\u001b[0mcb\u001b[0m\u001b[0;34m)\u001b[0m\u001b[0;34m\u001b[0m\u001b[0;34m\u001b[0m\u001b[0m\n\u001b[0m\u001b[1;32m    780\u001b[0m             \u001b[0;31m# A job can complete so quickly than its callback is\u001b[0m\u001b[0;34m\u001b[0m\u001b[0;34m\u001b[0m\u001b[0;34m\u001b[0m\u001b[0m\n\u001b[1;32m    781\u001b[0m             \u001b[0;31m# called before we get here, causing self._jobs to\u001b[0m\u001b[0;34m\u001b[0m\u001b[0;34m\u001b[0m\u001b[0;34m\u001b[0m\u001b[0m\n",
      "\u001b[0;32m/opt/conda/lib/python3.9/site-packages/joblib/_parallel_backends.py\u001b[0m in \u001b[0;36mapply_async\u001b[0;34m(self, func, callback)\u001b[0m\n\u001b[1;32m    206\u001b[0m     \u001b[0;32mdef\u001b[0m \u001b[0mapply_async\u001b[0m\u001b[0;34m(\u001b[0m\u001b[0mself\u001b[0m\u001b[0;34m,\u001b[0m \u001b[0mfunc\u001b[0m\u001b[0;34m,\u001b[0m \u001b[0mcallback\u001b[0m\u001b[0;34m=\u001b[0m\u001b[0;32mNone\u001b[0m\u001b[0;34m)\u001b[0m\u001b[0;34m:\u001b[0m\u001b[0;34m\u001b[0m\u001b[0;34m\u001b[0m\u001b[0m\n\u001b[1;32m    207\u001b[0m         \u001b[0;34m\"\"\"Schedule a func to be run\"\"\"\u001b[0m\u001b[0;34m\u001b[0m\u001b[0;34m\u001b[0m\u001b[0m\n\u001b[0;32m--> 208\u001b[0;31m         \u001b[0mresult\u001b[0m \u001b[0;34m=\u001b[0m \u001b[0mImmediateResult\u001b[0m\u001b[0;34m(\u001b[0m\u001b[0mfunc\u001b[0m\u001b[0;34m)\u001b[0m\u001b[0;34m\u001b[0m\u001b[0;34m\u001b[0m\u001b[0m\n\u001b[0m\u001b[1;32m    209\u001b[0m         \u001b[0;32mif\u001b[0m \u001b[0mcallback\u001b[0m\u001b[0;34m:\u001b[0m\u001b[0;34m\u001b[0m\u001b[0;34m\u001b[0m\u001b[0m\n\u001b[1;32m    210\u001b[0m             \u001b[0mcallback\u001b[0m\u001b[0;34m(\u001b[0m\u001b[0mresult\u001b[0m\u001b[0;34m)\u001b[0m\u001b[0;34m\u001b[0m\u001b[0;34m\u001b[0m\u001b[0m\n",
      "\u001b[0;32m/opt/conda/lib/python3.9/site-packages/joblib/_parallel_backends.py\u001b[0m in \u001b[0;36m__init__\u001b[0;34m(self, batch)\u001b[0m\n\u001b[1;32m    570\u001b[0m         \u001b[0;31m# Don't delay the application, to avoid keeping the input\u001b[0m\u001b[0;34m\u001b[0m\u001b[0;34m\u001b[0m\u001b[0;34m\u001b[0m\u001b[0m\n\u001b[1;32m    571\u001b[0m         \u001b[0;31m# arguments in memory\u001b[0m\u001b[0;34m\u001b[0m\u001b[0;34m\u001b[0m\u001b[0;34m\u001b[0m\u001b[0m\n\u001b[0;32m--> 572\u001b[0;31m         \u001b[0mself\u001b[0m\u001b[0;34m.\u001b[0m\u001b[0mresults\u001b[0m \u001b[0;34m=\u001b[0m \u001b[0mbatch\u001b[0m\u001b[0;34m(\u001b[0m\u001b[0;34m)\u001b[0m\u001b[0;34m\u001b[0m\u001b[0;34m\u001b[0m\u001b[0m\n\u001b[0m\u001b[1;32m    573\u001b[0m \u001b[0;34m\u001b[0m\u001b[0m\n\u001b[1;32m    574\u001b[0m     \u001b[0;32mdef\u001b[0m \u001b[0mget\u001b[0m\u001b[0;34m(\u001b[0m\u001b[0mself\u001b[0m\u001b[0;34m)\u001b[0m\u001b[0;34m:\u001b[0m\u001b[0;34m\u001b[0m\u001b[0;34m\u001b[0m\u001b[0m\n",
      "\u001b[0;32m/opt/conda/lib/python3.9/site-packages/joblib/parallel.py\u001b[0m in \u001b[0;36m__call__\u001b[0;34m(self)\u001b[0m\n\u001b[1;32m    260\u001b[0m         \u001b[0;31m# change the default number of processes to -1\u001b[0m\u001b[0;34m\u001b[0m\u001b[0;34m\u001b[0m\u001b[0;34m\u001b[0m\u001b[0m\n\u001b[1;32m    261\u001b[0m         \u001b[0;32mwith\u001b[0m \u001b[0mparallel_backend\u001b[0m\u001b[0;34m(\u001b[0m\u001b[0mself\u001b[0m\u001b[0;34m.\u001b[0m\u001b[0m_backend\u001b[0m\u001b[0;34m,\u001b[0m \u001b[0mn_jobs\u001b[0m\u001b[0;34m=\u001b[0m\u001b[0mself\u001b[0m\u001b[0;34m.\u001b[0m\u001b[0m_n_jobs\u001b[0m\u001b[0;34m)\u001b[0m\u001b[0;34m:\u001b[0m\u001b[0;34m\u001b[0m\u001b[0;34m\u001b[0m\u001b[0m\n\u001b[0;32m--> 262\u001b[0;31m             return [func(*args, **kwargs)\n\u001b[0m\u001b[1;32m    263\u001b[0m                     for func, args, kwargs in self.items]\n\u001b[1;32m    264\u001b[0m \u001b[0;34m\u001b[0m\u001b[0m\n",
      "\u001b[0;32m/opt/conda/lib/python3.9/site-packages/joblib/parallel.py\u001b[0m in \u001b[0;36m<listcomp>\u001b[0;34m(.0)\u001b[0m\n\u001b[1;32m    260\u001b[0m         \u001b[0;31m# change the default number of processes to -1\u001b[0m\u001b[0;34m\u001b[0m\u001b[0;34m\u001b[0m\u001b[0;34m\u001b[0m\u001b[0m\n\u001b[1;32m    261\u001b[0m         \u001b[0;32mwith\u001b[0m \u001b[0mparallel_backend\u001b[0m\u001b[0;34m(\u001b[0m\u001b[0mself\u001b[0m\u001b[0;34m.\u001b[0m\u001b[0m_backend\u001b[0m\u001b[0;34m,\u001b[0m \u001b[0mn_jobs\u001b[0m\u001b[0;34m=\u001b[0m\u001b[0mself\u001b[0m\u001b[0;34m.\u001b[0m\u001b[0m_n_jobs\u001b[0m\u001b[0;34m)\u001b[0m\u001b[0;34m:\u001b[0m\u001b[0;34m\u001b[0m\u001b[0;34m\u001b[0m\u001b[0m\n\u001b[0;32m--> 262\u001b[0;31m             return [func(*args, **kwargs)\n\u001b[0m\u001b[1;32m    263\u001b[0m                     for func, args, kwargs in self.items]\n\u001b[1;32m    264\u001b[0m \u001b[0;34m\u001b[0m\u001b[0m\n",
      "\u001b[0;32m/opt/conda/lib/python3.9/site-packages/sklearn/utils/fixes.py\u001b[0m in \u001b[0;36m__call__\u001b[0;34m(self, *args, **kwargs)\u001b[0m\n\u001b[1;32m    220\u001b[0m     \u001b[0;32mdef\u001b[0m \u001b[0m__call__\u001b[0m\u001b[0;34m(\u001b[0m\u001b[0mself\u001b[0m\u001b[0;34m,\u001b[0m \u001b[0;34m*\u001b[0m\u001b[0margs\u001b[0m\u001b[0;34m,\u001b[0m \u001b[0;34m**\u001b[0m\u001b[0mkwargs\u001b[0m\u001b[0;34m)\u001b[0m\u001b[0;34m:\u001b[0m\u001b[0;34m\u001b[0m\u001b[0;34m\u001b[0m\u001b[0m\n\u001b[1;32m    221\u001b[0m         \u001b[0;32mwith\u001b[0m \u001b[0mconfig_context\u001b[0m\u001b[0;34m(\u001b[0m\u001b[0;34m**\u001b[0m\u001b[0mself\u001b[0m\u001b[0;34m.\u001b[0m\u001b[0mconfig\u001b[0m\u001b[0;34m)\u001b[0m\u001b[0;34m:\u001b[0m\u001b[0;34m\u001b[0m\u001b[0;34m\u001b[0m\u001b[0m\n\u001b[0;32m--> 222\u001b[0;31m             \u001b[0;32mreturn\u001b[0m \u001b[0mself\u001b[0m\u001b[0;34m.\u001b[0m\u001b[0mfunction\u001b[0m\u001b[0;34m(\u001b[0m\u001b[0;34m*\u001b[0m\u001b[0margs\u001b[0m\u001b[0;34m,\u001b[0m \u001b[0;34m**\u001b[0m\u001b[0mkwargs\u001b[0m\u001b[0;34m)\u001b[0m\u001b[0;34m\u001b[0m\u001b[0;34m\u001b[0m\u001b[0m\n\u001b[0m",
      "\u001b[0;32m/opt/conda/lib/python3.9/site-packages/sklearn/ensemble/_forest.py\u001b[0m in \u001b[0;36m_parallel_build_trees\u001b[0;34m(tree, forest, X, y, sample_weight, tree_idx, n_trees, verbose, class_weight, n_samples_bootstrap)\u001b[0m\n\u001b[1;32m    167\u001b[0m                                                         indices=indices)\n\u001b[1;32m    168\u001b[0m \u001b[0;34m\u001b[0m\u001b[0m\n\u001b[0;32m--> 169\u001b[0;31m         \u001b[0mtree\u001b[0m\u001b[0;34m.\u001b[0m\u001b[0mfit\u001b[0m\u001b[0;34m(\u001b[0m\u001b[0mX\u001b[0m\u001b[0;34m,\u001b[0m \u001b[0my\u001b[0m\u001b[0;34m,\u001b[0m \u001b[0msample_weight\u001b[0m\u001b[0;34m=\u001b[0m\u001b[0mcurr_sample_weight\u001b[0m\u001b[0;34m,\u001b[0m \u001b[0mcheck_input\u001b[0m\u001b[0;34m=\u001b[0m\u001b[0;32mFalse\u001b[0m\u001b[0;34m)\u001b[0m\u001b[0;34m\u001b[0m\u001b[0;34m\u001b[0m\u001b[0m\n\u001b[0m\u001b[1;32m    170\u001b[0m     \u001b[0;32melse\u001b[0m\u001b[0;34m:\u001b[0m\u001b[0;34m\u001b[0m\u001b[0;34m\u001b[0m\u001b[0m\n\u001b[1;32m    171\u001b[0m         \u001b[0mtree\u001b[0m\u001b[0;34m.\u001b[0m\u001b[0mfit\u001b[0m\u001b[0;34m(\u001b[0m\u001b[0mX\u001b[0m\u001b[0;34m,\u001b[0m \u001b[0my\u001b[0m\u001b[0;34m,\u001b[0m \u001b[0msample_weight\u001b[0m\u001b[0;34m=\u001b[0m\u001b[0msample_weight\u001b[0m\u001b[0;34m,\u001b[0m \u001b[0mcheck_input\u001b[0m\u001b[0;34m=\u001b[0m\u001b[0;32mFalse\u001b[0m\u001b[0;34m)\u001b[0m\u001b[0;34m\u001b[0m\u001b[0;34m\u001b[0m\u001b[0m\n",
      "\u001b[0;32m/opt/conda/lib/python3.9/site-packages/sklearn/tree/_classes.py\u001b[0m in \u001b[0;36mfit\u001b[0;34m(self, X, y, sample_weight, check_input, X_idx_sorted)\u001b[0m\n\u001b[1;32m   1245\u001b[0m         \"\"\"\n\u001b[1;32m   1246\u001b[0m \u001b[0;34m\u001b[0m\u001b[0m\n\u001b[0;32m-> 1247\u001b[0;31m         super().fit(\n\u001b[0m\u001b[1;32m   1248\u001b[0m             \u001b[0mX\u001b[0m\u001b[0;34m,\u001b[0m \u001b[0my\u001b[0m\u001b[0;34m,\u001b[0m\u001b[0;34m\u001b[0m\u001b[0;34m\u001b[0m\u001b[0m\n\u001b[1;32m   1249\u001b[0m             \u001b[0msample_weight\u001b[0m\u001b[0;34m=\u001b[0m\u001b[0msample_weight\u001b[0m\u001b[0;34m,\u001b[0m\u001b[0;34m\u001b[0m\u001b[0;34m\u001b[0m\u001b[0m\n",
      "\u001b[0;32m/opt/conda/lib/python3.9/site-packages/sklearn/tree/_classes.py\u001b[0m in \u001b[0;36mfit\u001b[0;34m(self, X, y, sample_weight, check_input, X_idx_sorted)\u001b[0m\n\u001b[1;32m    387\u001b[0m                                            min_impurity_split)\n\u001b[1;32m    388\u001b[0m \u001b[0;34m\u001b[0m\u001b[0m\n\u001b[0;32m--> 389\u001b[0;31m         \u001b[0mbuilder\u001b[0m\u001b[0;34m.\u001b[0m\u001b[0mbuild\u001b[0m\u001b[0;34m(\u001b[0m\u001b[0mself\u001b[0m\u001b[0;34m.\u001b[0m\u001b[0mtree_\u001b[0m\u001b[0;34m,\u001b[0m \u001b[0mX\u001b[0m\u001b[0;34m,\u001b[0m \u001b[0my\u001b[0m\u001b[0;34m,\u001b[0m \u001b[0msample_weight\u001b[0m\u001b[0;34m)\u001b[0m\u001b[0;34m\u001b[0m\u001b[0;34m\u001b[0m\u001b[0m\n\u001b[0m\u001b[1;32m    390\u001b[0m \u001b[0;34m\u001b[0m\u001b[0m\n\u001b[1;32m    391\u001b[0m         \u001b[0;32mif\u001b[0m \u001b[0mself\u001b[0m\u001b[0;34m.\u001b[0m\u001b[0mn_outputs_\u001b[0m \u001b[0;34m==\u001b[0m \u001b[0;36m1\u001b[0m \u001b[0;32mand\u001b[0m \u001b[0mis_classifier\u001b[0m\u001b[0;34m(\u001b[0m\u001b[0mself\u001b[0m\u001b[0;34m)\u001b[0m\u001b[0;34m:\u001b[0m\u001b[0;34m\u001b[0m\u001b[0;34m\u001b[0m\u001b[0m\n",
      "\u001b[0;31mKeyboardInterrupt\u001b[0m: "
     ]
    }
   ],
   "source": [
    "cross_results = []\n",
    "\n",
    "for model in models: \n",
    "    \n",
    "    # Применим фунцию расчета кросс-валидации по двум целевым признакам\n",
    "    cross_rougher, cross_final = cross(features_train, target_rougher, target_final, 5)\n",
    "    \n",
    "    cross_results.append({'Название модели': model.__class__.__name__, \n",
    "                          'Результат кросс-валидации по выходу флотации': cross_rougher, \n",
    "                          'Результат кросс-валидации по финальному выходу': cross_final}) \n",
    "\n",
    "pd.DataFrame(cross_results)"
   ]
  },
  {
   "cell_type": "markdown",
   "metadata": {},
   "source": [
    "Наилучший результат показала модель Случайный лес"
   ]
  },
  {
   "cell_type": "markdown",
   "metadata": {},
   "source": [
    "### Подбор гиперпараметров для модели Случайный лес"
   ]
  },
  {
   "cell_type": "code",
   "execution_count": 56,
   "metadata": {},
   "outputs": [
    {
     "name": "stdout",
     "output_type": "stream",
     "text": [
      "Результат работы по одбору гиперпараметров: \n",
      " Количество деревьев 25 \n",
      " Глубина деревьев 4 \n",
      " Итоговое sMAPE: 8.405607616452576\n"
     ]
    },
    {
     "data": {
      "text/html": [
       "<style  type=\"text/css\" >\n",
       "#T_e2e0c_row5_col1{\n",
       "            background-color:  lightgreen;\n",
       "        }</style><table id=\"T_e2e0c_\" ><thead>    <tr>        <th class=\"blank level0\" ></th>        <th class=\"col_heading level0 col0\" >Гиперпараметры</th>        <th class=\"col_heading level0 col1\" >smape_final_result</th>    </tr></thead><tbody>\n",
       "                <tr>\n",
       "                        <th id=\"T_e2e0c_level0_row0\" class=\"row_heading level0 row0\" >0</th>\n",
       "                        <td id=\"T_e2e0c_row0_col0\" class=\"data row0 col0\" >{'n_estimators': 15, 'max_depth': 3}</td>\n",
       "                        <td id=\"T_e2e0c_row0_col1\" class=\"data row0 col1\" >8.534802</td>\n",
       "            </tr>\n",
       "            <tr>\n",
       "                        <th id=\"T_e2e0c_level0_row1\" class=\"row_heading level0 row1\" >1</th>\n",
       "                        <td id=\"T_e2e0c_row1_col0\" class=\"data row1 col0\" >{'n_estimators': 15, 'max_depth': 4}</td>\n",
       "                        <td id=\"T_e2e0c_row1_col1\" class=\"data row1 col1\" >8.576984</td>\n",
       "            </tr>\n",
       "            <tr>\n",
       "                        <th id=\"T_e2e0c_level0_row2\" class=\"row_heading level0 row2\" >2</th>\n",
       "                        <td id=\"T_e2e0c_row2_col0\" class=\"data row2 col0\" >{'n_estimators': 20, 'max_depth': 3}</td>\n",
       "                        <td id=\"T_e2e0c_row2_col1\" class=\"data row2 col1\" >8.493913</td>\n",
       "            </tr>\n",
       "            <tr>\n",
       "                        <th id=\"T_e2e0c_level0_row3\" class=\"row_heading level0 row3\" >3</th>\n",
       "                        <td id=\"T_e2e0c_row3_col0\" class=\"data row3 col0\" >{'n_estimators': 20, 'max_depth': 4}</td>\n",
       "                        <td id=\"T_e2e0c_row3_col1\" class=\"data row3 col1\" >8.517410</td>\n",
       "            </tr>\n",
       "            <tr>\n",
       "                        <th id=\"T_e2e0c_level0_row4\" class=\"row_heading level0 row4\" >4</th>\n",
       "                        <td id=\"T_e2e0c_row4_col0\" class=\"data row4 col0\" >{'n_estimators': 25, 'max_depth': 3}</td>\n",
       "                        <td id=\"T_e2e0c_row4_col1\" class=\"data row4 col1\" >8.466713</td>\n",
       "            </tr>\n",
       "            <tr>\n",
       "                        <th id=\"T_e2e0c_level0_row5\" class=\"row_heading level0 row5\" >5</th>\n",
       "                        <td id=\"T_e2e0c_row5_col0\" class=\"data row5 col0\" >{'n_estimators': 25, 'max_depth': 4}</td>\n",
       "                        <td id=\"T_e2e0c_row5_col1\" class=\"data row5 col1\" >8.405608</td>\n",
       "            </tr>\n",
       "    </tbody></table>"
      ],
      "text/plain": [
       "<pandas.io.formats.style.Styler at 0x7ffa4226b580>"
      ]
     },
     "execution_count": 56,
     "metadata": {},
     "output_type": "execute_result"
    }
   ],
   "source": [
    "# Подберем гипепараметры для модели Случайный лес\n",
    "results=[]\n",
    "best_result = 100\n",
    "best_depth_f = 0\n",
    "estin = 0\n",
    "\n",
    "# Создаем цикл для выбора количества деревьев\n",
    "for est in range(15, 26, 5):\n",
    "\n",
    "    # Создаем цикл для выбора глубины дерева решений     \n",
    "    for depth_f in range (3, 5):\n",
    "        model = RandomForestRegressor(random_state=12345, n_estimators=est, max_depth=depth_f) \n",
    "\n",
    "        # Применим фунцию расчета кросс-валидации по двум целевым признакам\n",
    "        cross_rougher, cross_final = cross(features_train, target_rougher, target_final, 5)        \n",
    "\n",
    "        smape_final_result = final_smape(cross_rougher, cross_final)\n",
    "\n",
    "        # Добавил для проверки результата\n",
    "        results.append({'Гиперпараметры': {'n_estimators': est, \n",
    "                                            'max_depth':depth_f}, \n",
    "                        'smape_final_result': smape_final_result})\n",
    "        \n",
    "       \n",
    "        \n",
    "        if smape_final_result < best_result:\n",
    "            \n",
    "            # Сохраняем наилучшее значение метрики smape_final_result\n",
    "            best_result = smape_final_result\n",
    "            \n",
    "            # Сохраняем количество деревьев решений для наилучшей метрики\n",
    "            estin = est\n",
    "            \n",
    "            # Сохраняем глубину дерева решений для наилучшей метрики \n",
    "            best_depth_f = depth_f\n",
    "            \n",
    "print(\"Результат работы по одбору гиперпараметров:\", '\\n', 'Количество деревьев', estin, '\\n', \n",
    "      'Глубина деревьев',  best_depth_f, '\\n', 'Итоговое sMAPE:', best_result)\n",
    "\n",
    "# Добавил для проверки результата\n",
    "pd.DataFrame(results).style.highlight_min(color = 'lightgreen', axis = 0) "
   ]
  },
  {
   "cell_type": "code",
   "execution_count": 53,
   "metadata": {},
   "outputs": [
    {
     "name": "stdout",
     "output_type": "stream",
     "text": [
      "2\n"
     ]
    }
   ],
   "source": [
    "#КОД РЕВЬЮЕРА\n",
    "best_result = 100\n",
    "primer = [10, 5, 50, 2]\n",
    "for smape_final_result in primer:\n",
    "    if smape_final_result < best_result:\n",
    "        best_result = smape_final_result\n",
    "     #   print (smape_final_result)\n",
    "print(best_result)"
   ]
  },
  {
   "cell_type": "markdown",
   "metadata": {},
   "source": [
    "### Обучение и проверка модели Случайный лес"
   ]
  },
  {
   "cell_type": "code",
   "execution_count": 37,
   "metadata": {},
   "outputs": [
    {
     "name": "stdout",
     "output_type": "stream",
     "text": [
      "Итоговое sMAPE: 7.350829565824833\n"
     ]
    }
   ],
   "source": [
    "# Применим полученные параметры в модели Случайный лес\n",
    "model_forest = RandomForestRegressor(random_state=12345, n_estimators=estin, max_depth=best_depth_f)\n",
    "\n",
    "# Обучаем модель на тренировочной выборке для target_rougher\n",
    "model_forest.fit(features_train, target_rougher) \n",
    "predict_rougher=model_forest.predict(features_test)\n",
    "smape_rougher = smape(target_rougher_test, predict_rougher)\n",
    "\n",
    "# Обучаем модель на тренировочной выборке для target_final\n",
    "model_forest.fit(features_train, target_final)\n",
    "predict_final=model_forest.predict(features_test)\n",
    "smape_final = smape(target_final_test, predict_final)\n",
    "\n",
    "print('Итоговое sMAPE:', final_smape(smape_rougher, smape_final))"
   ]
  },
  {
   "cell_type": "markdown",
   "metadata": {},
   "source": [
    "### Проверка модели с помощью DummyRegressor"
   ]
  },
  {
   "cell_type": "code",
   "execution_count": 38,
   "metadata": {},
   "outputs": [
    {
     "name": "stdout",
     "output_type": "stream",
     "text": [
      "Итоговое sMAPE 7.7796934764744305\n"
     ]
    }
   ],
   "source": [
    "dummy_regr = DummyRegressor(strategy='mean')\n",
    "\n",
    "# Обучаем модель на тренировочной выборке для target_rougher\n",
    "dummy_regr.fit(features_train, target_rougher)\n",
    "predictions_rou = dummy_regr.predict(features_test)\n",
    "smape_rougher_dummy = smape(target_rougher_test, predictions_rou)\n",
    "\n",
    "dummy_regr.fit(features_train, target_final)\n",
    "predictions_fin = dummy_regr.predict(features_test)\n",
    "smape_final_dummy = smape(target_final_test, predictions_fin)\n",
    "\n",
    "print('Итоговое sMAPE', final_smape(smape_rougher_dummy, smape_final_dummy))"
   ]
  },
  {
   "cell_type": "markdown",
   "metadata": {},
   "source": [
    "Выбранная и обученная модель работает лучше, чем констатнтная - 7,35% против 7,78%"
   ]
  },
  {
   "cell_type": "markdown",
   "metadata": {},
   "source": [
    "### Выводы по разделу"
   ]
  },
  {
   "cell_type": "markdown",
   "metadata": {},
   "source": [
    "В этом разделе были написаны функции для вычисления метрик sMAPE и итоговой sMAPE.\n",
    "При помощи кросс-валидации была подобрана наилучшая модель - Случайный лес\n",
    "Были подобраны гиперпараметры для модели Случайный лес - количество деревьев 15, глубина деревьев 4\n",
    "Также была осуществлена проверка модели при помощи DummyRegressor, результат - обученная модель работает лучше, чем констатнтная - 7,35% против 7,77%"
   ]
  },
  {
   "cell_type": "markdown",
   "metadata": {},
   "source": [
    "## Выводы"
   ]
  },
  {
   "cell_type": "markdown",
   "metadata": {},
   "source": [
    "Провели проверку расчёта признака эффективность обогащения (rougher.output.recovery) - учитывая полученный результат можно сказать, что параметр rougher.output.recovery, приведенный в датафрейме, расчитан правильно.\n",
    "\n",
    "Выявлены признаки, недоступные в тестовой выборке:\n",
    "\n",
    "- характеристики содержания Ag, Au, Pb, sol после прохождения стадий обработки, а также в хвостах обработок\n",
    "- расчетные показатели выхода продукта, а также числе сульфатов и соотношений \n",
    "\n",
    "Провели сравнение концентрации металлов (Au, Ag, Pb) на различных этапах очистки, по результатам которого были сделаны следующие выводы:\n",
    "\n",
    "- концентрация золота растет,\n",
    "- концентрация серебра после флотации растет, затем начинает снижаться\n",
    "- концентрация свинца на этапах флотации и первичной очистки растет, после второй очистки незначительно снижается\n",
    "\n",
    "Проведено сравнение распределения размеров гранул сырья на обучающей и тестовой выборках, по результатам которого был сделан вывод о том, что распределения для тестовой и обучающей выборок носят одинаковый характер и соответственно не повлияют на оценку модели.\n",
    "\n",
    "Исследованы суммарные концентрации всех веществ на разных стадиях, по результатам которых сделан вывод, что в датафрейме много 0-х значений, что скорее всего не имеет физического смысла и может в дальнейшем негативно сказаться на работе модели.  После удаления значений параметров до 1 - разброс данных стал значительно меньше. Поскольку данные, расположенные в строках, где находились удаленные элементы с большой вероятностью исказят работу модели - соответствующие строки в тренировочной и тестовой выборках были удалены.\n",
    "\n",
    "Были написаны функции для вычисления метрик sMAPE и итоговой sMAPE, в соответствии с предоставленной документацией.\n",
    "Произведено масштабирование выборок.\n",
    "При помощи кросс-валидации была подобрана наилучшая модель - Случайный лес\n",
    "Были подобраны гиперпараметры для модели Случайный лес - количество деревьев 15, глубина деревьев 4\n",
    "Также была осуществлена проверка модели при помощи DummyRegressor, результат - обученная модель работает лучше, чем констатнтная - 7,35% против 7,78%"
   ]
  },
  {
   "cell_type": "markdown",
   "metadata": {
    "toc": true
   },
   "source": [
    "<h1>Содержание<span class=\"tocSkip\"></span></h1>\n",
    "<div class=\"toc\"><ul class=\"toc-item\"><li><span><a href=\"#Подготовка-данных\" data-toc-modified-id=\"Подготовка-данных-1\"><span class=\"toc-item-num\">1&nbsp;&nbsp;</span>Подготовка данных</a></span><ul class=\"toc-item\"><li><span><a href=\"#Загрузка-и-изучение-предоставленных-датафреймов\" data-toc-modified-id=\"Загрузка-и-изучение-предоставленных-датафреймов-1.1\"><span class=\"toc-item-num\">1.1&nbsp;&nbsp;</span>Загрузка и изучение предоставленных датафреймов</a></span></li><li><span><a href=\"#Проверка-правильности-расчета-эффективности-обогащения.\" data-toc-modified-id=\"Проверка-правильности-расчета-эффективности-обогащения.-1.2\"><span class=\"toc-item-num\">1.2&nbsp;&nbsp;</span>Проверка правильности расчета эффективности обогащения.</a></span></li><li><span><a href=\"#Анализ-признаков,-недоступных-в-тестовой-выборке.\" data-toc-modified-id=\"Анализ-признаков,-недоступных-в-тестовой-выборке.-1.3\"><span class=\"toc-item-num\">1.3&nbsp;&nbsp;</span>Анализ признаков, недоступных в тестовой выборке.</a></span></li><li><span><a href=\"#Предобработка-данных\" data-toc-modified-id=\"Предобработка-данных-1.4\"><span class=\"toc-item-num\">1.4&nbsp;&nbsp;</span>Предобработка данных</a></span><ul class=\"toc-item\"><li><span><a href=\"#Присвоение-индексов\" data-toc-modified-id=\"Присвоение-индексов-1.4.1\"><span class=\"toc-item-num\">1.4.1&nbsp;&nbsp;</span>Присвоение индексов</a></span></li><li><span><a href=\"#Подготовка-обучающей-выборки---удаление-лишних-столбцов-и-заполнение-пропусков\" data-toc-modified-id=\"Подготовка-обучающей-выборки---удаление-лишних-столбцов-и-заполнение-пропусков-1.4.2\"><span class=\"toc-item-num\">1.4.2&nbsp;&nbsp;</span>Подготовка обучающей выборки - удаление лишних столбцов и заполнение пропусков</a></span></li><li><span><a href=\"#Подготовка-тестовой-выборки---добавление-недостающих-столбцов-и-заполнение-пропусков\" data-toc-modified-id=\"Подготовка-тестовой-выборки---добавление-недостающих-столбцов-и-заполнение-пропусков-1.4.3\"><span class=\"toc-item-num\">1.4.3&nbsp;&nbsp;</span>Подготовка тестовой выборки - добавление недостающих столбцов и заполнение пропусков</a></span></li></ul></li><li><span><a href=\"#Выводы\" data-toc-modified-id=\"Выводы-1.5\"><span class=\"toc-item-num\">1.5&nbsp;&nbsp;</span>Выводы</a></span></li></ul></li><li><span><a href=\"#Анализ-данных\" data-toc-modified-id=\"Анализ-данных-2\"><span class=\"toc-item-num\">2&nbsp;&nbsp;</span>Анализ данных</a></span><ul class=\"toc-item\"><li><span><a href=\"#Сравнение-концентрации-металлов-(Au,-Ag,-Pb)-на-различных-этапах-очистки.\" data-toc-modified-id=\"Сравнение-концентрации-металлов-(Au,-Ag,-Pb)-на-различных-этапах-очистки.-2.1\"><span class=\"toc-item-num\">2.1&nbsp;&nbsp;</span>Сравнение концентрации металлов (Au, Ag, Pb) на различных этапах очистки.</a></span></li><li><span><a href=\"#Сравнение-распределения-размеров-гранул-сырья-на-обучающей-и-тестовой-выборках.\" data-toc-modified-id=\"Сравнение-распределения-размеров-гранул-сырья-на-обучающей-и-тестовой-выборках.-2.2\"><span class=\"toc-item-num\">2.2&nbsp;&nbsp;</span>Сравнение распределения размеров гранул сырья на обучающей и тестовой выборках.</a></span></li><li><span><a href=\"#Исследование-суммарной-концентрации-всех-веществ-на-разных-стадиях\" data-toc-modified-id=\"Исследование-суммарной-концентрации-всех-веществ-на-разных-стадиях-2.3\"><span class=\"toc-item-num\">2.3&nbsp;&nbsp;</span>Исследование суммарной концентрации всех веществ на разных стадиях</a></span></li><li><span><a href=\"#Выводы\" data-toc-modified-id=\"Выводы-2.4\"><span class=\"toc-item-num\">2.4&nbsp;&nbsp;</span>Выводы</a></span></li></ul></li><li><span><a href=\"#Модель\" data-toc-modified-id=\"Модель-3\"><span class=\"toc-item-num\">3&nbsp;&nbsp;</span>Модель</a></span><ul class=\"toc-item\"><li><span><a href=\"#Создание-функций-для-вычисления-итоговой-sMAPE.\" data-toc-modified-id=\"Создание-функций-для-вычисления-итоговой-sMAPE.-3.1\"><span class=\"toc-item-num\">3.1&nbsp;&nbsp;</span>Создание функций для вычисления итоговой sMAPE.</a></span></li><li><span><a href=\"#Подготовка-признаков,-тестовой-и-тренировочной-выборок\" data-toc-modified-id=\"Подготовка-признаков,-тестовой-и-тренировочной-выборок-3.2\"><span class=\"toc-item-num\">3.2&nbsp;&nbsp;</span>Подготовка признаков, тестовой и тренировочной выборок</a></span></li><li><span><a href=\"#Масштабирование-выборок\" data-toc-modified-id=\"Масштабирование-выборок-3.3\"><span class=\"toc-item-num\">3.3&nbsp;&nbsp;</span>Масштабирование выборок</a></span></li><li><span><a href=\"#Обучение-различных-моделей-и-оценка-их-качества-кросс-валидацией.\" data-toc-modified-id=\"Обучение-различных-моделей-и-оценка-их-качества-кросс-валидацией.-3.4\"><span class=\"toc-item-num\">3.4&nbsp;&nbsp;</span>Обучение различных моделей и оценка их качества кросс-валидацией.</a></span></li><li><span><a href=\"#Подбор-гиперпараметров-для-модели-Случайный-лес\" data-toc-modified-id=\"Подбор-гиперпараметров-для-модели-Случайный-лес-3.5\"><span class=\"toc-item-num\">3.5&nbsp;&nbsp;</span>Подбор гиперпараметров для модели Случайный лес</a></span></li><li><span><a href=\"#Обучение-и-проверка-модели-Случайный-лес\" data-toc-modified-id=\"Обучение-и-проверка-модели-Случайный-лес-3.6\"><span class=\"toc-item-num\">3.6&nbsp;&nbsp;</span>Обучение и проверка модели Случайный лес</a></span></li><li><span><a href=\"#Обучение-и-проверка-модели-CatBoost\" data-toc-modified-id=\"Обучение-и-проверка-модели-CatBoost-3.7\"><span class=\"toc-item-num\">3.7&nbsp;&nbsp;</span>Обучение и проверка модели CatBoost</a></span></li></ul></li><li><span><a href=\"#Чек-лист-готовности-проекта\" data-toc-modified-id=\"Чек-лист-готовности-проекта-4\"><span class=\"toc-item-num\">4&nbsp;&nbsp;</span>Чек-лист готовности проекта</a></span></li></ul></div>"
   ]
  }
 ],
 "metadata": {
  "ExecuteTimeLog": [
   {
    "duration": 245,
    "start_time": "2022-03-09T17:11:45.063Z"
   },
   {
    "duration": 1154,
    "start_time": "2022-03-09T17:11:49.733Z"
   },
   {
    "duration": 994,
    "start_time": "2022-03-09T17:11:52.033Z"
   },
   {
    "duration": 758,
    "start_time": "2022-03-09T17:12:15.247Z"
   },
   {
    "duration": 117087,
    "start_time": "2022-03-09T17:17:05.181Z"
   },
   {
    "duration": 306,
    "start_time": "2022-03-09T17:19:02.271Z"
   },
   {
    "duration": 230,
    "start_time": "2022-03-09T17:22:34.539Z"
   },
   {
    "duration": 43586,
    "start_time": "2022-03-09T17:22:50.029Z"
   },
   {
    "duration": 200,
    "start_time": "2022-03-09T17:48:48.749Z"
   },
   {
    "duration": 4,
    "start_time": "2022-03-09T21:06:44.067Z"
   },
   {
    "duration": 186,
    "start_time": "2022-03-09T21:07:08.587Z"
   },
   {
    "duration": 217,
    "start_time": "2022-03-09T21:07:14.868Z"
   },
   {
    "duration": 200,
    "start_time": "2022-03-09T21:07:35.460Z"
   },
   {
    "duration": 22,
    "start_time": "2022-03-09T21:08:00.508Z"
   },
   {
    "duration": 18,
    "start_time": "2022-03-09T21:09:07.499Z"
   },
   {
    "duration": 768,
    "start_time": "2022-03-09T21:10:04.221Z"
   },
   {
    "duration": 13,
    "start_time": "2022-03-09T21:10:10.605Z"
   },
   {
    "duration": 22,
    "start_time": "2022-03-09T21:10:17.572Z"
   },
   {
    "duration": 286,
    "start_time": "2022-03-09T21:15:51.532Z"
   },
   {
    "duration": 194,
    "start_time": "2022-03-09T21:15:58.589Z"
   },
   {
    "duration": 908,
    "start_time": "2022-03-09T21:17:13.477Z"
   },
   {
    "duration": 918,
    "start_time": "2022-03-09T21:17:47.631Z"
   },
   {
    "duration": 481,
    "start_time": "2022-03-09T21:18:35.528Z"
   },
   {
    "duration": 470,
    "start_time": "2022-03-09T21:18:51.833Z"
   },
   {
    "duration": 488,
    "start_time": "2022-03-09T21:18:58.703Z"
   },
   {
    "duration": 4,
    "start_time": "2022-03-09T21:19:07.717Z"
   },
   {
    "duration": 484,
    "start_time": "2022-03-09T21:19:15.106Z"
   },
   {
    "duration": 700,
    "start_time": "2022-03-09T21:20:51.779Z"
   },
   {
    "duration": 689,
    "start_time": "2022-03-09T21:20:57.603Z"
   },
   {
    "duration": 22308,
    "start_time": "2022-03-09T21:33:16.270Z"
   },
   {
    "duration": 48170,
    "start_time": "2022-03-09T21:34:13.019Z"
   },
   {
    "duration": 4533,
    "start_time": "2022-03-09T21:37:44.737Z"
   },
   {
    "duration": 55,
    "start_time": "2022-03-09T21:53:16.926Z"
   },
   {
    "duration": 184,
    "start_time": "2022-03-09T21:53:29.357Z"
   },
   {
    "duration": 187,
    "start_time": "2022-03-09T21:53:36.584Z"
   },
   {
    "duration": 5,
    "start_time": "2022-03-09T21:59:07.198Z"
   },
   {
    "duration": 3,
    "start_time": "2022-03-09T21:59:43.497Z"
   },
   {
    "duration": 4,
    "start_time": "2022-03-09T21:59:50.519Z"
   },
   {
    "duration": 4,
    "start_time": "2022-03-09T22:00:09.250Z"
   },
   {
    "duration": 206,
    "start_time": "2022-03-09T22:01:09.600Z"
   },
   {
    "duration": 4,
    "start_time": "2022-03-09T22:01:28.800Z"
   },
   {
    "duration": 184,
    "start_time": "2022-03-09T22:02:25.968Z"
   },
   {
    "duration": 4,
    "start_time": "2022-03-09T22:02:45.580Z"
   },
   {
    "duration": 3,
    "start_time": "2022-03-10T09:54:54.833Z"
   },
   {
    "duration": 43720,
    "start_time": "2022-03-10T09:55:10.671Z"
   },
   {
    "duration": 1420,
    "start_time": "2022-03-10T09:56:09.540Z"
   },
   {
    "duration": 655,
    "start_time": "2022-03-10T09:56:24.839Z"
   },
   {
    "duration": 40830,
    "start_time": "2022-03-10T09:56:30.535Z"
   },
   {
    "duration": 20692,
    "start_time": "2022-03-10T09:57:19.394Z"
   },
   {
    "duration": 46067,
    "start_time": "2022-03-10T09:58:17.860Z"
   },
   {
    "duration": 286,
    "start_time": "2022-03-10T10:09:39.833Z"
   },
   {
    "duration": 5,
    "start_time": "2022-03-10T10:09:51.133Z"
   },
   {
    "duration": 31,
    "start_time": "2022-03-10T10:10:03.309Z"
   },
   {
    "duration": 193,
    "start_time": "2022-03-10T10:11:26.996Z"
   },
   {
    "duration": 4,
    "start_time": "2022-03-10T10:12:08.848Z"
   },
   {
    "duration": 203,
    "start_time": "2022-03-10T10:12:18.125Z"
   },
   {
    "duration": 4,
    "start_time": "2022-03-10T10:16:47.967Z"
   },
   {
    "duration": 6,
    "start_time": "2022-03-10T10:16:56.013Z"
   },
   {
    "duration": 16,
    "start_time": "2022-03-10T10:21:46.403Z"
   },
   {
    "duration": 168,
    "start_time": "2022-03-10T10:22:24.581Z"
   },
   {
    "duration": 6,
    "start_time": "2022-03-10T10:23:19.231Z"
   },
   {
    "duration": 5,
    "start_time": "2022-03-10T10:23:58.003Z"
   },
   {
    "duration": 191,
    "start_time": "2022-03-10T11:56:38.834Z"
   },
   {
    "duration": 7,
    "start_time": "2022-03-10T11:56:52.893Z"
   },
   {
    "duration": 17,
    "start_time": "2022-03-10T11:57:16.703Z"
   },
   {
    "duration": 7,
    "start_time": "2022-03-10T11:59:37.303Z"
   },
   {
    "duration": 769,
    "start_time": "2022-03-10T12:02:14.132Z"
   },
   {
    "duration": 3,
    "start_time": "2022-03-10T12:02:29.983Z"
   },
   {
    "duration": 28,
    "start_time": "2022-03-10T12:02:29.988Z"
   },
   {
    "duration": 3,
    "start_time": "2022-03-10T13:01:37.113Z"
   },
   {
    "duration": 7,
    "start_time": "2022-03-10T13:01:37.854Z"
   },
   {
    "duration": 5,
    "start_time": "2022-03-10T13:01:42.503Z"
   },
   {
    "duration": 19,
    "start_time": "2022-03-10T13:04:45.587Z"
   },
   {
    "duration": 5,
    "start_time": "2022-03-10T13:04:46.561Z"
   },
   {
    "duration": 5,
    "start_time": "2022-03-10T13:04:47.739Z"
   },
   {
    "duration": 5,
    "start_time": "2022-03-10T13:09:50.033Z"
   },
   {
    "duration": 3,
    "start_time": "2022-03-10T13:11:59.712Z"
   },
   {
    "duration": 3,
    "start_time": "2022-03-10T13:12:25.671Z"
   },
   {
    "duration": 4,
    "start_time": "2022-03-10T13:12:35.563Z"
   },
   {
    "duration": 3,
    "start_time": "2022-03-10T13:13:30.590Z"
   },
   {
    "duration": 3,
    "start_time": "2022-03-10T13:13:40.550Z"
   },
   {
    "duration": 5,
    "start_time": "2022-03-10T13:13:55.540Z"
   },
   {
    "duration": 945,
    "start_time": "2022-03-10T13:15:10.130Z"
   },
   {
    "duration": 5,
    "start_time": "2022-03-10T13:15:17.318Z"
   },
   {
    "duration": 4,
    "start_time": "2022-03-10T13:15:32.621Z"
   },
   {
    "duration": 4,
    "start_time": "2022-03-10T13:15:48.853Z"
   },
   {
    "duration": 4,
    "start_time": "2022-03-10T13:16:01.054Z"
   },
   {
    "duration": 5,
    "start_time": "2022-03-10T13:25:01.087Z"
   },
   {
    "duration": 6,
    "start_time": "2022-03-10T16:42:44.962Z"
   },
   {
    "duration": 2,
    "start_time": "2022-03-10T16:43:11.287Z"
   },
   {
    "duration": 2877,
    "start_time": "2022-03-10T16:46:49.106Z"
   },
   {
    "duration": 3,
    "start_time": "2022-03-10T16:47:19.555Z"
   },
   {
    "duration": 178,
    "start_time": "2022-03-10T16:47:38.304Z"
   },
   {
    "duration": 5,
    "start_time": "2022-03-10T16:47:46.586Z"
   },
   {
    "duration": 5,
    "start_time": "2022-03-10T16:49:47.425Z"
   },
   {
    "duration": 165,
    "start_time": "2022-03-10T16:50:16.806Z"
   },
   {
    "duration": 167,
    "start_time": "2022-03-10T16:50:21.775Z"
   },
   {
    "duration": 4,
    "start_time": "2022-03-10T16:50:27.523Z"
   },
   {
    "duration": 175,
    "start_time": "2022-03-10T16:52:46.293Z"
   },
   {
    "duration": 3,
    "start_time": "2022-03-10T16:52:55.485Z"
   },
   {
    "duration": 4,
    "start_time": "2022-03-10T16:56:41.942Z"
   },
   {
    "duration": 4,
    "start_time": "2022-03-10T16:56:43.284Z"
   },
   {
    "duration": 653,
    "start_time": "2022-03-10T17:10:21.215Z"
   },
   {
    "duration": 3,
    "start_time": "2022-03-10T17:10:46.155Z"
   },
   {
    "duration": 8,
    "start_time": "2022-03-10T17:10:49.306Z"
   },
   {
    "duration": 6,
    "start_time": "2022-03-10T17:10:55.166Z"
   },
   {
    "duration": 6,
    "start_time": "2022-03-10T17:10:59.075Z"
   },
   {
    "duration": 5,
    "start_time": "2022-03-10T17:11:12.495Z"
   },
   {
    "duration": 5,
    "start_time": "2022-03-10T17:11:32.565Z"
   },
   {
    "duration": 58,
    "start_time": "2022-03-10T17:11:58.618Z"
   },
   {
    "duration": 5,
    "start_time": "2022-03-10T17:12:10.285Z"
   },
   {
    "duration": 5,
    "start_time": "2022-03-10T17:13:37.975Z"
   },
   {
    "duration": 5,
    "start_time": "2022-03-10T17:13:45.755Z"
   },
   {
    "duration": 3,
    "start_time": "2022-03-10T17:14:00.261Z"
   },
   {
    "duration": 4,
    "start_time": "2022-03-10T17:14:16.055Z"
   },
   {
    "duration": 5,
    "start_time": "2022-03-10T17:15:25.546Z"
   },
   {
    "duration": 6,
    "start_time": "2022-03-10T17:15:48.687Z"
   },
   {
    "duration": 3,
    "start_time": "2022-03-10T17:15:53.877Z"
   },
   {
    "duration": 6,
    "start_time": "2022-03-10T17:15:55.194Z"
   },
   {
    "duration": 61,
    "start_time": "2022-03-10T17:18:18.246Z"
   },
   {
    "duration": 3,
    "start_time": "2022-03-10T17:18:24.976Z"
   },
   {
    "duration": 4,
    "start_time": "2022-03-10T17:18:32.903Z"
   },
   {
    "duration": 2,
    "start_time": "2022-03-10T17:18:51.896Z"
   },
   {
    "duration": 6,
    "start_time": "2022-03-10T17:18:54.360Z"
   },
   {
    "duration": 3,
    "start_time": "2022-03-10T17:20:50.106Z"
   },
   {
    "duration": 5,
    "start_time": "2022-03-10T17:20:50.936Z"
   },
   {
    "duration": 178,
    "start_time": "2022-03-10T17:21:41.258Z"
   },
   {
    "duration": 5,
    "start_time": "2022-03-10T17:21:57.006Z"
   },
   {
    "duration": 3,
    "start_time": "2022-03-10T17:23:15.485Z"
   },
   {
    "duration": 3,
    "start_time": "2022-03-10T17:23:29.576Z"
   },
   {
    "duration": 3,
    "start_time": "2022-03-10T17:23:50.426Z"
   },
   {
    "duration": 4,
    "start_time": "2022-03-10T17:23:51.375Z"
   },
   {
    "duration": 193,
    "start_time": "2022-03-10T17:25:44.547Z"
   },
   {
    "duration": 165,
    "start_time": "2022-03-10T17:28:38.633Z"
   },
   {
    "duration": 3,
    "start_time": "2022-03-10T17:30:08.098Z"
   },
   {
    "duration": 5,
    "start_time": "2022-03-10T17:30:20.997Z"
   },
   {
    "duration": 4,
    "start_time": "2022-03-10T17:33:44.771Z"
   },
   {
    "duration": 12,
    "start_time": "2022-03-10T17:35:02.925Z"
   },
   {
    "duration": 12,
    "start_time": "2022-03-10T17:35:14.386Z"
   },
   {
    "duration": 9,
    "start_time": "2022-03-10T17:36:09.036Z"
   },
   {
    "duration": 12,
    "start_time": "2022-03-10T17:37:52.136Z"
   },
   {
    "duration": 15,
    "start_time": "2022-03-10T17:38:05.686Z"
   },
   {
    "duration": 192,
    "start_time": "2022-03-10T18:17:24.839Z"
   },
   {
    "duration": 5,
    "start_time": "2022-03-10T18:19:16.069Z"
   },
   {
    "duration": 11,
    "start_time": "2022-03-10T18:19:32.250Z"
   },
   {
    "duration": 10,
    "start_time": "2022-03-10T20:01:20.248Z"
   },
   {
    "duration": 172,
    "start_time": "2022-03-10T20:01:38.978Z"
   },
   {
    "duration": 185,
    "start_time": "2022-03-10T20:02:30.428Z"
   },
   {
    "duration": 277,
    "start_time": "2022-03-10T20:03:45.769Z"
   },
   {
    "duration": 176,
    "start_time": "2022-03-10T20:06:58.039Z"
   },
   {
    "duration": 4316,
    "start_time": "2022-03-10T20:08:25.538Z"
   },
   {
    "duration": 178,
    "start_time": "2022-03-10T20:08:49.198Z"
   },
   {
    "duration": 119,
    "start_time": "2022-03-10T20:10:45.818Z"
   },
   {
    "duration": 11,
    "start_time": "2022-03-10T20:11:02.908Z"
   },
   {
    "duration": 3430,
    "start_time": "2022-03-10T20:11:37.456Z"
   },
   {
    "duration": 20,
    "start_time": "2022-03-10T20:12:34.578Z"
   },
   {
    "duration": 178,
    "start_time": "2022-03-10T20:13:00.435Z"
   },
   {
    "duration": 9,
    "start_time": "2022-03-10T20:13:14.598Z"
   },
   {
    "duration": 3,
    "start_time": "2022-03-10T20:13:36.576Z"
   },
   {
    "duration": 1330,
    "start_time": "2022-03-10T20:14:04.292Z"
   },
   {
    "duration": 667,
    "start_time": "2022-03-10T20:14:08.483Z"
   },
   {
    "duration": 3,
    "start_time": "2022-03-10T20:14:14.032Z"
   },
   {
    "duration": 8,
    "start_time": "2022-03-10T20:14:15.942Z"
   },
   {
    "duration": 7,
    "start_time": "2022-03-10T20:14:19.562Z"
   },
   {
    "duration": 8,
    "start_time": "2022-03-10T20:14:20.191Z"
   },
   {
    "duration": 5,
    "start_time": "2022-03-10T20:14:23.732Z"
   },
   {
    "duration": 6,
    "start_time": "2022-03-10T20:14:30.363Z"
   },
   {
    "duration": 5,
    "start_time": "2022-03-10T20:14:33.622Z"
   },
   {
    "duration": 16,
    "start_time": "2022-03-10T20:14:42.402Z"
   },
   {
    "duration": 14,
    "start_time": "2022-03-10T20:14:44.112Z"
   },
   {
    "duration": 20,
    "start_time": "2022-03-10T20:15:11.712Z"
   },
   {
    "duration": 17,
    "start_time": "2022-03-10T20:15:55.652Z"
   },
   {
    "duration": 269,
    "start_time": "2022-03-10T20:16:49.621Z"
   },
   {
    "duration": 703,
    "start_time": "2022-03-10T20:17:04.673Z"
   },
   {
    "duration": 3,
    "start_time": "2022-03-10T20:17:12.203Z"
   },
   {
    "duration": 7,
    "start_time": "2022-03-10T20:17:12.812Z"
   },
   {
    "duration": 6,
    "start_time": "2022-03-10T20:17:14.672Z"
   },
   {
    "duration": 6,
    "start_time": "2022-03-10T20:17:15.223Z"
   },
   {
    "duration": 6,
    "start_time": "2022-03-10T20:17:21.972Z"
   },
   {
    "duration": 6,
    "start_time": "2022-03-10T20:17:25.923Z"
   },
   {
    "duration": 5,
    "start_time": "2022-03-10T20:17:29.863Z"
   },
   {
    "duration": 14,
    "start_time": "2022-03-10T20:17:35.150Z"
   },
   {
    "duration": 13,
    "start_time": "2022-03-10T20:17:44.772Z"
   },
   {
    "duration": 10,
    "start_time": "2022-03-10T20:18:06.442Z"
   },
   {
    "duration": 22,
    "start_time": "2022-03-10T20:18:19.511Z"
   },
   {
    "duration": 22,
    "start_time": "2022-03-10T20:18:33.018Z"
   },
   {
    "duration": 20,
    "start_time": "2022-03-10T20:18:52.281Z"
   },
   {
    "duration": 22,
    "start_time": "2022-03-10T20:19:03.570Z"
   },
   {
    "duration": 12,
    "start_time": "2022-03-10T20:19:12.501Z"
   },
   {
    "duration": 650,
    "start_time": "2022-03-10T20:20:32.037Z"
   },
   {
    "duration": 12,
    "start_time": "2022-03-10T20:20:50.449Z"
   },
   {
    "duration": 3174,
    "start_time": "2022-03-10T20:20:55.231Z"
   },
   {
    "duration": 655,
    "start_time": "2022-03-10T20:21:08.143Z"
   },
   {
    "duration": 3,
    "start_time": "2022-03-10T20:21:15.803Z"
   },
   {
    "duration": 8,
    "start_time": "2022-03-10T20:21:16.403Z"
   },
   {
    "duration": 5,
    "start_time": "2022-03-10T20:21:18.622Z"
   },
   {
    "duration": 5,
    "start_time": "2022-03-10T20:21:19.104Z"
   },
   {
    "duration": 4,
    "start_time": "2022-03-10T20:21:24.140Z"
   },
   {
    "duration": 5,
    "start_time": "2022-03-10T20:21:27.719Z"
   },
   {
    "duration": 5,
    "start_time": "2022-03-10T20:21:30.351Z"
   },
   {
    "duration": 12,
    "start_time": "2022-03-10T20:21:36.512Z"
   },
   {
    "duration": 14,
    "start_time": "2022-03-10T20:21:37.071Z"
   },
   {
    "duration": 20,
    "start_time": "2022-03-10T20:21:46.151Z"
   },
   {
    "duration": 9,
    "start_time": "2022-03-10T20:21:54.563Z"
   },
   {
    "duration": 6,
    "start_time": "2022-03-10T20:22:15.728Z"
   },
   {
    "duration": 10,
    "start_time": "2022-03-10T20:23:32.742Z"
   },
   {
    "duration": 5,
    "start_time": "2022-03-10T21:10:47.924Z"
   },
   {
    "duration": 122,
    "start_time": "2022-03-10T21:11:48.333Z"
   },
   {
    "duration": 6,
    "start_time": "2022-03-10T21:12:59.904Z"
   },
   {
    "duration": 73,
    "start_time": "2022-03-10T21:13:01.184Z"
   },
   {
    "duration": 4,
    "start_time": "2022-03-10T21:13:42.603Z"
   },
   {
    "duration": 3,
    "start_time": "2022-03-10T21:13:48.694Z"
   },
   {
    "duration": 7,
    "start_time": "2022-03-10T21:16:38.604Z"
   },
   {
    "duration": 177,
    "start_time": "2022-03-10T21:17:32.445Z"
   },
   {
    "duration": 101,
    "start_time": "2022-03-10T21:18:03.854Z"
   },
   {
    "duration": 71,
    "start_time": "2022-03-10T21:18:22.484Z"
   },
   {
    "duration": 81,
    "start_time": "2022-03-10T21:18:29.014Z"
   },
   {
    "duration": 80,
    "start_time": "2022-03-10T21:19:02.936Z"
   },
   {
    "duration": 86,
    "start_time": "2022-03-10T21:21:42.486Z"
   },
   {
    "duration": 103,
    "start_time": "2022-03-10T21:22:17.022Z"
   },
   {
    "duration": 170,
    "start_time": "2022-03-10T21:22:35.004Z"
   },
   {
    "duration": 55,
    "start_time": "2022-03-10T21:25:05.374Z"
   },
   {
    "duration": 236,
    "start_time": "2022-03-10T21:28:59.526Z"
   },
   {
    "duration": 1488,
    "start_time": "2022-03-10T21:29:04.008Z"
   },
   {
    "duration": 700,
    "start_time": "2022-03-10T21:29:06.408Z"
   },
   {
    "duration": 4338,
    "start_time": "2022-03-10T21:29:26.418Z"
   },
   {
    "duration": 421,
    "start_time": "2022-03-10T21:29:43.939Z"
   },
   {
    "duration": 27,
    "start_time": "2022-03-10T21:30:30.168Z"
   },
   {
    "duration": 25,
    "start_time": "2022-03-10T21:32:07.428Z"
   },
   {
    "duration": 27,
    "start_time": "2022-03-10T21:52:33.240Z"
   },
   {
    "duration": 29,
    "start_time": "2022-03-10T21:58:10.108Z"
   },
   {
    "duration": 1126,
    "start_time": "2022-03-11T19:06:43.422Z"
   },
   {
    "duration": 142,
    "start_time": "2022-03-11T19:06:54.939Z"
   },
   {
    "duration": 755,
    "start_time": "2022-03-11T19:07:12.610Z"
   },
   {
    "duration": 3,
    "start_time": "2022-03-11T19:07:19.660Z"
   },
   {
    "duration": 8,
    "start_time": "2022-03-11T19:07:21.299Z"
   },
   {
    "duration": 5,
    "start_time": "2022-03-11T19:07:23.492Z"
   },
   {
    "duration": 6,
    "start_time": "2022-03-11T19:07:26.017Z"
   },
   {
    "duration": 5,
    "start_time": "2022-03-11T19:07:29.280Z"
   },
   {
    "duration": 6,
    "start_time": "2022-03-11T19:07:32.602Z"
   },
   {
    "duration": 4,
    "start_time": "2022-03-11T19:07:35.131Z"
   },
   {
    "duration": 16,
    "start_time": "2022-03-11T19:07:37.751Z"
   },
   {
    "duration": 14,
    "start_time": "2022-03-11T19:07:38.359Z"
   },
   {
    "duration": 22,
    "start_time": "2022-03-11T19:07:41.999Z"
   },
   {
    "duration": 12,
    "start_time": "2022-03-11T19:07:46.230Z"
   },
   {
    "duration": 5,
    "start_time": "2022-03-11T19:07:57.152Z"
   },
   {
    "duration": 297,
    "start_time": "2022-03-11T19:07:58.059Z"
   },
   {
    "duration": 5,
    "start_time": "2022-03-11T19:15:59.852Z"
   },
   {
    "duration": 297,
    "start_time": "2022-03-11T19:16:02.061Z"
   },
   {
    "duration": 5,
    "start_time": "2022-03-11T19:16:13.732Z"
   },
   {
    "duration": 296,
    "start_time": "2022-03-11T19:16:15.421Z"
   },
   {
    "duration": 423,
    "start_time": "2022-03-11T19:22:20.100Z"
   },
   {
    "duration": 4534,
    "start_time": "2022-03-11T19:22:57.951Z"
   },
   {
    "duration": 183,
    "start_time": "2022-03-11T19:24:33.309Z"
   },
   {
    "duration": 385,
    "start_time": "2022-03-11T19:25:00.919Z"
   },
   {
    "duration": 539,
    "start_time": "2022-03-11T19:27:59.242Z"
   },
   {
    "duration": 528,
    "start_time": "2022-03-11T19:34:32.801Z"
   },
   {
    "duration": 187,
    "start_time": "2022-03-11T20:10:31.314Z"
   },
   {
    "duration": 199,
    "start_time": "2022-03-11T20:10:44.894Z"
   },
   {
    "duration": 193,
    "start_time": "2022-03-11T20:10:53.204Z"
   },
   {
    "duration": 74,
    "start_time": "2022-03-11T20:11:11.095Z"
   },
   {
    "duration": 189,
    "start_time": "2022-03-11T20:11:55.084Z"
   },
   {
    "duration": 196,
    "start_time": "2022-03-11T20:12:00.441Z"
   },
   {
    "duration": 207,
    "start_time": "2022-03-11T20:24:12.744Z"
   },
   {
    "duration": 201,
    "start_time": "2022-03-11T20:25:22.002Z"
   },
   {
    "duration": 218,
    "start_time": "2022-03-11T20:27:27.670Z"
   },
   {
    "duration": 468,
    "start_time": "2022-03-11T20:28:41.654Z"
   },
   {
    "duration": 206,
    "start_time": "2022-03-11T20:28:50.102Z"
   },
   {
    "duration": 4,
    "start_time": "2022-03-11T20:28:59.233Z"
   },
   {
    "duration": 202,
    "start_time": "2022-03-11T20:29:06.102Z"
   },
   {
    "duration": 200,
    "start_time": "2022-03-11T20:29:24.281Z"
   },
   {
    "duration": 222,
    "start_time": "2022-03-11T20:31:09.172Z"
   },
   {
    "duration": 210,
    "start_time": "2022-03-11T20:31:56.701Z"
   },
   {
    "duration": 1593,
    "start_time": "2022-03-11T20:32:35.947Z"
   },
   {
    "duration": 187,
    "start_time": "2022-03-11T20:32:57.102Z"
   },
   {
    "duration": 207,
    "start_time": "2022-03-11T20:33:04.814Z"
   },
   {
    "duration": 187,
    "start_time": "2022-03-11T20:33:17.124Z"
   },
   {
    "duration": 277,
    "start_time": "2022-03-11T20:33:23.174Z"
   },
   {
    "duration": 3,
    "start_time": "2022-03-11T20:39:06.455Z"
   },
   {
    "duration": 104338,
    "start_time": "2022-03-11T20:40:52.594Z"
   },
   {
    "duration": 4,
    "start_time": "2022-03-11T20:45:57.809Z"
   },
   {
    "duration": 84697,
    "start_time": "2022-03-11T20:46:02.588Z"
   },
   {
    "duration": 5,
    "start_time": "2022-03-11T20:48:22.007Z"
   },
   {
    "duration": 436,
    "start_time": "2022-03-11T20:48:22.626Z"
   },
   {
    "duration": 4,
    "start_time": "2022-03-11T20:49:08.436Z"
   },
   {
    "duration": 214,
    "start_time": "2022-03-11T20:54:46.045Z"
   },
   {
    "duration": 1105,
    "start_time": "2022-03-11T20:54:50.223Z"
   },
   {
    "duration": 757,
    "start_time": "2022-03-11T20:54:55.027Z"
   },
   {
    "duration": 248,
    "start_time": "2022-03-11T20:55:17.025Z"
   },
   {
    "duration": 23,
    "start_time": "2022-03-11T20:55:37.045Z"
   },
   {
    "duration": 17,
    "start_time": "2022-03-11T20:55:47.383Z"
   },
   {
    "duration": 1212,
    "start_time": "2022-03-11T20:59:45.250Z"
   },
   {
    "duration": 803,
    "start_time": "2022-03-11T20:59:48.091Z"
   },
   {
    "duration": 6,
    "start_time": "2022-03-11T21:00:00.604Z"
   },
   {
    "duration": 1161,
    "start_time": "2022-03-11T21:04:20.782Z"
   },
   {
    "duration": 771,
    "start_time": "2022-03-11T21:04:24.012Z"
   },
   {
    "duration": 4,
    "start_time": "2022-03-11T21:04:38.230Z"
   },
   {
    "duration": 3,
    "start_time": "2022-03-11T21:04:43.591Z"
   },
   {
    "duration": 522,
    "start_time": "2022-03-11T21:04:49.791Z"
   },
   {
    "duration": 4,
    "start_time": "2022-03-11T21:05:13.600Z"
   },
   {
    "duration": 385,
    "start_time": "2022-03-11T21:05:17.261Z"
   },
   {
    "duration": 4,
    "start_time": "2022-03-11T21:05:28.063Z"
   },
   {
    "duration": 383,
    "start_time": "2022-03-11T21:05:30.782Z"
   },
   {
    "duration": 5,
    "start_time": "2022-03-11T21:05:50.803Z"
   },
   {
    "duration": 402,
    "start_time": "2022-03-11T21:05:53.531Z"
   },
   {
    "duration": 8,
    "start_time": "2022-03-11T21:08:02.198Z"
   },
   {
    "duration": 372,
    "start_time": "2022-03-11T21:08:04.681Z"
   },
   {
    "duration": 189,
    "start_time": "2022-03-11T21:09:35.771Z"
   },
   {
    "duration": 297,
    "start_time": "2022-03-11T21:09:45.301Z"
   },
   {
    "duration": 288,
    "start_time": "2022-03-11T21:10:09.331Z"
   },
   {
    "duration": 286,
    "start_time": "2022-03-11T21:10:20.449Z"
   },
   {
    "duration": 278,
    "start_time": "2022-03-11T21:10:28.702Z"
   },
   {
    "duration": 282,
    "start_time": "2022-03-11T21:10:46.501Z"
   },
   {
    "duration": 333,
    "start_time": "2022-03-11T21:10:55.682Z"
   },
   {
    "duration": 298,
    "start_time": "2022-03-11T21:11:20.520Z"
   },
   {
    "duration": 285,
    "start_time": "2022-03-11T21:11:56.289Z"
   },
   {
    "duration": 297,
    "start_time": "2022-03-11T21:12:18.481Z"
   },
   {
    "duration": 336,
    "start_time": "2022-03-11T21:13:43.672Z"
   },
   {
    "duration": 800,
    "start_time": "2022-03-11T21:15:18.552Z"
   },
   {
    "duration": 194,
    "start_time": "2022-03-11T21:27:04.821Z"
   },
   {
    "duration": 451,
    "start_time": "2022-03-11T21:27:10.741Z"
   },
   {
    "duration": 294,
    "start_time": "2022-03-11T21:28:48.565Z"
   },
   {
    "duration": 3780,
    "start_time": "2022-03-11T21:29:19.420Z"
   },
   {
    "duration": 1592,
    "start_time": "2022-03-14T17:36:25.577Z"
   },
   {
    "duration": 436,
    "start_time": "2022-03-14T17:36:40.537Z"
   },
   {
    "duration": 912,
    "start_time": "2022-03-14T17:36:56.471Z"
   },
   {
    "duration": 4,
    "start_time": "2022-03-14T17:37:05.388Z"
   },
   {
    "duration": 11,
    "start_time": "2022-03-14T17:37:05.930Z"
   },
   {
    "duration": 13,
    "start_time": "2022-03-14T17:37:07.049Z"
   },
   {
    "duration": 10,
    "start_time": "2022-03-14T17:37:09.701Z"
   },
   {
    "duration": 7,
    "start_time": "2022-03-14T17:37:12.449Z"
   },
   {
    "duration": 14,
    "start_time": "2022-03-14T17:37:15.795Z"
   },
   {
    "duration": 7,
    "start_time": "2022-03-14T17:37:21.030Z"
   },
   {
    "duration": 21,
    "start_time": "2022-03-14T17:37:24.307Z"
   },
   {
    "duration": 21,
    "start_time": "2022-03-14T17:37:24.634Z"
   },
   {
    "duration": 32,
    "start_time": "2022-03-14T17:37:31.531Z"
   },
   {
    "duration": 7667,
    "start_time": "2022-03-14T17:37:42.793Z"
   },
   {
    "duration": 6198,
    "start_time": "2022-03-14T17:38:07.155Z"
   },
   {
    "duration": 591,
    "start_time": "2022-03-14T17:39:08.584Z"
   },
   {
    "duration": 442,
    "start_time": "2022-03-14T17:40:23.938Z"
   },
   {
    "duration": 5934,
    "start_time": "2022-03-14T17:42:10.988Z"
   },
   {
    "duration": 6337,
    "start_time": "2022-03-14T17:42:36.832Z"
   },
   {
    "duration": 8990,
    "start_time": "2022-03-14T17:43:15.416Z"
   },
   {
    "duration": 6770,
    "start_time": "2022-03-14T17:43:54.777Z"
   },
   {
    "duration": 7605,
    "start_time": "2022-03-14T17:44:42.969Z"
   },
   {
    "duration": 10106,
    "start_time": "2022-03-14T17:45:23.520Z"
   },
   {
    "duration": 1646,
    "start_time": "2022-03-14T17:47:21.068Z"
   },
   {
    "duration": 653,
    "start_time": "2022-03-14T17:47:34.617Z"
   },
   {
    "duration": 1860,
    "start_time": "2022-03-14T17:47:45.658Z"
   },
   {
    "duration": 1800,
    "start_time": "2022-03-14T17:47:54.863Z"
   },
   {
    "duration": 11,
    "start_time": "2022-03-14T17:53:28.858Z"
   },
   {
    "duration": 1486,
    "start_time": "2022-03-14T17:53:39.113Z"
   },
   {
    "duration": 1021,
    "start_time": "2022-03-14T17:54:42.196Z"
   },
   {
    "duration": 752,
    "start_time": "2022-03-14T17:55:18.265Z"
   },
   {
    "duration": 728,
    "start_time": "2022-03-14T17:56:58.717Z"
   },
   {
    "duration": 660,
    "start_time": "2022-03-14T17:57:22.070Z"
   },
   {
    "duration": 1098,
    "start_time": "2022-03-14T17:57:44.591Z"
   },
   {
    "duration": 892,
    "start_time": "2022-03-14T17:58:04.978Z"
   },
   {
    "duration": 1018,
    "start_time": "2022-03-14T17:58:58.670Z"
   },
   {
    "duration": 1041,
    "start_time": "2022-03-14T17:59:12.103Z"
   },
   {
    "duration": 8906,
    "start_time": "2022-03-14T17:59:52.471Z"
   },
   {
    "duration": 355,
    "start_time": "2022-03-14T18:02:11.958Z"
   },
   {
    "duration": 7994,
    "start_time": "2022-03-14T18:02:16.453Z"
   },
   {
    "duration": 99,
    "start_time": "2022-03-14T18:02:44.830Z"
   },
   {
    "duration": 6,
    "start_time": "2022-03-14T18:02:54.949Z"
   },
   {
    "duration": 20,
    "start_time": "2022-03-14T18:03:08.588Z"
   },
   {
    "duration": 843,
    "start_time": "2022-03-14T18:03:16.953Z"
   },
   {
    "duration": 761,
    "start_time": "2022-03-14T18:04:13.712Z"
   },
   {
    "duration": 284,
    "start_time": "2022-03-14T18:56:16.215Z"
   },
   {
    "duration": 347,
    "start_time": "2022-03-14T18:56:39.887Z"
   },
   {
    "duration": 516,
    "start_time": "2022-03-14T18:59:18.496Z"
   },
   {
    "duration": 704,
    "start_time": "2022-03-14T19:00:02.587Z"
   },
   {
    "duration": 393,
    "start_time": "2022-03-14T19:00:38.768Z"
   },
   {
    "duration": 337,
    "start_time": "2022-03-14T19:01:39.640Z"
   },
   {
    "duration": 332,
    "start_time": "2022-03-14T19:02:41.841Z"
   },
   {
    "duration": 372,
    "start_time": "2022-03-14T19:03:01.291Z"
   },
   {
    "duration": 752,
    "start_time": "2022-03-14T19:09:48.701Z"
   },
   {
    "duration": 355,
    "start_time": "2022-03-14T19:14:04.510Z"
   },
   {
    "duration": 403,
    "start_time": "2022-03-14T19:15:34.637Z"
   },
   {
    "duration": 569,
    "start_time": "2022-03-14T19:17:18.404Z"
   },
   {
    "duration": 835,
    "start_time": "2022-03-14T19:17:26.999Z"
   },
   {
    "duration": 678,
    "start_time": "2022-03-14T19:21:27.465Z"
   },
   {
    "duration": 333,
    "start_time": "2022-03-14T19:21:43.521Z"
   },
   {
    "duration": 575,
    "start_time": "2022-03-14T19:22:04.068Z"
   },
   {
    "duration": 349,
    "start_time": "2022-03-14T19:25:22.669Z"
   },
   {
    "duration": 6,
    "start_time": "2022-03-14T19:25:33.101Z"
   },
   {
    "duration": 117,
    "start_time": "2022-03-14T19:25:43.500Z"
   },
   {
    "duration": 510,
    "start_time": "2022-03-14T19:26:13.301Z"
   },
   {
    "duration": 5,
    "start_time": "2022-03-14T19:58:20.812Z"
   },
   {
    "duration": 744,
    "start_time": "2022-03-14T19:58:57.964Z"
   },
   {
    "duration": 673,
    "start_time": "2022-03-14T20:00:41.219Z"
   },
   {
    "duration": 651,
    "start_time": "2022-03-14T20:01:38.222Z"
   },
   {
    "duration": 32,
    "start_time": "2022-03-14T20:03:43.067Z"
   },
   {
    "duration": 516,
    "start_time": "2022-03-14T20:05:40.892Z"
   },
   {
    "duration": 797,
    "start_time": "2022-03-14T20:39:39.037Z"
   },
   {
    "duration": 448,
    "start_time": "2022-03-14T20:39:49.917Z"
   },
   {
    "duration": 493,
    "start_time": "2022-03-14T20:41:26.377Z"
   },
   {
    "duration": 506,
    "start_time": "2022-03-14T20:42:18.646Z"
   },
   {
    "duration": 143,
    "start_time": "2022-03-14T20:47:15.069Z"
   },
   {
    "duration": 102,
    "start_time": "2022-03-14T20:47:22.839Z"
   },
   {
    "duration": 92,
    "start_time": "2022-03-14T20:47:47.965Z"
   },
   {
    "duration": 95,
    "start_time": "2022-03-14T20:48:19.901Z"
   },
   {
    "duration": 99,
    "start_time": "2022-03-14T20:48:58.539Z"
   },
   {
    "duration": 102,
    "start_time": "2022-03-14T20:49:06.059Z"
   },
   {
    "duration": 102,
    "start_time": "2022-03-14T20:50:09.316Z"
   },
   {
    "duration": 181,
    "start_time": "2022-03-14T20:50:15.896Z"
   },
   {
    "duration": 110,
    "start_time": "2022-03-14T20:50:28.266Z"
   },
   {
    "duration": 106,
    "start_time": "2022-03-14T20:51:22.254Z"
   },
   {
    "duration": 100,
    "start_time": "2022-03-14T20:52:17.657Z"
   },
   {
    "duration": 110,
    "start_time": "2022-03-14T20:52:24.543Z"
   },
   {
    "duration": 89,
    "start_time": "2022-03-14T20:52:31.028Z"
   },
   {
    "duration": 280,
    "start_time": "2022-03-14T20:53:03.904Z"
   },
   {
    "duration": 7,
    "start_time": "2022-03-14T20:53:58.333Z"
   },
   {
    "duration": 467,
    "start_time": "2022-03-14T20:54:11.153Z"
   },
   {
    "duration": 578,
    "start_time": "2022-03-14T20:54:36.460Z"
   },
   {
    "duration": 457,
    "start_time": "2022-03-14T20:54:43.320Z"
   },
   {
    "duration": 7,
    "start_time": "2022-03-14T21:00:56.553Z"
   },
   {
    "duration": 430,
    "start_time": "2022-03-14T21:00:57.177Z"
   },
   {
    "duration": 480,
    "start_time": "2022-03-14T21:01:02.877Z"
   },
   {
    "duration": 7,
    "start_time": "2022-03-14T21:02:29.586Z"
   },
   {
    "duration": 449,
    "start_time": "2022-03-14T21:02:32.013Z"
   },
   {
    "duration": 448,
    "start_time": "2022-03-14T21:02:43.198Z"
   },
   {
    "duration": 6,
    "start_time": "2022-03-14T21:03:12.136Z"
   },
   {
    "duration": 402,
    "start_time": "2022-03-14T21:03:12.697Z"
   },
   {
    "duration": 428,
    "start_time": "2022-03-14T21:03:17.832Z"
   },
   {
    "duration": 7,
    "start_time": "2022-03-14T21:03:34.468Z"
   },
   {
    "duration": 7,
    "start_time": "2022-03-14T21:04:04.216Z"
   },
   {
    "duration": 440,
    "start_time": "2022-03-14T21:04:05.115Z"
   },
   {
    "duration": 621,
    "start_time": "2022-03-14T21:04:07.455Z"
   },
   {
    "duration": 8,
    "start_time": "2022-03-14T21:04:16.228Z"
   },
   {
    "duration": 405,
    "start_time": "2022-03-14T21:04:19.427Z"
   },
   {
    "duration": 515,
    "start_time": "2022-03-14T21:04:21.517Z"
   },
   {
    "duration": 7,
    "start_time": "2022-03-14T21:18:07.354Z"
   },
   {
    "duration": 566,
    "start_time": "2022-03-14T21:18:11.999Z"
   },
   {
    "duration": 8,
    "start_time": "2022-03-14T21:18:38.396Z"
   },
   {
    "duration": 460,
    "start_time": "2022-03-14T21:18:39.068Z"
   },
   {
    "duration": 8,
    "start_time": "2022-03-14T21:18:54.466Z"
   },
   {
    "duration": 470,
    "start_time": "2022-03-14T21:18:56.728Z"
   },
   {
    "duration": 7,
    "start_time": "2022-03-14T21:19:31.620Z"
   },
   {
    "duration": 486,
    "start_time": "2022-03-14T21:19:34.268Z"
   },
   {
    "duration": 7,
    "start_time": "2022-03-14T21:19:46.758Z"
   },
   {
    "duration": 466,
    "start_time": "2022-03-14T21:19:47.758Z"
   },
   {
    "duration": 7,
    "start_time": "2022-03-14T21:20:18.757Z"
   },
   {
    "duration": 8,
    "start_time": "2022-03-14T21:21:56.157Z"
   },
   {
    "duration": 879,
    "start_time": "2022-03-14T21:22:06.537Z"
   },
   {
    "duration": 7,
    "start_time": "2022-03-14T21:22:31.863Z"
   },
   {
    "duration": 458,
    "start_time": "2022-03-14T21:22:32.690Z"
   },
   {
    "duration": 7,
    "start_time": "2022-03-14T21:22:51.759Z"
   },
   {
    "duration": 456,
    "start_time": "2022-03-14T21:22:54.028Z"
   },
   {
    "duration": 8,
    "start_time": "2022-03-14T21:23:26.240Z"
   },
   {
    "duration": 463,
    "start_time": "2022-03-14T21:23:27.558Z"
   },
   {
    "duration": 8,
    "start_time": "2022-03-14T21:24:02.058Z"
   },
   {
    "duration": 438,
    "start_time": "2022-03-14T21:24:05.628Z"
   },
   {
    "duration": 12,
    "start_time": "2022-03-14T21:24:45.085Z"
   },
   {
    "duration": 11,
    "start_time": "2022-03-14T21:24:54.317Z"
   },
   {
    "duration": 8,
    "start_time": "2022-03-14T21:42:59.419Z"
   },
   {
    "duration": 7,
    "start_time": "2022-03-14T21:43:05.108Z"
   },
   {
    "duration": 9,
    "start_time": "2022-03-14T21:43:48.669Z"
   },
   {
    "duration": 323,
    "start_time": "2022-03-14T21:45:05.109Z"
   },
   {
    "duration": 309,
    "start_time": "2022-03-14T21:45:18.688Z"
   },
   {
    "duration": 313,
    "start_time": "2022-03-14T21:45:37.158Z"
   },
   {
    "duration": 7,
    "start_time": "2022-03-14T21:46:51.298Z"
   },
   {
    "duration": 15,
    "start_time": "2022-03-14T21:47:03.156Z"
   },
   {
    "duration": 18,
    "start_time": "2022-03-14T21:47:30.165Z"
   },
   {
    "duration": 232,
    "start_time": "2022-03-14T21:49:33.586Z"
   },
   {
    "duration": 484,
    "start_time": "2022-03-14T21:49:39.039Z"
   },
   {
    "duration": 11,
    "start_time": "2022-03-14T21:50:14.471Z"
   },
   {
    "duration": 434,
    "start_time": "2022-03-14T21:50:18.529Z"
   },
   {
    "duration": 8,
    "start_time": "2022-03-14T21:52:01.958Z"
   },
   {
    "duration": 422,
    "start_time": "2022-03-14T21:52:07.559Z"
   },
   {
    "duration": 8,
    "start_time": "2022-03-14T21:52:32.539Z"
   },
   {
    "duration": 442,
    "start_time": "2022-03-14T21:52:36.786Z"
   },
   {
    "duration": 8,
    "start_time": "2022-03-14T21:57:14.958Z"
   },
   {
    "duration": 9,
    "start_time": "2022-03-14T21:57:34.867Z"
   },
   {
    "duration": 3150,
    "start_time": "2022-03-14T21:57:45.338Z"
   },
   {
    "duration": 9,
    "start_time": "2022-03-14T21:58:22.435Z"
   },
   {
    "duration": 3656,
    "start_time": "2022-03-14T21:58:23.938Z"
   },
   {
    "duration": 9,
    "start_time": "2022-03-14T21:58:46.648Z"
   },
   {
    "duration": 433,
    "start_time": "2022-03-14T21:58:48.490Z"
   },
   {
    "duration": 342,
    "start_time": "2022-03-14T21:59:08.007Z"
   },
   {
    "duration": 12,
    "start_time": "2022-03-14T21:59:24.590Z"
   },
   {
    "duration": 681,
    "start_time": "2022-03-14T21:59:25.819Z"
   },
   {
    "duration": 8,
    "start_time": "2022-03-14T22:01:01.949Z"
   },
   {
    "duration": 3211,
    "start_time": "2022-03-14T22:01:02.579Z"
   },
   {
    "duration": 3277,
    "start_time": "2022-03-14T22:01:30.338Z"
   },
   {
    "duration": 15,
    "start_time": "2022-03-14T22:01:50.001Z"
   },
   {
    "duration": 317,
    "start_time": "2022-03-14T22:01:58.569Z"
   },
   {
    "duration": 281,
    "start_time": "2022-03-14T22:04:48.900Z"
   },
   {
    "duration": 9,
    "start_time": "2022-03-14T22:05:37.529Z"
   },
   {
    "duration": 8,
    "start_time": "2022-03-14T22:05:54.109Z"
   },
   {
    "duration": 9,
    "start_time": "2022-03-14T22:06:13.738Z"
   },
   {
    "duration": 492,
    "start_time": "2022-03-14T22:06:16.467Z"
   },
   {
    "duration": 12,
    "start_time": "2022-03-14T22:08:01.479Z"
   },
   {
    "duration": 438,
    "start_time": "2022-03-14T22:08:02.699Z"
   },
   {
    "duration": 457,
    "start_time": "2022-03-14T22:08:06.459Z"
   },
   {
    "duration": 8,
    "start_time": "2022-03-14T22:09:14.765Z"
   },
   {
    "duration": 481,
    "start_time": "2022-03-14T22:09:15.567Z"
   },
   {
    "duration": 445,
    "start_time": "2022-03-14T22:09:27.208Z"
   },
   {
    "duration": 8,
    "start_time": "2022-03-14T22:09:41.764Z"
   },
   {
    "duration": 424,
    "start_time": "2022-03-14T22:09:42.709Z"
   },
   {
    "duration": 474,
    "start_time": "2022-03-14T22:09:46.419Z"
   },
   {
    "duration": 14,
    "start_time": "2022-03-14T22:12:31.587Z"
   },
   {
    "duration": 293,
    "start_time": "2022-03-14T22:13:40.997Z"
   },
   {
    "duration": 19,
    "start_time": "2022-03-14T22:13:53.938Z"
   },
   {
    "duration": 11,
    "start_time": "2022-03-14T22:14:23.658Z"
   },
   {
    "duration": 2978,
    "start_time": "2022-03-14T22:14:44.890Z"
   },
   {
    "duration": 306,
    "start_time": "2022-03-14T22:15:12.608Z"
   },
   {
    "duration": 12,
    "start_time": "2022-03-14T22:18:04.746Z"
   },
   {
    "duration": 347,
    "start_time": "2022-03-14T22:22:06.607Z"
   },
   {
    "duration": 15,
    "start_time": "2022-03-14T22:22:44.882Z"
   },
   {
    "duration": 809,
    "start_time": "2022-03-14T22:22:47.064Z"
   },
   {
    "duration": 781,
    "start_time": "2022-03-14T22:22:56.854Z"
   },
   {
    "duration": 16,
    "start_time": "2022-03-14T22:23:04.867Z"
   },
   {
    "duration": 436,
    "start_time": "2022-03-14T22:23:26.437Z"
   },
   {
    "duration": 581,
    "start_time": "2022-03-14T22:23:33.346Z"
   },
   {
    "duration": 9,
    "start_time": "2022-03-14T22:27:02.821Z"
   },
   {
    "duration": 1142,
    "start_time": "2022-03-14T22:27:04.743Z"
   },
   {
    "duration": 19,
    "start_time": "2022-03-14T22:28:16.577Z"
   },
   {
    "duration": 681,
    "start_time": "2022-03-14T22:28:17.664Z"
   },
   {
    "duration": 6,
    "start_time": "2022-03-14T22:33:03.096Z"
   },
   {
    "duration": 298,
    "start_time": "2022-03-14T22:33:19.421Z"
   },
   {
    "duration": 13,
    "start_time": "2022-03-14T22:35:09.011Z"
   },
   {
    "duration": 9,
    "start_time": "2022-03-14T22:35:16.716Z"
   },
   {
    "duration": 11,
    "start_time": "2022-03-14T22:35:39.161Z"
   },
   {
    "duration": 180,
    "start_time": "2022-03-14T22:36:46.514Z"
   },
   {
    "duration": 140,
    "start_time": "2022-03-14T22:37:00.194Z"
   },
   {
    "duration": 5,
    "start_time": "2022-03-14T22:37:52.689Z"
   },
   {
    "duration": 13,
    "start_time": "2022-03-14T22:37:58.186Z"
   },
   {
    "duration": 18,
    "start_time": "2022-03-14T22:38:29.493Z"
   },
   {
    "duration": 12,
    "start_time": "2022-03-14T22:39:31.517Z"
   },
   {
    "duration": 596,
    "start_time": "2022-03-14T22:39:33.814Z"
   },
   {
    "duration": 11,
    "start_time": "2022-03-14T22:40:33.176Z"
   },
   {
    "duration": 728,
    "start_time": "2022-03-14T22:40:34.117Z"
   },
   {
    "duration": 311,
    "start_time": "2022-03-14T22:42:16.215Z"
   },
   {
    "duration": 17,
    "start_time": "2022-03-14T22:42:32.177Z"
   },
   {
    "duration": 13,
    "start_time": "2022-03-14T22:42:52.069Z"
   },
   {
    "duration": 668,
    "start_time": "2022-03-14T22:42:53.225Z"
   },
   {
    "duration": 295,
    "start_time": "2022-03-14T22:43:32.018Z"
   },
   {
    "duration": 7,
    "start_time": "2022-03-14T22:43:39.535Z"
   },
   {
    "duration": 288,
    "start_time": "2022-03-14T22:43:56.756Z"
   },
   {
    "duration": 9,
    "start_time": "2022-03-14T22:44:26.648Z"
   },
   {
    "duration": 11,
    "start_time": "2022-03-14T22:44:48.206Z"
   },
   {
    "duration": 695,
    "start_time": "2022-03-14T22:44:49.268Z"
   },
   {
    "duration": 623,
    "start_time": "2022-03-14T22:45:00.897Z"
   },
   {
    "duration": 8,
    "start_time": "2022-03-14T22:46:48.367Z"
   },
   {
    "duration": 713,
    "start_time": "2022-03-14T22:46:49.016Z"
   },
   {
    "duration": 10,
    "start_time": "2022-03-14T22:47:38.467Z"
   },
   {
    "duration": 596,
    "start_time": "2022-03-14T22:47:39.066Z"
   },
   {
    "duration": 9,
    "start_time": "2022-03-14T22:48:31.834Z"
   },
   {
    "duration": 738,
    "start_time": "2022-03-14T22:48:32.436Z"
   },
   {
    "duration": 9,
    "start_time": "2022-03-14T22:48:44.254Z"
   },
   {
    "duration": 441,
    "start_time": "2022-03-14T22:48:45.579Z"
   },
   {
    "duration": 9,
    "start_time": "2022-03-14T22:50:03.728Z"
   },
   {
    "duration": 626,
    "start_time": "2022-03-14T22:50:04.618Z"
   },
   {
    "duration": 12,
    "start_time": "2022-03-14T22:51:08.264Z"
   },
   {
    "duration": 495,
    "start_time": "2022-03-14T22:51:09.394Z"
   },
   {
    "duration": 17,
    "start_time": "2022-03-14T22:51:25.583Z"
   },
   {
    "duration": 674,
    "start_time": "2022-03-14T22:51:26.282Z"
   },
   {
    "duration": 9,
    "start_time": "2022-03-14T22:54:06.107Z"
   },
   {
    "duration": 585,
    "start_time": "2022-03-14T22:54:06.629Z"
   },
   {
    "duration": 8,
    "start_time": "2022-03-14T22:55:18.228Z"
   },
   {
    "duration": 429,
    "start_time": "2022-03-14T22:55:19.516Z"
   },
   {
    "duration": 681,
    "start_time": "2022-03-14T22:55:30.268Z"
   },
   {
    "duration": 327,
    "start_time": "2022-03-15T15:37:59.438Z"
   },
   {
    "duration": 1270,
    "start_time": "2022-03-15T15:38:14.613Z"
   },
   {
    "duration": 793,
    "start_time": "2022-03-15T15:38:19.357Z"
   },
   {
    "duration": 3,
    "start_time": "2022-03-15T15:38:28.829Z"
   },
   {
    "duration": 7,
    "start_time": "2022-03-15T15:38:29.270Z"
   },
   {
    "duration": 8,
    "start_time": "2022-03-15T15:38:29.744Z"
   },
   {
    "duration": 7,
    "start_time": "2022-03-15T15:38:31.753Z"
   },
   {
    "duration": 5,
    "start_time": "2022-03-15T15:38:34.139Z"
   },
   {
    "duration": 6,
    "start_time": "2022-03-15T15:38:38.293Z"
   },
   {
    "duration": 5,
    "start_time": "2022-03-15T15:38:39.549Z"
   },
   {
    "duration": 17,
    "start_time": "2022-03-15T15:38:43.959Z"
   },
   {
    "duration": 15,
    "start_time": "2022-03-15T15:38:44.513Z"
   },
   {
    "duration": 22,
    "start_time": "2022-03-15T15:38:48.867Z"
   },
   {
    "duration": 12,
    "start_time": "2022-03-15T15:38:49.312Z"
   },
   {
    "duration": 19,
    "start_time": "2022-03-15T15:38:51.745Z"
   },
   {
    "duration": 55,
    "start_time": "2022-03-15T15:39:05.413Z"
   },
   {
    "duration": 264,
    "start_time": "2022-03-15T15:39:21.458Z"
   },
   {
    "duration": 272,
    "start_time": "2022-03-15T15:39:53.758Z"
   },
   {
    "duration": 269,
    "start_time": "2022-03-15T15:40:08.074Z"
   },
   {
    "duration": 18,
    "start_time": "2022-03-15T15:41:11.878Z"
   },
   {
    "duration": 239,
    "start_time": "2022-03-15T15:41:13.227Z"
   },
   {
    "duration": 20,
    "start_time": "2022-03-15T15:41:37.810Z"
   },
   {
    "duration": 519,
    "start_time": "2022-03-15T15:42:01.034Z"
   },
   {
    "duration": 706,
    "start_time": "2022-03-15T15:59:08.563Z"
   },
   {
    "duration": 47140,
    "start_time": "2022-03-15T15:59:17.907Z"
   },
   {
    "duration": 6817,
    "start_time": "2022-03-15T16:02:31.147Z"
   },
   {
    "duration": 19,
    "start_time": "2022-03-15T16:05:28.795Z"
   },
   {
    "duration": 22,
    "start_time": "2022-03-15T16:05:29.707Z"
   },
   {
    "duration": 24,
    "start_time": "2022-03-15T16:14:12.520Z"
   },
   {
    "duration": 31,
    "start_time": "2022-03-15T16:14:13.250Z"
   },
   {
    "duration": 1473,
    "start_time": "2022-03-15T16:15:10.236Z"
   },
   {
    "duration": 16,
    "start_time": "2022-03-15T16:23:24.091Z"
   },
   {
    "duration": 22,
    "start_time": "2022-03-15T16:23:25.560Z"
   },
   {
    "duration": 16,
    "start_time": "2022-03-15T16:28:03.617Z"
   },
   {
    "duration": 24,
    "start_time": "2022-03-15T16:28:04.978Z"
   },
   {
    "duration": 5261,
    "start_time": "2022-03-15T16:28:11.984Z"
   },
   {
    "duration": 17,
    "start_time": "2022-03-15T16:30:02.101Z"
   },
   {
    "duration": 37,
    "start_time": "2022-03-15T16:30:09.251Z"
   },
   {
    "duration": 6711,
    "start_time": "2022-03-15T16:31:30.360Z"
   },
   {
    "duration": 4565,
    "start_time": "2022-03-15T16:32:28.438Z"
   },
   {
    "duration": 5380,
    "start_time": "2022-03-15T16:43:53.259Z"
   },
   {
    "duration": 5134,
    "start_time": "2022-03-15T16:44:16.159Z"
   },
   {
    "duration": 362,
    "start_time": "2022-03-15T16:54:52.117Z"
   },
   {
    "duration": 8,
    "start_time": "2022-03-15T16:55:13.256Z"
   },
   {
    "duration": 9,
    "start_time": "2022-03-15T16:55:30.314Z"
   },
   {
    "duration": 4520,
    "start_time": "2022-03-15T16:55:53.779Z"
   },
   {
    "duration": 10,
    "start_time": "2022-03-15T16:56:21.437Z"
   },
   {
    "duration": 4587,
    "start_time": "2022-03-15T16:56:23.387Z"
   },
   {
    "duration": 27,
    "start_time": "2022-03-15T16:57:09.216Z"
   },
   {
    "duration": 7,
    "start_time": "2022-03-15T16:58:01.912Z"
   },
   {
    "duration": 20,
    "start_time": "2022-03-15T16:58:19.856Z"
   },
   {
    "duration": 25,
    "start_time": "2022-03-15T17:29:37.410Z"
   },
   {
    "duration": 1220,
    "start_time": "2022-03-15T17:35:00.503Z"
   },
   {
    "duration": 721,
    "start_time": "2022-03-15T17:35:04.300Z"
   },
   {
    "duration": 3,
    "start_time": "2022-03-15T17:35:08.532Z"
   },
   {
    "duration": 8,
    "start_time": "2022-03-15T17:35:09.062Z"
   },
   {
    "duration": 9,
    "start_time": "2022-03-15T17:35:10.883Z"
   },
   {
    "duration": 7,
    "start_time": "2022-03-15T17:35:11.422Z"
   },
   {
    "duration": 6,
    "start_time": "2022-03-15T17:35:13.452Z"
   },
   {
    "duration": 5,
    "start_time": "2022-03-15T17:35:20.072Z"
   },
   {
    "duration": 19,
    "start_time": "2022-03-15T17:35:23.492Z"
   },
   {
    "duration": 19,
    "start_time": "2022-03-15T17:35:24.552Z"
   },
   {
    "duration": 17,
    "start_time": "2022-03-15T17:35:29.960Z"
   },
   {
    "duration": 14,
    "start_time": "2022-03-15T17:35:32.060Z"
   },
   {
    "duration": 21,
    "start_time": "2022-03-15T17:35:35.780Z"
   },
   {
    "duration": 4,
    "start_time": "2022-03-15T17:35:42.630Z"
   },
   {
    "duration": 298,
    "start_time": "2022-03-15T17:35:45.582Z"
   },
   {
    "duration": 323,
    "start_time": "2022-03-15T17:35:49.942Z"
   },
   {
    "duration": 294,
    "start_time": "2022-03-15T17:35:52.422Z"
   },
   {
    "duration": 6,
    "start_time": "2022-03-15T17:36:03.523Z"
   },
   {
    "duration": 367,
    "start_time": "2022-03-15T17:36:28.062Z"
   },
   {
    "duration": 361,
    "start_time": "2022-03-15T17:37:03.402Z"
   },
   {
    "duration": 49,
    "start_time": "2022-03-15T17:37:27.007Z"
   },
   {
    "duration": 4882,
    "start_time": "2022-03-15T17:37:34.037Z"
   },
   {
    "duration": 27,
    "start_time": "2022-03-15T17:37:44.482Z"
   },
   {
    "duration": 5627,
    "start_time": "2022-03-15T17:37:48.502Z"
   },
   {
    "duration": 65421,
    "start_time": "2022-03-15T17:40:33.654Z"
   },
   {
    "duration": 343,
    "start_time": "2022-03-15T17:42:01.669Z"
   },
   {
    "duration": 5,
    "start_time": "2022-03-15T17:42:07.540Z"
   },
   {
    "duration": 5475,
    "start_time": "2022-03-15T17:42:12.659Z"
   },
   {
    "duration": 10,
    "start_time": "2022-03-15T17:42:38.242Z"
   },
   {
    "duration": 7,
    "start_time": "2022-03-15T17:42:58.992Z"
   },
   {
    "duration": 36,
    "start_time": "2022-03-15T19:30:52.233Z"
   },
   {
    "duration": 7,
    "start_time": "2022-03-15T19:31:24.031Z"
   },
   {
    "duration": 4292,
    "start_time": "2022-03-15T19:31:33.859Z"
   },
   {
    "duration": 33,
    "start_time": "2022-03-15T19:32:42.152Z"
   },
   {
    "duration": 7937,
    "start_time": "2022-03-15T19:32:44.751Z"
   },
   {
    "duration": 7,
    "start_time": "2022-03-15T19:33:01.842Z"
   },
   {
    "duration": 7,
    "start_time": "2022-03-15T19:33:07.282Z"
   },
   {
    "duration": 4,
    "start_time": "2022-03-15T19:33:26.432Z"
   },
   {
    "duration": 5,
    "start_time": "2022-03-15T19:34:55.471Z"
   },
   {
    "duration": 220,
    "start_time": "2022-03-15T19:35:27.482Z"
   },
   {
    "duration": 220,
    "start_time": "2022-03-15T19:35:46.056Z"
   },
   {
    "duration": 1180,
    "start_time": "2022-03-15T19:36:19.259Z"
   },
   {
    "duration": 762,
    "start_time": "2022-03-15T19:36:21.870Z"
   },
   {
    "duration": 3,
    "start_time": "2022-03-15T19:36:27.720Z"
   },
   {
    "duration": 7,
    "start_time": "2022-03-15T19:36:28.260Z"
   },
   {
    "duration": 8,
    "start_time": "2022-03-15T19:36:30.690Z"
   },
   {
    "duration": 804,
    "start_time": "2022-03-15T19:36:31.220Z"
   },
   {
    "duration": 5,
    "start_time": "2022-03-15T19:36:35.147Z"
   },
   {
    "duration": 2,
    "start_time": "2022-03-15T19:36:36.790Z"
   },
   {
    "duration": 5,
    "start_time": "2022-03-15T19:36:37.320Z"
   },
   {
    "duration": 211,
    "start_time": "2022-03-15T19:36:37.560Z"
   },
   {
    "duration": 941,
    "start_time": "2022-03-15T19:36:37.809Z"
   },
   {
    "duration": 929,
    "start_time": "2022-03-15T19:36:38.840Z"
   },
   {
    "duration": 814,
    "start_time": "2022-03-15T19:36:39.771Z"
   },
   {
    "duration": 925,
    "start_time": "2022-03-15T19:36:40.587Z"
   },
   {
    "duration": 4,
    "start_time": "2022-03-15T19:36:43.290Z"
   },
   {
    "duration": 455,
    "start_time": "2022-03-15T19:36:44.180Z"
   },
   {
    "duration": 303,
    "start_time": "2022-03-15T19:36:45.880Z"
   },
   {
    "duration": 352,
    "start_time": "2022-03-15T19:36:54.608Z"
   },
   {
    "duration": 5,
    "start_time": "2022-03-15T19:36:58.541Z"
   },
   {
    "duration": 256,
    "start_time": "2022-03-15T19:36:59.740Z"
   },
   {
    "duration": 266,
    "start_time": "2022-03-15T19:37:00.900Z"
   },
   {
    "duration": 110,
    "start_time": "2022-03-15T19:37:08.521Z"
   },
   {
    "duration": 8,
    "start_time": "2022-03-15T19:37:13.048Z"
   },
   {
    "duration": 4679,
    "start_time": "2022-03-15T19:37:16.450Z"
   },
   {
    "duration": 28,
    "start_time": "2022-03-15T19:37:22.320Z"
   },
   {
    "duration": 5135,
    "start_time": "2022-03-15T19:37:24.508Z"
   },
   {
    "duration": 9,
    "start_time": "2022-03-15T19:38:51.440Z"
   },
   {
    "duration": 10,
    "start_time": "2022-03-15T19:39:08.080Z"
   },
   {
    "duration": 12,
    "start_time": "2022-03-15T19:39:31.730Z"
   },
   {
    "duration": 328,
    "start_time": "2022-03-15T19:39:38.610Z"
   },
   {
    "duration": 5,
    "start_time": "2022-03-15T19:40:14.530Z"
   },
   {
    "duration": 7,
    "start_time": "2022-03-15T19:41:15.620Z"
   },
   {
    "duration": 10,
    "start_time": "2022-03-15T19:41:25.368Z"
   },
   {
    "duration": 11,
    "start_time": "2022-03-15T19:41:49.090Z"
   },
   {
    "duration": 4,
    "start_time": "2022-03-15T19:41:50.720Z"
   },
   {
    "duration": 17,
    "start_time": "2022-03-15T19:42:23.340Z"
   },
   {
    "duration": 13,
    "start_time": "2022-03-15T19:42:25.680Z"
   },
   {
    "duration": 6,
    "start_time": "2022-03-15T19:42:40.810Z"
   },
   {
    "duration": 10,
    "start_time": "2022-03-15T19:42:48.881Z"
   },
   {
    "duration": 4650,
    "start_time": "2022-03-15T19:44:18.461Z"
   },
   {
    "duration": 4985,
    "start_time": "2022-03-15T19:44:40.341Z"
   },
   {
    "duration": 4,
    "start_time": "2022-03-15T19:48:26.075Z"
   },
   {
    "duration": 4939,
    "start_time": "2022-03-15T19:48:47.417Z"
   },
   {
    "duration": 17,
    "start_time": "2022-03-15T19:49:07.652Z"
   },
   {
    "duration": 4788,
    "start_time": "2022-03-15T19:52:56.718Z"
   },
   {
    "duration": 7,
    "start_time": "2022-03-15T19:53:17.160Z"
   },
   {
    "duration": 4667,
    "start_time": "2022-03-15T19:53:18.390Z"
   },
   {
    "duration": 5,
    "start_time": "2022-03-15T19:54:52.630Z"
   },
   {
    "duration": 5,
    "start_time": "2022-03-15T19:55:45.761Z"
   },
   {
    "duration": 4,
    "start_time": "2022-03-15T20:01:54.950Z"
   },
   {
    "duration": 14,
    "start_time": "2022-03-15T20:01:59.530Z"
   },
   {
    "duration": 5,
    "start_time": "2022-03-15T20:02:00.551Z"
   },
   {
    "duration": 204,
    "start_time": "2022-03-15T20:03:06.460Z"
   },
   {
    "duration": 67,
    "start_time": "2022-03-15T20:03:12.911Z"
   },
   {
    "duration": 84,
    "start_time": "2022-03-15T20:03:21.270Z"
   },
   {
    "duration": 70,
    "start_time": "2022-03-15T20:03:28.241Z"
   },
   {
    "duration": 67,
    "start_time": "2022-03-15T20:03:35.180Z"
   },
   {
    "duration": 4,
    "start_time": "2022-03-15T20:05:33.770Z"
   },
   {
    "duration": 5,
    "start_time": "2022-03-15T20:05:39.880Z"
   },
   {
    "duration": 5,
    "start_time": "2022-03-15T20:05:43.970Z"
   },
   {
    "duration": 572,
    "start_time": "2022-03-15T20:06:41.250Z"
   },
   {
    "duration": 554,
    "start_time": "2022-03-15T20:06:46.794Z"
   },
   {
    "duration": 73,
    "start_time": "2022-03-15T20:07:24.610Z"
   },
   {
    "duration": 5,
    "start_time": "2022-03-15T20:07:31.388Z"
   },
   {
    "duration": 4,
    "start_time": "2022-03-15T20:07:50.375Z"
   },
   {
    "duration": 3,
    "start_time": "2022-03-15T21:23:04.801Z"
   },
   {
    "duration": 3,
    "start_time": "2022-03-15T21:23:07.542Z"
   },
   {
    "duration": 6,
    "start_time": "2022-03-15T21:28:28.079Z"
   },
   {
    "duration": 11,
    "start_time": "2022-03-15T21:28:53.930Z"
   },
   {
    "duration": 7,
    "start_time": "2022-03-15T21:29:04.521Z"
   },
   {
    "duration": 11,
    "start_time": "2022-03-15T21:29:07.860Z"
   },
   {
    "duration": 12,
    "start_time": "2022-03-15T21:29:45.080Z"
   },
   {
    "duration": 19,
    "start_time": "2022-03-15T21:35:47.810Z"
   },
   {
    "duration": 16,
    "start_time": "2022-03-15T21:37:02.521Z"
   },
   {
    "duration": 9,
    "start_time": "2022-03-15T21:57:51.190Z"
   },
   {
    "duration": 21,
    "start_time": "2022-03-15T21:58:23.950Z"
   },
   {
    "duration": 5,
    "start_time": "2022-03-15T21:58:30.239Z"
   },
   {
    "duration": 4,
    "start_time": "2022-03-15T21:58:49.360Z"
   },
   {
    "duration": 16,
    "start_time": "2022-03-15T21:59:46.107Z"
   },
   {
    "duration": 5,
    "start_time": "2022-03-15T21:59:47.400Z"
   },
   {
    "duration": 3,
    "start_time": "2022-03-15T22:08:50.970Z"
   },
   {
    "duration": 213,
    "start_time": "2022-03-15T22:08:54.640Z"
   },
   {
    "duration": 41,
    "start_time": "2022-03-15T22:09:04.580Z"
   },
   {
    "duration": 3,
    "start_time": "2022-03-15T22:09:09.860Z"
   },
   {
    "duration": 230,
    "start_time": "2022-03-15T22:09:28.710Z"
   },
   {
    "duration": 58327,
    "start_time": "2022-03-15T22:10:14.340Z"
   },
   {
    "duration": 3,
    "start_time": "2022-03-15T22:13:48.630Z"
   },
   {
    "duration": 72920,
    "start_time": "2022-03-15T22:13:53.468Z"
   },
   {
    "duration": 3,
    "start_time": "2022-03-15T22:18:16.790Z"
   },
   {
    "duration": 334676,
    "start_time": "2022-03-15T22:18:18.021Z"
   },
   {
    "duration": 1529,
    "start_time": "2022-03-16T06:44:23.172Z"
   },
   {
    "duration": 865,
    "start_time": "2022-03-16T06:44:25.801Z"
   },
   {
    "duration": 4,
    "start_time": "2022-03-16T06:44:31.112Z"
   },
   {
    "duration": 12,
    "start_time": "2022-03-16T06:44:31.801Z"
   },
   {
    "duration": 11,
    "start_time": "2022-03-16T06:44:34.384Z"
   },
   {
    "duration": 12,
    "start_time": "2022-03-16T06:44:34.631Z"
   },
   {
    "duration": 6,
    "start_time": "2022-03-16T06:44:38.572Z"
   },
   {
    "duration": 3,
    "start_time": "2022-03-16T06:44:46.760Z"
   },
   {
    "duration": 8,
    "start_time": "2022-03-16T06:44:48.411Z"
   },
   {
    "duration": 18,
    "start_time": "2022-03-16T06:44:51.032Z"
   },
   {
    "duration": 24,
    "start_time": "2022-03-16T06:44:51.370Z"
   },
   {
    "duration": 25,
    "start_time": "2022-03-16T06:44:54.351Z"
   },
   {
    "duration": 19,
    "start_time": "2022-03-16T06:44:54.841Z"
   },
   {
    "duration": 28,
    "start_time": "2022-03-16T06:44:55.381Z"
   },
   {
    "duration": 6,
    "start_time": "2022-03-16T06:45:01.533Z"
   },
   {
    "duration": 481,
    "start_time": "2022-03-16T06:45:02.272Z"
   },
   {
    "duration": 471,
    "start_time": "2022-03-16T06:45:04.012Z"
   },
   {
    "duration": 474,
    "start_time": "2022-03-16T06:45:05.481Z"
   },
   {
    "duration": 7,
    "start_time": "2022-03-16T06:45:10.302Z"
   },
   {
    "duration": 401,
    "start_time": "2022-03-16T06:45:11.062Z"
   },
   {
    "duration": 453,
    "start_time": "2022-03-16T06:45:13.722Z"
   },
   {
    "duration": 22,
    "start_time": "2022-03-16T06:45:18.321Z"
   },
   {
    "duration": 5,
    "start_time": "2022-03-16T06:45:20.392Z"
   },
   {
    "duration": 6979,
    "start_time": "2022-03-16T06:45:22.860Z"
   },
   {
    "duration": 10,
    "start_time": "2022-03-16T06:45:35.179Z"
   },
   {
    "duration": 7155,
    "start_time": "2022-03-16T06:45:36.145Z"
   },
   {
    "duration": 6,
    "start_time": "2022-03-16T06:45:54.094Z"
   },
   {
    "duration": 295,
    "start_time": "2022-03-16T06:45:57.428Z"
   },
   {
    "duration": 5,
    "start_time": "2022-03-16T06:45:58.061Z"
   },
   {
    "duration": 18,
    "start_time": "2022-03-16T06:46:48.240Z"
   },
   {
    "duration": 5,
    "start_time": "2022-03-16T06:46:50.302Z"
   },
   {
    "duration": 116929,
    "start_time": "2022-03-16T06:48:08.624Z"
   },
   {
    "duration": 7,
    "start_time": "2022-03-16T06:53:59.120Z"
   },
   {
    "duration": 191,
    "start_time": "2022-03-16T07:14:20.389Z"
   },
   {
    "duration": 158,
    "start_time": "2022-03-16T07:14:21.283Z"
   },
   {
    "duration": 3,
    "start_time": "2022-03-16T07:14:27.329Z"
   },
   {
    "duration": 5,
    "start_time": "2022-03-16T07:14:27.734Z"
   },
   {
    "duration": 154,
    "start_time": "2022-03-16T07:14:28.401Z"
   },
   {
    "duration": 220,
    "start_time": "2022-03-16T07:14:47.293Z"
   },
   {
    "duration": 167,
    "start_time": "2022-03-16T07:14:53.888Z"
   },
   {
    "duration": 4,
    "start_time": "2022-03-16T07:15:07.110Z"
   },
   {
    "duration": 3,
    "start_time": "2022-03-16T07:15:09.846Z"
   },
   {
    "duration": 11,
    "start_time": "2022-03-16T07:15:15.428Z"
   },
   {
    "duration": 35,
    "start_time": "2022-03-16T07:15:17.752Z"
   },
   {
    "duration": 3,
    "start_time": "2022-03-16T07:15:25.549Z"
   },
   {
    "duration": 3,
    "start_time": "2022-03-16T07:15:26.010Z"
   },
   {
    "duration": 73628,
    "start_time": "2022-03-16T07:15:26.433Z"
   },
   {
    "duration": 81367,
    "start_time": "2022-03-16T07:21:51.993Z"
   },
   {
    "duration": 4,
    "start_time": "2022-03-16T08:53:15.247Z"
   },
   {
    "duration": 4,
    "start_time": "2022-03-16T08:53:15.821Z"
   },
   {
    "duration": 74149,
    "start_time": "2022-03-16T08:53:16.806Z"
   },
   {
    "duration": 74122,
    "start_time": "2022-03-16T09:08:10.234Z"
   },
   {
    "duration": 74707,
    "start_time": "2022-03-16T09:11:42.255Z"
   },
   {
    "duration": 7,
    "start_time": "2022-03-16T09:14:47.014Z"
   },
   {
    "duration": 74418,
    "start_time": "2022-03-16T09:14:56.652Z"
   },
   {
    "duration": 74500,
    "start_time": "2022-03-16T09:20:43.562Z"
   },
   {
    "duration": 75613,
    "start_time": "2022-03-16T09:26:15.040Z"
   },
   {
    "duration": 155,
    "start_time": "2022-03-16T09:44:58.577Z"
   },
   {
    "duration": 5,
    "start_time": "2022-03-16T09:45:05.289Z"
   },
   {
    "duration": 10866,
    "start_time": "2022-03-16T09:45:08.739Z"
   },
   {
    "duration": 107602,
    "start_time": "2022-03-16T09:49:47.855Z"
   },
   {
    "duration": 6,
    "start_time": "2022-03-16T09:54:03.318Z"
   },
   {
    "duration": 82883,
    "start_time": "2022-03-16T09:54:52.270Z"
   },
   {
    "duration": 75209,
    "start_time": "2022-03-16T10:02:15.550Z"
   },
   {
    "duration": 9,
    "start_time": "2022-03-16T10:19:38.935Z"
   },
   {
    "duration": 23,
    "start_time": "2022-03-16T10:19:42.645Z"
   },
   {
    "duration": 75551,
    "start_time": "2022-03-16T10:21:10.122Z"
   },
   {
    "duration": 5,
    "start_time": "2022-03-16T10:24:20.851Z"
   },
   {
    "duration": 5,
    "start_time": "2022-03-16T10:24:26.189Z"
   },
   {
    "duration": 77826,
    "start_time": "2022-03-16T10:24:27.830Z"
   },
   {
    "duration": 83928,
    "start_time": "2022-03-16T10:27:26.631Z"
   },
   {
    "duration": 84602,
    "start_time": "2022-03-16T10:29:20.954Z"
   },
   {
    "duration": 4189,
    "start_time": "2022-03-16T10:44:10.315Z"
   },
   {
    "duration": 4267,
    "start_time": "2022-03-16T10:45:33.116Z"
   },
   {
    "duration": 1592,
    "start_time": "2022-03-16T10:59:59.199Z"
   },
   {
    "duration": 4,
    "start_time": "2022-03-16T11:00:40.948Z"
   },
   {
    "duration": 313,
    "start_time": "2022-03-16T11:00:40.957Z"
   },
   {
    "duration": 1177,
    "start_time": "2022-03-16T11:00:40.098Z"
   },
   {
    "duration": 1168,
    "start_time": "2022-03-16T11:00:40.108Z"
   },
   {
    "duration": 1160,
    "start_time": "2022-03-16T11:00:40.118Z"
   },
   {
    "duration": 1154,
    "start_time": "2022-03-16T11:00:40.126Z"
   },
   {
    "duration": 1144,
    "start_time": "2022-03-16T11:00:40.137Z"
   },
   {
    "duration": 1138,
    "start_time": "2022-03-16T11:00:40.145Z"
   },
   {
    "duration": 1129,
    "start_time": "2022-03-16T11:00:40.155Z"
   },
   {
    "duration": 1123,
    "start_time": "2022-03-16T11:00:40.163Z"
   },
   {
    "duration": 1115,
    "start_time": "2022-03-16T11:00:40.173Z"
   },
   {
    "duration": 1083,
    "start_time": "2022-03-16T11:00:40.206Z"
   },
   {
    "duration": 1075,
    "start_time": "2022-03-16T11:00:40.216Z"
   },
   {
    "duration": 1067,
    "start_time": "2022-03-16T11:00:40.225Z"
   },
   {
    "duration": 1060,
    "start_time": "2022-03-16T11:00:40.234Z"
   },
   {
    "duration": 1052,
    "start_time": "2022-03-16T11:00:40.243Z"
   },
   {
    "duration": 1044,
    "start_time": "2022-03-16T11:00:40.253Z"
   },
   {
    "duration": 1036,
    "start_time": "2022-03-16T11:00:40.263Z"
   },
   {
    "duration": 1027,
    "start_time": "2022-03-16T11:00:40.273Z"
   },
   {
    "duration": 1020,
    "start_time": "2022-03-16T11:00:40.281Z"
   },
   {
    "duration": 1011,
    "start_time": "2022-03-16T11:00:40.292Z"
   },
   {
    "duration": 1006,
    "start_time": "2022-03-16T11:00:40.299Z"
   },
   {
    "duration": 989,
    "start_time": "2022-03-16T11:00:40.317Z"
   },
   {
    "duration": 981,
    "start_time": "2022-03-16T11:00:40.326Z"
   },
   {
    "duration": 972,
    "start_time": "2022-03-16T11:00:40.336Z"
   },
   {
    "duration": 965,
    "start_time": "2022-03-16T11:00:40.344Z"
   },
   {
    "duration": 956,
    "start_time": "2022-03-16T11:00:40.355Z"
   },
   {
    "duration": 950,
    "start_time": "2022-03-16T11:00:40.362Z"
   },
   {
    "duration": 940,
    "start_time": "2022-03-16T11:00:40.373Z"
   },
   {
    "duration": 971,
    "start_time": "2022-03-16T11:00:40.380Z"
   },
   {
    "duration": 961,
    "start_time": "2022-03-16T11:00:40.391Z"
   },
   {
    "duration": 956,
    "start_time": "2022-03-16T11:00:40.398Z"
   },
   {
    "duration": 947,
    "start_time": "2022-03-16T11:00:40.408Z"
   },
   {
    "duration": 933,
    "start_time": "2022-03-16T11:00:40.424Z"
   },
   {
    "duration": 924,
    "start_time": "2022-03-16T11:00:40.434Z"
   },
   {
    "duration": 917,
    "start_time": "2022-03-16T11:00:40.442Z"
   },
   {
    "duration": 921,
    "start_time": "2022-03-16T11:01:17.878Z"
   },
   {
    "duration": 4,
    "start_time": "2022-03-16T11:01:26.317Z"
   },
   {
    "duration": 12,
    "start_time": "2022-03-16T11:01:26.879Z"
   },
   {
    "duration": 10,
    "start_time": "2022-03-16T11:01:28.956Z"
   },
   {
    "duration": 11,
    "start_time": "2022-03-16T11:01:29.518Z"
   },
   {
    "duration": 7,
    "start_time": "2022-03-16T11:01:30.295Z"
   },
   {
    "duration": 3,
    "start_time": "2022-03-16T11:01:31.079Z"
   },
   {
    "duration": 9,
    "start_time": "2022-03-16T11:01:31.708Z"
   },
   {
    "duration": 20,
    "start_time": "2022-03-16T11:01:31.910Z"
   },
   {
    "duration": 34,
    "start_time": "2022-03-16T11:01:32.118Z"
   },
   {
    "duration": 30,
    "start_time": "2022-03-16T11:01:32.501Z"
   },
   {
    "duration": 24,
    "start_time": "2022-03-16T11:01:32.671Z"
   },
   {
    "duration": 41,
    "start_time": "2022-03-16T11:01:32.851Z"
   },
   {
    "duration": 6,
    "start_time": "2022-03-16T11:01:33.766Z"
   },
   {
    "duration": 478,
    "start_time": "2022-03-16T11:01:35.285Z"
   },
   {
    "duration": 482,
    "start_time": "2022-03-16T11:01:36.836Z"
   },
   {
    "duration": 503,
    "start_time": "2022-03-16T11:01:37.321Z"
   },
   {
    "duration": 8,
    "start_time": "2022-03-16T11:01:39.458Z"
   },
   {
    "duration": 400,
    "start_time": "2022-03-16T11:01:40.416Z"
   },
   {
    "duration": 652,
    "start_time": "2022-03-16T11:01:40.819Z"
   },
   {
    "duration": 23,
    "start_time": "2022-03-16T11:01:42.901Z"
   },
   {
    "duration": 5,
    "start_time": "2022-03-16T11:01:43.918Z"
   },
   {
    "duration": 7178,
    "start_time": "2022-03-16T11:01:44.675Z"
   },
   {
    "duration": 10,
    "start_time": "2022-03-16T11:01:51.856Z"
   },
   {
    "duration": 7596,
    "start_time": "2022-03-16T11:01:51.869Z"
   },
   {
    "duration": 6,
    "start_time": "2022-03-16T11:01:59.468Z"
   },
   {
    "duration": 18,
    "start_time": "2022-03-16T11:01:59.477Z"
   },
   {
    "duration": 6,
    "start_time": "2022-03-16T11:01:59.498Z"
   },
   {
    "duration": 4,
    "start_time": "2022-03-16T11:02:07.488Z"
   },
   {
    "duration": 4,
    "start_time": "2022-03-16T11:02:09.747Z"
   },
   {
    "duration": 3,
    "start_time": "2022-03-16T11:02:10.270Z"
   },
   {
    "duration": 13,
    "start_time": "2022-03-16T11:02:12.281Z"
   },
   {
    "duration": 29,
    "start_time": "2022-03-16T11:02:14.320Z"
   },
   {
    "duration": 5,
    "start_time": "2022-03-16T11:02:17.771Z"
   },
   {
    "duration": 4,
    "start_time": "2022-03-16T11:02:18.530Z"
   },
   {
    "duration": 359,
    "start_time": "2022-03-16T11:02:20.608Z"
   },
   {
    "duration": 5,
    "start_time": "2022-03-16T11:03:02.241Z"
   },
   {
    "duration": 4,
    "start_time": "2022-03-16T11:03:02.779Z"
   },
   {
    "duration": 86148,
    "start_time": "2022-03-16T11:03:03.416Z"
   },
   {
    "duration": 79774,
    "start_time": "2022-03-16T11:05:08.243Z"
   },
   {
    "duration": 81555,
    "start_time": "2022-03-16T11:07:50.689Z"
   },
   {
    "duration": 82390,
    "start_time": "2022-03-16T11:09:57.568Z"
   },
   {
    "duration": 199394,
    "start_time": "2022-03-16T11:13:24.069Z"
   },
   {
    "duration": 316484,
    "start_time": "2022-03-16T11:19:10.976Z"
   },
   {
    "duration": 18463,
    "start_time": "2022-03-16T11:24:59.538Z"
   },
   {
    "duration": 324004,
    "start_time": "2022-03-16T11:27:28.232Z"
   },
   {
    "duration": 78431,
    "start_time": "2022-03-16T11:33:46.083Z"
   },
   {
    "duration": 5,
    "start_time": "2022-03-16T11:35:56.118Z"
   },
   {
    "duration": 6,
    "start_time": "2022-03-16T11:36:16.358Z"
   },
   {
    "duration": 90015,
    "start_time": "2022-03-16T11:36:57.888Z"
   },
   {
    "duration": 176,
    "start_time": "2022-03-16T11:54:43.046Z"
   },
   {
    "duration": 11,
    "start_time": "2022-03-16T11:55:03.812Z"
   },
   {
    "duration": 23,
    "start_time": "2022-03-16T11:55:07.220Z"
   },
   {
    "duration": 195,
    "start_time": "2022-03-16T12:03:22.512Z"
   },
   {
    "duration": 2849,
    "start_time": "2022-03-16T12:03:35.030Z"
   },
   {
    "duration": 5849,
    "start_time": "2022-03-16T12:04:04.765Z"
   },
   {
    "duration": 5219,
    "start_time": "2022-03-16T12:04:35.950Z"
   },
   {
    "duration": 5022,
    "start_time": "2022-03-16T12:05:04.971Z"
   },
   {
    "duration": 5,
    "start_time": "2022-03-16T12:05:56.659Z"
   },
   {
    "duration": 3,
    "start_time": "2022-03-16T12:06:07.787Z"
   },
   {
    "duration": 6857,
    "start_time": "2022-03-16T12:06:09.782Z"
   },
   {
    "duration": 325170,
    "start_time": "2022-03-16T12:29:20.609Z"
   },
   {
    "duration": 10563,
    "start_time": "2022-03-16T12:37:57.603Z"
   },
   {
    "duration": 5,
    "start_time": "2022-03-16T12:39:35.556Z"
   },
   {
    "duration": 10453,
    "start_time": "2022-03-16T12:40:17.976Z"
   },
   {
    "duration": 10234,
    "start_time": "2022-03-16T12:44:20.125Z"
   },
   {
    "duration": 213061,
    "start_time": "2022-03-16T13:02:34.190Z"
   },
   {
    "duration": 11002,
    "start_time": "2022-03-16T13:07:47.759Z"
   },
   {
    "duration": 1539,
    "start_time": "2022-03-16T13:28:40.052Z"
   },
   {
    "duration": 1420,
    "start_time": "2022-03-16T13:28:41.599Z"
   },
   {
    "duration": 392,
    "start_time": "2022-03-16T13:28:43.022Z"
   },
   {
    "duration": 1860,
    "start_time": "2022-03-16T13:28:41.558Z"
   },
   {
    "duration": 278,
    "start_time": "2022-03-16T13:28:43.614Z"
   },
   {
    "duration": 5,
    "start_time": "2022-03-16T13:28:46.874Z"
   },
   {
    "duration": 13,
    "start_time": "2022-03-16T13:28:47.084Z"
   },
   {
    "duration": 13,
    "start_time": "2022-03-16T13:28:47.324Z"
   },
   {
    "duration": 12,
    "start_time": "2022-03-16T13:28:47.521Z"
   },
   {
    "duration": 12,
    "start_time": "2022-03-16T13:28:48.354Z"
   },
   {
    "duration": 3,
    "start_time": "2022-03-16T13:28:49.201Z"
   },
   {
    "duration": 6,
    "start_time": "2022-03-16T13:28:49.608Z"
   },
   {
    "duration": 19,
    "start_time": "2022-03-16T13:28:49.791Z"
   },
   {
    "duration": 24,
    "start_time": "2022-03-16T13:28:50.008Z"
   },
   {
    "duration": 24,
    "start_time": "2022-03-16T13:28:50.423Z"
   },
   {
    "duration": 20,
    "start_time": "2022-03-16T13:28:50.612Z"
   },
   {
    "duration": 30,
    "start_time": "2022-03-16T13:28:50.833Z"
   },
   {
    "duration": 6,
    "start_time": "2022-03-16T13:28:51.816Z"
   },
   {
    "duration": 516,
    "start_time": "2022-03-16T13:28:52.025Z"
   },
   {
    "duration": 534,
    "start_time": "2022-03-16T13:28:52.551Z"
   },
   {
    "duration": 510,
    "start_time": "2022-03-16T13:28:53.088Z"
   },
   {
    "duration": 8,
    "start_time": "2022-03-16T13:28:53.600Z"
   },
   {
    "duration": 481,
    "start_time": "2022-03-16T13:28:53.611Z"
   },
   {
    "duration": 513,
    "start_time": "2022-03-16T13:28:54.095Z"
   },
   {
    "duration": 22,
    "start_time": "2022-03-16T13:28:54.611Z"
   },
   {
    "duration": 17,
    "start_time": "2022-03-16T13:28:54.635Z"
   },
   {
    "duration": 7429,
    "start_time": "2022-03-16T13:28:54.655Z"
   },
   {
    "duration": 11,
    "start_time": "2022-03-16T13:29:02.086Z"
   },
   {
    "duration": 7562,
    "start_time": "2022-03-16T13:29:02.100Z"
   },
   {
    "duration": 5,
    "start_time": "2022-03-16T13:29:09.665Z"
   },
   {
    "duration": 18,
    "start_time": "2022-03-16T13:29:09.673Z"
   },
   {
    "duration": 6,
    "start_time": "2022-03-16T13:29:09.693Z"
   },
   {
    "duration": 5,
    "start_time": "2022-03-16T13:29:21.702Z"
   },
   {
    "duration": 4,
    "start_time": "2022-03-16T13:29:24.092Z"
   },
   {
    "duration": 3,
    "start_time": "2022-03-16T13:29:24.641Z"
   },
   {
    "duration": 13,
    "start_time": "2022-03-16T13:29:27.852Z"
   },
   {
    "duration": 31,
    "start_time": "2022-03-16T13:29:29.863Z"
   },
   {
    "duration": 5,
    "start_time": "2022-03-16T13:29:34.362Z"
   },
   {
    "duration": 3,
    "start_time": "2022-03-16T13:29:35.032Z"
   },
   {
    "duration": 80854,
    "start_time": "2022-03-16T13:29:41.012Z"
   },
   {
    "duration": 433,
    "start_time": "2022-03-16T13:32:25.403Z"
   },
   {
    "duration": 4,
    "start_time": "2022-03-16T13:32:46.892Z"
   },
   {
    "duration": 10766,
    "start_time": "2022-03-16T13:32:50.392Z"
   },
   {
    "duration": 6,
    "start_time": "2022-03-16T13:33:04.813Z"
   },
   {
    "duration": 6,
    "start_time": "2022-03-16T13:34:08.336Z"
   },
   {
    "duration": 4,
    "start_time": "2022-03-16T13:38:10.431Z"
   },
   {
    "duration": 117316,
    "start_time": "2022-03-16T13:38:18.214Z"
   },
   {
    "duration": 2338,
    "start_time": "2022-03-16T13:42:20.641Z"
   },
   {
    "duration": 23,
    "start_time": "2022-03-16T13:45:27.604Z"
   },
   {
    "duration": 13210,
    "start_time": "2022-03-16T13:45:37.244Z"
   },
   {
    "duration": 1547,
    "start_time": "2022-03-16T13:46:11.212Z"
   },
   {
    "duration": 935,
    "start_time": "2022-03-16T13:46:13.061Z"
   },
   {
    "duration": 4,
    "start_time": "2022-03-16T13:46:25.002Z"
   },
   {
    "duration": 12,
    "start_time": "2022-03-16T13:46:25.142Z"
   },
   {
    "duration": 11,
    "start_time": "2022-03-16T13:46:25.325Z"
   },
   {
    "duration": 12,
    "start_time": "2022-03-16T13:46:25.538Z"
   },
   {
    "duration": 8,
    "start_time": "2022-03-16T13:46:26.065Z"
   },
   {
    "duration": 4,
    "start_time": "2022-03-16T13:46:26.762Z"
   },
   {
    "duration": 8,
    "start_time": "2022-03-16T13:46:27.094Z"
   },
   {
    "duration": 20,
    "start_time": "2022-03-16T13:46:27.264Z"
   },
   {
    "duration": 23,
    "start_time": "2022-03-16T13:46:27.441Z"
   },
   {
    "duration": 23,
    "start_time": "2022-03-16T13:46:27.781Z"
   },
   {
    "duration": 18,
    "start_time": "2022-03-16T13:46:27.934Z"
   },
   {
    "duration": 30,
    "start_time": "2022-03-16T13:46:28.095Z"
   },
   {
    "duration": 6,
    "start_time": "2022-03-16T13:46:28.926Z"
   },
   {
    "duration": 531,
    "start_time": "2022-03-16T13:46:29.095Z"
   },
   {
    "duration": 557,
    "start_time": "2022-03-16T13:46:29.629Z"
   },
   {
    "duration": 534,
    "start_time": "2022-03-16T13:46:30.189Z"
   },
   {
    "duration": 8,
    "start_time": "2022-03-16T13:46:30.726Z"
   },
   {
    "duration": 436,
    "start_time": "2022-03-16T13:46:30.751Z"
   },
   {
    "duration": 524,
    "start_time": "2022-03-16T13:46:31.191Z"
   },
   {
    "duration": 36,
    "start_time": "2022-03-16T13:46:31.719Z"
   },
   {
    "duration": 6,
    "start_time": "2022-03-16T13:46:31.757Z"
   },
   {
    "duration": 7555,
    "start_time": "2022-03-16T13:46:31.765Z"
   },
   {
    "duration": 11,
    "start_time": "2022-03-16T13:46:39.322Z"
   },
   {
    "duration": 10708,
    "start_time": "2022-03-16T13:46:39.336Z"
   },
   {
    "duration": 6,
    "start_time": "2022-03-16T13:46:50.051Z"
   },
   {
    "duration": 18,
    "start_time": "2022-03-16T13:46:50.060Z"
   },
   {
    "duration": 8,
    "start_time": "2022-03-16T13:46:50.080Z"
   },
   {
    "duration": 4,
    "start_time": "2022-03-16T13:46:50.091Z"
   },
   {
    "duration": 4,
    "start_time": "2022-03-16T13:46:50.098Z"
   },
   {
    "duration": 3,
    "start_time": "2022-03-16T13:46:50.153Z"
   },
   {
    "duration": 20,
    "start_time": "2022-03-16T13:46:50.159Z"
   },
   {
    "duration": 30,
    "start_time": "2022-03-16T13:46:50.445Z"
   },
   {
    "duration": 3,
    "start_time": "2022-03-16T13:47:13.842Z"
   },
   {
    "duration": 11193,
    "start_time": "2022-03-16T13:47:15.222Z"
   },
   {
    "duration": 5,
    "start_time": "2022-03-16T16:58:12.462Z"
   },
   {
    "duration": 5,
    "start_time": "2022-03-16T16:58:42.081Z"
   },
   {
    "duration": 5,
    "start_time": "2022-03-16T17:00:12.599Z"
   },
   {
    "duration": 5,
    "start_time": "2022-03-16T17:00:39.280Z"
   },
   {
    "duration": 5,
    "start_time": "2022-03-16T17:01:02.324Z"
   },
   {
    "duration": 5,
    "start_time": "2022-03-16T17:01:38.324Z"
   },
   {
    "duration": 6,
    "start_time": "2022-03-16T17:03:01.342Z"
   },
   {
    "duration": 5,
    "start_time": "2022-03-16T17:03:37.336Z"
   },
   {
    "duration": 1648,
    "start_time": "2022-03-16T17:07:13.380Z"
   },
   {
    "duration": 960,
    "start_time": "2022-03-16T17:07:16.369Z"
   },
   {
    "duration": 5,
    "start_time": "2022-03-16T17:07:30.029Z"
   },
   {
    "duration": 12,
    "start_time": "2022-03-16T17:07:30.229Z"
   },
   {
    "duration": 11,
    "start_time": "2022-03-16T17:07:30.430Z"
   },
   {
    "duration": 11,
    "start_time": "2022-03-16T17:07:30.647Z"
   },
   {
    "duration": 8,
    "start_time": "2022-03-16T17:07:31.210Z"
   },
   {
    "duration": 3,
    "start_time": "2022-03-16T17:07:32.150Z"
   },
   {
    "duration": 13,
    "start_time": "2022-03-16T17:07:33.350Z"
   },
   {
    "duration": 21,
    "start_time": "2022-03-16T17:07:33.520Z"
   },
   {
    "duration": 34,
    "start_time": "2022-03-16T17:07:33.769Z"
   },
   {
    "duration": 25,
    "start_time": "2022-03-16T17:07:36.729Z"
   },
   {
    "duration": 18,
    "start_time": "2022-03-16T17:07:36.909Z"
   },
   {
    "duration": 31,
    "start_time": "2022-03-16T17:07:37.119Z"
   },
   {
    "duration": 7,
    "start_time": "2022-03-16T17:07:38.149Z"
   },
   {
    "duration": 754,
    "start_time": "2022-03-16T17:07:38.362Z"
   },
   {
    "duration": 743,
    "start_time": "2022-03-16T17:07:39.119Z"
   },
   {
    "duration": 537,
    "start_time": "2022-03-16T17:07:39.866Z"
   },
   {
    "duration": 9,
    "start_time": "2022-03-16T17:07:41.571Z"
   },
   {
    "duration": 552,
    "start_time": "2022-03-16T17:07:41.711Z"
   },
   {
    "duration": 512,
    "start_time": "2022-03-16T17:07:45.000Z"
   },
   {
    "duration": 32,
    "start_time": "2022-03-16T17:07:49.341Z"
   },
   {
    "duration": 5,
    "start_time": "2022-03-16T17:07:51.723Z"
   },
   {
    "duration": 7425,
    "start_time": "2022-03-16T17:07:53.499Z"
   },
   {
    "duration": 30,
    "start_time": "2022-03-16T17:08:00.926Z"
   },
   {
    "duration": 7551,
    "start_time": "2022-03-16T17:08:00.960Z"
   },
   {
    "duration": 6,
    "start_time": "2022-03-16T17:08:08.515Z"
   },
   {
    "duration": 18,
    "start_time": "2022-03-16T17:08:15.400Z"
   },
   {
    "duration": 6,
    "start_time": "2022-03-16T17:08:17.299Z"
   },
   {
    "duration": 9,
    "start_time": "2022-03-16T17:08:18.920Z"
   },
   {
    "duration": 4,
    "start_time": "2022-03-16T17:08:24.999Z"
   },
   {
    "duration": 4,
    "start_time": "2022-03-16T17:08:27.283Z"
   },
   {
    "duration": 4,
    "start_time": "2022-03-16T17:08:27.762Z"
   },
   {
    "duration": 331,
    "start_time": "2022-03-16T17:08:34.113Z"
   },
   {
    "duration": 13,
    "start_time": "2022-03-16T17:08:58.899Z"
   },
   {
    "duration": 32,
    "start_time": "2022-03-16T17:09:01.830Z"
   },
   {
    "duration": 4,
    "start_time": "2022-03-16T17:09:13.240Z"
   },
   {
    "duration": 10317,
    "start_time": "2022-03-16T17:09:15.760Z"
   },
   {
    "duration": 2057,
    "start_time": "2022-03-16T17:09:29.601Z"
   },
   {
    "duration": 145,
    "start_time": "2022-03-16T17:11:11.171Z"
   },
   {
    "duration": 176,
    "start_time": "2022-03-16T17:11:19.352Z"
   },
   {
    "duration": 165,
    "start_time": "2022-03-16T17:11:36.869Z"
   },
   {
    "duration": 187,
    "start_time": "2022-03-16T17:12:20.301Z"
   },
   {
    "duration": 7,
    "start_time": "2022-03-16T17:12:29.108Z"
   },
   {
    "duration": 7,
    "start_time": "2022-03-16T17:12:40.329Z"
   },
   {
    "duration": 187,
    "start_time": "2022-03-16T17:13:12.720Z"
   },
   {
    "duration": 10,
    "start_time": "2022-03-16T17:13:32.822Z"
   },
   {
    "duration": 20,
    "start_time": "2022-03-16T17:13:38.109Z"
   },
   {
    "duration": 7,
    "start_time": "2022-03-16T17:15:55.511Z"
   },
   {
    "duration": 7,
    "start_time": "2022-03-16T17:16:29.641Z"
   },
   {
    "duration": 4,
    "start_time": "2022-03-16T17:17:40.759Z"
   },
   {
    "duration": 38,
    "start_time": "2022-03-16T17:18:34.518Z"
   },
   {
    "duration": 3,
    "start_time": "2022-03-16T17:18:45.623Z"
   },
   {
    "duration": 10609,
    "start_time": "2022-03-16T17:18:48.602Z"
   },
   {
    "duration": 2564,
    "start_time": "2022-03-16T17:21:24.960Z"
   },
   {
    "duration": 7,
    "start_time": "2022-03-16T17:21:34.173Z"
   },
   {
    "duration": 903,
    "start_time": "2022-03-16T17:21:37.009Z"
   },
   {
    "duration": 4,
    "start_time": "2022-03-16T17:21:41.817Z"
   },
   {
    "duration": 11,
    "start_time": "2022-03-16T17:21:43.029Z"
   },
   {
    "duration": 7,
    "start_time": "2022-03-16T17:21:43.751Z"
   },
   {
    "duration": 8,
    "start_time": "2022-03-16T17:21:44.001Z"
   },
   {
    "duration": 7,
    "start_time": "2022-03-16T17:21:45.372Z"
   },
   {
    "duration": 3,
    "start_time": "2022-03-16T17:21:46.802Z"
   },
   {
    "duration": 7,
    "start_time": "2022-03-16T17:21:47.251Z"
   },
   {
    "duration": 16,
    "start_time": "2022-03-16T17:21:47.484Z"
   },
   {
    "duration": 23,
    "start_time": "2022-03-16T17:21:47.692Z"
   },
   {
    "duration": 24,
    "start_time": "2022-03-16T17:21:57.037Z"
   },
   {
    "duration": 21,
    "start_time": "2022-03-16T17:21:59.329Z"
   },
   {
    "duration": 34,
    "start_time": "2022-03-16T17:22:01.091Z"
   },
   {
    "duration": 6,
    "start_time": "2022-03-16T17:22:12.629Z"
   },
   {
    "duration": 484,
    "start_time": "2022-03-16T17:22:13.059Z"
   },
   {
    "duration": 483,
    "start_time": "2022-03-16T17:22:13.546Z"
   },
   {
    "duration": 670,
    "start_time": "2022-03-16T17:22:14.033Z"
   },
   {
    "duration": 7,
    "start_time": "2022-03-16T17:22:20.301Z"
   },
   {
    "duration": 648,
    "start_time": "2022-03-16T17:22:20.970Z"
   },
   {
    "duration": 430,
    "start_time": "2022-03-16T17:22:21.621Z"
   },
   {
    "duration": 23,
    "start_time": "2022-03-16T17:22:23.691Z"
   },
   {
    "duration": 5,
    "start_time": "2022-03-16T17:22:28.392Z"
   },
   {
    "duration": 7488,
    "start_time": "2022-03-16T17:22:29.379Z"
   },
   {
    "duration": 10,
    "start_time": "2022-03-16T17:22:36.870Z"
   },
   {
    "duration": 7472,
    "start_time": "2022-03-16T17:22:36.883Z"
   },
   {
    "duration": 4,
    "start_time": "2022-03-16T17:22:44.358Z"
   },
   {
    "duration": 23,
    "start_time": "2022-03-16T17:22:49.167Z"
   },
   {
    "duration": 6,
    "start_time": "2022-03-16T17:22:50.339Z"
   },
   {
    "duration": 5,
    "start_time": "2022-03-16T17:22:57.127Z"
   },
   {
    "duration": 5,
    "start_time": "2022-03-16T17:22:59.229Z"
   },
   {
    "duration": 3,
    "start_time": "2022-03-16T17:23:02.921Z"
   },
   {
    "duration": 12,
    "start_time": "2022-03-16T17:23:32.350Z"
   },
   {
    "duration": 4,
    "start_time": "2022-03-16T17:23:33.299Z"
   },
   {
    "duration": 30,
    "start_time": "2022-03-16T17:23:37.877Z"
   },
   {
    "duration": 3,
    "start_time": "2022-03-16T17:23:46.212Z"
   },
   {
    "duration": 10746,
    "start_time": "2022-03-16T17:23:48.991Z"
   },
   {
    "duration": 2093,
    "start_time": "2022-03-16T17:24:03.069Z"
   },
   {
    "duration": 188,
    "start_time": "2022-03-16T17:25:39.361Z"
   },
   {
    "duration": 6,
    "start_time": "2022-03-16T17:25:47.704Z"
   },
   {
    "duration": 874,
    "start_time": "2022-03-16T17:25:48.666Z"
   },
   {
    "duration": 4,
    "start_time": "2022-03-16T17:25:54.689Z"
   },
   {
    "duration": 12,
    "start_time": "2022-03-16T17:25:54.829Z"
   },
   {
    "duration": 7,
    "start_time": "2022-03-16T17:25:55.099Z"
   },
   {
    "duration": 9,
    "start_time": "2022-03-16T17:25:55.239Z"
   },
   {
    "duration": 7,
    "start_time": "2022-03-16T17:25:55.659Z"
   },
   {
    "duration": 4,
    "start_time": "2022-03-16T17:25:56.248Z"
   },
   {
    "duration": 8,
    "start_time": "2022-03-16T17:25:56.538Z"
   },
   {
    "duration": 13,
    "start_time": "2022-03-16T17:25:56.689Z"
   },
   {
    "duration": 22,
    "start_time": "2022-03-16T17:25:56.839Z"
   },
   {
    "duration": 24,
    "start_time": "2022-03-16T17:25:57.449Z"
   },
   {
    "duration": 21,
    "start_time": "2022-03-16T17:25:57.609Z"
   },
   {
    "duration": 32,
    "start_time": "2022-03-16T17:25:57.769Z"
   },
   {
    "duration": 6,
    "start_time": "2022-03-16T17:25:58.559Z"
   },
   {
    "duration": 497,
    "start_time": "2022-03-16T17:25:58.727Z"
   },
   {
    "duration": 506,
    "start_time": "2022-03-16T17:25:59.227Z"
   },
   {
    "duration": 779,
    "start_time": "2022-03-16T17:25:59.737Z"
   },
   {
    "duration": 10,
    "start_time": "2022-03-16T17:26:00.520Z"
   },
   {
    "duration": 436,
    "start_time": "2022-03-16T17:26:00.533Z"
   },
   {
    "duration": 450,
    "start_time": "2022-03-16T17:26:00.972Z"
   },
   {
    "duration": 38,
    "start_time": "2022-03-16T17:26:01.425Z"
   },
   {
    "duration": 5,
    "start_time": "2022-03-16T17:26:01.466Z"
   },
   {
    "duration": 7246,
    "start_time": "2022-03-16T17:26:01.549Z"
   },
   {
    "duration": 10,
    "start_time": "2022-03-16T17:26:08.798Z"
   },
   {
    "duration": 8048,
    "start_time": "2022-03-16T17:26:08.811Z"
   },
   {
    "duration": 6,
    "start_time": "2022-03-16T17:26:16.863Z"
   },
   {
    "duration": 24,
    "start_time": "2022-03-16T17:26:16.872Z"
   },
   {
    "duration": 5,
    "start_time": "2022-03-16T17:26:16.899Z"
   },
   {
    "duration": 7,
    "start_time": "2022-03-16T17:26:16.907Z"
   },
   {
    "duration": 5,
    "start_time": "2022-03-16T17:26:16.953Z"
   },
   {
    "duration": 9,
    "start_time": "2022-03-16T17:26:16.961Z"
   },
   {
    "duration": 14,
    "start_time": "2022-03-16T17:26:19.047Z"
   },
   {
    "duration": 4,
    "start_time": "2022-03-16T17:26:20.220Z"
   },
   {
    "duration": 49,
    "start_time": "2022-03-16T17:26:21.211Z"
   },
   {
    "duration": 11537,
    "start_time": "2022-03-16T17:26:30.669Z"
   },
   {
    "duration": 193,
    "start_time": "2022-03-16T17:27:03.291Z"
   },
   {
    "duration": 8,
    "start_time": "2022-03-16T17:27:11.519Z"
   },
   {
    "duration": 18,
    "start_time": "2022-03-16T17:27:31.101Z"
   },
   {
    "duration": 10790,
    "start_time": "2022-03-16T17:37:03.730Z"
   },
   {
    "duration": 5,
    "start_time": "2022-03-16T17:37:56.919Z"
   },
   {
    "duration": 5,
    "start_time": "2022-03-16T17:37:58.709Z"
   },
   {
    "duration": 115306,
    "start_time": "2022-03-16T17:38:08.440Z"
   },
   {
    "duration": 2042,
    "start_time": "2022-03-16T17:44:25.491Z"
   },
   {
    "duration": 2199,
    "start_time": "2022-03-16T17:45:51.619Z"
   },
   {
    "duration": 2392,
    "start_time": "2022-03-16T17:46:21.221Z"
   },
   {
    "duration": 2062,
    "start_time": "2022-03-16T17:50:37.920Z"
   },
   {
    "duration": 950,
    "start_time": "2022-03-16T17:50:41.831Z"
   },
   {
    "duration": 5,
    "start_time": "2022-03-16T17:50:50.932Z"
   },
   {
    "duration": 14,
    "start_time": "2022-03-16T17:50:51.420Z"
   },
   {
    "duration": 11,
    "start_time": "2022-03-16T17:50:51.609Z"
   },
   {
    "duration": 10,
    "start_time": "2022-03-16T17:50:51.780Z"
   },
   {
    "duration": 9,
    "start_time": "2022-03-16T17:50:52.810Z"
   },
   {
    "duration": 4,
    "start_time": "2022-03-16T17:50:53.470Z"
   },
   {
    "duration": 8,
    "start_time": "2022-03-16T17:50:53.809Z"
   },
   {
    "duration": 22,
    "start_time": "2022-03-16T17:50:53.980Z"
   },
   {
    "duration": 35,
    "start_time": "2022-03-16T17:50:54.150Z"
   },
   {
    "duration": 29,
    "start_time": "2022-03-16T17:50:54.850Z"
   },
   {
    "duration": 20,
    "start_time": "2022-03-16T17:50:55.200Z"
   },
   {
    "duration": 35,
    "start_time": "2022-03-16T17:50:55.403Z"
   },
   {
    "duration": 6,
    "start_time": "2022-03-16T17:50:56.303Z"
   },
   {
    "duration": 613,
    "start_time": "2022-03-16T17:50:56.480Z"
   },
   {
    "duration": 629,
    "start_time": "2022-03-16T17:50:57.096Z"
   },
   {
    "duration": 537,
    "start_time": "2022-03-16T17:50:57.729Z"
   },
   {
    "duration": 9,
    "start_time": "2022-03-16T17:50:58.269Z"
   },
   {
    "duration": 664,
    "start_time": "2022-03-16T17:50:58.282Z"
   },
   {
    "duration": 787,
    "start_time": "2022-03-16T17:50:58.954Z"
   },
   {
    "duration": 37,
    "start_time": "2022-03-16T17:50:59.745Z"
   },
   {
    "duration": 6,
    "start_time": "2022-03-16T17:50:59.786Z"
   },
   {
    "duration": 10622,
    "start_time": "2022-03-16T17:50:59.795Z"
   },
   {
    "duration": 13,
    "start_time": "2022-03-16T17:51:10.421Z"
   },
   {
    "duration": 8000,
    "start_time": "2022-03-16T17:51:10.451Z"
   },
   {
    "duration": 6,
    "start_time": "2022-03-16T17:51:18.454Z"
   },
   {
    "duration": 28,
    "start_time": "2022-03-16T17:51:18.464Z"
   },
   {
    "duration": 7,
    "start_time": "2022-03-16T17:51:18.495Z"
   },
   {
    "duration": 6,
    "start_time": "2022-03-16T17:51:29.901Z"
   },
   {
    "duration": 4,
    "start_time": "2022-03-16T17:51:33.160Z"
   },
   {
    "duration": 4,
    "start_time": "2022-03-16T17:51:34.261Z"
   },
   {
    "duration": 14,
    "start_time": "2022-03-16T17:51:37.311Z"
   },
   {
    "duration": 4,
    "start_time": "2022-03-16T17:51:53.080Z"
   },
   {
    "duration": 11235,
    "start_time": "2022-03-16T17:51:53.820Z"
   },
   {
    "duration": 1944,
    "start_time": "2022-03-16T17:52:16.310Z"
   },
   {
    "duration": 5,
    "start_time": "2022-03-16T17:56:11.445Z"
   },
   {
    "duration": 47,
    "start_time": "2022-03-16T17:56:13.204Z"
   },
   {
    "duration": 10914,
    "start_time": "2022-03-16T17:56:22.371Z"
   },
   {
    "duration": 4,
    "start_time": "2022-03-16T18:10:00.013Z"
   },
   {
    "duration": 5,
    "start_time": "2022-03-16T18:12:12.820Z"
   },
   {
    "duration": 4,
    "start_time": "2022-03-16T18:12:14.820Z"
   },
   {
    "duration": 87200,
    "start_time": "2022-03-16T18:12:16.770Z"
   },
   {
    "duration": 182220,
    "start_time": "2022-03-16T18:16:27.796Z"
   },
   {
    "duration": 8,
    "start_time": "2022-03-16T18:19:30.020Z"
   },
   {
    "duration": 353,
    "start_time": "2022-03-16T18:29:42.316Z"
   },
   {
    "duration": 12,
    "start_time": "2022-03-16T18:30:04.289Z"
   },
   {
    "duration": 185074,
    "start_time": "2022-03-16T18:30:27.081Z"
   },
   {
    "duration": 32514,
    "start_time": "2022-03-16T18:34:30.051Z"
   },
   {
    "duration": 182673,
    "start_time": "2022-03-16T18:35:17.491Z"
   },
   {
    "duration": 6662,
    "start_time": "2022-03-16T18:39:51.130Z"
   },
   {
    "duration": 6487,
    "start_time": "2022-03-16T18:40:11.182Z"
   },
   {
    "duration": 1586,
    "start_time": "2022-03-16T18:45:24.414Z"
   },
   {
    "duration": 955,
    "start_time": "2022-03-16T18:45:26.983Z"
   },
   {
    "duration": 5,
    "start_time": "2022-03-16T18:45:31.645Z"
   },
   {
    "duration": 11,
    "start_time": "2022-03-16T18:45:32.323Z"
   },
   {
    "duration": 11,
    "start_time": "2022-03-16T18:45:33.083Z"
   },
   {
    "duration": 10,
    "start_time": "2022-03-16T18:45:33.563Z"
   },
   {
    "duration": 7,
    "start_time": "2022-03-16T18:45:36.686Z"
   },
   {
    "duration": 7,
    "start_time": "2022-03-16T18:45:41.144Z"
   },
   {
    "duration": 21,
    "start_time": "2022-03-16T18:45:44.265Z"
   },
   {
    "duration": 27,
    "start_time": "2022-03-16T18:45:45.033Z"
   },
   {
    "duration": 24,
    "start_time": "2022-03-16T18:45:49.092Z"
   },
   {
    "duration": 20,
    "start_time": "2022-03-16T18:45:52.503Z"
   },
   {
    "duration": 31,
    "start_time": "2022-03-16T18:45:55.096Z"
   },
   {
    "duration": 9,
    "start_time": "2022-03-16T18:46:00.353Z"
   },
   {
    "duration": 506,
    "start_time": "2022-03-16T18:46:01.386Z"
   },
   {
    "duration": 490,
    "start_time": "2022-03-16T18:46:02.053Z"
   },
   {
    "duration": 608,
    "start_time": "2022-03-16T18:46:02.562Z"
   },
   {
    "duration": 8,
    "start_time": "2022-03-16T18:46:04.045Z"
   },
   {
    "duration": 420,
    "start_time": "2022-03-16T18:46:04.475Z"
   },
   {
    "duration": 491,
    "start_time": "2022-03-16T18:46:05.023Z"
   },
   {
    "duration": 24,
    "start_time": "2022-03-16T18:46:06.863Z"
   },
   {
    "duration": 5,
    "start_time": "2022-03-16T18:46:07.495Z"
   },
   {
    "duration": 8293,
    "start_time": "2022-03-16T18:46:08.411Z"
   },
   {
    "duration": 11,
    "start_time": "2022-03-16T18:46:16.707Z"
   },
   {
    "duration": 8385,
    "start_time": "2022-03-16T18:46:16.721Z"
   },
   {
    "duration": 5,
    "start_time": "2022-03-16T18:46:25.109Z"
   },
   {
    "duration": 44,
    "start_time": "2022-03-16T18:46:25.117Z"
   },
   {
    "duration": 6,
    "start_time": "2022-03-16T18:46:25.164Z"
   },
   {
    "duration": 10,
    "start_time": "2022-03-16T18:46:25.172Z"
   },
   {
    "duration": 13,
    "start_time": "2022-03-16T18:46:25.186Z"
   },
   {
    "duration": 6,
    "start_time": "2022-03-16T18:46:25.202Z"
   },
   {
    "duration": 15,
    "start_time": "2022-03-16T18:46:25.323Z"
   },
   {
    "duration": 412,
    "start_time": "2022-03-16T18:46:46.363Z"
   },
   {
    "duration": 18,
    "start_time": "2022-03-16T18:46:58.125Z"
   },
   {
    "duration": 26,
    "start_time": "2022-03-16T18:47:36.612Z"
   },
   {
    "duration": 214,
    "start_time": "2022-03-16T18:47:40.525Z"
   },
   {
    "duration": 5,
    "start_time": "2022-03-16T18:47:50.094Z"
   },
   {
    "duration": 4,
    "start_time": "2022-03-16T18:47:52.387Z"
   },
   {
    "duration": 92517,
    "start_time": "2022-03-16T18:48:00.190Z"
   },
   {
    "duration": 252,
    "start_time": "2022-03-16T18:54:41.405Z"
   },
   {
    "duration": 567,
    "start_time": "2022-03-16T18:55:08.432Z"
   },
   {
    "duration": 2128,
    "start_time": "2022-03-16T18:55:06.874Z"
   },
   {
    "duration": 543,
    "start_time": "2022-03-16T18:56:35.508Z"
   },
   {
    "duration": 4,
    "start_time": "2022-03-16T18:56:42.241Z"
   },
   {
    "duration": 6357,
    "start_time": "2022-03-16T18:56:44.995Z"
   },
   {
    "duration": 191,
    "start_time": "2022-03-16T19:03:20.790Z"
   },
   {
    "duration": 11,
    "start_time": "2022-03-16T19:03:27.180Z"
   },
   {
    "duration": 2867,
    "start_time": "2022-03-16T19:27:34.520Z"
   },
   {
    "duration": 1605,
    "start_time": "2022-03-16T19:28:00.913Z"
   },
   {
    "duration": 1156,
    "start_time": "2022-03-16T19:28:03.195Z"
   },
   {
    "duration": 4,
    "start_time": "2022-03-16T19:28:06.485Z"
   },
   {
    "duration": 11,
    "start_time": "2022-03-16T19:28:06.725Z"
   },
   {
    "duration": 13,
    "start_time": "2022-03-16T19:28:07.012Z"
   },
   {
    "duration": 10,
    "start_time": "2022-03-16T19:28:07.236Z"
   },
   {
    "duration": 7,
    "start_time": "2022-03-16T19:28:10.420Z"
   },
   {
    "duration": 7,
    "start_time": "2022-03-16T19:28:13.711Z"
   },
   {
    "duration": 31,
    "start_time": "2022-03-16T19:28:16.551Z"
   },
   {
    "duration": 28,
    "start_time": "2022-03-16T19:28:16.751Z"
   },
   {
    "duration": 29,
    "start_time": "2022-03-16T19:28:19.437Z"
   },
   {
    "duration": 22,
    "start_time": "2022-03-16T19:28:19.621Z"
   },
   {
    "duration": 33,
    "start_time": "2022-03-16T19:28:20.621Z"
   },
   {
    "duration": 6,
    "start_time": "2022-03-16T19:28:21.837Z"
   },
   {
    "duration": 544,
    "start_time": "2022-03-16T19:28:22.031Z"
   },
   {
    "duration": 547,
    "start_time": "2022-03-16T19:28:22.578Z"
   },
   {
    "duration": 553,
    "start_time": "2022-03-16T19:28:23.128Z"
   },
   {
    "duration": 16,
    "start_time": "2022-03-16T19:28:23.684Z"
   },
   {
    "duration": 470,
    "start_time": "2022-03-16T19:28:23.703Z"
   },
   {
    "duration": 540,
    "start_time": "2022-03-16T19:28:24.175Z"
   },
   {
    "duration": 40,
    "start_time": "2022-03-16T19:28:24.718Z"
   },
   {
    "duration": 8,
    "start_time": "2022-03-16T19:28:24.765Z"
   },
   {
    "duration": 8529,
    "start_time": "2022-03-16T19:28:24.777Z"
   },
   {
    "duration": 11,
    "start_time": "2022-03-16T19:28:33.308Z"
   },
   {
    "duration": 8784,
    "start_time": "2022-03-16T19:28:33.321Z"
   },
   {
    "duration": 5,
    "start_time": "2022-03-16T19:28:42.107Z"
   },
   {
    "duration": 41,
    "start_time": "2022-03-16T19:28:42.115Z"
   },
   {
    "duration": 6,
    "start_time": "2022-03-16T19:28:42.272Z"
   },
   {
    "duration": 5,
    "start_time": "2022-03-16T19:28:47.502Z"
   },
   {
    "duration": 5,
    "start_time": "2022-03-16T19:28:49.506Z"
   },
   {
    "duration": 5,
    "start_time": "2022-03-16T19:28:50.051Z"
   },
   {
    "duration": 13,
    "start_time": "2022-03-16T19:28:52.452Z"
   },
   {
    "duration": 27,
    "start_time": "2022-03-16T19:28:56.404Z"
   },
   {
    "duration": 6,
    "start_time": "2022-03-16T19:29:00.234Z"
   },
   {
    "duration": 8,
    "start_time": "2022-03-16T19:29:00.621Z"
   },
   {
    "duration": 95691,
    "start_time": "2022-03-16T19:29:01.743Z"
   },
   {
    "duration": 4,
    "start_time": "2022-03-16T19:31:28.132Z"
   },
   {
    "duration": 4,
    "start_time": "2022-03-16T19:31:31.741Z"
   },
   {
    "duration": 5,
    "start_time": "2022-03-16T19:31:32.600Z"
   },
   {
    "duration": 13,
    "start_time": "2022-03-16T19:31:34.871Z"
   },
   {
    "duration": 22,
    "start_time": "2022-03-16T19:31:39.621Z"
   },
   {
    "duration": 5,
    "start_time": "2022-03-16T19:31:42.000Z"
   },
   {
    "duration": 4,
    "start_time": "2022-03-16T19:31:42.512Z"
   },
   {
    "duration": 1838,
    "start_time": "2022-03-16T19:31:43.770Z"
   },
   {
    "duration": 6,
    "start_time": "2022-03-16T19:33:15.691Z"
   },
   {
    "duration": 5,
    "start_time": "2022-03-16T19:33:21.911Z"
   },
   {
    "duration": 4,
    "start_time": "2022-03-16T19:33:22.342Z"
   },
   {
    "duration": 12,
    "start_time": "2022-03-16T19:33:23.532Z"
   },
   {
    "duration": 29,
    "start_time": "2022-03-16T19:33:24.540Z"
   },
   {
    "duration": 5,
    "start_time": "2022-03-16T19:33:25.781Z"
   },
   {
    "duration": 4,
    "start_time": "2022-03-16T19:33:26.682Z"
   },
   {
    "duration": 1691,
    "start_time": "2022-03-16T19:33:27.310Z"
   },
   {
    "duration": 1634,
    "start_time": "2022-03-16T19:33:45.761Z"
   },
   {
    "duration": 1046,
    "start_time": "2022-03-16T19:33:48.372Z"
   },
   {
    "duration": 7,
    "start_time": "2022-03-16T19:33:53.077Z"
   },
   {
    "duration": 16,
    "start_time": "2022-03-16T19:33:53.086Z"
   },
   {
    "duration": 8,
    "start_time": "2022-03-16T19:33:53.129Z"
   },
   {
    "duration": 10,
    "start_time": "2022-03-16T19:33:53.315Z"
   },
   {
    "duration": 18,
    "start_time": "2022-03-16T19:33:53.853Z"
   },
   {
    "duration": 4,
    "start_time": "2022-03-16T19:33:54.532Z"
   },
   {
    "duration": 7,
    "start_time": "2022-03-16T19:33:54.880Z"
   },
   {
    "duration": 24,
    "start_time": "2022-03-16T19:33:55.093Z"
   },
   {
    "duration": 42,
    "start_time": "2022-03-16T19:33:56.023Z"
   },
   {
    "duration": 28,
    "start_time": "2022-03-16T19:33:57.254Z"
   },
   {
    "duration": 20,
    "start_time": "2022-03-16T19:33:57.868Z"
   },
   {
    "duration": 30,
    "start_time": "2022-03-16T19:33:58.493Z"
   },
   {
    "duration": 6,
    "start_time": "2022-03-16T19:34:06.904Z"
   },
   {
    "duration": 531,
    "start_time": "2022-03-16T19:34:07.431Z"
   },
   {
    "duration": 517,
    "start_time": "2022-03-16T19:34:08.677Z"
   },
   {
    "duration": 543,
    "start_time": "2022-03-16T19:34:09.247Z"
   },
   {
    "duration": 8,
    "start_time": "2022-03-16T19:34:13.627Z"
   },
   {
    "duration": 452,
    "start_time": "2022-03-16T19:34:13.911Z"
   },
   {
    "duration": 592,
    "start_time": "2022-03-16T19:34:15.026Z"
   },
   {
    "duration": 35,
    "start_time": "2022-03-16T19:34:18.049Z"
   },
   {
    "duration": 5,
    "start_time": "2022-03-16T19:34:18.353Z"
   },
   {
    "duration": 8021,
    "start_time": "2022-03-16T19:34:19.232Z"
   },
   {
    "duration": 11,
    "start_time": "2022-03-16T19:34:27.256Z"
   },
   {
    "duration": 9362,
    "start_time": "2022-03-16T19:34:27.271Z"
   },
   {
    "duration": 5,
    "start_time": "2022-03-16T19:34:36.636Z"
   },
   {
    "duration": 23,
    "start_time": "2022-03-16T19:34:36.653Z"
   },
   {
    "duration": 7,
    "start_time": "2022-03-16T19:34:36.679Z"
   },
   {
    "duration": 6,
    "start_time": "2022-03-16T19:34:56.483Z"
   },
   {
    "duration": 4,
    "start_time": "2022-03-16T19:34:58.124Z"
   },
   {
    "duration": 5,
    "start_time": "2022-03-16T19:34:58.483Z"
   },
   {
    "duration": 19,
    "start_time": "2022-03-16T19:34:59.523Z"
   },
   {
    "duration": 30,
    "start_time": "2022-03-16T19:35:01.033Z"
   },
   {
    "duration": 6,
    "start_time": "2022-03-16T19:35:02.132Z"
   },
   {
    "duration": 5,
    "start_time": "2022-03-16T19:35:03.212Z"
   },
   {
    "duration": 2404,
    "start_time": "2022-03-16T19:35:04.275Z"
   },
   {
    "duration": 6,
    "start_time": "2022-03-16T19:35:24.652Z"
   },
   {
    "duration": 6,
    "start_time": "2022-03-16T19:35:25.362Z"
   },
   {
    "duration": 4,
    "start_time": "2022-03-16T19:35:25.562Z"
   },
   {
    "duration": 11,
    "start_time": "2022-03-16T19:35:26.004Z"
   },
   {
    "duration": 33,
    "start_time": "2022-03-16T19:35:26.554Z"
   },
   {
    "duration": 5,
    "start_time": "2022-03-16T19:35:27.532Z"
   },
   {
    "duration": 4,
    "start_time": "2022-03-16T19:35:29.370Z"
   },
   {
    "duration": 103326,
    "start_time": "2022-03-16T19:35:30.009Z"
   },
   {
    "duration": 1375,
    "start_time": "2022-03-16T20:22:22.364Z"
   },
   {
    "duration": 1070,
    "start_time": "2022-03-16T20:23:07.522Z"
   },
   {
    "duration": 4,
    "start_time": "2022-03-16T20:23:18.494Z"
   },
   {
    "duration": 21,
    "start_time": "2022-03-16T20:24:10.513Z"
   },
   {
    "duration": 26,
    "start_time": "2022-03-16T20:24:59.364Z"
   },
   {
    "duration": 20,
    "start_time": "2022-03-16T20:25:18.024Z"
   },
   {
    "duration": 35,
    "start_time": "2022-03-16T20:25:33.840Z"
   },
   {
    "duration": 23,
    "start_time": "2022-03-16T20:25:41.833Z"
   },
   {
    "duration": 9,
    "start_time": "2022-03-16T20:25:53.692Z"
   },
   {
    "duration": 5,
    "start_time": "2022-03-16T20:26:45.403Z"
   },
   {
    "duration": 4,
    "start_time": "2022-03-16T20:26:52.394Z"
   },
   {
    "duration": 164,
    "start_time": "2022-03-16T20:27:03.361Z"
   },
   {
    "duration": 213,
    "start_time": "2022-03-16T20:27:25.873Z"
   },
   {
    "duration": 4596,
    "start_time": "2022-03-16T20:27:55.150Z"
   },
   {
    "duration": 2128,
    "start_time": "2022-03-16T20:27:57.621Z"
   },
   {
    "duration": 73,
    "start_time": "2022-03-16T20:28:35.105Z"
   },
   {
    "duration": 32,
    "start_time": "2022-03-16T20:28:37.031Z"
   },
   {
    "duration": 28,
    "start_time": "2022-03-16T20:28:40.031Z"
   },
   {
    "duration": 9,
    "start_time": "2022-03-16T20:28:55.347Z"
   },
   {
    "duration": 41,
    "start_time": "2022-03-16T20:29:09.092Z"
   },
   {
    "duration": 5,
    "start_time": "2022-03-16T20:29:27.524Z"
   },
   {
    "duration": 80493,
    "start_time": "2022-03-16T20:29:34.265Z"
   },
   {
    "duration": 6413,
    "start_time": "2022-03-16T20:33:05.672Z"
   },
   {
    "duration": 9,
    "start_time": "2022-03-16T20:33:18.359Z"
   },
   {
    "duration": 1510,
    "start_time": "2022-03-16T20:40:08.987Z"
   },
   {
    "duration": 964,
    "start_time": "2022-03-16T20:40:10.897Z"
   },
   {
    "duration": 10,
    "start_time": "2022-03-16T20:40:57.457Z"
   },
   {
    "duration": 7,
    "start_time": "2022-03-16T20:41:01.146Z"
   },
   {
    "duration": 10,
    "start_time": "2022-03-16T20:41:05.625Z"
   },
   {
    "duration": 49,
    "start_time": "2022-03-16T20:41:21.308Z"
   },
   {
    "duration": 44,
    "start_time": "2022-03-16T20:42:11.717Z"
   },
   {
    "duration": 346,
    "start_time": "2022-03-16T20:42:42.588Z"
   },
   {
    "duration": 42,
    "start_time": "2022-03-16T20:43:15.287Z"
   },
   {
    "duration": 24,
    "start_time": "2022-03-16T20:43:22.778Z"
   },
   {
    "duration": 21,
    "start_time": "2022-03-16T20:43:25.857Z"
   },
   {
    "duration": 6,
    "start_time": "2022-03-16T20:43:32.352Z"
   },
   {
    "duration": 500,
    "start_time": "2022-03-16T20:43:36.557Z"
   },
   {
    "duration": 463,
    "start_time": "2022-03-16T20:43:38.377Z"
   },
   {
    "duration": 496,
    "start_time": "2022-03-16T20:43:39.977Z"
   },
   {
    "duration": 8,
    "start_time": "2022-03-16T20:43:45.009Z"
   },
   {
    "duration": 413,
    "start_time": "2022-03-16T20:43:45.978Z"
   },
   {
    "duration": 529,
    "start_time": "2022-03-16T20:43:46.398Z"
   },
   {
    "duration": 24,
    "start_time": "2022-03-16T20:43:51.379Z"
   },
   {
    "duration": 5,
    "start_time": "2022-03-16T20:43:52.098Z"
   },
   {
    "duration": 7515,
    "start_time": "2022-03-16T20:43:53.018Z"
   },
   {
    "duration": 11,
    "start_time": "2022-03-16T20:44:06.898Z"
   },
   {
    "duration": 7878,
    "start_time": "2022-03-16T20:44:07.523Z"
   },
   {
    "duration": 5,
    "start_time": "2022-03-16T20:44:15.404Z"
   },
   {
    "duration": 48,
    "start_time": "2022-03-16T20:44:15.412Z"
   },
   {
    "duration": 7,
    "start_time": "2022-03-16T20:44:15.464Z"
   },
   {
    "duration": 4,
    "start_time": "2022-03-16T20:44:21.814Z"
   },
   {
    "duration": 4,
    "start_time": "2022-03-16T20:44:23.378Z"
   },
   {
    "duration": 4,
    "start_time": "2022-03-16T20:44:25.008Z"
   },
   {
    "duration": 13,
    "start_time": "2022-03-16T20:44:26.606Z"
   },
   {
    "duration": 36,
    "start_time": "2022-03-16T20:44:29.216Z"
   },
   {
    "duration": 8,
    "start_time": "2022-03-16T20:44:32.177Z"
   },
   {
    "duration": 5,
    "start_time": "2022-03-16T20:44:32.818Z"
   },
   {
    "duration": 3,
    "start_time": "2022-03-16T20:44:41.347Z"
   },
   {
    "duration": 5586,
    "start_time": "2022-03-16T20:44:44.204Z"
   },
   {
    "duration": 12,
    "start_time": "2022-03-16T20:45:00.275Z"
   },
   {
    "duration": 5,
    "start_time": "2022-03-16T20:51:07.507Z"
   },
   {
    "duration": 4,
    "start_time": "2022-03-16T20:51:10.421Z"
   },
   {
    "duration": 4,
    "start_time": "2022-03-16T20:51:10.936Z"
   },
   {
    "duration": 10,
    "start_time": "2022-03-16T20:51:12.905Z"
   },
   {
    "duration": 21,
    "start_time": "2022-03-16T20:51:15.455Z"
   },
   {
    "duration": 6,
    "start_time": "2022-03-16T20:51:17.177Z"
   },
   {
    "duration": 6,
    "start_time": "2022-03-16T20:51:17.887Z"
   },
   {
    "duration": 68342,
    "start_time": "2022-03-16T20:51:19.775Z"
   },
   {
    "duration": 5601,
    "start_time": "2022-03-16T20:53:43.768Z"
   },
   {
    "duration": 1502,
    "start_time": "2022-03-16T20:54:09.673Z"
   },
   {
    "duration": 1331,
    "start_time": "2022-03-16T20:54:12.353Z"
   },
   {
    "duration": 6,
    "start_time": "2022-03-16T20:54:18.557Z"
   },
   {
    "duration": 15,
    "start_time": "2022-03-16T20:54:20.905Z"
   },
   {
    "duration": 12,
    "start_time": "2022-03-16T20:54:21.243Z"
   },
   {
    "duration": 12,
    "start_time": "2022-03-16T20:54:22.413Z"
   },
   {
    "duration": 7,
    "start_time": "2022-03-16T20:54:33.267Z"
   },
   {
    "duration": 8,
    "start_time": "2022-03-16T20:54:38.501Z"
   },
   {
    "duration": 21,
    "start_time": "2022-03-16T20:54:44.038Z"
   },
   {
    "duration": 25,
    "start_time": "2022-03-16T20:54:45.003Z"
   },
   {
    "duration": 26,
    "start_time": "2022-03-16T20:54:48.491Z"
   },
   {
    "duration": 35,
    "start_time": "2022-03-16T20:54:51.380Z"
   },
   {
    "duration": 6,
    "start_time": "2022-03-16T20:55:00.291Z"
   },
   {
    "duration": 506,
    "start_time": "2022-03-16T20:55:00.821Z"
   },
   {
    "duration": 617,
    "start_time": "2022-03-16T20:55:02.293Z"
   },
   {
    "duration": 490,
    "start_time": "2022-03-16T20:55:03.943Z"
   },
   {
    "duration": 9,
    "start_time": "2022-03-16T20:55:10.131Z"
   },
   {
    "duration": 426,
    "start_time": "2022-03-16T20:55:11.173Z"
   },
   {
    "duration": 514,
    "start_time": "2022-03-16T20:55:12.767Z"
   },
   {
    "duration": 25,
    "start_time": "2022-03-16T20:55:20.911Z"
   },
   {
    "duration": 5,
    "start_time": "2022-03-16T20:55:22.153Z"
   },
   {
    "duration": 10384,
    "start_time": "2022-03-16T20:55:25.304Z"
   },
   {
    "duration": 12,
    "start_time": "2022-03-16T20:55:35.692Z"
   },
   {
    "duration": 7611,
    "start_time": "2022-03-16T20:55:35.707Z"
   },
   {
    "duration": 6,
    "start_time": "2022-03-16T20:55:43.320Z"
   },
   {
    "duration": 23,
    "start_time": "2022-03-16T20:55:45.081Z"
   },
   {
    "duration": 5,
    "start_time": "2022-03-16T20:55:48.251Z"
   },
   {
    "duration": 5,
    "start_time": "2022-03-16T20:55:57.741Z"
   },
   {
    "duration": 5,
    "start_time": "2022-03-16T20:56:02.532Z"
   },
   {
    "duration": 5,
    "start_time": "2022-03-16T20:56:03.441Z"
   },
   {
    "duration": 18,
    "start_time": "2022-03-16T20:56:05.182Z"
   },
   {
    "duration": 27,
    "start_time": "2022-03-16T20:56:07.503Z"
   },
   {
    "duration": 5,
    "start_time": "2022-03-16T20:56:10.101Z"
   },
   {
    "duration": 5,
    "start_time": "2022-03-16T20:56:11.011Z"
   },
   {
    "duration": 5,
    "start_time": "2022-03-16T20:56:37.509Z"
   },
   {
    "duration": 105454,
    "start_time": "2022-03-16T20:56:38.611Z"
   },
   {
    "duration": 311,
    "start_time": "2022-03-16T20:59:48.004Z"
   },
   {
    "duration": 4,
    "start_time": "2022-03-16T20:59:54.198Z"
   },
   {
    "duration": 3559,
    "start_time": "2022-03-16T20:59:55.713Z"
   },
   {
    "duration": 6,
    "start_time": "2022-03-16T21:00:51.354Z"
   },
   {
    "duration": 235,
    "start_time": "2022-03-16T21:01:06.528Z"
   },
   {
    "duration": 183753,
    "start_time": "2022-03-16T21:01:19.763Z"
   },
   {
    "duration": 3553,
    "start_time": "2022-03-16T21:04:51.023Z"
   },
   {
    "duration": 197,
    "start_time": "2022-03-16T21:06:13.093Z"
   },
   {
    "duration": 8,
    "start_time": "2022-03-16T21:06:27.291Z"
   },
   {
    "duration": 7211,
    "start_time": "2022-03-16T21:07:11.291Z"
   },
   {
    "duration": 2235,
    "start_time": "2022-03-16T21:07:22.422Z"
   },
   {
    "duration": 6,
    "start_time": "2022-03-16T21:08:33.564Z"
   },
   {
    "duration": 20,
    "start_time": "2022-03-16T21:11:23.984Z"
   },
   {
    "duration": 1589,
    "start_time": "2022-03-16T21:12:59.451Z"
   },
   {
    "duration": 956,
    "start_time": "2022-03-16T21:13:01.043Z"
   },
   {
    "duration": 5,
    "start_time": "2022-03-16T21:13:06.082Z"
   },
   {
    "duration": 10,
    "start_time": "2022-03-16T21:13:06.523Z"
   },
   {
    "duration": 11,
    "start_time": "2022-03-16T21:13:06.721Z"
   },
   {
    "duration": 10,
    "start_time": "2022-03-16T21:13:06.963Z"
   },
   {
    "duration": 7,
    "start_time": "2022-03-16T21:13:07.501Z"
   },
   {
    "duration": 3,
    "start_time": "2022-03-16T21:13:08.191Z"
   },
   {
    "duration": 7,
    "start_time": "2022-03-16T21:13:08.523Z"
   },
   {
    "duration": 20,
    "start_time": "2022-03-16T21:13:08.872Z"
   },
   {
    "duration": 23,
    "start_time": "2022-03-16T21:13:09.052Z"
   },
   {
    "duration": 23,
    "start_time": "2022-03-16T21:13:09.391Z"
   },
   {
    "duration": 20,
    "start_time": "2022-03-16T21:13:09.563Z"
   },
   {
    "duration": 32,
    "start_time": "2022-03-16T21:13:09.751Z"
   },
   {
    "duration": 7,
    "start_time": "2022-03-16T21:13:10.644Z"
   },
   {
    "duration": 525,
    "start_time": "2022-03-16T21:13:10.831Z"
   },
   {
    "duration": 519,
    "start_time": "2022-03-16T21:13:11.358Z"
   },
   {
    "duration": 529,
    "start_time": "2022-03-16T21:13:11.880Z"
   },
   {
    "duration": 8,
    "start_time": "2022-03-16T21:13:12.411Z"
   },
   {
    "duration": 451,
    "start_time": "2022-03-16T21:13:12.422Z"
   },
   {
    "duration": 517,
    "start_time": "2022-03-16T21:13:12.877Z"
   },
   {
    "duration": 26,
    "start_time": "2022-03-16T21:13:13.398Z"
   },
   {
    "duration": 27,
    "start_time": "2022-03-16T21:13:13.427Z"
   },
   {
    "duration": 7678,
    "start_time": "2022-03-16T21:13:13.457Z"
   },
   {
    "duration": 19,
    "start_time": "2022-03-16T21:13:21.138Z"
   },
   {
    "duration": 7546,
    "start_time": "2022-03-16T21:13:21.160Z"
   },
   {
    "duration": 5,
    "start_time": "2022-03-16T21:13:28.709Z"
   },
   {
    "duration": 40,
    "start_time": "2022-03-16T21:13:28.718Z"
   },
   {
    "duration": 13,
    "start_time": "2022-03-16T21:13:28.761Z"
   },
   {
    "duration": 14,
    "start_time": "2022-03-16T21:13:28.777Z"
   },
   {
    "duration": 8,
    "start_time": "2022-03-16T21:13:28.794Z"
   },
   {
    "duration": 6,
    "start_time": "2022-03-16T21:13:28.805Z"
   },
   {
    "duration": 14,
    "start_time": "2022-03-16T21:13:31.374Z"
   },
   {
    "duration": 27,
    "start_time": "2022-03-16T21:13:34.042Z"
   },
   {
    "duration": 5,
    "start_time": "2022-03-16T21:13:38.701Z"
   },
   {
    "duration": 5,
    "start_time": "2022-03-16T21:13:39.233Z"
   },
   {
    "duration": 88652,
    "start_time": "2022-03-16T21:13:40.811Z"
   },
   {
    "duration": 505,
    "start_time": "2022-03-16T21:15:59.493Z"
   },
   {
    "duration": 3,
    "start_time": "2022-03-16T21:16:07.833Z"
   },
   {
    "duration": 8010,
    "start_time": "2022-03-16T21:16:09.491Z"
   },
   {
    "duration": 332,
    "start_time": "2022-03-16T21:18:39.483Z"
   },
   {
    "duration": 6800,
    "start_time": "2022-03-16T21:18:50.091Z"
   },
   {
    "duration": 188,
    "start_time": "2022-03-16T21:18:56.894Z"
   },
   {
    "duration": 14,
    "start_time": "2022-03-16T21:19:13.061Z"
   },
   {
    "duration": 7660,
    "start_time": "2022-03-16T21:19:32.891Z"
   },
   {
    "duration": 11,
    "start_time": "2022-03-16T21:19:40.554Z"
   },
   {
    "duration": 11,
    "start_time": "2022-03-16T21:23:53.821Z"
   },
   {
    "duration": 15,
    "start_time": "2022-03-16T21:24:07.251Z"
   },
   {
    "duration": 23,
    "start_time": "2022-03-16T21:24:42.293Z"
   },
   {
    "duration": 178,
    "start_time": "2022-03-16T21:24:55.203Z"
   },
   {
    "duration": 6,
    "start_time": "2022-03-16T21:25:00.853Z"
   },
   {
    "duration": 1734,
    "start_time": "2022-03-16T21:28:01.041Z"
   },
   {
    "duration": 5,
    "start_time": "2022-03-16T21:28:02.779Z"
   },
   {
    "duration": 43,
    "start_time": "2022-03-16T21:28:02.788Z"
   },
   {
    "duration": 49,
    "start_time": "2022-03-16T21:28:02.835Z"
   },
   {
    "duration": 27,
    "start_time": "2022-03-16T21:28:02.887Z"
   },
   {
    "duration": 83,
    "start_time": "2022-03-16T21:28:02.917Z"
   },
   {
    "duration": 48,
    "start_time": "2022-03-16T21:28:03.004Z"
   },
   {
    "duration": 10,
    "start_time": "2022-03-16T21:28:03.070Z"
   },
   {
    "duration": 56,
    "start_time": "2022-03-16T21:28:03.276Z"
   },
   {
    "duration": 24,
    "start_time": "2022-03-16T21:28:03.483Z"
   },
   {
    "duration": 28,
    "start_time": "2022-03-16T21:28:03.701Z"
   },
   {
    "duration": 4,
    "start_time": "2022-03-16T21:28:03.911Z"
   },
   {
    "duration": 4,
    "start_time": "2022-03-16T21:28:04.671Z"
   },
   {
    "duration": 12,
    "start_time": "2022-03-16T21:28:04.863Z"
   },
   {
    "duration": 43,
    "start_time": "2022-03-16T21:28:05.083Z"
   },
   {
    "duration": 6,
    "start_time": "2022-03-16T21:28:05.293Z"
   },
   {
    "duration": 6683,
    "start_time": "2022-03-16T21:28:15.541Z"
   },
   {
    "duration": 25,
    "start_time": "2022-03-16T21:28:22.226Z"
   },
   {
    "duration": 40,
    "start_time": "2022-03-16T21:28:26.520Z"
   },
   {
    "duration": 7804,
    "start_time": "2022-03-16T21:29:14.971Z"
   },
   {
    "duration": 41,
    "start_time": "2022-03-16T21:30:43.703Z"
   },
   {
    "duration": 39,
    "start_time": "2022-03-16T21:30:54.475Z"
   },
   {
    "duration": 2197,
    "start_time": "2022-03-16T21:32:11.463Z"
   },
   {
    "duration": 962,
    "start_time": "2022-03-16T21:32:14.901Z"
   },
   {
    "duration": 5,
    "start_time": "2022-03-16T21:32:20.293Z"
   },
   {
    "duration": 10,
    "start_time": "2022-03-16T21:32:20.803Z"
   },
   {
    "duration": 14,
    "start_time": "2022-03-16T21:32:22.879Z"
   },
   {
    "duration": 10,
    "start_time": "2022-03-16T21:32:23.664Z"
   },
   {
    "duration": 7,
    "start_time": "2022-03-16T21:32:25.521Z"
   },
   {
    "duration": 7,
    "start_time": "2022-03-16T21:32:26.313Z"
   },
   {
    "duration": 8,
    "start_time": "2022-03-16T21:32:26.663Z"
   },
   {
    "duration": 21,
    "start_time": "2022-03-16T21:32:26.861Z"
   },
   {
    "duration": 23,
    "start_time": "2022-03-16T21:32:27.033Z"
   },
   {
    "duration": 24,
    "start_time": "2022-03-16T21:32:27.403Z"
   },
   {
    "duration": 19,
    "start_time": "2022-03-16T21:32:27.581Z"
   },
   {
    "duration": 32,
    "start_time": "2022-03-16T21:32:27.743Z"
   },
   {
    "duration": 6,
    "start_time": "2022-03-16T21:32:28.671Z"
   },
   {
    "duration": 636,
    "start_time": "2022-03-16T21:32:29.161Z"
   },
   {
    "duration": 520,
    "start_time": "2022-03-16T21:32:29.800Z"
   },
   {
    "duration": 539,
    "start_time": "2022-03-16T21:32:30.323Z"
   },
   {
    "duration": 8,
    "start_time": "2022-03-16T21:32:30.865Z"
   },
   {
    "duration": 458,
    "start_time": "2022-03-16T21:32:30.876Z"
   },
   {
    "duration": 532,
    "start_time": "2022-03-16T21:32:31.337Z"
   },
   {
    "duration": 24,
    "start_time": "2022-03-16T21:32:31.872Z"
   },
   {
    "duration": 5,
    "start_time": "2022-03-16T21:32:31.898Z"
   },
   {
    "duration": 7815,
    "start_time": "2022-03-16T21:32:31.905Z"
   },
   {
    "duration": 10,
    "start_time": "2022-03-16T21:32:39.723Z"
   },
   {
    "duration": 8202,
    "start_time": "2022-03-16T21:32:39.751Z"
   },
   {
    "duration": 5,
    "start_time": "2022-03-16T21:32:47.956Z"
   },
   {
    "duration": 22,
    "start_time": "2022-03-16T21:32:47.964Z"
   },
   {
    "duration": 5,
    "start_time": "2022-03-16T21:32:47.990Z"
   },
   {
    "duration": 5,
    "start_time": "2022-03-16T21:32:47.998Z"
   },
   {
    "duration": 4,
    "start_time": "2022-03-16T21:32:51.783Z"
   },
   {
    "duration": 4,
    "start_time": "2022-03-16T21:32:52.271Z"
   },
   {
    "duration": 13,
    "start_time": "2022-03-16T21:33:01.895Z"
   },
   {
    "duration": 44,
    "start_time": "2022-03-16T21:33:15.513Z"
   },
   {
    "duration": 39,
    "start_time": "2022-03-16T21:33:17.963Z"
   },
   {
    "duration": 5,
    "start_time": "2022-03-16T21:33:26.823Z"
   },
   {
    "duration": 4,
    "start_time": "2022-03-16T21:33:27.882Z"
   },
   {
    "duration": 77542,
    "start_time": "2022-03-16T21:33:29.421Z"
   },
   {
    "duration": 4,
    "start_time": "2022-03-16T21:35:04.420Z"
   },
   {
    "duration": 7972,
    "start_time": "2022-03-16T21:35:05.863Z"
   },
   {
    "duration": 40,
    "start_time": "2022-03-16T21:35:39.312Z"
   },
   {
    "duration": 40,
    "start_time": "2022-03-16T21:35:47.892Z"
   },
   {
    "duration": 972,
    "start_time": "2022-03-16T21:36:53.323Z"
   },
   {
    "duration": 4,
    "start_time": "2022-03-16T21:36:54.298Z"
   },
   {
    "duration": 25,
    "start_time": "2022-03-16T21:36:54.304Z"
   },
   {
    "duration": 27,
    "start_time": "2022-03-16T21:36:54.383Z"
   },
   {
    "duration": 18,
    "start_time": "2022-03-16T21:36:54.591Z"
   },
   {
    "duration": 31,
    "start_time": "2022-03-16T21:36:55.061Z"
   },
   {
    "duration": 20,
    "start_time": "2022-03-16T21:36:55.371Z"
   },
   {
    "duration": 10,
    "start_time": "2022-03-16T21:36:55.561Z"
   },
   {
    "duration": 57,
    "start_time": "2022-03-16T21:36:55.761Z"
   },
   {
    "duration": 22,
    "start_time": "2022-03-16T21:36:55.981Z"
   },
   {
    "duration": 27,
    "start_time": "2022-03-16T21:36:56.181Z"
   },
   {
    "duration": 5,
    "start_time": "2022-03-16T21:36:56.352Z"
   },
   {
    "duration": 4,
    "start_time": "2022-03-16T21:36:56.622Z"
   },
   {
    "duration": 10,
    "start_time": "2022-03-16T21:36:57.401Z"
   },
   {
    "duration": 49,
    "start_time": "2022-03-16T21:36:59.663Z"
   },
   {
    "duration": 389,
    "start_time": "2022-03-16T21:37:09.122Z"
   },
   {
    "duration": 6860,
    "start_time": "2022-03-16T21:37:19.085Z"
   },
   {
    "duration": 10,
    "start_time": "2022-03-16T21:37:25.952Z"
   },
   {
    "duration": 7652,
    "start_time": "2022-03-16T21:37:46.283Z"
   },
   {
    "duration": 39,
    "start_time": "2022-03-16T21:38:00.212Z"
   },
   {
    "duration": 38,
    "start_time": "2022-03-16T21:38:23.650Z"
   },
   {
    "duration": 39,
    "start_time": "2022-03-16T21:43:19.260Z"
   },
   {
    "duration": 1512,
    "start_time": "2022-03-16T21:43:46.748Z"
   },
   {
    "duration": 921,
    "start_time": "2022-03-16T21:43:48.939Z"
   },
   {
    "duration": 5,
    "start_time": "2022-03-16T21:43:53.440Z"
   },
   {
    "duration": 11,
    "start_time": "2022-03-16T21:43:53.610Z"
   },
   {
    "duration": 11,
    "start_time": "2022-03-16T21:43:53.780Z"
   },
   {
    "duration": 10,
    "start_time": "2022-03-16T21:43:53.961Z"
   },
   {
    "duration": 8,
    "start_time": "2022-03-16T21:43:54.528Z"
   },
   {
    "duration": 3,
    "start_time": "2022-03-16T21:43:55.258Z"
   },
   {
    "duration": 7,
    "start_time": "2022-03-16T21:43:55.608Z"
   },
   {
    "duration": 19,
    "start_time": "2022-03-16T21:43:55.780Z"
   },
   {
    "duration": 23,
    "start_time": "2022-03-16T21:43:55.954Z"
   },
   {
    "duration": 25,
    "start_time": "2022-03-16T21:43:56.308Z"
   },
   {
    "duration": 19,
    "start_time": "2022-03-16T21:43:56.496Z"
   },
   {
    "duration": 29,
    "start_time": "2022-03-16T21:43:56.651Z"
   },
   {
    "duration": 6,
    "start_time": "2022-03-16T21:43:57.521Z"
   },
   {
    "duration": 490,
    "start_time": "2022-03-16T21:43:57.720Z"
   },
   {
    "duration": 487,
    "start_time": "2022-03-16T21:43:58.213Z"
   },
   {
    "duration": 500,
    "start_time": "2022-03-16T21:43:58.703Z"
   },
   {
    "duration": 9,
    "start_time": "2022-03-16T21:43:59.206Z"
   },
   {
    "duration": 426,
    "start_time": "2022-03-16T21:43:59.218Z"
   },
   {
    "duration": 512,
    "start_time": "2022-03-16T21:43:59.651Z"
   },
   {
    "duration": 23,
    "start_time": "2022-03-16T21:44:00.166Z"
   },
   {
    "duration": 5,
    "start_time": "2022-03-16T21:44:00.191Z"
   },
   {
    "duration": 7629,
    "start_time": "2022-03-16T21:44:00.209Z"
   },
   {
    "duration": 19,
    "start_time": "2022-03-16T21:44:07.841Z"
   },
   {
    "duration": 8047,
    "start_time": "2022-03-16T21:44:07.864Z"
   },
   {
    "duration": 6,
    "start_time": "2022-03-16T21:44:15.914Z"
   },
   {
    "duration": 39,
    "start_time": "2022-03-16T21:44:15.922Z"
   },
   {
    "duration": 6,
    "start_time": "2022-03-16T21:44:15.964Z"
   },
   {
    "duration": 5,
    "start_time": "2022-03-16T21:44:15.972Z"
   },
   {
    "duration": 4,
    "start_time": "2022-03-16T21:44:15.981Z"
   },
   {
    "duration": 3,
    "start_time": "2022-03-16T21:44:16.069Z"
   },
   {
    "duration": 13,
    "start_time": "2022-03-16T21:44:22.691Z"
   },
   {
    "duration": 43,
    "start_time": "2022-03-16T21:44:29.878Z"
   },
   {
    "duration": 40,
    "start_time": "2022-03-16T21:44:35.458Z"
   },
   {
    "duration": 39,
    "start_time": "2022-03-16T21:44:43.571Z"
   },
   {
    "duration": 4,
    "start_time": "2022-03-16T21:44:59.511Z"
   },
   {
    "duration": 7550,
    "start_time": "2022-03-16T21:45:01.938Z"
   },
   {
    "duration": 329,
    "start_time": "2022-03-16T21:45:29.691Z"
   },
   {
    "duration": 172,
    "start_time": "2022-03-16T21:45:30.290Z"
   },
   {
    "duration": 6762,
    "start_time": "2022-03-16T21:45:56.440Z"
   },
   {
    "duration": 159,
    "start_time": "2022-03-16T21:46:04.379Z"
   },
   {
    "duration": 10,
    "start_time": "2022-03-16T21:46:20.698Z"
   },
   {
    "duration": 16,
    "start_time": "2022-03-16T21:53:20.881Z"
   },
   {
    "duration": 1957,
    "start_time": "2022-03-16T21:53:33.814Z"
   },
   {
    "duration": 1275,
    "start_time": "2022-03-16T21:53:37.961Z"
   },
   {
    "duration": 4,
    "start_time": "2022-03-16T21:53:40.705Z"
   },
   {
    "duration": 9,
    "start_time": "2022-03-16T21:53:41.187Z"
   },
   {
    "duration": 11,
    "start_time": "2022-03-16T21:53:42.925Z"
   },
   {
    "duration": 10,
    "start_time": "2022-03-16T21:53:43.466Z"
   },
   {
    "duration": 7,
    "start_time": "2022-03-16T21:53:45.826Z"
   },
   {
    "duration": 3,
    "start_time": "2022-03-16T21:53:46.423Z"
   },
   {
    "duration": 9,
    "start_time": "2022-03-16T21:53:47.568Z"
   },
   {
    "duration": 20,
    "start_time": "2022-03-16T21:53:48.086Z"
   },
   {
    "duration": 24,
    "start_time": "2022-03-16T21:53:48.303Z"
   },
   {
    "duration": 24,
    "start_time": "2022-03-16T21:53:55.035Z"
   },
   {
    "duration": 18,
    "start_time": "2022-03-16T21:53:55.604Z"
   },
   {
    "duration": 30,
    "start_time": "2022-03-16T21:53:56.216Z"
   },
   {
    "duration": 7,
    "start_time": "2022-03-16T21:54:00.693Z"
   },
   {
    "duration": 505,
    "start_time": "2022-03-16T21:54:01.843Z"
   },
   {
    "duration": 479,
    "start_time": "2022-03-16T21:54:03.445Z"
   },
   {
    "duration": 472,
    "start_time": "2022-03-16T21:54:05.015Z"
   },
   {
    "duration": 8,
    "start_time": "2022-03-16T21:54:13.300Z"
   },
   {
    "duration": 427,
    "start_time": "2022-03-16T21:54:14.485Z"
   },
   {
    "duration": 482,
    "start_time": "2022-03-16T21:54:16.006Z"
   },
   {
    "duration": 23,
    "start_time": "2022-03-16T21:54:27.873Z"
   },
   {
    "duration": 5,
    "start_time": "2022-03-16T21:54:29.796Z"
   },
   {
    "duration": 7193,
    "start_time": "2022-03-16T21:54:30.847Z"
   },
   {
    "duration": 16,
    "start_time": "2022-03-16T21:54:38.043Z"
   },
   {
    "duration": 7226,
    "start_time": "2022-03-16T21:54:38.062Z"
   },
   {
    "duration": 4,
    "start_time": "2022-03-16T21:54:46.295Z"
   },
   {
    "duration": 19,
    "start_time": "2022-03-16T21:54:49.375Z"
   },
   {
    "duration": 6,
    "start_time": "2022-03-16T21:54:50.705Z"
   },
   {
    "duration": 4,
    "start_time": "2022-03-16T21:54:55.086Z"
   },
   {
    "duration": 4,
    "start_time": "2022-03-16T21:54:56.506Z"
   },
   {
    "duration": 4,
    "start_time": "2022-03-16T21:54:57.485Z"
   },
   {
    "duration": 13,
    "start_time": "2022-03-16T21:55:05.017Z"
   },
   {
    "duration": 39,
    "start_time": "2022-03-16T21:55:08.397Z"
   },
   {
    "duration": 38,
    "start_time": "2022-03-16T21:55:09.655Z"
   },
   {
    "duration": 4,
    "start_time": "2022-03-16T21:55:20.265Z"
   },
   {
    "duration": 7610,
    "start_time": "2022-03-16T21:55:22.126Z"
   },
   {
    "duration": 986,
    "start_time": "2022-03-16T21:56:39.635Z"
   },
   {
    "duration": 4,
    "start_time": "2022-03-16T21:56:41.683Z"
   },
   {
    "duration": 18,
    "start_time": "2022-03-16T21:56:42.193Z"
   },
   {
    "duration": 26,
    "start_time": "2022-03-16T21:56:42.673Z"
   },
   {
    "duration": 19,
    "start_time": "2022-03-16T21:56:43.233Z"
   },
   {
    "duration": 32,
    "start_time": "2022-03-16T21:56:43.805Z"
   },
   {
    "duration": 21,
    "start_time": "2022-03-16T21:56:44.316Z"
   },
   {
    "duration": 8,
    "start_time": "2022-03-16T21:56:44.856Z"
   },
   {
    "duration": 53,
    "start_time": "2022-03-16T21:56:45.936Z"
   },
   {
    "duration": 23,
    "start_time": "2022-03-16T21:56:46.575Z"
   },
   {
    "duration": 26,
    "start_time": "2022-03-16T21:56:49.285Z"
   },
   {
    "duration": 10,
    "start_time": "2022-03-16T21:56:55.363Z"
   },
   {
    "duration": 37,
    "start_time": "2022-03-16T21:56:58.466Z"
   },
   {
    "duration": 5,
    "start_time": "2022-03-16T21:56:58.750Z"
   },
   {
    "duration": 6401,
    "start_time": "2022-03-16T21:57:04.195Z"
   },
   {
    "duration": 8,
    "start_time": "2022-03-16T21:57:10.599Z"
   },
   {
    "duration": 26,
    "start_time": "2022-03-16T21:58:43.246Z"
   },
   {
    "duration": 43,
    "start_time": "2022-03-16T21:59:20.833Z"
   },
   {
    "duration": 51,
    "start_time": "2022-03-16T22:02:42.587Z"
   },
   {
    "duration": 11,
    "start_time": "2022-03-16T22:03:05.284Z"
   },
   {
    "duration": 7799,
    "start_time": "2022-03-16T22:03:08.545Z"
   },
   {
    "duration": 11,
    "start_time": "2022-03-16T22:03:48.666Z"
   },
   {
    "duration": 21,
    "start_time": "2022-03-16T22:04:06.043Z"
   },
   {
    "duration": 25,
    "start_time": "2022-03-16T22:04:10.485Z"
   },
   {
    "duration": 15,
    "start_time": "2022-03-16T22:04:21.133Z"
   },
   {
    "duration": 5,
    "start_time": "2022-03-16T22:04:24.086Z"
   },
   {
    "duration": 5,
    "start_time": "2022-03-16T22:04:32.706Z"
   },
   {
    "duration": 4,
    "start_time": "2022-03-16T22:04:34.883Z"
   },
   {
    "duration": 4,
    "start_time": "2022-03-16T22:04:37.213Z"
   },
   {
    "duration": 10,
    "start_time": "2022-03-16T22:04:39.464Z"
   },
   {
    "duration": 21,
    "start_time": "2022-03-16T22:04:42.015Z"
   },
   {
    "duration": 4,
    "start_time": "2022-03-16T22:04:53.975Z"
   },
   {
    "duration": 8021,
    "start_time": "2022-03-16T22:04:54.604Z"
   },
   {
    "duration": 7,
    "start_time": "2022-03-16T22:05:05.485Z"
   },
   {
    "duration": 1471,
    "start_time": "2022-03-16T22:05:24.976Z"
   },
   {
    "duration": 921,
    "start_time": "2022-03-16T22:05:27.496Z"
   },
   {
    "duration": 4,
    "start_time": "2022-03-16T22:05:31.224Z"
   },
   {
    "duration": 11,
    "start_time": "2022-03-16T22:05:31.374Z"
   },
   {
    "duration": 12,
    "start_time": "2022-03-16T22:05:31.544Z"
   },
   {
    "duration": 10,
    "start_time": "2022-03-16T22:05:31.684Z"
   },
   {
    "duration": 7,
    "start_time": "2022-03-16T22:05:32.124Z"
   },
   {
    "duration": 3,
    "start_time": "2022-03-16T22:05:32.704Z"
   },
   {
    "duration": 7,
    "start_time": "2022-03-16T22:05:33.006Z"
   },
   {
    "duration": 20,
    "start_time": "2022-03-16T22:05:33.156Z"
   },
   {
    "duration": 24,
    "start_time": "2022-03-16T22:05:33.328Z"
   },
   {
    "duration": 25,
    "start_time": "2022-03-16T22:05:33.654Z"
   },
   {
    "duration": 20,
    "start_time": "2022-03-16T22:05:33.797Z"
   },
   {
    "duration": 32,
    "start_time": "2022-03-16T22:05:33.965Z"
   },
   {
    "duration": 5,
    "start_time": "2022-03-16T22:05:34.766Z"
   },
   {
    "duration": 480,
    "start_time": "2022-03-16T22:05:34.904Z"
   },
   {
    "duration": 496,
    "start_time": "2022-03-16T22:05:35.386Z"
   },
   {
    "duration": 507,
    "start_time": "2022-03-16T22:05:35.885Z"
   },
   {
    "duration": 8,
    "start_time": "2022-03-16T22:05:36.395Z"
   },
   {
    "duration": 446,
    "start_time": "2022-03-16T22:05:36.405Z"
   },
   {
    "duration": 492,
    "start_time": "2022-03-16T22:05:36.854Z"
   },
   {
    "duration": 60,
    "start_time": "2022-03-16T22:05:37.352Z"
   },
   {
    "duration": 4,
    "start_time": "2022-03-16T22:05:37.415Z"
   },
   {
    "duration": 335,
    "start_time": "2022-03-16T22:05:37.422Z"
   },
   {
    "duration": 2184,
    "start_time": "2022-03-16T22:05:35.576Z"
   },
   {
    "duration": 191,
    "start_time": "2022-03-16T22:05:37.864Z"
   },
   {
    "duration": 5,
    "start_time": "2022-03-16T22:05:38.536Z"
   },
   {
    "duration": 179,
    "start_time": "2022-03-16T22:05:38.716Z"
   },
   {
    "duration": 2264,
    "start_time": "2022-03-16T22:05:36.634Z"
   },
   {
    "duration": 6,
    "start_time": "2022-03-16T22:05:40.076Z"
   },
   {
    "duration": 6,
    "start_time": "2022-03-16T22:05:45.696Z"
   },
   {
    "duration": 5,
    "start_time": "2022-03-16T22:05:48.084Z"
   },
   {
    "duration": 4,
    "start_time": "2022-03-16T22:05:48.875Z"
   },
   {
    "duration": 10,
    "start_time": "2022-03-16T22:05:52.887Z"
   },
   {
    "duration": 4,
    "start_time": "2022-03-16T22:06:16.826Z"
   },
   {
    "duration": 8343,
    "start_time": "2022-03-16T22:06:17.815Z"
   },
   {
    "duration": 8,
    "start_time": "2022-03-16T22:07:01.916Z"
   },
   {
    "duration": 1570,
    "start_time": "2022-03-16T22:07:08.835Z"
   },
   {
    "duration": 996,
    "start_time": "2022-03-16T22:07:11.572Z"
   },
   {
    "duration": 11,
    "start_time": "2022-03-16T22:07:56.210Z"
   },
   {
    "duration": 7,
    "start_time": "2022-03-16T22:08:10.535Z"
   },
   {
    "duration": 8,
    "start_time": "2022-03-16T22:09:00.582Z"
   },
   {
    "duration": 455,
    "start_time": "2022-03-16T22:09:05.862Z"
   },
   {
    "duration": 1143,
    "start_time": "2022-03-16T22:09:59.724Z"
   },
   {
    "duration": 4,
    "start_time": "2022-03-16T22:10:00.870Z"
   },
   {
    "duration": 31,
    "start_time": "2022-03-16T22:10:00.877Z"
   },
   {
    "duration": 23,
    "start_time": "2022-03-16T22:10:00.911Z"
   },
   {
    "duration": 20,
    "start_time": "2022-03-16T22:10:00.951Z"
   },
   {
    "duration": 39,
    "start_time": "2022-03-16T22:10:00.973Z"
   },
   {
    "duration": 20,
    "start_time": "2022-03-16T22:10:08.592Z"
   },
   {
    "duration": 11,
    "start_time": "2022-03-16T22:10:14.732Z"
   },
   {
    "duration": 56,
    "start_time": "2022-03-16T22:10:20.853Z"
   },
   {
    "duration": 24,
    "start_time": "2022-03-16T22:10:23.952Z"
   },
   {
    "duration": 30,
    "start_time": "2022-03-16T22:10:26.452Z"
   },
   {
    "duration": 12,
    "start_time": "2022-03-16T22:10:38.422Z"
   },
   {
    "duration": 39,
    "start_time": "2022-03-16T22:10:44.394Z"
   },
   {
    "duration": 171,
    "start_time": "2022-03-16T22:10:50.242Z"
   },
   {
    "duration": 180,
    "start_time": "2022-03-16T22:10:50.764Z"
   },
   {
    "duration": 4,
    "start_time": "2022-03-16T22:11:27.012Z"
   },
   {
    "duration": 11,
    "start_time": "2022-03-16T22:11:27.164Z"
   },
   {
    "duration": 12,
    "start_time": "2022-03-16T22:11:27.351Z"
   },
   {
    "duration": 8,
    "start_time": "2022-03-16T22:11:27.521Z"
   },
   {
    "duration": 7,
    "start_time": "2022-03-16T22:11:28.054Z"
   },
   {
    "duration": 3,
    "start_time": "2022-03-16T22:11:28.793Z"
   },
   {
    "duration": 7,
    "start_time": "2022-03-16T22:11:29.124Z"
   },
   {
    "duration": 16,
    "start_time": "2022-03-16T22:11:29.302Z"
   },
   {
    "duration": 23,
    "start_time": "2022-03-16T22:11:29.463Z"
   },
   {
    "duration": 22,
    "start_time": "2022-03-16T22:11:29.852Z"
   },
   {
    "duration": 24,
    "start_time": "2022-03-16T22:11:30.032Z"
   },
   {
    "duration": 42,
    "start_time": "2022-03-16T22:11:30.222Z"
   },
   {
    "duration": 7,
    "start_time": "2022-03-16T22:11:31.225Z"
   },
   {
    "duration": 672,
    "start_time": "2022-03-16T22:11:31.332Z"
   },
   {
    "duration": 652,
    "start_time": "2022-03-16T22:11:32.007Z"
   },
   {
    "duration": 511,
    "start_time": "2022-03-16T22:11:32.662Z"
   },
   {
    "duration": 9,
    "start_time": "2022-03-16T22:11:33.177Z"
   },
   {
    "duration": 438,
    "start_time": "2022-03-16T22:11:33.189Z"
   },
   {
    "duration": 487,
    "start_time": "2022-03-16T22:11:33.630Z"
   },
   {
    "duration": 67,
    "start_time": "2022-03-16T22:11:34.120Z"
   },
   {
    "duration": 4,
    "start_time": "2022-03-16T22:11:34.190Z"
   },
   {
    "duration": 209,
    "start_time": "2022-03-16T22:11:34.197Z"
   },
   {
    "duration": 2189,
    "start_time": "2022-03-16T22:11:32.220Z"
   },
   {
    "duration": 2178,
    "start_time": "2022-03-16T22:11:32.233Z"
   },
   {
    "duration": 2173,
    "start_time": "2022-03-16T22:11:32.239Z"
   },
   {
    "duration": 162,
    "start_time": "2022-03-16T22:11:34.463Z"
   },
   {
    "duration": 170,
    "start_time": "2022-03-16T22:11:34.640Z"
   },
   {
    "duration": 5,
    "start_time": "2022-03-16T22:11:34.823Z"
   },
   {
    "duration": 6,
    "start_time": "2022-03-16T22:11:41.202Z"
   },
   {
    "duration": 4,
    "start_time": "2022-03-16T22:11:45.424Z"
   },
   {
    "duration": 4,
    "start_time": "2022-03-16T22:11:46.321Z"
   },
   {
    "duration": 10,
    "start_time": "2022-03-16T22:11:54.891Z"
   },
   {
    "duration": 37,
    "start_time": "2022-03-16T22:11:57.552Z"
   },
   {
    "duration": 42,
    "start_time": "2022-03-16T22:12:00.331Z"
   },
   {
    "duration": 3,
    "start_time": "2022-03-16T22:12:14.382Z"
   },
   {
    "duration": 8022,
    "start_time": "2022-03-16T22:12:16.122Z"
   },
   {
    "duration": 37,
    "start_time": "2022-03-16T22:12:27.463Z"
   },
   {
    "duration": 981,
    "start_time": "2022-03-16T22:12:34.792Z"
   },
   {
    "duration": 5,
    "start_time": "2022-03-16T22:12:35.776Z"
   },
   {
    "duration": 20,
    "start_time": "2022-03-16T22:12:35.784Z"
   },
   {
    "duration": 46,
    "start_time": "2022-03-16T22:12:35.808Z"
   },
   {
    "duration": 16,
    "start_time": "2022-03-16T22:12:35.857Z"
   },
   {
    "duration": 25,
    "start_time": "2022-03-16T22:12:35.876Z"
   },
   {
    "duration": 51,
    "start_time": "2022-03-16T22:12:35.904Z"
   },
   {
    "duration": 7,
    "start_time": "2022-03-16T22:12:36.003Z"
   },
   {
    "duration": 46,
    "start_time": "2022-03-16T22:12:37.125Z"
   },
   {
    "duration": 26,
    "start_time": "2022-03-16T22:12:37.354Z"
   },
   {
    "duration": 25,
    "start_time": "2022-03-16T22:12:37.835Z"
   },
   {
    "duration": 3,
    "start_time": "2022-03-16T22:12:38.122Z"
   },
   {
    "duration": 10,
    "start_time": "2022-03-16T22:12:42.214Z"
   },
   {
    "duration": 34,
    "start_time": "2022-03-16T22:12:48.414Z"
   },
   {
    "duration": 217,
    "start_time": "2022-03-16T22:12:57.762Z"
   },
   {
    "duration": 919,
    "start_time": "2022-03-16T22:13:33.975Z"
   },
   {
    "duration": 5,
    "start_time": "2022-03-16T22:13:34.897Z"
   },
   {
    "duration": 19,
    "start_time": "2022-03-16T22:13:34.905Z"
   },
   {
    "duration": 41,
    "start_time": "2022-03-16T22:13:34.927Z"
   },
   {
    "duration": 17,
    "start_time": "2022-03-16T22:13:34.970Z"
   },
   {
    "duration": 29,
    "start_time": "2022-03-16T22:13:34.990Z"
   },
   {
    "duration": 21,
    "start_time": "2022-03-16T22:13:35.052Z"
   },
   {
    "duration": 7,
    "start_time": "2022-03-16T22:13:35.191Z"
   },
   {
    "duration": 40,
    "start_time": "2022-03-16T22:13:35.332Z"
   },
   {
    "duration": 20,
    "start_time": "2022-03-16T22:13:35.482Z"
   },
   {
    "duration": 24,
    "start_time": "2022-03-16T22:13:35.772Z"
   },
   {
    "duration": 3,
    "start_time": "2022-03-16T22:13:35.912Z"
   },
   {
    "duration": 4,
    "start_time": "2022-03-16T22:13:36.024Z"
   },
   {
    "duration": 12,
    "start_time": "2022-03-16T22:13:36.184Z"
   },
   {
    "duration": 44,
    "start_time": "2022-03-16T22:13:36.462Z"
   },
   {
    "duration": 5,
    "start_time": "2022-03-16T22:13:36.602Z"
   },
   {
    "duration": 30684,
    "start_time": "2022-03-16T22:22:34.937Z"
   },
   {
    "duration": 2275,
    "start_time": "2022-03-16T22:23:03.348Z"
   },
   {
    "duration": 2267,
    "start_time": "2022-03-16T22:23:03.358Z"
   },
   {
    "duration": 4124,
    "start_time": "2022-03-16T22:26:38.329Z"
   },
   {
    "duration": 971,
    "start_time": "2022-03-16T22:26:48.962Z"
   },
   {
    "duration": 6,
    "start_time": "2022-03-16T22:26:57.061Z"
   },
   {
    "duration": 12,
    "start_time": "2022-03-16T22:26:58.079Z"
   },
   {
    "duration": 10,
    "start_time": "2022-03-16T22:27:07.630Z"
   },
   {
    "duration": 11,
    "start_time": "2022-03-16T22:27:08.929Z"
   },
   {
    "duration": 7,
    "start_time": "2022-03-16T22:27:12.150Z"
   },
   {
    "duration": 8,
    "start_time": "2022-03-16T22:27:18.819Z"
   },
   {
    "duration": 21,
    "start_time": "2022-03-16T22:27:21.801Z"
   },
   {
    "duration": 26,
    "start_time": "2022-03-16T22:27:22.752Z"
   },
   {
    "duration": 25,
    "start_time": "2022-03-16T22:27:26.141Z"
   },
   {
    "duration": 19,
    "start_time": "2022-03-16T22:27:29.719Z"
   },
   {
    "duration": 6,
    "start_time": "2022-03-16T22:27:57.447Z"
   },
   {
    "duration": 505,
    "start_time": "2022-03-16T22:28:02.999Z"
   },
   {
    "duration": 492,
    "start_time": "2022-03-16T22:28:05.640Z"
   },
   {
    "duration": 515,
    "start_time": "2022-03-16T22:28:07.851Z"
   },
   {
    "duration": 8,
    "start_time": "2022-03-16T22:28:13.219Z"
   },
   {
    "duration": 457,
    "start_time": "2022-03-16T22:28:14.289Z"
   },
   {
    "duration": 508,
    "start_time": "2022-03-16T22:28:17.019Z"
   },
   {
    "duration": 67,
    "start_time": "2022-03-16T22:28:23.153Z"
   },
   {
    "duration": 5,
    "start_time": "2022-03-16T22:28:25.490Z"
   },
   {
    "duration": 1648,
    "start_time": "2022-03-16T22:35:44.775Z"
   },
   {
    "duration": 981,
    "start_time": "2022-03-16T22:36:09.839Z"
   },
   {
    "duration": 5,
    "start_time": "2022-03-16T22:36:17.865Z"
   },
   {
    "duration": 10,
    "start_time": "2022-03-16T22:36:18.485Z"
   },
   {
    "duration": 11,
    "start_time": "2022-03-16T22:36:21.363Z"
   },
   {
    "duration": 9,
    "start_time": "2022-03-16T22:36:21.683Z"
   },
   {
    "duration": 7,
    "start_time": "2022-03-16T22:36:27.696Z"
   },
   {
    "duration": 7,
    "start_time": "2022-03-16T22:36:32.993Z"
   },
   {
    "duration": 19,
    "start_time": "2022-03-16T22:36:36.073Z"
   },
   {
    "duration": 24,
    "start_time": "2022-03-16T22:36:36.525Z"
   },
   {
    "duration": 23,
    "start_time": "2022-03-16T22:36:39.672Z"
   },
   {
    "duration": 18,
    "start_time": "2022-03-16T22:36:42.715Z"
   },
   {
    "duration": 6,
    "start_time": "2022-03-16T22:36:58.463Z"
   },
   {
    "duration": 498,
    "start_time": "2022-03-16T22:36:59.844Z"
   },
   {
    "duration": 479,
    "start_time": "2022-03-16T22:37:01.235Z"
   },
   {
    "duration": 498,
    "start_time": "2022-03-16T22:37:02.583Z"
   },
   {
    "duration": 12,
    "start_time": "2022-03-16T22:37:11.367Z"
   },
   {
    "duration": 498,
    "start_time": "2022-03-16T22:37:12.485Z"
   },
   {
    "duration": 555,
    "start_time": "2022-03-16T22:37:13.245Z"
   },
   {
    "duration": 70,
    "start_time": "2022-03-16T22:37:19.768Z"
   },
   {
    "duration": 8,
    "start_time": "2022-03-16T22:37:21.484Z"
   },
   {
    "duration": 5462,
    "start_time": "2022-03-16T22:37:32.766Z"
   },
   {
    "duration": 4591,
    "start_time": "2022-03-16T22:37:57.625Z"
   },
   {
    "duration": 22,
    "start_time": "2022-03-16T22:38:29.986Z"
   },
   {
    "duration": 8,
    "start_time": "2022-03-16T22:38:41.925Z"
   },
   {
    "duration": 7428,
    "start_time": "2022-03-16T22:38:54.045Z"
   },
   {
    "duration": 7842,
    "start_time": "2022-03-16T22:39:26.106Z"
   },
   {
    "duration": 17,
    "start_time": "2022-03-16T22:40:04.063Z"
   },
   {
    "duration": 30,
    "start_time": "2022-03-16T22:40:17.495Z"
   },
   {
    "duration": 7623,
    "start_time": "2022-03-16T22:40:29.393Z"
   },
   {
    "duration": 5,
    "start_time": "2022-03-16T22:41:07.064Z"
   },
   {
    "duration": 19,
    "start_time": "2022-03-16T22:41:19.564Z"
   },
   {
    "duration": 5,
    "start_time": "2022-03-16T22:41:21.174Z"
   },
   {
    "duration": 5,
    "start_time": "2022-03-16T22:41:34.676Z"
   },
   {
    "duration": 4,
    "start_time": "2022-03-16T22:41:37.164Z"
   },
   {
    "duration": 4,
    "start_time": "2022-03-16T22:41:37.695Z"
   },
   {
    "duration": 13,
    "start_time": "2022-03-16T22:41:40.026Z"
   },
   {
    "duration": 47,
    "start_time": "2022-03-16T22:41:42.924Z"
   },
   {
    "duration": 41,
    "start_time": "2022-03-16T22:41:44.294Z"
   },
   {
    "duration": 4,
    "start_time": "2022-03-16T22:41:56.193Z"
   },
   {
    "duration": 7690,
    "start_time": "2022-03-16T22:41:57.716Z"
   },
   {
    "duration": 7398,
    "start_time": "2022-03-16T22:42:12.536Z"
   },
   {
    "duration": 5,
    "start_time": "2022-03-16T22:42:19.938Z"
   },
   {
    "duration": 24,
    "start_time": "2022-03-16T22:42:25.162Z"
   },
   {
    "duration": 29,
    "start_time": "2022-03-16T22:42:25.189Z"
   },
   {
    "duration": 19,
    "start_time": "2022-03-16T22:42:25.762Z"
   },
   {
    "duration": 36,
    "start_time": "2022-03-16T22:42:28.492Z"
   },
   {
    "duration": 25,
    "start_time": "2022-03-16T22:42:28.531Z"
   },
   {
    "duration": 8,
    "start_time": "2022-03-16T22:42:30.443Z"
   },
   {
    "duration": 60,
    "start_time": "2022-03-16T22:42:30.926Z"
   },
   {
    "duration": 23,
    "start_time": "2022-03-16T22:42:39.726Z"
   },
   {
    "duration": 27,
    "start_time": "2022-03-16T22:42:47.696Z"
   },
   {
    "duration": 11,
    "start_time": "2022-03-16T22:43:08.015Z"
   },
   {
    "duration": 40,
    "start_time": "2022-03-16T22:43:12.465Z"
   },
   {
    "duration": 7018,
    "start_time": "2022-03-16T22:43:27.603Z"
   },
   {
    "duration": 10,
    "start_time": "2022-03-16T22:43:35.654Z"
   },
   {
    "duration": 7701,
    "start_time": "2022-03-16T22:44:59.105Z"
   },
   {
    "duration": 2275,
    "start_time": "2022-03-16T22:45:18.364Z"
   },
   {
    "duration": 1574,
    "start_time": "2022-03-16T22:48:33.752Z"
   },
   {
    "duration": 970,
    "start_time": "2022-03-16T22:48:38.311Z"
   },
   {
    "duration": 5,
    "start_time": "2022-03-16T22:48:45.780Z"
   },
   {
    "duration": 11,
    "start_time": "2022-03-16T22:48:45.950Z"
   },
   {
    "duration": 11,
    "start_time": "2022-03-16T22:48:46.160Z"
   },
   {
    "duration": 11,
    "start_time": "2022-03-16T22:48:47.350Z"
   },
   {
    "duration": 7,
    "start_time": "2022-03-16T22:48:50.789Z"
   },
   {
    "duration": 4,
    "start_time": "2022-03-16T22:48:55.612Z"
   },
   {
    "duration": 6,
    "start_time": "2022-03-16T22:48:57.801Z"
   },
   {
    "duration": 22,
    "start_time": "2022-03-16T22:49:00.540Z"
   },
   {
    "duration": 27,
    "start_time": "2022-03-16T22:49:00.710Z"
   },
   {
    "duration": 25,
    "start_time": "2022-03-16T22:49:02.511Z"
   },
   {
    "duration": 19,
    "start_time": "2022-03-16T22:49:05.340Z"
   },
   {
    "duration": 21,
    "start_time": "2022-03-16T22:49:06.300Z"
   },
   {
    "duration": 5,
    "start_time": "2022-03-16T22:49:15.252Z"
   },
   {
    "duration": 510,
    "start_time": "2022-03-16T22:49:16.180Z"
   },
   {
    "duration": 478,
    "start_time": "2022-03-16T22:49:17.740Z"
   },
   {
    "duration": 549,
    "start_time": "2022-03-16T22:49:19.867Z"
   },
   {
    "duration": 8,
    "start_time": "2022-03-16T22:49:23.030Z"
   },
   {
    "duration": 417,
    "start_time": "2022-03-16T22:49:24.221Z"
   },
   {
    "duration": 490,
    "start_time": "2022-03-16T22:49:25.820Z"
   },
   {
    "duration": 67,
    "start_time": "2022-03-16T22:49:32.499Z"
   },
   {
    "duration": 5,
    "start_time": "2022-03-16T22:49:33.881Z"
   },
   {
    "duration": 7485,
    "start_time": "2022-03-16T22:49:37.220Z"
   },
   {
    "duration": 18,
    "start_time": "2022-03-16T22:49:47.770Z"
   },
   {
    "duration": 7964,
    "start_time": "2022-03-16T22:49:49.828Z"
   },
   {
    "duration": 6,
    "start_time": "2022-03-16T22:50:01.361Z"
   },
   {
    "duration": 20,
    "start_time": "2022-03-16T22:50:02.058Z"
   },
   {
    "duration": 6,
    "start_time": "2022-03-16T22:50:04.606Z"
   },
   {
    "duration": 4,
    "start_time": "2022-03-16T22:50:13.131Z"
   },
   {
    "duration": 4,
    "start_time": "2022-03-16T22:50:14.701Z"
   },
   {
    "duration": 4,
    "start_time": "2022-03-16T22:50:17.160Z"
   },
   {
    "duration": 14,
    "start_time": "2022-03-16T22:50:23.311Z"
   },
   {
    "duration": 50,
    "start_time": "2022-03-16T22:50:26.378Z"
   },
   {
    "duration": 39,
    "start_time": "2022-03-16T22:50:28.050Z"
   },
   {
    "duration": 4,
    "start_time": "2022-03-16T22:50:36.290Z"
   },
   {
    "duration": 8333,
    "start_time": "2022-03-16T22:50:37.061Z"
   },
   {
    "duration": 328,
    "start_time": "2022-03-16T23:00:30.248Z"
   },
   {
    "duration": 262,
    "start_time": "2022-03-16T23:00:58.440Z"
   },
   {
    "duration": 35,
    "start_time": "2022-03-16T23:01:13.450Z"
   },
   {
    "duration": 1555,
    "start_time": "2022-03-16T23:01:38.489Z"
   },
   {
    "duration": 961,
    "start_time": "2022-03-16T23:01:43.305Z"
   },
   {
    "duration": 5,
    "start_time": "2022-03-16T23:01:50.017Z"
   },
   {
    "duration": 11,
    "start_time": "2022-03-16T23:01:50.367Z"
   },
   {
    "duration": 10,
    "start_time": "2022-03-16T23:01:50.657Z"
   },
   {
    "duration": 10,
    "start_time": "2022-03-16T23:01:52.288Z"
   },
   {
    "duration": 8,
    "start_time": "2022-03-16T23:01:55.157Z"
   },
   {
    "duration": 3,
    "start_time": "2022-03-16T23:01:58.518Z"
   },
   {
    "duration": 7,
    "start_time": "2022-03-16T23:02:01.335Z"
   },
   {
    "duration": 21,
    "start_time": "2022-03-16T23:02:04.647Z"
   },
   {
    "duration": 25,
    "start_time": "2022-03-16T23:02:07.148Z"
   },
   {
    "duration": 37,
    "start_time": "2022-03-16T23:02:12.289Z"
   },
   {
    "duration": 19,
    "start_time": "2022-03-16T23:02:32.475Z"
   },
   {
    "duration": 20,
    "start_time": "2022-03-16T23:02:37.336Z"
   },
   {
    "duration": 6,
    "start_time": "2022-03-16T23:02:43.288Z"
   },
   {
    "duration": 505,
    "start_time": "2022-03-16T23:02:43.908Z"
   },
   {
    "duration": 480,
    "start_time": "2022-03-16T23:02:45.557Z"
   },
   {
    "duration": 514,
    "start_time": "2022-03-16T23:02:47.075Z"
   },
   {
    "duration": 9,
    "start_time": "2022-03-16T23:02:52.588Z"
   },
   {
    "duration": 419,
    "start_time": "2022-03-16T23:02:53.887Z"
   },
   {
    "duration": 603,
    "start_time": "2022-03-16T23:02:54.608Z"
   },
   {
    "duration": 68,
    "start_time": "2022-03-16T23:02:59.297Z"
   },
   {
    "duration": 5,
    "start_time": "2022-03-16T23:03:01.606Z"
   },
   {
    "duration": 7396,
    "start_time": "2022-03-16T23:03:04.042Z"
   },
   {
    "duration": 20,
    "start_time": "2022-03-16T23:03:14.175Z"
   },
   {
    "duration": 7926,
    "start_time": "2022-03-16T23:03:14.992Z"
   },
   {
    "duration": 6,
    "start_time": "2022-03-16T23:03:24.658Z"
   },
   {
    "duration": 19,
    "start_time": "2022-03-16T23:03:25.777Z"
   },
   {
    "duration": 5,
    "start_time": "2022-03-16T23:03:26.098Z"
   },
   {
    "duration": 5,
    "start_time": "2022-03-16T23:03:34.184Z"
   },
   {
    "duration": 4,
    "start_time": "2022-03-16T23:03:36.698Z"
   },
   {
    "duration": 4,
    "start_time": "2022-03-16T23:03:37.177Z"
   },
   {
    "duration": 14,
    "start_time": "2022-03-16T23:03:40.348Z"
   },
   {
    "duration": 44,
    "start_time": "2022-03-16T23:03:42.698Z"
   },
   {
    "duration": 41,
    "start_time": "2022-03-16T23:03:43.977Z"
   },
   {
    "duration": 3,
    "start_time": "2022-03-16T23:03:50.726Z"
   },
   {
    "duration": 7967,
    "start_time": "2022-03-16T23:03:52.166Z"
   },
   {
    "duration": 2362,
    "start_time": "2022-03-16T23:04:17.888Z"
   },
   {
    "duration": 12,
    "start_time": "2022-03-16T23:04:29.798Z"
   },
   {
    "duration": 24,
    "start_time": "2022-03-16T23:06:47.148Z"
   },
   {
    "duration": 45,
    "start_time": "2022-03-16T23:07:13.457Z"
   },
   {
    "duration": 21,
    "start_time": "2022-03-16T23:07:24.087Z"
   },
   {
    "duration": 17,
    "start_time": "2022-03-16T23:09:08.936Z"
   },
   {
    "duration": 5,
    "start_time": "2022-03-16T23:09:17.768Z"
   },
   {
    "duration": 7958,
    "start_time": "2022-03-16T23:09:20.218Z"
   },
   {
    "duration": 18,
    "start_time": "2022-03-16T23:09:32.006Z"
   },
   {
    "duration": 7889,
    "start_time": "2022-03-16T23:09:40.888Z"
   },
   {
    "duration": 5,
    "start_time": "2022-03-16T23:09:53.698Z"
   },
   {
    "duration": 16,
    "start_time": "2022-03-16T23:09:54.608Z"
   },
   {
    "duration": 6,
    "start_time": "2022-03-16T23:09:55.235Z"
   },
   {
    "duration": 4,
    "start_time": "2022-03-16T23:11:31.087Z"
   },
   {
    "duration": 4,
    "start_time": "2022-03-16T23:11:33.806Z"
   },
   {
    "duration": 3,
    "start_time": "2022-03-16T23:11:34.017Z"
   },
   {
    "duration": 11,
    "start_time": "2022-03-16T23:11:37.698Z"
   },
   {
    "duration": 32,
    "start_time": "2022-03-16T23:11:59.075Z"
   },
   {
    "duration": 7,
    "start_time": "2022-03-16T23:12:03.488Z"
   },
   {
    "duration": 4,
    "start_time": "2022-03-16T23:12:12.857Z"
   },
   {
    "duration": 7938,
    "start_time": "2022-03-16T23:12:15.058Z"
   },
   {
    "duration": 5,
    "start_time": "2022-03-16T23:13:01.178Z"
   },
   {
    "duration": 5,
    "start_time": "2022-03-16T23:13:02.018Z"
   },
   {
    "duration": 77915,
    "start_time": "2022-03-16T23:13:07.777Z"
   },
   {
    "duration": 4,
    "start_time": "2022-03-16T23:16:55.713Z"
   },
   {
    "duration": 7863,
    "start_time": "2022-03-16T23:16:55.720Z"
   },
   {
    "duration": 202949,
    "start_time": "2022-03-16T23:17:47.942Z"
   },
   {
    "duration": 6711,
    "start_time": "2022-03-16T23:21:41.438Z"
   },
   {
    "duration": 6403,
    "start_time": "2022-03-16T23:23:46.715Z"
   },
   {
    "duration": 14,
    "start_time": "2022-03-16T23:28:24.038Z"
   },
   {
    "duration": 1530,
    "start_time": "2022-03-16T23:46:01.696Z"
   },
   {
    "duration": 972,
    "start_time": "2022-03-16T23:46:06.275Z"
   },
   {
    "duration": 4,
    "start_time": "2022-03-16T23:46:21.635Z"
   },
   {
    "duration": 10,
    "start_time": "2022-03-16T23:46:22.853Z"
   },
   {
    "duration": 11,
    "start_time": "2022-03-16T23:46:25.492Z"
   },
   {
    "duration": 9,
    "start_time": "2022-03-16T23:46:26.455Z"
   },
   {
    "duration": 6,
    "start_time": "2022-03-16T23:46:33.983Z"
   },
   {
    "duration": 7,
    "start_time": "2022-03-16T23:46:37.065Z"
   },
   {
    "duration": 20,
    "start_time": "2022-03-16T23:46:38.155Z"
   },
   {
    "duration": 25,
    "start_time": "2022-03-16T23:46:38.823Z"
   },
   {
    "duration": 38,
    "start_time": "2022-03-16T23:46:41.153Z"
   },
   {
    "duration": 19,
    "start_time": "2022-03-16T23:46:41.783Z"
   },
   {
    "duration": 6,
    "start_time": "2022-03-16T23:46:50.923Z"
   },
   {
    "duration": 508,
    "start_time": "2022-03-16T23:46:51.865Z"
   },
   {
    "duration": 486,
    "start_time": "2022-03-16T23:46:53.573Z"
   },
   {
    "duration": 504,
    "start_time": "2022-03-16T23:46:55.045Z"
   },
   {
    "duration": 8,
    "start_time": "2022-03-16T23:46:59.735Z"
   },
   {
    "duration": 416,
    "start_time": "2022-03-16T23:47:01.257Z"
   },
   {
    "duration": 500,
    "start_time": "2022-03-16T23:47:02.323Z"
   },
   {
    "duration": 71,
    "start_time": "2022-03-16T23:47:09.594Z"
   },
   {
    "duration": 5,
    "start_time": "2022-03-16T23:47:12.279Z"
   },
   {
    "duration": 7586,
    "start_time": "2022-03-16T23:47:13.944Z"
   },
   {
    "duration": 17,
    "start_time": "2022-03-16T23:47:26.045Z"
   },
   {
    "duration": 7757,
    "start_time": "2022-03-16T23:47:27.283Z"
   },
   {
    "duration": 5,
    "start_time": "2022-03-16T23:47:39.402Z"
   },
   {
    "duration": 16,
    "start_time": "2022-03-16T23:47:40.785Z"
   },
   {
    "duration": 5,
    "start_time": "2022-03-16T23:47:41.345Z"
   },
   {
    "duration": 5,
    "start_time": "2022-03-16T23:47:49.802Z"
   },
   {
    "duration": 4,
    "start_time": "2022-03-16T23:47:51.915Z"
   },
   {
    "duration": 3,
    "start_time": "2022-03-16T23:47:52.465Z"
   },
   {
    "duration": 14,
    "start_time": "2022-03-16T23:47:55.236Z"
   },
   {
    "duration": 27,
    "start_time": "2022-03-16T23:47:58.554Z"
   },
   {
    "duration": 5,
    "start_time": "2022-03-16T23:48:00.075Z"
   },
   {
    "duration": 4,
    "start_time": "2022-03-16T23:48:01.005Z"
   },
   {
    "duration": 75098,
    "start_time": "2022-03-16T23:48:02.381Z"
   },
   {
    "duration": 183094,
    "start_time": "2022-03-16T23:49:31.153Z"
   },
   {
    "duration": 6463,
    "start_time": "2022-03-16T23:56:36.694Z"
   },
   {
    "duration": 12,
    "start_time": "2022-03-16T23:56:47.044Z"
   },
   {
    "duration": 13315,
    "start_time": "2022-03-17T23:12:20.279Z"
   },
   {
    "duration": 2731,
    "start_time": "2022-03-17T23:12:33.597Z"
   },
   {
    "duration": 1,
    "start_time": "2022-03-17T23:12:36.330Z"
   },
   {
    "duration": 0,
    "start_time": "2022-03-17T23:12:36.332Z"
   },
   {
    "duration": 0,
    "start_time": "2022-03-17T23:12:36.333Z"
   },
   {
    "duration": 0,
    "start_time": "2022-03-17T23:12:36.335Z"
   },
   {
    "duration": 59,
    "start_time": "2022-03-17T23:13:31.247Z"
   },
   {
    "duration": 1145,
    "start_time": "2022-03-17T23:13:34.069Z"
   },
   {
    "duration": 4,
    "start_time": "2022-03-17T23:13:54.054Z"
   },
   {
    "duration": 79,
    "start_time": "2022-03-17T23:14:10.506Z"
   },
   {
    "duration": 45139,
    "start_time": "2022-03-17T23:14:12.381Z"
   },
   {
    "duration": 8,
    "start_time": "2022-03-17T23:17:22.296Z"
   },
   {
    "duration": 11356,
    "start_time": "2022-03-17T23:17:41.808Z"
   },
   {
    "duration": 5,
    "start_time": "2022-03-17T23:18:00.268Z"
   },
   {
    "duration": 7,
    "start_time": "2022-03-17T23:18:10.123Z"
   },
   {
    "duration": 44687,
    "start_time": "2022-03-17T23:18:13.888Z"
   },
   {
    "duration": 6,
    "start_time": "2022-03-17T23:36:48.517Z"
   },
   {
    "duration": 4,
    "start_time": "2022-03-17T23:36:58.342Z"
   },
   {
    "duration": 6,
    "start_time": "2022-03-17T23:37:02.193Z"
   },
   {
    "duration": 1541,
    "start_time": "2022-03-18T00:21:17.076Z"
   },
   {
    "duration": 785,
    "start_time": "2022-03-18T00:21:20.495Z"
   },
   {
    "duration": 111,
    "start_time": "2022-03-18T00:21:21.282Z"
   },
   {
    "duration": 0,
    "start_time": "2022-03-18T00:21:21.395Z"
   },
   {
    "duration": 0,
    "start_time": "2022-03-18T00:21:21.396Z"
   },
   {
    "duration": 2,
    "start_time": "2022-03-18T00:21:21.815Z"
   },
   {
    "duration": 11,
    "start_time": "2022-03-18T00:21:22.004Z"
   },
   {
    "duration": 6,
    "start_time": "2022-03-18T00:21:22.174Z"
   },
   {
    "duration": 7,
    "start_time": "2022-03-18T00:21:22.373Z"
   },
   {
    "duration": 4,
    "start_time": "2022-03-18T00:21:23.125Z"
   },
   {
    "duration": 5,
    "start_time": "2022-03-18T00:21:24.198Z"
   },
   {
    "duration": 14,
    "start_time": "2022-03-18T00:21:24.214Z"
   },
   {
    "duration": 19,
    "start_time": "2022-03-18T00:21:24.414Z"
   },
   {
    "duration": 23,
    "start_time": "2022-03-18T00:21:24.974Z"
   },
   {
    "duration": 17,
    "start_time": "2022-03-18T00:21:25.182Z"
   },
   {
    "duration": 4,
    "start_time": "2022-03-18T00:21:33.384Z"
   },
   {
    "duration": 201,
    "start_time": "2022-03-18T00:21:33.573Z"
   },
   {
    "duration": 179,
    "start_time": "2022-03-18T00:21:33.776Z"
   },
   {
    "duration": 187,
    "start_time": "2022-03-18T00:21:33.957Z"
   },
   {
    "duration": 5,
    "start_time": "2022-03-18T00:21:34.707Z"
   },
   {
    "duration": 265,
    "start_time": "2022-03-18T00:21:34.894Z"
   },
   {
    "duration": 195,
    "start_time": "2022-03-18T00:21:35.161Z"
   },
   {
    "duration": 55,
    "start_time": "2022-03-18T00:21:36.334Z"
   },
   {
    "duration": 4,
    "start_time": "2022-03-18T00:21:36.775Z"
   },
   {
    "duration": 3042,
    "start_time": "2022-03-18T00:21:37.015Z"
   },
   {
    "duration": 12,
    "start_time": "2022-03-18T00:21:40.058Z"
   },
   {
    "duration": 3243,
    "start_time": "2022-03-18T00:21:41.437Z"
   },
   {
    "duration": 4,
    "start_time": "2022-03-18T00:21:44.681Z"
   },
   {
    "duration": 13,
    "start_time": "2022-03-18T00:21:45.784Z"
   },
   {
    "duration": 4,
    "start_time": "2022-03-18T00:21:46.014Z"
   },
   {
    "duration": 3,
    "start_time": "2022-03-18T00:21:56.344Z"
   },
   {
    "duration": 3,
    "start_time": "2022-03-18T00:21:57.451Z"
   },
   {
    "duration": 2,
    "start_time": "2022-03-18T00:21:59.414Z"
   },
   {
    "duration": 10,
    "start_time": "2022-03-18T00:22:10.485Z"
   },
   {
    "duration": 20,
    "start_time": "2022-03-18T00:22:13.095Z"
   },
   {
    "duration": 4,
    "start_time": "2022-03-18T00:22:15.894Z"
   },
   {
    "duration": 3,
    "start_time": "2022-03-18T00:22:16.214Z"
   },
   {
    "duration": 256076,
    "start_time": "2022-03-18T00:22:17.622Z"
   },
   {
    "duration": 3,
    "start_time": "2022-03-18T00:26:45.334Z"
   },
   {
    "duration": 4,
    "start_time": "2022-03-18T00:26:54.343Z"
   },
   {
    "duration": 4,
    "start_time": "2022-03-18T00:27:03.335Z"
   },
   {
    "duration": 4,
    "start_time": "2022-03-18T00:27:34.215Z"
   },
   {
    "duration": 5,
    "start_time": "2022-03-18T00:27:48.985Z"
   },
   {
    "duration": 76008,
    "start_time": "2022-03-18T00:36:53.013Z"
   },
   {
    "duration": 33314,
    "start_time": "2022-03-18T00:39:25.243Z"
   },
   {
    "duration": 3,
    "start_time": "2022-03-18T00:41:40.498Z"
   },
   {
    "duration": 142,
    "start_time": "2022-03-18T00:46:18.190Z"
   },
   {
    "duration": 33535,
    "start_time": "2022-03-18T00:46:35.592Z"
   },
   {
    "duration": 33291,
    "start_time": "2022-03-18T00:47:23.423Z"
   },
   {
    "duration": 4,
    "start_time": "2022-03-18T00:55:02.628Z"
   },
   {
    "duration": 4,
    "start_time": "2022-03-18T00:55:24.899Z"
   },
   {
    "duration": 4,
    "start_time": "2022-03-18T00:55:30.968Z"
   },
   {
    "duration": 33496,
    "start_time": "2022-03-18T00:55:48.277Z"
   },
   {
    "duration": 3,
    "start_time": "2022-03-18T00:56:44.429Z"
   },
   {
    "duration": 4,
    "start_time": "2022-03-18T00:56:53.626Z"
   },
   {
    "duration": 3,
    "start_time": "2022-03-18T00:57:27.428Z"
   },
   {
    "duration": 33270,
    "start_time": "2022-03-18T00:57:34.875Z"
   },
   {
    "duration": 131225,
    "start_time": "2022-03-18T00:59:18.629Z"
   },
   {
    "duration": 12,
    "start_time": "2022-03-18T01:12:08.086Z"
   },
   {
    "duration": 5,
    "start_time": "2022-03-18T22:56:34.051Z"
   },
   {
    "duration": 2170,
    "start_time": "2022-03-18T22:56:34.059Z"
   },
   {
    "duration": 945,
    "start_time": "2022-03-18T22:56:36.231Z"
   },
   {
    "duration": 167,
    "start_time": "2022-03-18T22:56:37.179Z"
   },
   {
    "duration": 0,
    "start_time": "2022-03-18T22:56:37.349Z"
   },
   {
    "duration": 0,
    "start_time": "2022-03-18T22:56:37.351Z"
   },
   {
    "duration": 0,
    "start_time": "2022-03-18T22:56:37.352Z"
   },
   {
    "duration": 0,
    "start_time": "2022-03-18T22:56:37.354Z"
   },
   {
    "duration": 0,
    "start_time": "2022-03-18T22:56:37.355Z"
   },
   {
    "duration": 0,
    "start_time": "2022-03-18T22:56:37.356Z"
   },
   {
    "duration": 0,
    "start_time": "2022-03-18T22:56:37.357Z"
   },
   {
    "duration": 0,
    "start_time": "2022-03-18T22:56:37.374Z"
   },
   {
    "duration": 0,
    "start_time": "2022-03-18T22:56:37.375Z"
   },
   {
    "duration": 0,
    "start_time": "2022-03-18T22:56:37.377Z"
   },
   {
    "duration": 0,
    "start_time": "2022-03-18T22:56:37.378Z"
   },
   {
    "duration": 0,
    "start_time": "2022-03-18T22:56:37.380Z"
   },
   {
    "duration": 0,
    "start_time": "2022-03-18T22:56:37.381Z"
   },
   {
    "duration": 0,
    "start_time": "2022-03-18T22:56:37.382Z"
   },
   {
    "duration": 0,
    "start_time": "2022-03-18T22:56:37.383Z"
   },
   {
    "duration": 0,
    "start_time": "2022-03-18T22:56:37.385Z"
   },
   {
    "duration": 13,
    "start_time": "2022-03-18T22:57:17.756Z"
   },
   {
    "duration": 5,
    "start_time": "2022-03-18T22:57:38.722Z"
   },
   {
    "duration": 17,
    "start_time": "2022-03-18T22:57:41.498Z"
   },
   {
    "duration": 10,
    "start_time": "2022-03-18T22:57:41.641Z"
   },
   {
    "duration": 10,
    "start_time": "2022-03-18T22:57:41.801Z"
   },
   {
    "duration": 7,
    "start_time": "2022-03-18T22:57:42.823Z"
   },
   {
    "duration": 6,
    "start_time": "2022-03-18T22:57:43.641Z"
   },
   {
    "duration": 16,
    "start_time": "2022-03-18T22:57:43.849Z"
   },
   {
    "duration": 27,
    "start_time": "2022-03-18T22:57:43.984Z"
   },
   {
    "duration": 36,
    "start_time": "2022-03-18T22:57:45.811Z"
   },
   {
    "duration": 24,
    "start_time": "2022-03-18T22:57:46.059Z"
   },
   {
    "duration": 6,
    "start_time": "2022-03-18T22:57:47.957Z"
   },
   {
    "duration": 339,
    "start_time": "2022-03-18T22:57:48.148Z"
   },
   {
    "duration": 338,
    "start_time": "2022-03-18T22:57:48.490Z"
   },
   {
    "duration": 372,
    "start_time": "2022-03-18T22:57:48.832Z"
   },
   {
    "duration": 9,
    "start_time": "2022-03-18T22:57:51.205Z"
   },
   {
    "duration": 90,
    "start_time": "2022-03-18T22:57:52.789Z"
   },
   {
    "duration": 13,
    "start_time": "2022-03-18T22:57:59.207Z"
   },
   {
    "duration": 17,
    "start_time": "2022-03-18T23:00:17.161Z"
   },
   {
    "duration": 15,
    "start_time": "2022-03-18T23:00:37.404Z"
   },
   {
    "duration": 12,
    "start_time": "2022-03-18T23:01:30.769Z"
   },
   {
    "duration": 16,
    "start_time": "2022-03-18T23:01:49.945Z"
   },
   {
    "duration": 17,
    "start_time": "2022-03-18T23:01:58.626Z"
   },
   {
    "duration": 14,
    "start_time": "2022-03-18T23:13:15.881Z"
   },
   {
    "duration": 17,
    "start_time": "2022-03-18T23:14:27.153Z"
   }
  ],
  "kernelspec": {
   "display_name": "Python 3 (ipykernel)",
   "language": "python",
   "name": "python3"
  },
  "language_info": {
   "codemirror_mode": {
    "name": "ipython",
    "version": 3
   },
   "file_extension": ".py",
   "mimetype": "text/x-python",
   "name": "python",
   "nbconvert_exporter": "python",
   "pygments_lexer": "ipython3",
   "version": "3.9.5"
  },
  "toc": {
   "base_numbering": 1,
   "nav_menu": {},
   "number_sections": true,
   "sideBar": true,
   "skip_h1_title": true,
   "title_cell": "Содержание",
   "title_sidebar": "Contents",
   "toc_cell": true,
   "toc_position": {},
   "toc_section_display": true,
   "toc_window_display": true
  }
 },
 "nbformat": 4,
 "nbformat_minor": 2
}
